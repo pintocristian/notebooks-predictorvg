{
 "cells": [
  {
   "cell_type": "markdown",
   "id": "841e3bc0",
   "metadata": {},
   "source": [
    "# Prueba de hiperparametros con modelo XGBoost\n",
    "\n",
    "<hr>\n",
    "\n",
    "En este notebook se realiza la prueba de hiperparametros con el modelo XGBoost A través de las métricas obtenidas en el notebook de busqueda de hiperparametros con XGBoost.\n"
   ]
  },
  {
   "cell_type": "markdown",
   "id": "ff594a9a",
   "metadata": {},
   "source": [
    "Se importan las librerias y herramientas necesarias"
   ]
  },
  {
   "cell_type": "code",
   "execution_count": 47,
   "id": "fa3470e1",
   "metadata": {},
   "outputs": [],
   "source": [
    "import pandas as pd\n",
    "import numpy as np \n",
    "import matplotlib\n",
    "import matplotlib.pyplot as plt\n",
    "from sklearn import preprocessing\n",
    "from sklearn import metrics\n",
    "%matplotlib inline "
   ]
  },
  {
   "cell_type": "markdown",
   "id": "e116b63c",
   "metadata": {},
   "source": [
    "Importamos los datos"
   ]
  },
  {
   "cell_type": "code",
   "execution_count": 48,
   "id": "c7cda726",
   "metadata": {},
   "outputs": [],
   "source": [
    "df = pd.read_pickle(\"data/data.pkl\")"
   ]
  },
  {
   "cell_type": "markdown",
   "id": "af2fa0e6",
   "metadata": {},
   "source": [
    "- A continuación se definen la variable objetivo y las variables independientes\n",
    "- Se definen las columnas numéricas y no numéricas\n",
    "- Se definen las columnas ordinales y categoricas"
   ]
  },
  {
   "cell_type": "code",
   "execution_count": 49,
   "id": "cbcacd66",
   "metadata": {},
   "outputs": [],
   "source": [
    "variable_objetivo = 'naturaleza'\n",
    "variables_independientes = df.drop(variable_objetivo,axis=1).columns\n",
    "\n",
    "datos_numericos = df[variables_independientes].select_dtypes([int, float])\n",
    "col_no_numericas = df[variables_independientes].select_dtypes(include=['category']).columns\n",
    "col_numericas = datos_numericos.columns\n",
    "\n",
    "dict_var_ordinales = {\n",
    "    'grupo_edad': ['0 a 6', '12 a 17', '18 a 28', '29 a 59', '60 y mas', '7  a 11'],\n",
    "    'ciclo_de_vida':['Primera infancia', 'Infancia', 'Jovenes','Adolescencia','Adultez','Persona Mayor'],\n",
    "}\n",
    "\n",
    "col_ordinales = list(dict_var_ordinales.keys())\n",
    "datos_ordinales = df[col_ordinales]\n",
    "col_categoricas = list(set(col_no_numericas) - set(col_ordinales))\n",
    "datos_categoricos = df[col_categoricas]"
   ]
  },
  {
   "cell_type": "markdown",
   "id": "51b21894",
   "metadata": {},
   "source": [
    "Se importan las librerias necesarias para la creacion del pipeline"
   ]
  },
  {
   "cell_type": "code",
   "execution_count": 50,
   "id": "6d2ffa17",
   "metadata": {},
   "outputs": [],
   "source": [
    "from sklearn.compose import ColumnTransformer\n",
    "from sklearn.preprocessing import OneHotEncoder\n",
    "from sklearn.preprocessing import StandardScaler\n",
    "from sklearn.preprocessing import OrdinalEncoder\n",
    "from sklearn.pipeline import Pipeline\n",
    "from sklearn.base import BaseEstimator, TransformerMixin\n",
    "from sklearn.impute import SimpleImputer"
   ]
  },
  {
   "cell_type": "markdown",
   "id": "06c164c5",
   "metadata": {},
   "source": [
    "Se mappean los valores de `grupo_edad` y `ciclo_de_vida` y se crea el pipeline_ordinal y posteriormente el pipeline_procesado con las variables categoricas, el pipeline_ordinal y las columnas ordinales"
   ]
  },
  {
   "cell_type": "code",
   "execution_count": 51,
   "id": "15bf024e",
   "metadata": {},
   "outputs": [],
   "source": [
    "mapping = [{'col': 'grupo_edad', 'mapping': {'0 a 6': 0,'7  a 11':1 ,'12 a 17': 2, '18 a 28': 3,'29 a 59':4,'60 y mas':5}},    {'col': 'ciclo_de_vida', 'mapping': {'Primera infancia': 0,  'Infancia': 1, 'Jovenes':2 ,'Adolescencia':3,'Adultez':4, 'Persona Mayor':5 }}]\n",
    "from category_encoders import OrdinalEncoder\n",
    "import category_encoders\n",
    "encoder = OrdinalEncoder(mapping=mapping)\n",
    "\n",
    "pipeline_ordinal = Pipeline([\n",
    "    ('imputer', SimpleImputer(strategy='most_frequent')),\n",
    "    ('transformador_ordinal', category_encoders.ordinal.OrdinalEncoder(mapping=mapping))\n",
    "])\n",
    "\n",
    "pipeline_procesado = ColumnTransformer(\n",
    "                   [('onehot', OneHotEncoder(handle_unknown='ignore', sparse_output=False), col_categoricas),\n",
    "                    ('ordinal', pipeline_ordinal, col_ordinales)\n",
    "                   ],\n",
    "                remainder = 'passthrough',\n",
    "                verbose_feature_names_out = False\n",
    "               ).set_output(transform=\"pandas\")"
   ]
  },
  {
   "cell_type": "markdown",
   "id": "07dd3a5f",
   "metadata": {},
   "source": [
    " Se establecen los datos de entrenamiento y de prueba para los modelos"
   ]
  },
  {
   "cell_type": "code",
   "execution_count": 52,
   "id": "0df8d8d9",
   "metadata": {},
   "outputs": [],
   "source": [
    "from sklearn.model_selection import train_test_split\n",
    "X_train, X_test, y_train, y_test = train_test_split(df.drop(variable_objetivo, axis=1), df[variable_objetivo], test_size=0.2, random_state=42)"
   ]
  },
  {
   "cell_type": "code",
   "execution_count": 53,
   "id": "c03a4ca1",
   "metadata": {},
   "outputs": [],
   "source": [
    "X_train_prep = pipeline_procesado.fit_transform(X_train)\n",
    "X_test_prep  = pipeline_procesado.transform(X_train)\n"
   ]
  },
  {
   "cell_type": "code",
   "execution_count": 54,
   "id": "455201d8",
   "metadata": {},
   "outputs": [],
   "source": [
    "from sklearn.decomposition import PCA, TruncatedSVD\n",
    "from sklearn.ensemble import RandomForestClassifier\n",
    "from sklearn.model_selection import cross_val_score\n",
    "from sklearn.model_selection import StratifiedKFold\n",
    "from sklearn.base import clone"
   ]
  },
  {
   "cell_type": "markdown",
   "id": "f5945573",
   "metadata": {},
   "source": [
    "### Se define la funcion `evaluar_modelo`, que se encarga de evaluar los diferentes modelos a partir de las metricas obtenidas"
   ]
  },
  {
   "cell_type": "code",
   "execution_count": 55,
   "id": "08c42b51",
   "metadata": {},
   "outputs": [],
   "source": [
    "def evaluar_modelo(clases_reales, predicciones, probabilidades):\n",
    "    exactitudes = []\n",
    "    precisiones = []\n",
    "    sensibilidades = []\n",
    "    f1_scores = []\n",
    "    \n",
    "    skf = StratifiedKFold(n_splits=5, shuffle=True, random_state=42)\n",
    "    \n",
    "    for train_index, test_index in skf.split(X_train, y_train):\n",
    "        # Se crea una copia del estimador del pipeline\n",
    "        pipeline_estimador_copy = clone(pipeline_estimador)\n",
    "        \n",
    "        # Division de los datos en conjuntos de entrenamiento y prueba\n",
    "        X_train_fold, X_test_fold = X_train.iloc[train_index], X_train.iloc[test_index]\n",
    "        y_train_fold, y_test_fold = y_train.iloc[train_index], y_train.iloc[test_index]\n",
    "        \n",
    "        # Entrenamiento del modelo en el conjunto de entrenamiento actual\n",
    "        pipeline_estimador_copy.fit(X_train_fold, y_train_fold)\n",
    "        \n",
    "        # Se obtienen las predicciones en el conjunto de prueba\n",
    "        predicciones_fold = pipeline_estimador_copy.predict(X_test_fold)\n",
    "        probabilidades_fold = pipeline_estimador_copy.predict_proba(X_test_fold)\n",
    "        \n",
    "        # Calculo de metricas\n",
    "        exactitud = metrics.accuracy_score(y_test_fold, predicciones_fold)\n",
    "        precision = metrics.precision_score(y_test_fold, predicciones_fold, average='macro', zero_division=0)\n",
    "        sensibilidad = metrics.recall_score(y_test_fold, predicciones_fold, average='macro', zero_division=0)\n",
    "        f1 = metrics.f1_score(y_test_fold, predicciones_fold, average='macro', zero_division=0)\n",
    "        \n",
    "        # Se guardan las metricas\n",
    "        exactitudes.append(exactitud)\n",
    "        precisiones.append(precision)\n",
    "        sensibilidades.append(sensibilidad)\n",
    "        f1_scores.append(f1)\n",
    "    \n",
    "    # Calculo de promedios para cada metrica\n",
    "    exactitud_promedio = np.mean(exactitudes)\n",
    "    precision_promedio = np.mean(precisiones)\n",
    "    sensibilidad_promedio = np.mean(sensibilidades)\n",
    "    f1_promedio = np.mean(f1_scores)\n",
    "    \n",
    "    print(\"\"\"\n",
    "    Exactitud promedio: {:.3f}\n",
    "    Precisión promedio: {:.3f}\n",
    "    Sensibilidad promedio: {:.3f}\n",
    "    Puntuación F1 promedio: {:.3f}\n",
    "    \"\"\".format(\n",
    "        exactitud_promedio, \n",
    "        precision_promedio,\n",
    "        sensibilidad_promedio,\n",
    "        f1_promedio\n",
    "    ))"
   ]
  },
  {
   "cell_type": "markdown",
   "id": "ee9fb4fd",
   "metadata": {},
   "source": [
    "<hr> \n",
    "\n",
    "# SEGUNDA PARTE\n",
    "\n",
    "<hr> \n",
    "\n",
    "### Evaluación de parametros\n"
   ]
  },
  {
   "cell_type": "markdown",
   "id": "96623c59",
   "metadata": {},
   "source": [
    "A continuacion se presentan los mejores hiperparametros obtenidos del notebook de busqueda de hiperparametros para el modelo XGBoost"
   ]
  },
  {
   "cell_type": "code",
   "execution_count": 10,
   "id": "9b3040fd",
   "metadata": {},
   "outputs": [],
   "source": [
    "import xgboost as xgb"
   ]
  },
  {
   "cell_type": "code",
   "execution_count": 11,
   "id": "ba078167",
   "metadata": {},
   "outputs": [],
   "source": [
    "# Exactitud promedio: 0.856\n",
    "\n",
    "hiperparametros = {\n",
    "    'learning_rate': 0.030958241241393895,\n",
    "    'max_depth': 7, \n",
    "    'colsample_bytree': 0.5330554532179588, \n",
    "    'n_estimators': 568, \n",
    "    'reg_alpha': 4.1084086686936143e-08,\n",
    "    'reg_lambda': 0.00024280802318611656,\n",
    "    'min_child_weight': 1, \n",
    "    'gamma': 0.23340955083195258, \n",
    "    'subsample': 0.8458562164387711\n",
    "}"
   ]
  },
  {
   "cell_type": "code",
   "execution_count": 17,
   "id": "87cf904d",
   "metadata": {},
   "outputs": [],
   "source": [
    "# Exactitud promedio: 0.856\n",
    "\n",
    "hiperparametros = {\n",
    "    'learning_rate': 0.019502919020196508, \n",
    "    'max_depth': 7,\n",
    "    'colsample_bytree': 0.5359755043663036,\n",
    "    'n_estimators': 889, \n",
    "    'reg_alpha': 4.5769997160546754e-07,\n",
    "    'reg_lambda': 0.0008024537176185966, \n",
    "    'min_child_weight': 1, \n",
    "    'gamma': 0.26635568488365735,\n",
    "    'subsample': 0.836658436011697\n",
    "}"
   ]
  },
  {
   "cell_type": "code",
   "execution_count": 110,
   "id": "002662e0",
   "metadata": {},
   "outputs": [],
   "source": [
    "# Exactitud promedio: 0.855\n",
    "\n",
    "hiperparametros = {\n",
    "    'subsample': 0.6,\n",
    "    'n_estimators': 100,\n",
    "    'max_depth': 9,\n",
    "    'learning_rate': 0.1,\n",
    "    'colsample_bytree': 0.6\n",
    "}"
   ]
  },
  {
   "cell_type": "code",
   "execution_count": 23,
   "id": "e0e1ca61",
   "metadata": {},
   "outputs": [],
   "source": [
    "# Exactitud promedio: 0.854\n",
    "\n",
    "hiperparametros = {\n",
    "    'learning_rate': 0.06223362642651399,\n",
    "    'max_depth': 10, \n",
    "    'colsample_bytree': 0.43647471109946273,\n",
    "    'n_estimators': 363,\n",
    "    'reg_alpha': 0.5601315011270463,\n",
    "    'reg_lambda': 0.05445159550791859, \n",
    "    'min_child_weight': 1, \n",
    "    'gamma': 0.643238494538452, \n",
    "    'subsample': 0.9047512569336327,\n",
    "    'colsample_bylevel': 0.5088157757755716\n",
    "}"
   ]
  },
  {
   "cell_type": "code",
   "execution_count": 29,
   "id": "ef7a4ebd",
   "metadata": {},
   "outputs": [],
   "source": [
    "# Exactitud promedio: 0.854\n",
    "\n",
    "hiperparametros = {\n",
    "    'subsample': 0.8,\n",
    "    'reg_lambda': 0,\n",
    "    'reg_alpha': 0.5,\n",
    "    'n_estimators': 200,\n",
    "    'max_depth': 3,\n",
    "    'learning_rate': 0.1,\n",
    "    'colsample_bytree': 0.6\n",
    "}"
   ]
  },
  {
   "cell_type": "code",
   "execution_count": 56,
   "id": "bf488512",
   "metadata": {},
   "outputs": [],
   "source": [
    "# Exactitud promedio: 0.854\n",
    "\n",
    "hiperparametros = {\n",
    "    'learning_rate': 0.02598871856723336, \n",
    "    'max_depth': 5, \n",
    "    'colsample_bytree': 0.7995956811280615,\n",
    "    'n_estimators': 801,\n",
    "    'reg_alpha': 0.0003846344365287301,\n",
    "    'reg_lambda': 0.16055023352269962,\n",
    "    'min_child_weight': 2, \n",
    "    'gamma': 6.227977417426079e-08, \n",
    "    'subsample': 0.5855520974928337\n",
    "}"
   ]
  },
  {
   "cell_type": "code",
   "execution_count": 62,
   "id": "4ae63b2b",
   "metadata": {},
   "outputs": [],
   "source": [
    "# Exactitud promedio: 0.854\n",
    "hiperparametros = {\n",
    "    'learning_rate': 0.04428108856591791, \n",
    "    'max_depth': 4, \n",
    "    'colsample_bytree': 0.7226349496641976, \n",
    "    'n_estimators': 646, \n",
    "    'reg_alpha': 7.661529391554665e-06, \n",
    "    'reg_lambda': 0.23675588280032342,\n",
    "    'min_child_weight': 3, \n",
    "    'gamma': 1.292268795320074e-10,\n",
    "    'subsample': 0.6881789557023068\n",
    "}"
   ]
  },
  {
   "cell_type": "code",
   "execution_count": 68,
   "id": "57e305ee",
   "metadata": {},
   "outputs": [],
   "source": [
    "# Exactitud promedio: 0.854\n",
    "hiperparametros = {\n",
    "    'learning_rate': 0.02960979601900507, \n",
    "    'max_depth': 7, \n",
    "    'colsample_bytree': 0.5456792316195744, \n",
    "    'n_estimators': 998, \n",
    "    'reg_alpha': 1.409520212018922e-07, \n",
    "    'reg_lambda': 0.0008161572993519646,\n",
    "    'min_child_weight': 2, \n",
    "    'gamma': 0.22490105013940945,\n",
    "    'subsample': 0.8418410424162996\n",
    "}"
   ]
  },
  {
   "cell_type": "code",
   "execution_count": 74,
   "id": "96b5b0a6",
   "metadata": {},
   "outputs": [],
   "source": [
    "# Exactitud promedio: 0.854\n",
    "\n",
    "hiperparametros = {\n",
    "    'learning_rate': 0.028478907593346002,\n",
    "    'max_depth': 5,\n",
    "    'colsample_bytree': 0.7889179697330267, \n",
    "    'n_estimators': 994,\n",
    "    'reg_alpha': 8.287868985533723e-06, \n",
    "    'reg_lambda': 0.9748197999986147, \n",
    "    'min_child_weight': 3, \n",
    "    'gamma': 7.884438093404615e-07, \n",
    "    'subsample': 0.6808288822283086\n",
    "}"
   ]
  },
  {
   "cell_type": "code",
   "execution_count": 92,
   "id": "0b047ce7",
   "metadata": {},
   "outputs": [],
   "source": [
    "# Exactitud promedio: 0.854\n",
    "hiperparametros = {\n",
    "    'learning_rate': 0.016951568933621472,\n",
    "    'max_depth': 7, \n",
    "    'colsample_bytree': 0.5954988480447891, \n",
    "    'n_estimators': 972, \n",
    "    'reg_alpha': 1.8721084537933326e-08,\n",
    "    'reg_lambda': 0.0002344955542435387, \n",
    "    'min_child_weight': 5, \n",
    "    'gamma': 8.251699970197526e-05,\n",
    "    'subsample': 0.8577198024143824\n",
    "}"
   ]
  },
  {
   "cell_type": "code",
   "execution_count": 86,
   "id": "f9e9821a",
   "metadata": {},
   "outputs": [],
   "source": [
    "# Exactitud promedio: 0.853\n",
    "hiperparametros = {\n",
    "    'learning_rate': 0.034150582881769316, \n",
    "    'max_depth': 5,\n",
    "    'colsample_bytree': 0.8018559269448844,\n",
    "    'n_estimators': 777, \n",
    "    'reg_alpha': 7.132435689698663e-06, \n",
    "    'reg_lambda': 0.9687941320272302,\n",
    "    'min_child_weight': 2, \n",
    "    'gamma': 1.028344709701708e-10, \n",
    "    'subsample': 0.5944640494146579\n",
    "}"
   ]
  },
  {
   "cell_type": "code",
   "execution_count": 80,
   "id": "509cdddf",
   "metadata": {},
   "outputs": [],
   "source": [
    "# Exactitud promedio: 0.852\n",
    "\n",
    "hiperparametros = {\n",
    "    'learning_rate': 0.044978141622494895, \n",
    "    'max_depth': 5, \n",
    "    'colsample_bytree': 0.6612006182149313, \n",
    "    'n_estimators': 740, \n",
    "    'reg_alpha': 3.462106562185482e-05,\n",
    "    'reg_lambda': 2.5206355109283938e-08,\n",
    "    'min_child_weight': 3,\n",
    "    'gamma': 0.000219351881425621, \n",
    "    'subsample': 0.704807956180106\n",
    "}"
   ]
  },
  {
   "cell_type": "code",
   "execution_count": 104,
   "id": "4adeb921",
   "metadata": {},
   "outputs": [],
   "source": [
    "# Exactitud promedio: 0.851\n",
    "\n",
    "hiperparametros = {\n",
    "    'booster': 'dart',\n",
    "    'lambda': 0.001785213834394288,\n",
    "    'alpha': 3.4019556971203074e-08,\n",
    "    'max_depth': 9,\n",
    "    'eta': 0.10206736089336924,\n",
    "    'gamma': 0.0615855194115282,\n",
    "    'colsample_bytree': 0.6410241592952468,\n",
    "    'min_child_weight': 10,\n",
    "    'objective': 'multi:softmax',\n",
    "    'num_class': 4\n",
    "}\n"
   ]
  },
  {
   "cell_type": "code",
   "execution_count": 98,
   "id": "dd701d71",
   "metadata": {},
   "outputs": [],
   "source": [
    "# Exactitud promedio: 0.849\n",
    "hiperparametros = {\n",
    "    'learning_rate': 0.040991799932675266, \n",
    "    'max_depth': 7, \n",
    "    'colsample_bytree': 0.5575101985738888,\n",
    "    'n_estimators': 910,\n",
    "    'reg_alpha': 4.542210549121433e-06,\n",
    "    'reg_lambda': 5.131416072817396e-05,\n",
    "    'min_child_weight': 2, \n",
    "    'gamma': 0.05321008989304913,\n",
    "    'subsample': 0.8940500721590932\n",
    "}"
   ]
  },
  {
   "cell_type": "code",
   "execution_count": 116,
   "id": "a1448df4",
   "metadata": {},
   "outputs": [],
   "source": [
    "# Exactitud promedio: 0.849\n",
    "\n",
    "hiperparametros = {\n",
    "    'learning_rate': 0.06223362642651399, \n",
    "    'max_depth': 10, \n",
    "    'subsample': 0.7618196742286072, \n",
    "    'colsample_bylevel': 0.5088157757755716,\n",
    "    'reg_alpha': 9.42497182761038e-10, \n",
    "    'reg_lambda': 4.113952515880599e-06, \n",
    "    'n_estimators': 383, \n",
    "    'min_child_weight': 7, \n",
    "    'gamma': 1.02939441947255e-06, \n",
    "}"
   ]
  },
  {
   "cell_type": "code",
   "execution_count": 128,
   "id": "f0fcc532",
   "metadata": {},
   "outputs": [],
   "source": [
    "# Exactitud promedio: 0.849\n",
    "\n",
    "hiperparametros = {\n",
    "    'learning_rate': 0.08003193943477299,\n",
    "    'max_leaves': 26,\n",
    "    'max_depth': 7,\n",
    "    'min_child_weight': 62,\n",
    "    'subsample': 0.7722705717445381,\n",
    "    'colsample_bytree': 0.7755706849496782,\n",
    "    'reg_alpha': 0.050399191180643475,\n",
    "    'reg_lambda': 0.004030996952647398,\n",
    "    'n_estimators': 411,\n",
    "    'objective': 'multi:softmax',\n",
    "    'num_class': 4,\n",
    "}"
   ]
  },
  {
   "cell_type": "code",
   "execution_count": 134,
   "id": "0fd6cfd4",
   "metadata": {},
   "outputs": [],
   "source": [
    "# Exactitud promedio: 0.849\n",
    "\n",
    "hiperparametros = {\n",
    "    'learning_rate': 0.08003193943477299,\n",
    "    'max_leaves': 26,\n",
    "    'max_depth': 7,\n",
    "    'min_child_weight': 62,\n",
    "    'subsample': 0.7722705717445381,\n",
    "    'colsample_bytree': 0.7755706849496782,\n",
    "    'reg_alpha': 0.050399191180643475,\n",
    "    'reg_lambda': 0.004030996952647398,\n",
    "    'n_estimators': 411,\n",
    "    'objective': 'multi:softprob',\n",
    "    'num_class': 4,\n",
    "}"
   ]
  },
  {
   "cell_type": "code",
   "execution_count": 122,
   "id": "dff1e9d9",
   "metadata": {},
   "outputs": [],
   "source": [
    "# Exactitud promedio: 0.845\n",
    "\n",
    "hiperparametros = {\n",
    "    'learning_rate': 0.088091866580574, \n",
    "    'max_depth': 5, \n",
    "    'colsample_bytree': 0.6849397017010377, \n",
    "    'n_estimators': 742, \n",
    "    'reg_alpha': 2.6697091220011362e-08, \n",
    "    'reg_lambda': 0.0003334114789701961,\n",
    "    'min_child_weight': 4, \n",
    "    'gamma': 8.758986216578691e-09, \n",
    "    'subsample': 0.5025204821998336\n",
    "}"
   ]
  },
  {
   "cell_type": "code",
   "execution_count": 146,
   "id": "5b3d37a6",
   "metadata": {},
   "outputs": [],
   "source": [
    "# Exactitud promedio: 0.845\n",
    "\n",
    "hiperparametros = {\n",
    "    'learning_rate': 0.030768939207374894, \n",
    "     'max_depth': 3, \n",
    "     'subsample': 0.803237155984073, \n",
    "     'colsample_bytree': 0.5420392975871227, \n",
    "     'reg_alpha': 7.448803696942681e-05, \n",
    "     'reg_lambda': 2.358730852235791e-10, \n",
    "     'n_estimators': 176, \n",
    "     'min_child_weight': 10\n",
    "}"
   ]
  },
  {
   "cell_type": "code",
   "execution_count": 140,
   "id": "81906b95",
   "metadata": {},
   "outputs": [],
   "source": [
    "# Exactitud promedio: 0.844\n",
    "\n",
    "hiperparametros = {\n",
    "    'learning_rate': 0.04862941704863358,\n",
    "    'max_leaves': 26,\n",
    "    'max_depth': 6,\n",
    "    'min_child_weight': 62,\n",
    "    'subsample': 0.6513733390083617,\n",
    "    'colsample_bytree': 0.6644980369982753,\n",
    "    'reg_alpha': 0.008090495442375395,\n",
    "    'reg_lambda': 0.0057345876493414254,\n",
    "    'n_estimators': 386,\n",
    "    'scale_pos_weight': 0.5842230278735413,\n",
    "    'objective': 'multi:softmax',\n",
    "    'num_class': 4\n",
    "}"
   ]
  },
  {
   "cell_type": "code",
   "execution_count": 152,
   "id": "8fe76a31",
   "metadata": {},
   "outputs": [],
   "source": [
    "# Exactitud promedio: 0.840\n",
    "\n",
    "hiperparametros = {\n",
    "    'learning_rate': 0.004718086191579359, \n",
    "    'max_depth': 5, \n",
    "    'subsample': 0.9749530177544793, \n",
    "     'colsample_bytree': 0.8918419868536179, \n",
    "     'reg_alpha': 0.0014902526858010525, \n",
    "     'reg_lambda': 0.00010806691888237761, \n",
    "     'n_estimators': 361, \n",
    "     'min_child_weight': 9\n",
    "}"
   ]
  },
  {
   "cell_type": "code",
   "execution_count": 159,
   "id": "c1faed12",
   "metadata": {},
   "outputs": [],
   "source": [
    "pipeline_estimador = Pipeline([\n",
    "    (\"procesado_variables\", pipeline_procesado),\n",
    "    (\"estimador\", xgb.XGBClassifier(**hiperparametros))\n",
    "])"
   ]
  },
  {
   "cell_type": "code",
   "execution_count": 160,
   "id": "27e68b1b",
   "metadata": {
    "scrolled": false
   },
   "outputs": [
    {
     "data": {
      "text/html": [
       "<style>#sk-container-id-24 {color: black;background-color: white;}#sk-container-id-24 pre{padding: 0;}#sk-container-id-24 div.sk-toggleable {background-color: white;}#sk-container-id-24 label.sk-toggleable__label {cursor: pointer;display: block;width: 100%;margin-bottom: 0;padding: 0.3em;box-sizing: border-box;text-align: center;}#sk-container-id-24 label.sk-toggleable__label-arrow:before {content: \"▸\";float: left;margin-right: 0.25em;color: #696969;}#sk-container-id-24 label.sk-toggleable__label-arrow:hover:before {color: black;}#sk-container-id-24 div.sk-estimator:hover label.sk-toggleable__label-arrow:before {color: black;}#sk-container-id-24 div.sk-toggleable__content {max-height: 0;max-width: 0;overflow: hidden;text-align: left;background-color: #f0f8ff;}#sk-container-id-24 div.sk-toggleable__content pre {margin: 0.2em;color: black;border-radius: 0.25em;background-color: #f0f8ff;}#sk-container-id-24 input.sk-toggleable__control:checked~div.sk-toggleable__content {max-height: 200px;max-width: 100%;overflow: auto;}#sk-container-id-24 input.sk-toggleable__control:checked~label.sk-toggleable__label-arrow:before {content: \"▾\";}#sk-container-id-24 div.sk-estimator input.sk-toggleable__control:checked~label.sk-toggleable__label {background-color: #d4ebff;}#sk-container-id-24 div.sk-label input.sk-toggleable__control:checked~label.sk-toggleable__label {background-color: #d4ebff;}#sk-container-id-24 input.sk-hidden--visually {border: 0;clip: rect(1px 1px 1px 1px);clip: rect(1px, 1px, 1px, 1px);height: 1px;margin: -1px;overflow: hidden;padding: 0;position: absolute;width: 1px;}#sk-container-id-24 div.sk-estimator {font-family: monospace;background-color: #f0f8ff;border: 1px dotted black;border-radius: 0.25em;box-sizing: border-box;margin-bottom: 0.5em;}#sk-container-id-24 div.sk-estimator:hover {background-color: #d4ebff;}#sk-container-id-24 div.sk-parallel-item::after {content: \"\";width: 100%;border-bottom: 1px solid gray;flex-grow: 1;}#sk-container-id-24 div.sk-label:hover label.sk-toggleable__label {background-color: #d4ebff;}#sk-container-id-24 div.sk-serial::before {content: \"\";position: absolute;border-left: 1px solid gray;box-sizing: border-box;top: 0;bottom: 0;left: 50%;z-index: 0;}#sk-container-id-24 div.sk-serial {display: flex;flex-direction: column;align-items: center;background-color: white;padding-right: 0.2em;padding-left: 0.2em;position: relative;}#sk-container-id-24 div.sk-item {position: relative;z-index: 1;}#sk-container-id-24 div.sk-parallel {display: flex;align-items: stretch;justify-content: center;background-color: white;position: relative;}#sk-container-id-24 div.sk-item::before, #sk-container-id-24 div.sk-parallel-item::before {content: \"\";position: absolute;border-left: 1px solid gray;box-sizing: border-box;top: 0;bottom: 0;left: 50%;z-index: -1;}#sk-container-id-24 div.sk-parallel-item {display: flex;flex-direction: column;z-index: 1;position: relative;background-color: white;}#sk-container-id-24 div.sk-parallel-item:first-child::after {align-self: flex-end;width: 50%;}#sk-container-id-24 div.sk-parallel-item:last-child::after {align-self: flex-start;width: 50%;}#sk-container-id-24 div.sk-parallel-item:only-child::after {width: 0;}#sk-container-id-24 div.sk-dashed-wrapped {border: 1px dashed gray;margin: 0 0.4em 0.5em 0.4em;box-sizing: border-box;padding-bottom: 0.4em;background-color: white;}#sk-container-id-24 div.sk-label label {font-family: monospace;font-weight: bold;display: inline-block;line-height: 1.2em;}#sk-container-id-24 div.sk-label-container {text-align: center;}#sk-container-id-24 div.sk-container {/* jupyter's `normalize.less` sets `[hidden] { display: none; }` but bootstrap.min.css set `[hidden] { display: none !important; }` so we also need the `!important` here to be able to override the default hidden behavior on the sphinx rendered scikit-learn.org. See: https://github.com/scikit-learn/scikit-learn/issues/21755 */display: inline-block !important;position: relative;}#sk-container-id-24 div.sk-text-repr-fallback {display: none;}</style><div id=\"sk-container-id-24\" class=\"sk-top-container\"><div class=\"sk-text-repr-fallback\"><pre>Pipeline(steps=[(&#x27;procesado_variables&#x27;,\n",
       "                 ColumnTransformer(remainder=&#x27;passthrough&#x27;,\n",
       "                                   transformers=[(&#x27;onehot&#x27;,\n",
       "                                                  OneHotEncoder(handle_unknown=&#x27;ignore&#x27;,\n",
       "                                                                sparse_output=False),\n",
       "                                                  [&#x27;victima_menor_de_edad&#x27;,\n",
       "                                                   &#x27;tipo_de_seguridad_social&#x27;,\n",
       "                                                   &#x27;municipio&#x27;, &#x27;sexo_agre&#x27;,\n",
       "                                                   &#x27;departamento&#x27;, &#x27;trimestre&#x27;,\n",
       "                                                   &#x27;paciente_hospitalizado&#x27;,\n",
       "                                                   &#x27;escenario&#x27;, &#x27;nom_eve&#x27;,\n",
       "                                                   &#x27;comuna&#x27;, &#x27;actividad&#x27;, &#x27;año&#x27;,\n",
       "                                                   &#x27;sustanci...\n",
       "                               importance_type=None,\n",
       "                               interaction_constraints=None,\n",
       "                               learning_rate=0.030189050820245422, max_bin=None,\n",
       "                               max_cat_threshold=None, max_cat_to_onehot=None,\n",
       "                               max_delta_step=None, max_depth=7,\n",
       "                               max_leaves=None,\n",
       "                               min_child_weight=0.4546451481751835, missing=nan,\n",
       "                               monotone_constraints=None, n_estimators=500,\n",
       "                               n_jobs=None, num_parallel_tree=None,\n",
       "                               objective=&#x27;multi:softprob&#x27;, predictor=None, ...))])</pre><b>In a Jupyter environment, please rerun this cell to show the HTML representation or trust the notebook. <br />On GitHub, the HTML representation is unable to render, please try loading this page with nbviewer.org.</b></div><div class=\"sk-container\" hidden><div class=\"sk-item sk-dashed-wrapped\"><div class=\"sk-label-container\"><div class=\"sk-label sk-toggleable\"><input class=\"sk-toggleable__control sk-hidden--visually\" id=\"sk-estimator-id-231\" type=\"checkbox\" ><label for=\"sk-estimator-id-231\" class=\"sk-toggleable__label sk-toggleable__label-arrow\">Pipeline</label><div class=\"sk-toggleable__content\"><pre>Pipeline(steps=[(&#x27;procesado_variables&#x27;,\n",
       "                 ColumnTransformer(remainder=&#x27;passthrough&#x27;,\n",
       "                                   transformers=[(&#x27;onehot&#x27;,\n",
       "                                                  OneHotEncoder(handle_unknown=&#x27;ignore&#x27;,\n",
       "                                                                sparse_output=False),\n",
       "                                                  [&#x27;victima_menor_de_edad&#x27;,\n",
       "                                                   &#x27;tipo_de_seguridad_social&#x27;,\n",
       "                                                   &#x27;municipio&#x27;, &#x27;sexo_agre&#x27;,\n",
       "                                                   &#x27;departamento&#x27;, &#x27;trimestre&#x27;,\n",
       "                                                   &#x27;paciente_hospitalizado&#x27;,\n",
       "                                                   &#x27;escenario&#x27;, &#x27;nom_eve&#x27;,\n",
       "                                                   &#x27;comuna&#x27;, &#x27;actividad&#x27;, &#x27;año&#x27;,\n",
       "                                                   &#x27;sustanci...\n",
       "                               importance_type=None,\n",
       "                               interaction_constraints=None,\n",
       "                               learning_rate=0.030189050820245422, max_bin=None,\n",
       "                               max_cat_threshold=None, max_cat_to_onehot=None,\n",
       "                               max_delta_step=None, max_depth=7,\n",
       "                               max_leaves=None,\n",
       "                               min_child_weight=0.4546451481751835, missing=nan,\n",
       "                               monotone_constraints=None, n_estimators=500,\n",
       "                               n_jobs=None, num_parallel_tree=None,\n",
       "                               objective=&#x27;multi:softprob&#x27;, predictor=None, ...))])</pre></div></div></div><div class=\"sk-serial\"><div class=\"sk-item sk-dashed-wrapped\"><div class=\"sk-label-container\"><div class=\"sk-label sk-toggleable\"><input class=\"sk-toggleable__control sk-hidden--visually\" id=\"sk-estimator-id-232\" type=\"checkbox\" ><label for=\"sk-estimator-id-232\" class=\"sk-toggleable__label sk-toggleable__label-arrow\">procesado_variables: ColumnTransformer</label><div class=\"sk-toggleable__content\"><pre>ColumnTransformer(remainder=&#x27;passthrough&#x27;,\n",
       "                  transformers=[(&#x27;onehot&#x27;,\n",
       "                                 OneHotEncoder(handle_unknown=&#x27;ignore&#x27;,\n",
       "                                               sparse_output=False),\n",
       "                                 [&#x27;victima_menor_de_edad&#x27;,\n",
       "                                  &#x27;tipo_de_seguridad_social&#x27;, &#x27;municipio&#x27;,\n",
       "                                  &#x27;sexo_agre&#x27;, &#x27;departamento&#x27;, &#x27;trimestre&#x27;,\n",
       "                                  &#x27;paciente_hospitalizado&#x27;, &#x27;escenario&#x27;,\n",
       "                                  &#x27;nom_eve&#x27;, &#x27;comuna&#x27;, &#x27;actividad&#x27;, &#x27;año&#x27;,\n",
       "                                  &#x27;sustancias_victima&#x27;, &#x27;nom_upgd&#x27;,\n",
       "                                  &#x27;condicion_final...\n",
       "                                                 (&#x27;transformador_ordinal&#x27;,\n",
       "                                                  OrdinalEncoder(mapping=[{&#x27;col&#x27;: &#x27;grupo_edad&#x27;,\n",
       "                                                                           &#x27;data_type&#x27;: dtype(&#x27;O&#x27;),\n",
       "                                                                           &#x27;mapping&#x27;: 0 a 6       0\n",
       "7  a 11     1\n",
       "12 a 17     2\n",
       "18 a 28     3\n",
       "29 a 59     4\n",
       "60 y mas    5\n",
       "dtype: int64},\n",
       "                                                                          {&#x27;col&#x27;: &#x27;ciclo_de_vida&#x27;,\n",
       "                                                                           &#x27;data_type&#x27;: dtype(&#x27;O&#x27;),\n",
       "                                                                           &#x27;mapping&#x27;: Primera infancia    0\n",
       "Infancia            1\n",
       "Jovenes             2\n",
       "Adolescencia        3\n",
       "Adultez             4\n",
       "Persona Mayor       5\n",
       "dtype: int64}]))]),\n",
       "                                 [&#x27;grupo_edad&#x27;, &#x27;ciclo_de_vida&#x27;])],\n",
       "                  verbose_feature_names_out=False)</pre></div></div></div><div class=\"sk-parallel\"><div class=\"sk-parallel-item\"><div class=\"sk-item\"><div class=\"sk-label-container\"><div class=\"sk-label sk-toggleable\"><input class=\"sk-toggleable__control sk-hidden--visually\" id=\"sk-estimator-id-233\" type=\"checkbox\" ><label for=\"sk-estimator-id-233\" class=\"sk-toggleable__label sk-toggleable__label-arrow\">onehot</label><div class=\"sk-toggleable__content\"><pre>[&#x27;victima_menor_de_edad&#x27;, &#x27;tipo_de_seguridad_social&#x27;, &#x27;municipio&#x27;, &#x27;sexo_agre&#x27;, &#x27;departamento&#x27;, &#x27;trimestre&#x27;, &#x27;paciente_hospitalizado&#x27;, &#x27;escenario&#x27;, &#x27;nom_eve&#x27;, &#x27;comuna&#x27;, &#x27;actividad&#x27;, &#x27;año&#x27;, &#x27;sustancias_victima&#x27;, &#x27;nom_upgd&#x27;, &#x27;condicion_final&#x27;, &#x27;agresor_menor_de_edad&#x27;, &#x27;parentezco_vict&#x27;, &#x27;area&#x27;, &#x27;sexo&#x27;, &#x27;violencia_intrafamiliar&#x27;, &#x27;semana&#x27;, &#x27;mes&#x27;]</pre></div></div></div><div class=\"sk-serial\"><div class=\"sk-item\"><div class=\"sk-estimator sk-toggleable\"><input class=\"sk-toggleable__control sk-hidden--visually\" id=\"sk-estimator-id-234\" type=\"checkbox\" ><label for=\"sk-estimator-id-234\" class=\"sk-toggleable__label sk-toggleable__label-arrow\">OneHotEncoder</label><div class=\"sk-toggleable__content\"><pre>OneHotEncoder(handle_unknown=&#x27;ignore&#x27;, sparse_output=False)</pre></div></div></div></div></div></div><div class=\"sk-parallel-item\"><div class=\"sk-item\"><div class=\"sk-label-container\"><div class=\"sk-label sk-toggleable\"><input class=\"sk-toggleable__control sk-hidden--visually\" id=\"sk-estimator-id-235\" type=\"checkbox\" ><label for=\"sk-estimator-id-235\" class=\"sk-toggleable__label sk-toggleable__label-arrow\">ordinal</label><div class=\"sk-toggleable__content\"><pre>[&#x27;grupo_edad&#x27;, &#x27;ciclo_de_vida&#x27;]</pre></div></div></div><div class=\"sk-serial\"><div class=\"sk-item\"><div class=\"sk-serial\"><div class=\"sk-item\"><div class=\"sk-estimator sk-toggleable\"><input class=\"sk-toggleable__control sk-hidden--visually\" id=\"sk-estimator-id-236\" type=\"checkbox\" ><label for=\"sk-estimator-id-236\" class=\"sk-toggleable__label sk-toggleable__label-arrow\">SimpleImputer</label><div class=\"sk-toggleable__content\"><pre>SimpleImputer(strategy=&#x27;most_frequent&#x27;)</pre></div></div></div><div class=\"sk-item\"><div class=\"sk-estimator sk-toggleable\"><input class=\"sk-toggleable__control sk-hidden--visually\" id=\"sk-estimator-id-237\" type=\"checkbox\" ><label for=\"sk-estimator-id-237\" class=\"sk-toggleable__label sk-toggleable__label-arrow\">OrdinalEncoder</label><div class=\"sk-toggleable__content\"><pre>OrdinalEncoder(mapping=[{&#x27;col&#x27;: &#x27;grupo_edad&#x27;, &#x27;data_type&#x27;: dtype(&#x27;O&#x27;),\n",
       "                         &#x27;mapping&#x27;: 0 a 6       0\n",
       "7  a 11     1\n",
       "12 a 17     2\n",
       "18 a 28     3\n",
       "29 a 59     4\n",
       "60 y mas    5\n",
       "dtype: int64},\n",
       "                        {&#x27;col&#x27;: &#x27;ciclo_de_vida&#x27;, &#x27;data_type&#x27;: dtype(&#x27;O&#x27;),\n",
       "                         &#x27;mapping&#x27;: Primera infancia    0\n",
       "Infancia            1\n",
       "Jovenes             2\n",
       "Adolescencia        3\n",
       "Adultez             4\n",
       "Persona Mayor       5\n",
       "dtype: int64}])</pre></div></div></div></div></div></div></div></div><div class=\"sk-parallel-item\"><div class=\"sk-item\"><div class=\"sk-label-container\"><div class=\"sk-label sk-toggleable\"><input class=\"sk-toggleable__control sk-hidden--visually\" id=\"sk-estimator-id-238\" type=\"checkbox\" ><label for=\"sk-estimator-id-238\" class=\"sk-toggleable__label sk-toggleable__label-arrow\">remainder</label><div class=\"sk-toggleable__content\"><pre>[&#x27;edad_agre&#x27;]</pre></div></div></div><div class=\"sk-serial\"><div class=\"sk-item\"><div class=\"sk-estimator sk-toggleable\"><input class=\"sk-toggleable__control sk-hidden--visually\" id=\"sk-estimator-id-239\" type=\"checkbox\" ><label for=\"sk-estimator-id-239\" class=\"sk-toggleable__label sk-toggleable__label-arrow\">passthrough</label><div class=\"sk-toggleable__content\"><pre>passthrough</pre></div></div></div></div></div></div></div></div><div class=\"sk-item\"><div class=\"sk-estimator sk-toggleable\"><input class=\"sk-toggleable__control sk-hidden--visually\" id=\"sk-estimator-id-240\" type=\"checkbox\" ><label for=\"sk-estimator-id-240\" class=\"sk-toggleable__label sk-toggleable__label-arrow\">XGBClassifier</label><div class=\"sk-toggleable__content\"><pre>XGBClassifier(base_score=None, booster=None, callbacks=None,\n",
       "              colsample_bylevel=None, colsample_bynode=None,\n",
       "              colsample_bytree=0.5520562116986263, early_stopping_rounds=None,\n",
       "              enable_categorical=False, eval_metric=None, feature_types=None,\n",
       "              gamma=0.7247650685296503, gpu_id=None, grow_policy=None,\n",
       "              importance_type=None, interaction_constraints=None,\n",
       "              learning_rate=0.030189050820245422, max_bin=None,\n",
       "              max_cat_threshold=None, max_cat_to_onehot=None,\n",
       "              max_delta_step=None, max_depth=7, max_leaves=None,\n",
       "              min_child_weight=0.4546451481751835, missing=nan,\n",
       "              monotone_constraints=None, n_estimators=500, n_jobs=None,\n",
       "              num_parallel_tree=None, objective=&#x27;multi:softprob&#x27;,\n",
       "              predictor=None, ...)</pre></div></div></div></div></div></div></div>"
      ],
      "text/plain": [
       "Pipeline(steps=[('procesado_variables',\n",
       "                 ColumnTransformer(remainder='passthrough',\n",
       "                                   transformers=[('onehot',\n",
       "                                                  OneHotEncoder(handle_unknown='ignore',\n",
       "                                                                sparse_output=False),\n",
       "                                                  ['victima_menor_de_edad',\n",
       "                                                   'tipo_de_seguridad_social',\n",
       "                                                   'municipio', 'sexo_agre',\n",
       "                                                   'departamento', 'trimestre',\n",
       "                                                   'paciente_hospitalizado',\n",
       "                                                   'escenario', 'nom_eve',\n",
       "                                                   'comuna', 'actividad', 'año',\n",
       "                                                   'sustanci...\n",
       "                               importance_type=None,\n",
       "                               interaction_constraints=None,\n",
       "                               learning_rate=0.030189050820245422, max_bin=None,\n",
       "                               max_cat_threshold=None, max_cat_to_onehot=None,\n",
       "                               max_delta_step=None, max_depth=7,\n",
       "                               max_leaves=None,\n",
       "                               min_child_weight=0.4546451481751835, missing=nan,\n",
       "                               monotone_constraints=None, n_estimators=500,\n",
       "                               n_jobs=None, num_parallel_tree=None,\n",
       "                               objective='multi:softprob', predictor=None, ...))])"
      ]
     },
     "execution_count": 160,
     "metadata": {},
     "output_type": "execute_result"
    }
   ],
   "source": [
    "pipeline_estimador.fit(X=X_train, y=y_train)"
   ]
  },
  {
   "cell_type": "code",
   "execution_count": 161,
   "id": "22b79e25",
   "metadata": {},
   "outputs": [],
   "source": [
    "predicciones =  pipeline_estimador.predict(X=X_test)\n",
    "clases_reales = y_test\n",
    "predicciones_probabilidades =pipeline_estimador.predict_proba(X_test)"
   ]
  },
  {
   "cell_type": "code",
   "execution_count": 162,
   "id": "6b8d41b6",
   "metadata": {
    "scrolled": true
   },
   "outputs": [
    {
     "name": "stdout",
     "output_type": "stream",
     "text": [
      "\n",
      "    Exactitud promedio: 0.857\n",
      "    Precisión promedio: 0.849\n",
      "    Sensibilidad promedio: 0.847\n",
      "    Puntuación F1 promedio: 0.847\n",
      "    \n"
     ]
    }
   ],
   "source": [
    "evaluar_modelo(clases_reales, predicciones, predicciones_probabilidades)"
   ]
  },
  {
   "cell_type": "code",
   "execution_count": 163,
   "id": "99481603",
   "metadata": {
    "scrolled": true
   },
   "outputs": [
    {
     "name": "stdout",
     "output_type": "stream",
     "text": [
      "Accuracy en datos de entrenamiento: 0.9463753723932473\n",
      "Accuracy en datos de prueba: 0.8548102383053839\n"
     ]
    }
   ],
   "source": [
    "from sklearn.metrics import accuracy_score\n",
    "train_accuracy = accuracy_score(y_train, pipeline_estimador.predict(X_train))\n",
    "test_accuracy = accuracy_score(y_test, pipeline_estimador.predict(X_test))\n",
    "print(\"Accuracy en datos de entrenamiento:\", train_accuracy)\n",
    "print(\"Accuracy en datos de prueba:\", test_accuracy)"
   ]
  }
 ],
 "metadata": {
  "kernelspec": {
   "display_name": "Python 3 (ipykernel)",
   "language": "python",
   "name": "python3"
  },
  "language_info": {
   "codemirror_mode": {
    "name": "ipython",
    "version": 3
   },
   "file_extension": ".py",
   "mimetype": "text/x-python",
   "name": "python",
   "nbconvert_exporter": "python",
   "pygments_lexer": "ipython3",
   "version": "3.10.8"
  }
 },
 "nbformat": 4,
 "nbformat_minor": 5
}
