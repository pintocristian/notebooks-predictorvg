{
 "cells": [
  {
   "cell_type": "markdown",
   "id": "0072019a",
   "metadata": {},
   "source": [
    "# Modelo Final\n",
    "<hr>"
   ]
  },
  {
   "cell_type": "markdown",
   "id": "29f9dffb",
   "metadata": {},
   "source": [
    "Importar las librerias y herramientas necesarias"
   ]
  },
  {
   "cell_type": "code",
   "execution_count": 1,
   "id": "fa3470e1",
   "metadata": {},
   "outputs": [],
   "source": [
    "import pandas as pd\n",
    "import numpy as np \n",
    "import matplotlib\n",
    "import matplotlib.pyplot as plt\n",
    "from sklearn import preprocessing\n",
    "from sklearn import metrics\n",
    "%matplotlib inline "
   ]
  },
  {
   "cell_type": "markdown",
   "id": "e116b63c",
   "metadata": {},
   "source": [
    "Importamos los datos"
   ]
  },
  {
   "cell_type": "code",
   "execution_count": 34,
   "id": "c7cda726",
   "metadata": {},
   "outputs": [],
   "source": [
    "df = pd.read_pickle(\"data/data.pkl\")"
   ]
  },
  {
   "cell_type": "code",
   "execution_count": null,
   "id": "f939a1c1",
   "metadata": {},
   "outputs": [],
   "source": []
  },
  {
   "cell_type": "markdown",
   "id": "e10a125e",
   "metadata": {},
   "source": [
    "- Obtenemos información sobre las columnas existentes en el DataFrame"
   ]
  },
  {
   "cell_type": "code",
   "execution_count": 3,
   "id": "16edf483",
   "metadata": {
    "scrolled": true
   },
   "outputs": [
    {
     "data": {
      "text/plain": [
       "departamento                category\n",
       "municipio                   category\n",
       "semana                      category\n",
       "año                         category\n",
       "grupo_edad                  category\n",
       "ciclo_de_vida               category\n",
       "sexo                        category\n",
       "area                        category\n",
       "comuna                      category\n",
       "tipo_de_seguridad_social    category\n",
       "paciente_hospitalizado      category\n",
       "condicion_final             category\n",
       "naturaleza                  category\n",
       "actividad                   category\n",
       "edad_agre                      int32\n",
       "sexo_agre                   category\n",
       "parentezco_vict             category\n",
       "sustancias_victima          category\n",
       "escenario                   category\n",
       "nom_eve                     category\n",
       "nom_upgd                    category\n",
       "mes                         category\n",
       "sivigila                    category\n",
       "trimestre                   category\n",
       "dtype: object"
      ]
     },
     "execution_count": 3,
     "metadata": {},
     "output_type": "execute_result"
    }
   ],
   "source": [
    "df.dtypes"
   ]
  },
  {
   "cell_type": "markdown",
   "id": "88f4ec05",
   "metadata": {},
   "source": [
    "- A continuación se definen la variable objetivo y las variables independientes\n",
    "- Se definen las columnas numéricas y no numéricas\n",
    "- Se definen las columnas ordinales y categoricas"
   ]
  },
  {
   "cell_type": "code",
   "execution_count": 4,
   "id": "cbcacd66",
   "metadata": {},
   "outputs": [],
   "source": [
    "variable_objetivo = 'naturaleza'\n",
    "variables_independientes = df.drop(variable_objetivo,axis=1).columns\n",
    "\n",
    "datos_numericos = df[variables_independientes].select_dtypes([int, float])\n",
    "col_no_numericas = df[variables_independientes].select_dtypes(include=['category']).columns\n",
    "col_numericas = datos_numericos.columns\n",
    "\n",
    "dict_var_ordinales = {\n",
    "    'grupo_edad': ['0 a 6', '12 a 17', '18 a 28', '29 a 59', '60 y mas', '7  a 11'],\n",
    "    'ciclo_de_vida':['Primera infancia', 'Infancia', 'Jovenes','Adolescencia','Adultez','Persona Mayor'],\n",
    "}\n",
    "\n",
    "col_ordinales = list(dict_var_ordinales.keys())\n",
    "datos_ordinales = df[col_ordinales]\n",
    "col_categoricas = list(set(col_no_numericas) - set(col_ordinales))\n",
    "datos_categoricos = df[col_categoricas]"
   ]
  },
  {
   "cell_type": "markdown",
   "id": "0ce92159",
   "metadata": {},
   "source": [
    "Se importan las librerias necesarias para la creacion del pipeline"
   ]
  },
  {
   "cell_type": "code",
   "execution_count": 5,
   "id": "6d2ffa17",
   "metadata": {},
   "outputs": [],
   "source": [
    "from sklearn.compose import ColumnTransformer\n",
    "from sklearn.preprocessing import OneHotEncoder\n",
    "from sklearn.preprocessing import StandardScaler\n",
    "from sklearn.preprocessing import OrdinalEncoder\n",
    "from sklearn.pipeline import Pipeline\n",
    "from sklearn.base import BaseEstimator, TransformerMixin\n",
    "from sklearn.impute import SimpleImputer"
   ]
  },
  {
   "cell_type": "markdown",
   "id": "32bc25d3",
   "metadata": {},
   "source": [
    "Se mappean los valores de grupo_edad y ciclo_de_vida y se crea el pipeline_ordinal y posteriormente el pipeline_procesado con las variables categoricas, el pipeline_ordinal y las columnas ordinales"
   ]
  },
  {
   "cell_type": "code",
   "execution_count": 6,
   "id": "9a94f04f",
   "metadata": {},
   "outputs": [],
   "source": [
    "mapping = [{'col': 'grupo_edad', 'mapping': {'0 a 6': 0,'7  a 11':1 ,'12 a 17': 2, '18 a 28': 3,'29 a 59':4,'60 y mas':5}},    {'col': 'ciclo_de_vida', 'mapping': {'Primera infancia': 0,  'Infancia': 1, 'Jovenes':2 ,'Adolescencia':3,'Adultez':4, 'Persona Mayor':5 }}]\n",
    "from category_encoders import OrdinalEncoder\n",
    "import category_encoders\n",
    "encoder = OrdinalEncoder(mapping=mapping)\n",
    "\n",
    "pipeline_ordinal = Pipeline([\n",
    "    ('imputer', SimpleImputer(strategy='most_frequent')),\n",
    "    ('transformador_ordinal', category_encoders.ordinal.OrdinalEncoder(mapping=mapping))\n",
    "])\n",
    "\n",
    "pipeline_procesado = ColumnTransformer(\n",
    "                   [('onehot', OneHotEncoder(handle_unknown='ignore', sparse_output=False), col_categoricas),\n",
    "                    ('ordinal', pipeline_ordinal, col_ordinales)\n",
    "                   ],\n",
    "                remainder = 'passthrough',\n",
    "                verbose_feature_names_out = False\n",
    "               ).set_output(transform=\"pandas\")"
   ]
  },
  {
   "cell_type": "markdown",
   "id": "726e110b",
   "metadata": {},
   "source": [
    "Se establecen los datos de entrenamiento y de prueba para los modelos"
   ]
  },
  {
   "cell_type": "code",
   "execution_count": 7,
   "id": "0df8d8d9",
   "metadata": {},
   "outputs": [],
   "source": [
    "from sklearn.model_selection import train_test_split\n",
    "X_train, X_test, y_train, y_test = train_test_split(df.drop(variable_objetivo, axis=1), df[variable_objetivo], test_size=0.2, random_state=42)"
   ]
  },
  {
   "cell_type": "code",
   "execution_count": 8,
   "id": "c03a4ca1",
   "metadata": {},
   "outputs": [],
   "source": [
    "X_train_prep = pipeline_procesado.fit_transform(X_train)\n",
    "X_test_prep  = pipeline_procesado.transform(X_train)"
   ]
  },
  {
   "cell_type": "code",
   "execution_count": 9,
   "id": "0860bef7",
   "metadata": {},
   "outputs": [],
   "source": [
    "from sklearn.ensemble import RandomForestClassifier\n",
    "from sklearn.model_selection import cross_val_score\n",
    "from sklearn.model_selection import StratifiedKFold\n",
    "from sklearn.base import clone"
   ]
  },
  {
   "cell_type": "markdown",
   "id": "8341bb14",
   "metadata": {},
   "source": [
    "### Se define la funcion `evaluar_modelo`, que se encarga de evaluar los diferentes modelos a partir de las metricas obtenidas"
   ]
  },
  {
   "cell_type": "code",
   "execution_count": 10,
   "id": "08c42b51",
   "metadata": {},
   "outputs": [],
   "source": [
    "def evaluar_modelo(clases_reales, predicciones, probabilidades):\n",
    "    exactitudes = []\n",
    "    precisiones = []\n",
    "    sensibilidades = []\n",
    "    f1_scores = []\n",
    "    \n",
    "    # Create StratifiedKFold object with a fixed random_state\n",
    "    skf = StratifiedKFold(n_splits=5, shuffle=True, random_state=42)\n",
    "    \n",
    "    # Perform cross-validation\n",
    "    for train_index, test_index in skf.split(X_train, y_train):\n",
    "        # Create a copy of the pipeline estimator\n",
    "        pipeline_estimador_copy = clone(pipeline_estimador)\n",
    "        \n",
    "        # Split the data into train and test sets based on the indices\n",
    "        X_train_fold, X_test_fold = X_train.iloc[train_index], X_train.iloc[test_index]\n",
    "        y_train_fold, y_test_fold = y_train.iloc[train_index], y_train.iloc[test_index]\n",
    "        \n",
    "        # Train the model on the current fold\n",
    "        pipeline_estimador_copy.fit(X_train_fold, y_train_fold)\n",
    "        \n",
    "        # Get predictions in the test set of the current fold\n",
    "        predicciones_fold = pipeline_estimador_copy.predict(X_test_fold)\n",
    "        probabilidades_fold = pipeline_estimador_copy.predict_proba(X_test_fold)\n",
    "        \n",
    "        # Calculate metrics on the current fold\n",
    "        exactitud = metrics.accuracy_score(y_test_fold, predicciones_fold)\n",
    "        precision = metrics.precision_score(y_test_fold, predicciones_fold, average='macro', zero_division=0)\n",
    "        sensibilidad = metrics.recall_score(y_test_fold, predicciones_fold, average='macro', zero_division=0)\n",
    "        f1 = metrics.f1_score(y_test_fold, predicciones_fold, average='macro', zero_division=0)\n",
    "        \n",
    "        # Store metrics of the current fold\n",
    "        exactitudes.append(exactitud)\n",
    "        precisiones.append(precision)\n",
    "        sensibilidades.append(sensibilidad)\n",
    "        f1_scores.append(f1)\n",
    "    \n",
    "    # Calculate averaged metrics\n",
    "    exactitud_promedio = np.mean(exactitudes)\n",
    "    precision_promedio = np.mean(precisiones)\n",
    "    sensibilidad_promedio = np.mean(sensibilidades)\n",
    "    f1_promedio = np.mean(f1_scores)\n",
    "    \n",
    "    # Print averaged metrics\n",
    "    print(\"\"\"\n",
    "    Exactitud promedio: {:.3f}\n",
    "    Precisión promedio: {:.3f}\n",
    "    Sensibilidad promedio: {:.3f}\n",
    "    Puntuación F1 promedio: {:.3f}\n",
    "    \"\"\".format(\n",
    "        exactitud_promedio, \n",
    "        precision_promedio,\n",
    "        sensibilidad_promedio,\n",
    "        f1_promedio\n",
    "    ))"
   ]
  },
  {
   "cell_type": "markdown",
   "id": "30230ddc",
   "metadata": {},
   "source": [
    "## Creación del Pipeline con el modelo elegido\n",
    "\n",
    "<hr>\n",
    "\n",
    "El modelo elegido fue XGBoost, a continuación se crea un pipeline que utiliza este modelo como estimador y además se configura el modelo con los mejores hiperparámetros encontrados previamente"
   ]
  },
  {
   "cell_type": "code",
   "execution_count": 11,
   "id": "65cde55a",
   "metadata": {},
   "outputs": [],
   "source": [
    "import xgboost as xgb"
   ]
  },
  {
   "cell_type": "code",
   "execution_count": 12,
   "id": "5e00db2d",
   "metadata": {},
   "outputs": [],
   "source": [
    "pipeline_estimador = Pipeline([\n",
    "    (\"procesado_variables\", pipeline_procesado),\n",
    "    (\"estimador\", xgb.XGBClassifier(\n",
    "        objective= 'multi:softmax',  \n",
    "        num_class = 3,\n",
    "        importance_type='gain',\n",
    "        learning_rate=0.02598871856723336, \n",
    "        max_depth=5, \n",
    "        colsample_bytree=0.7995956811280615, \n",
    "        n_estimators=801, \n",
    "        reg_alpha=0.0003846344365287301, \n",
    "        reg_lambda=0.16055023352269962, \n",
    "        min_child_weight=2, \n",
    "        gamma=6.227977417426079e-08, \n",
    "        subsample=0.5855520974928337,\n",
    "        colsample_bylevel=0.5088157757755716 \n",
    "    ))\n",
    "]) "
   ]
  },
  {
   "cell_type": "code",
   "execution_count": 13,
   "id": "26c70ca1",
   "metadata": {},
   "outputs": [
    {
     "data": {
      "text/html": [
       "<style>#sk-container-id-1 {color: black;background-color: white;}#sk-container-id-1 pre{padding: 0;}#sk-container-id-1 div.sk-toggleable {background-color: white;}#sk-container-id-1 label.sk-toggleable__label {cursor: pointer;display: block;width: 100%;margin-bottom: 0;padding: 0.3em;box-sizing: border-box;text-align: center;}#sk-container-id-1 label.sk-toggleable__label-arrow:before {content: \"▸\";float: left;margin-right: 0.25em;color: #696969;}#sk-container-id-1 label.sk-toggleable__label-arrow:hover:before {color: black;}#sk-container-id-1 div.sk-estimator:hover label.sk-toggleable__label-arrow:before {color: black;}#sk-container-id-1 div.sk-toggleable__content {max-height: 0;max-width: 0;overflow: hidden;text-align: left;background-color: #f0f8ff;}#sk-container-id-1 div.sk-toggleable__content pre {margin: 0.2em;color: black;border-radius: 0.25em;background-color: #f0f8ff;}#sk-container-id-1 input.sk-toggleable__control:checked~div.sk-toggleable__content {max-height: 200px;max-width: 100%;overflow: auto;}#sk-container-id-1 input.sk-toggleable__control:checked~label.sk-toggleable__label-arrow:before {content: \"▾\";}#sk-container-id-1 div.sk-estimator input.sk-toggleable__control:checked~label.sk-toggleable__label {background-color: #d4ebff;}#sk-container-id-1 div.sk-label input.sk-toggleable__control:checked~label.sk-toggleable__label {background-color: #d4ebff;}#sk-container-id-1 input.sk-hidden--visually {border: 0;clip: rect(1px 1px 1px 1px);clip: rect(1px, 1px, 1px, 1px);height: 1px;margin: -1px;overflow: hidden;padding: 0;position: absolute;width: 1px;}#sk-container-id-1 div.sk-estimator {font-family: monospace;background-color: #f0f8ff;border: 1px dotted black;border-radius: 0.25em;box-sizing: border-box;margin-bottom: 0.5em;}#sk-container-id-1 div.sk-estimator:hover {background-color: #d4ebff;}#sk-container-id-1 div.sk-parallel-item::after {content: \"\";width: 100%;border-bottom: 1px solid gray;flex-grow: 1;}#sk-container-id-1 div.sk-label:hover label.sk-toggleable__label {background-color: #d4ebff;}#sk-container-id-1 div.sk-serial::before {content: \"\";position: absolute;border-left: 1px solid gray;box-sizing: border-box;top: 0;bottom: 0;left: 50%;z-index: 0;}#sk-container-id-1 div.sk-serial {display: flex;flex-direction: column;align-items: center;background-color: white;padding-right: 0.2em;padding-left: 0.2em;position: relative;}#sk-container-id-1 div.sk-item {position: relative;z-index: 1;}#sk-container-id-1 div.sk-parallel {display: flex;align-items: stretch;justify-content: center;background-color: white;position: relative;}#sk-container-id-1 div.sk-item::before, #sk-container-id-1 div.sk-parallel-item::before {content: \"\";position: absolute;border-left: 1px solid gray;box-sizing: border-box;top: 0;bottom: 0;left: 50%;z-index: -1;}#sk-container-id-1 div.sk-parallel-item {display: flex;flex-direction: column;z-index: 1;position: relative;background-color: white;}#sk-container-id-1 div.sk-parallel-item:first-child::after {align-self: flex-end;width: 50%;}#sk-container-id-1 div.sk-parallel-item:last-child::after {align-self: flex-start;width: 50%;}#sk-container-id-1 div.sk-parallel-item:only-child::after {width: 0;}#sk-container-id-1 div.sk-dashed-wrapped {border: 1px dashed gray;margin: 0 0.4em 0.5em 0.4em;box-sizing: border-box;padding-bottom: 0.4em;background-color: white;}#sk-container-id-1 div.sk-label label {font-family: monospace;font-weight: bold;display: inline-block;line-height: 1.2em;}#sk-container-id-1 div.sk-label-container {text-align: center;}#sk-container-id-1 div.sk-container {/* jupyter's `normalize.less` sets `[hidden] { display: none; }` but bootstrap.min.css set `[hidden] { display: none !important; }` so we also need the `!important` here to be able to override the default hidden behavior on the sphinx rendered scikit-learn.org. See: https://github.com/scikit-learn/scikit-learn/issues/21755 */display: inline-block !important;position: relative;}#sk-container-id-1 div.sk-text-repr-fallback {display: none;}</style><div id=\"sk-container-id-1\" class=\"sk-top-container\"><div class=\"sk-text-repr-fallback\"><pre>Pipeline(steps=[(&#x27;procesado_variables&#x27;,\n",
       "                 ColumnTransformer(remainder=&#x27;passthrough&#x27;,\n",
       "                                   transformers=[(&#x27;onehot&#x27;,\n",
       "                                                  OneHotEncoder(handle_unknown=&#x27;ignore&#x27;,\n",
       "                                                                sparse_output=False),\n",
       "                                                  [&#x27;municipio&#x27;, &#x27;nom_eve&#x27;,\n",
       "                                                   &#x27;nom_upgd&#x27;, &#x27;trimestre&#x27;,\n",
       "                                                   &#x27;condicion_final&#x27;, &#x27;mes&#x27;,\n",
       "                                                   &#x27;tipo_de_seguridad_social&#x27;,\n",
       "                                                   &#x27;parentezco_vict&#x27;,\n",
       "                                                   &#x27;departamento&#x27;, &#x27;semana&#x27;,\n",
       "                                                   &#x27;comuna&#x27;, &#x27;sexo&#x27;,\n",
       "                                                   &#x27;escenario&#x27;, &#x27;sexo_agre&#x27;,\n",
       "                                                   &#x27;año&#x27;, &#x27;...\n",
       "                               gpu_id=None, grow_policy=None,\n",
       "                               importance_type=&#x27;gain&#x27;,\n",
       "                               interaction_constraints=None,\n",
       "                               learning_rate=0.02598871856723336, max_bin=None,\n",
       "                               max_cat_threshold=None, max_cat_to_onehot=None,\n",
       "                               max_delta_step=None, max_depth=5,\n",
       "                               max_leaves=None, min_child_weight=2, missing=nan,\n",
       "                               monotone_constraints=None, n_estimators=801,\n",
       "                               n_jobs=None, num_class=3, num_parallel_tree=None,\n",
       "                               objective=&#x27;multi:softmax&#x27;, ...))])</pre><b>In a Jupyter environment, please rerun this cell to show the HTML representation or trust the notebook. <br />On GitHub, the HTML representation is unable to render, please try loading this page with nbviewer.org.</b></div><div class=\"sk-container\" hidden><div class=\"sk-item sk-dashed-wrapped\"><div class=\"sk-label-container\"><div class=\"sk-label sk-toggleable\"><input class=\"sk-toggleable__control sk-hidden--visually\" id=\"sk-estimator-id-1\" type=\"checkbox\" ><label for=\"sk-estimator-id-1\" class=\"sk-toggleable__label sk-toggleable__label-arrow\">Pipeline</label><div class=\"sk-toggleable__content\"><pre>Pipeline(steps=[(&#x27;procesado_variables&#x27;,\n",
       "                 ColumnTransformer(remainder=&#x27;passthrough&#x27;,\n",
       "                                   transformers=[(&#x27;onehot&#x27;,\n",
       "                                                  OneHotEncoder(handle_unknown=&#x27;ignore&#x27;,\n",
       "                                                                sparse_output=False),\n",
       "                                                  [&#x27;municipio&#x27;, &#x27;nom_eve&#x27;,\n",
       "                                                   &#x27;nom_upgd&#x27;, &#x27;trimestre&#x27;,\n",
       "                                                   &#x27;condicion_final&#x27;, &#x27;mes&#x27;,\n",
       "                                                   &#x27;tipo_de_seguridad_social&#x27;,\n",
       "                                                   &#x27;parentezco_vict&#x27;,\n",
       "                                                   &#x27;departamento&#x27;, &#x27;semana&#x27;,\n",
       "                                                   &#x27;comuna&#x27;, &#x27;sexo&#x27;,\n",
       "                                                   &#x27;escenario&#x27;, &#x27;sexo_agre&#x27;,\n",
       "                                                   &#x27;año&#x27;, &#x27;...\n",
       "                               gpu_id=None, grow_policy=None,\n",
       "                               importance_type=&#x27;gain&#x27;,\n",
       "                               interaction_constraints=None,\n",
       "                               learning_rate=0.02598871856723336, max_bin=None,\n",
       "                               max_cat_threshold=None, max_cat_to_onehot=None,\n",
       "                               max_delta_step=None, max_depth=5,\n",
       "                               max_leaves=None, min_child_weight=2, missing=nan,\n",
       "                               monotone_constraints=None, n_estimators=801,\n",
       "                               n_jobs=None, num_class=3, num_parallel_tree=None,\n",
       "                               objective=&#x27;multi:softmax&#x27;, ...))])</pre></div></div></div><div class=\"sk-serial\"><div class=\"sk-item sk-dashed-wrapped\"><div class=\"sk-label-container\"><div class=\"sk-label sk-toggleable\"><input class=\"sk-toggleable__control sk-hidden--visually\" id=\"sk-estimator-id-2\" type=\"checkbox\" ><label for=\"sk-estimator-id-2\" class=\"sk-toggleable__label sk-toggleable__label-arrow\">procesado_variables: ColumnTransformer</label><div class=\"sk-toggleable__content\"><pre>ColumnTransformer(remainder=&#x27;passthrough&#x27;,\n",
       "                  transformers=[(&#x27;onehot&#x27;,\n",
       "                                 OneHotEncoder(handle_unknown=&#x27;ignore&#x27;,\n",
       "                                               sparse_output=False),\n",
       "                                 [&#x27;municipio&#x27;, &#x27;nom_eve&#x27;, &#x27;nom_upgd&#x27;,\n",
       "                                  &#x27;trimestre&#x27;, &#x27;condicion_final&#x27;, &#x27;mes&#x27;,\n",
       "                                  &#x27;tipo_de_seguridad_social&#x27;, &#x27;parentezco_vict&#x27;,\n",
       "                                  &#x27;departamento&#x27;, &#x27;semana&#x27;, &#x27;comuna&#x27;, &#x27;sexo&#x27;,\n",
       "                                  &#x27;escenario&#x27;, &#x27;sexo_agre&#x27;, &#x27;año&#x27;, &#x27;sivigila&#x27;,\n",
       "                                  &#x27;area&#x27;, &#x27;paciente_hospitalizad...\n",
       "                                                 (&#x27;transformador_ordinal&#x27;,\n",
       "                                                  OrdinalEncoder(mapping=[{&#x27;col&#x27;: &#x27;grupo_edad&#x27;,\n",
       "                                                                           &#x27;data_type&#x27;: dtype(&#x27;O&#x27;),\n",
       "                                                                           &#x27;mapping&#x27;: 0 a 6       0\n",
       "7  a 11     1\n",
       "12 a 17     2\n",
       "18 a 28     3\n",
       "29 a 59     4\n",
       "60 y mas    5\n",
       "dtype: int64},\n",
       "                                                                          {&#x27;col&#x27;: &#x27;ciclo_de_vida&#x27;,\n",
       "                                                                           &#x27;data_type&#x27;: dtype(&#x27;O&#x27;),\n",
       "                                                                           &#x27;mapping&#x27;: Primera infancia    0\n",
       "Infancia            1\n",
       "Jovenes             2\n",
       "Adolescencia        3\n",
       "Adultez             4\n",
       "Persona Mayor       5\n",
       "dtype: int64}]))]),\n",
       "                                 [&#x27;grupo_edad&#x27;, &#x27;ciclo_de_vida&#x27;])],\n",
       "                  verbose_feature_names_out=False)</pre></div></div></div><div class=\"sk-parallel\"><div class=\"sk-parallel-item\"><div class=\"sk-item\"><div class=\"sk-label-container\"><div class=\"sk-label sk-toggleable\"><input class=\"sk-toggleable__control sk-hidden--visually\" id=\"sk-estimator-id-3\" type=\"checkbox\" ><label for=\"sk-estimator-id-3\" class=\"sk-toggleable__label sk-toggleable__label-arrow\">onehot</label><div class=\"sk-toggleable__content\"><pre>[&#x27;municipio&#x27;, &#x27;nom_eve&#x27;, &#x27;nom_upgd&#x27;, &#x27;trimestre&#x27;, &#x27;condicion_final&#x27;, &#x27;mes&#x27;, &#x27;tipo_de_seguridad_social&#x27;, &#x27;parentezco_vict&#x27;, &#x27;departamento&#x27;, &#x27;semana&#x27;, &#x27;comuna&#x27;, &#x27;sexo&#x27;, &#x27;escenario&#x27;, &#x27;sexo_agre&#x27;, &#x27;año&#x27;, &#x27;sivigila&#x27;, &#x27;area&#x27;, &#x27;paciente_hospitalizado&#x27;, &#x27;sustancias_victima&#x27;, &#x27;actividad&#x27;]</pre></div></div></div><div class=\"sk-serial\"><div class=\"sk-item\"><div class=\"sk-estimator sk-toggleable\"><input class=\"sk-toggleable__control sk-hidden--visually\" id=\"sk-estimator-id-4\" type=\"checkbox\" ><label for=\"sk-estimator-id-4\" class=\"sk-toggleable__label sk-toggleable__label-arrow\">OneHotEncoder</label><div class=\"sk-toggleable__content\"><pre>OneHotEncoder(handle_unknown=&#x27;ignore&#x27;, sparse_output=False)</pre></div></div></div></div></div></div><div class=\"sk-parallel-item\"><div class=\"sk-item\"><div class=\"sk-label-container\"><div class=\"sk-label sk-toggleable\"><input class=\"sk-toggleable__control sk-hidden--visually\" id=\"sk-estimator-id-5\" type=\"checkbox\" ><label for=\"sk-estimator-id-5\" class=\"sk-toggleable__label sk-toggleable__label-arrow\">ordinal</label><div class=\"sk-toggleable__content\"><pre>[&#x27;grupo_edad&#x27;, &#x27;ciclo_de_vida&#x27;]</pre></div></div></div><div class=\"sk-serial\"><div class=\"sk-item\"><div class=\"sk-serial\"><div class=\"sk-item\"><div class=\"sk-estimator sk-toggleable\"><input class=\"sk-toggleable__control sk-hidden--visually\" id=\"sk-estimator-id-6\" type=\"checkbox\" ><label for=\"sk-estimator-id-6\" class=\"sk-toggleable__label sk-toggleable__label-arrow\">SimpleImputer</label><div class=\"sk-toggleable__content\"><pre>SimpleImputer(strategy=&#x27;most_frequent&#x27;)</pre></div></div></div><div class=\"sk-item\"><div class=\"sk-estimator sk-toggleable\"><input class=\"sk-toggleable__control sk-hidden--visually\" id=\"sk-estimator-id-7\" type=\"checkbox\" ><label for=\"sk-estimator-id-7\" class=\"sk-toggleable__label sk-toggleable__label-arrow\">OrdinalEncoder</label><div class=\"sk-toggleable__content\"><pre>OrdinalEncoder(mapping=[{&#x27;col&#x27;: &#x27;grupo_edad&#x27;, &#x27;data_type&#x27;: dtype(&#x27;O&#x27;),\n",
       "                         &#x27;mapping&#x27;: 0 a 6       0\n",
       "7  a 11     1\n",
       "12 a 17     2\n",
       "18 a 28     3\n",
       "29 a 59     4\n",
       "60 y mas    5\n",
       "dtype: int64},\n",
       "                        {&#x27;col&#x27;: &#x27;ciclo_de_vida&#x27;, &#x27;data_type&#x27;: dtype(&#x27;O&#x27;),\n",
       "                         &#x27;mapping&#x27;: Primera infancia    0\n",
       "Infancia            1\n",
       "Jovenes             2\n",
       "Adolescencia        3\n",
       "Adultez             4\n",
       "Persona Mayor       5\n",
       "dtype: int64}])</pre></div></div></div></div></div></div></div></div><div class=\"sk-parallel-item\"><div class=\"sk-item\"><div class=\"sk-label-container\"><div class=\"sk-label sk-toggleable\"><input class=\"sk-toggleable__control sk-hidden--visually\" id=\"sk-estimator-id-8\" type=\"checkbox\" ><label for=\"sk-estimator-id-8\" class=\"sk-toggleable__label sk-toggleable__label-arrow\">remainder</label><div class=\"sk-toggleable__content\"><pre>[&#x27;edad_agre&#x27;]</pre></div></div></div><div class=\"sk-serial\"><div class=\"sk-item\"><div class=\"sk-estimator sk-toggleable\"><input class=\"sk-toggleable__control sk-hidden--visually\" id=\"sk-estimator-id-9\" type=\"checkbox\" ><label for=\"sk-estimator-id-9\" class=\"sk-toggleable__label sk-toggleable__label-arrow\">passthrough</label><div class=\"sk-toggleable__content\"><pre>passthrough</pre></div></div></div></div></div></div></div></div><div class=\"sk-item\"><div class=\"sk-estimator sk-toggleable\"><input class=\"sk-toggleable__control sk-hidden--visually\" id=\"sk-estimator-id-10\" type=\"checkbox\" ><label for=\"sk-estimator-id-10\" class=\"sk-toggleable__label sk-toggleable__label-arrow\">XGBClassifier</label><div class=\"sk-toggleable__content\"><pre>XGBClassifier(base_score=None, booster=None, callbacks=None,\n",
       "              colsample_bylevel=0.5088157757755716, colsample_bynode=None,\n",
       "              colsample_bytree=0.7995956811280615, early_stopping_rounds=None,\n",
       "              enable_categorical=False, eval_metric=None, feature_types=None,\n",
       "              gamma=6.227977417426079e-08, gpu_id=None, grow_policy=None,\n",
       "              importance_type=&#x27;gain&#x27;, interaction_constraints=None,\n",
       "              learning_rate=0.02598871856723336, max_bin=None,\n",
       "              max_cat_threshold=None, max_cat_to_onehot=None,\n",
       "              max_delta_step=None, max_depth=5, max_leaves=None,\n",
       "              min_child_weight=2, missing=nan, monotone_constraints=None,\n",
       "              n_estimators=801, n_jobs=None, num_class=3,\n",
       "              num_parallel_tree=None, objective=&#x27;multi:softmax&#x27;, ...)</pre></div></div></div></div></div></div></div>"
      ],
      "text/plain": [
       "Pipeline(steps=[('procesado_variables',\n",
       "                 ColumnTransformer(remainder='passthrough',\n",
       "                                   transformers=[('onehot',\n",
       "                                                  OneHotEncoder(handle_unknown='ignore',\n",
       "                                                                sparse_output=False),\n",
       "                                                  ['municipio', 'nom_eve',\n",
       "                                                   'nom_upgd', 'trimestre',\n",
       "                                                   'condicion_final', 'mes',\n",
       "                                                   'tipo_de_seguridad_social',\n",
       "                                                   'parentezco_vict',\n",
       "                                                   'departamento', 'semana',\n",
       "                                                   'comuna', 'sexo',\n",
       "                                                   'escenario', 'sexo_agre',\n",
       "                                                   'año', '...\n",
       "                               gpu_id=None, grow_policy=None,\n",
       "                               importance_type='gain',\n",
       "                               interaction_constraints=None,\n",
       "                               learning_rate=0.02598871856723336, max_bin=None,\n",
       "                               max_cat_threshold=None, max_cat_to_onehot=None,\n",
       "                               max_delta_step=None, max_depth=5,\n",
       "                               max_leaves=None, min_child_weight=2, missing=nan,\n",
       "                               monotone_constraints=None, n_estimators=801,\n",
       "                               n_jobs=None, num_class=3, num_parallel_tree=None,\n",
       "                               objective='multi:softmax', ...))])"
      ]
     },
     "execution_count": 13,
     "metadata": {},
     "output_type": "execute_result"
    }
   ],
   "source": [
    "pipeline_estimador.fit(X_train, \n",
    "                       y_train)"
   ]
  },
  {
   "cell_type": "code",
   "execution_count": 14,
   "id": "f998cbc7",
   "metadata": {},
   "outputs": [],
   "source": [
    "predicciones =  pipeline_estimador.predict(X=X_test)\n",
    "clases_reales = y_test\n",
    "predicciones_probabilidades =pipeline_estimador.predict_proba(X_test)"
   ]
  },
  {
   "cell_type": "code",
   "execution_count": 15,
   "id": "3a4003a5",
   "metadata": {
    "scrolled": true
   },
   "outputs": [
    {
     "name": "stdout",
     "output_type": "stream",
     "text": [
      "\n",
      "    Exactitud promedio: 0.858\n",
      "    Precisión promedio: 0.848\n",
      "    Sensibilidad promedio: 0.847\n",
      "    Puntuación F1 promedio: 0.847\n",
      "    \n"
     ]
    }
   ],
   "source": [
    "evaluar_modelo(clases_reales, predicciones, predicciones_probabilidades)"
   ]
  },
  {
   "cell_type": "code",
   "execution_count": 16,
   "id": "53f5351f",
   "metadata": {},
   "outputs": [
    {
     "name": "stdout",
     "output_type": "stream",
     "text": [
      "Accuracy en datos de entrenamiento: 0.9067431850789096\n",
      "Accuracy en datos de prueba: 0.8512797881729921\n"
     ]
    }
   ],
   "source": [
    "from sklearn.metrics import accuracy_score\n",
    "train_accuracy = accuracy_score(y_train, pipeline_estimador.predict(X_train))\n",
    "test_accuracy = accuracy_score(y_test, pipeline_estimador.predict(X_test))\n",
    "print(\"Accuracy en datos de entrenamiento:\", train_accuracy)\n",
    "print(\"Accuracy en datos de prueba:\", test_accuracy) "
   ]
  },
  {
   "cell_type": "markdown",
   "id": "6354ebf6",
   "metadata": {},
   "source": [
    "### Guardar el pipeline\n",
    "\n",
    "<hr>\n",
    "\n",
    "Utilizando la biblioteca `joblib` guardamos en un archivo binario el pipeline estimador que lleva el nombre de `pipeline.pkl`"
   ]
  },
  {
   "cell_type": "code",
   "execution_count": 17,
   "id": "a17247c2",
   "metadata": {},
   "outputs": [],
   "source": [
    "import joblib"
   ]
  },
  {
   "cell_type": "code",
   "execution_count": 18,
   "id": "81cef0a9",
   "metadata": {},
   "outputs": [
    {
     "data": {
      "text/plain": [
       "['pipeline.pkl']"
      ]
     },
     "execution_count": 18,
     "metadata": {},
     "output_type": "execute_result"
    }
   ],
   "source": [
    "joblib.dump(pipeline_estimador, 'pipeline.pkl') "
   ]
  },
  {
   "cell_type": "markdown",
   "id": "21177220",
   "metadata": {},
   "source": [
    "Con la función `joblib.load()` se carga el objeto que se guardó a partir del archivo binario denominado `pipeline.pkl`"
   ]
  },
  {
   "cell_type": "code",
   "execution_count": 19,
   "id": "51e1cfed",
   "metadata": {},
   "outputs": [],
   "source": [
    "clf = joblib.load('pipeline.pkl')"
   ]
  },
  {
   "cell_type": "markdown",
   "id": "c7f004c8",
   "metadata": {},
   "source": [
    "Finalmente se utiliza el modelo realizando predicciones sobre el head del DataFrame"
   ]
  },
  {
   "cell_type": "code",
   "execution_count": 20,
   "id": "70a70bbd",
   "metadata": {},
   "outputs": [
    {
     "data": {
      "text/plain": [
       "array([2, 0, 2, 0, 1])"
      ]
     },
     "execution_count": 20,
     "metadata": {},
     "output_type": "execute_result"
    }
   ],
   "source": [
    "clf.predict(df.head())"
   ]
  },
  {
   "cell_type": "markdown",
   "id": "8830ef32",
   "metadata": {},
   "source": [
    "Tambien se guardan los nombres de las columnas del DataFrame en un archivo JSON llamado `columnas_df.json` y se guardan los tipos de datos de las columnas en un archivo pkl llamado `dtypes_df.pkl`"
   ]
  },
  {
   "cell_type": "code",
   "execution_count": 21,
   "id": "cfe146f9",
   "metadata": {},
   "outputs": [],
   "source": [
    "import json\n",
    "with open('columnas_df.json', 'w') as fname:\n",
    "    df_columnas = df.columns.tolist()\n",
    "    json.dump(df_columnas, fname)"
   ]
  },
  {
   "cell_type": "code",
   "execution_count": 22,
   "id": "d5b048b8",
   "metadata": {},
   "outputs": [
    {
     "data": {
      "text/plain": [
       "['dtypes_df.pkl']"
      ]
     },
     "execution_count": 22,
     "metadata": {},
     "output_type": "execute_result"
    }
   ],
   "source": [
    "df_dtypes = df.dtypes\n",
    "df_dtypes = {col: df[col].dtype for col in df.columns}\n",
    "joblib.dump(df_dtypes, 'dtypes_df.pkl')"
   ]
  },
  {
   "cell_type": "markdown",
   "id": "a58a8925",
   "metadata": {},
   "source": [
    "## Probamos el estimador guardado"
   ]
  },
  {
   "cell_type": "markdown",
   "id": "8112692e",
   "metadata": {},
   "source": [
    "- Obtenemos una observacion"
   ]
  },
  {
   "cell_type": "code",
   "execution_count": 23,
   "id": "5dd31905",
   "metadata": {},
   "outputs": [
    {
     "data": {
      "text/plain": [
       "{'departamento': 'SANTANDER',\n",
       " 'municipio': 'BUCARAMANGA',\n",
       " 'semana': '23',\n",
       " 'año': '2015',\n",
       " 'grupo_edad': '12 a 17',\n",
       " 'ciclo_de_vida': 'Adolescencia',\n",
       " 'sexo': 'Masculino',\n",
       " 'area': 'CABECERA MUNICIPAL',\n",
       " 'comuna': '02. NORORIENTAL',\n",
       " 'tipo_de_seguridad_social': 'No asegurado',\n",
       " 'paciente_hospitalizado': '2',\n",
       " 'condicion_final': '1',\n",
       " 'naturaleza': 2,\n",
       " 'actividad': '26',\n",
       " 'edad_agre': 33,\n",
       " 'sexo_agre': 'M',\n",
       " 'parentezco_vict': 'Padre',\n",
       " 'sustancias_victima': '2',\n",
       " 'escenario': '1',\n",
       " 'nom_eve': 'VIGILANCIA EN SALUD PÚBLICA DE LAS VIOLENCIAS DE GÉNERO',\n",
       " 'nom_upgd': 'SERVICLINICOS DROMEDICA SA',\n",
       " 'mes': '06. Junio',\n",
       " 'sivigila': '3',\n",
       " 'trimestre': '2'}"
      ]
     },
     "execution_count": 23,
     "metadata": {},
     "output_type": "execute_result"
    }
   ],
   "source": [
    "nueva_observacion = df.to_dict(orient=\"records\")[0]\n",
    "nueva_observacion"
   ]
  },
  {
   "cell_type": "code",
   "execution_count": 24,
   "id": "0abcd667",
   "metadata": {},
   "outputs": [],
   "source": [
    "obs ={'departamento': 'SANTANDER',\n",
    " 'municipio': 'BUCARAMANGA',\n",
    " 'semana': '23',\n",
    " 'año': '2015',\n",
    " 'grupo_edad': '12 a 17',\n",
    " 'ciclo_de_vida': 'Adolescencia',\n",
    " 'sexo': 'Masculino',\n",
    " 'area': 'CABECERA MUNICIPAL',\n",
    " 'comuna': '02. NORORIENTAL',\n",
    " 'tipo_de_seguridad_social': 'No asegurado',\n",
    " 'paciente_hospitalizado': '2',\n",
    " 'condicion_final': '1',\n",
    " 'naturaleza': '2',\n",
    " 'actividad': '26',\n",
    " 'edad_agre': 33,\n",
    " 'sexo_agre': 'M',\n",
    " 'parentezco_vict': 'Padre',\n",
    " 'sustancias_victima': '2',\n",
    " 'escenario': '1',\n",
    " 'nom_eve': 'VIGILANCIA EN SALUD PÚBLICA DE LAS VIOLENCIAS DE GÉNERO',\n",
    " 'nom_upgd': 'SERVICLINICOS DROMEDICA SA',\n",
    " 'mes': '06. Junio',\n",
    " 'sivigila': '3',\n",
    " 'trimestre': '2'}"
   ]
  },
  {
   "cell_type": "markdown",
   "id": "f5dc19c3",
   "metadata": {},
   "source": [
    "A través de está función se recibe el diccionario `obs`, se transforma en un DataFrame y se realiza la imputación de valores con la estrategía del valor más frecuente"
   ]
  },
  {
   "cell_type": "code",
   "execution_count": 25,
   "id": "0f8e2d52",
   "metadata": {},
   "outputs": [
    {
     "data": {
      "text/html": [
       "<div>\n",
       "<style scoped>\n",
       "    .dataframe tbody tr th:only-of-type {\n",
       "        vertical-align: middle;\n",
       "    }\n",
       "\n",
       "    .dataframe tbody tr th {\n",
       "        vertical-align: top;\n",
       "    }\n",
       "\n",
       "    .dataframe thead th {\n",
       "        text-align: right;\n",
       "    }\n",
       "</style>\n",
       "<table border=\"1\" class=\"dataframe\">\n",
       "  <thead>\n",
       "    <tr style=\"text-align: right;\">\n",
       "      <th></th>\n",
       "      <th>departamento</th>\n",
       "      <th>municipio</th>\n",
       "      <th>semana</th>\n",
       "      <th>año</th>\n",
       "      <th>grupo_edad</th>\n",
       "      <th>ciclo_de_vida</th>\n",
       "      <th>sexo</th>\n",
       "      <th>area</th>\n",
       "      <th>comuna</th>\n",
       "      <th>tipo_de_seguridad_social</th>\n",
       "      <th>...</th>\n",
       "      <th>edad_agre</th>\n",
       "      <th>sexo_agre</th>\n",
       "      <th>parentezco_vict</th>\n",
       "      <th>sustancias_victima</th>\n",
       "      <th>escenario</th>\n",
       "      <th>nom_eve</th>\n",
       "      <th>nom_upgd</th>\n",
       "      <th>mes</th>\n",
       "      <th>sivigila</th>\n",
       "      <th>trimestre</th>\n",
       "    </tr>\n",
       "  </thead>\n",
       "  <tbody>\n",
       "    <tr>\n",
       "      <th>0</th>\n",
       "      <td>SANTANDER</td>\n",
       "      <td>BUCARAMANGA</td>\n",
       "      <td>23</td>\n",
       "      <td>2015</td>\n",
       "      <td>12 a 17</td>\n",
       "      <td>Adolescencia</td>\n",
       "      <td>Masculino</td>\n",
       "      <td>CABECERA MUNICIPAL</td>\n",
       "      <td>02. NORORIENTAL</td>\n",
       "      <td>No asegurado</td>\n",
       "      <td>...</td>\n",
       "      <td>33</td>\n",
       "      <td>M</td>\n",
       "      <td>Padre</td>\n",
       "      <td>2</td>\n",
       "      <td>1</td>\n",
       "      <td>VIGILANCIA EN SALUD PÚBLICA DE LAS VIOLENCIAS ...</td>\n",
       "      <td>SERVICLINICOS DROMEDICA SA</td>\n",
       "      <td>06. Junio</td>\n",
       "      <td>3</td>\n",
       "      <td>2</td>\n",
       "    </tr>\n",
       "  </tbody>\n",
       "</table>\n",
       "<p>1 rows × 24 columns</p>\n",
       "</div>"
      ],
      "text/plain": [
       "  departamento    municipio semana   año grupo_edad ciclo_de_vida       sexo  \\\n",
       "0    SANTANDER  BUCARAMANGA     23  2015    12 a 17  Adolescencia  Masculino   \n",
       "\n",
       "                 area           comuna tipo_de_seguridad_social  ...  \\\n",
       "0  CABECERA MUNICIPAL  02. NORORIENTAL             No asegurado  ...   \n",
       "\n",
       "  edad_agre sexo_agre parentezco_vict sustancias_victima  escenario  \\\n",
       "0        33         M           Padre                  2          1   \n",
       "\n",
       "                                             nom_eve  \\\n",
       "0  VIGILANCIA EN SALUD PÚBLICA DE LAS VIOLENCIAS ...   \n",
       "\n",
       "                     nom_upgd        mes sivigila trimestre  \n",
       "0  SERVICLINICOS DROMEDICA SA  06. Junio        3         2  \n",
       "\n",
       "[1 rows x 24 columns]"
      ]
     },
     "execution_count": 25,
     "metadata": {},
     "output_type": "execute_result"
    }
   ],
   "source": [
    "def dict_a_df(obs, columnas, dtypes):\n",
    "    obs_df = pd.DataFrame([obs])\n",
    "    \n",
    "    # Imputar los valores faltantes con la estrategia 'most_frequent'\n",
    "    imputer = SimpleImputer(strategy='most_frequent')\n",
    "    obs_df = pd.DataFrame(imputer.fit_transform(obs_df), columns=obs_df.columns)\n",
    "    \n",
    "    for col, dtype in dtypes.items():\n",
    "        if col in obs_df.columns:\n",
    "            obs_df[col] = obs_df[col].astype(dtype)\n",
    "    \n",
    "    return obs_df\n",
    "\n",
    "obs_df = dict_a_df(obs, df_columnas, df_dtypes)\n",
    "obs_df"
   ]
  },
  {
   "cell_type": "code",
   "execution_count": 26,
   "id": "7d77f814",
   "metadata": {},
   "outputs": [
    {
     "data": {
      "text/html": [
       "<div>\n",
       "<style scoped>\n",
       "    .dataframe tbody tr th:only-of-type {\n",
       "        vertical-align: middle;\n",
       "    }\n",
       "\n",
       "    .dataframe tbody tr th {\n",
       "        vertical-align: top;\n",
       "    }\n",
       "\n",
       "    .dataframe thead th {\n",
       "        text-align: right;\n",
       "    }\n",
       "</style>\n",
       "<table border=\"1\" class=\"dataframe\">\n",
       "  <thead>\n",
       "    <tr style=\"text-align: right;\">\n",
       "      <th></th>\n",
       "      <th>departamento</th>\n",
       "      <th>municipio</th>\n",
       "      <th>semana</th>\n",
       "      <th>año</th>\n",
       "      <th>grupo_edad</th>\n",
       "      <th>ciclo_de_vida</th>\n",
       "      <th>sexo</th>\n",
       "      <th>area</th>\n",
       "      <th>comuna</th>\n",
       "      <th>tipo_de_seguridad_social</th>\n",
       "      <th>paciente_hospitalizado</th>\n",
       "      <th>condicion_final</th>\n",
       "      <th>naturaleza</th>\n",
       "      <th>actividad</th>\n",
       "      <th>edad_agre</th>\n",
       "      <th>sexo_agre</th>\n",
       "      <th>parentezco_vict</th>\n",
       "      <th>sustancias_victima</th>\n",
       "      <th>escenario</th>\n",
       "      <th>nom_eve</th>\n",
       "      <th>nom_upgd</th>\n",
       "      <th>mes</th>\n",
       "      <th>sivigila</th>\n",
       "      <th>trimestre</th>\n",
       "    </tr>\n",
       "  </thead>\n",
       "  <tbody>\n",
       "    <tr>\n",
       "      <th>0</th>\n",
       "      <td>SANTANDER</td>\n",
       "      <td>BUCARAMANGA</td>\n",
       "      <td>23</td>\n",
       "      <td>2015</td>\n",
       "      <td>12 a 17</td>\n",
       "      <td>Adolescencia</td>\n",
       "      <td>Masculino</td>\n",
       "      <td>CABECERA MUNICIPAL</td>\n",
       "      <td>02. NORORIENTAL</td>\n",
       "      <td>No asegurado</td>\n",
       "      <td>2</td>\n",
       "      <td>1</td>\n",
       "      <td>NaN</td>\n",
       "      <td>26</td>\n",
       "      <td>33</td>\n",
       "      <td>M</td>\n",
       "      <td>Padre</td>\n",
       "      <td>2</td>\n",
       "      <td>1</td>\n",
       "      <td>VIGILANCIA EN SALUD PÚBLICA DE LAS VIOLENCIAS ...</td>\n",
       "      <td>SERVICLINICOS DROMEDICA SA</td>\n",
       "      <td>06. Junio</td>\n",
       "      <td>3</td>\n",
       "      <td>2</td>\n",
       "    </tr>\n",
       "  </tbody>\n",
       "</table>\n",
       "</div>"
      ],
      "text/plain": [
       "  departamento    municipio semana  ...        mes sivigila trimestre\n",
       "0    SANTANDER  BUCARAMANGA     23  ...  06. Junio        3         2\n",
       "\n",
       "[1 rows x 24 columns]"
      ]
     },
     "execution_count": 26,
     "metadata": {},
     "output_type": "execute_result"
    }
   ],
   "source": [
    "pd.options.display.max_columns=0\n",
    "obs_df"
   ]
  },
  {
   "cell_type": "code",
   "execution_count": 27,
   "id": "b1254830",
   "metadata": {},
   "outputs": [
    {
     "data": {
      "text/plain": [
       "array([2])"
      ]
     },
     "execution_count": 27,
     "metadata": {},
     "output_type": "execute_result"
    }
   ],
   "source": [
    "pipeline_estimador.predict(obs_df)"
   ]
  },
  {
   "cell_type": "code",
   "execution_count": 28,
   "id": "19968330",
   "metadata": {},
   "outputs": [
    {
     "name": "stdout",
     "output_type": "stream",
     "text": [
      "departamento                0\n",
      "municipio                   0\n",
      "semana                      0\n",
      "año                         0\n",
      "grupo_edad                  0\n",
      "ciclo_de_vida               0\n",
      "sexo                        0\n",
      "area                        0\n",
      "comuna                      0\n",
      "tipo_de_seguridad_social    0\n",
      "paciente_hospitalizado      0\n",
      "condicion_final             0\n",
      "naturaleza                  1\n",
      "actividad                   0\n",
      "edad_agre                   0\n",
      "sexo_agre                   0\n",
      "parentezco_vict             0\n",
      "sustancias_victima          0\n",
      "escenario                   0\n",
      "nom_eve                     0\n",
      "nom_upgd                    0\n",
      "mes                         0\n",
      "sivigila                    0\n",
      "trimestre                   0\n",
      "dtype: int64\n"
     ]
    }
   ],
   "source": [
    "valores_faltantes = obs_df.isna().sum()\n",
    "print(valores_faltantes)"
   ]
  },
  {
   "cell_type": "code",
   "execution_count": 29,
   "id": "08740c37",
   "metadata": {
    "scrolled": true
   },
   "outputs": [
    {
     "name": "stdout",
     "output_type": "stream",
     "text": [
      "  departamento    municipio semana  ...        mes sivigila trimestre\n",
      "0    SANTANDER  BUCARAMANGA     23  ...  06. Junio        3         2\n",
      "\n",
      "[1 rows x 24 columns]\n"
     ]
    }
   ],
   "source": [
    "fila_nan_naturaleza = obs_df.loc[obs_df['naturaleza'].isna()]\n",
    "print(fila_nan_naturaleza)"
   ]
  }
 ],
 "metadata": {
  "kernelspec": {
   "display_name": "Python 3 (ipykernel)",
   "language": "python",
   "name": "python3"
  },
  "language_info": {
   "codemirror_mode": {
    "name": "ipython",
    "version": 3
   },
   "file_extension": ".py",
   "mimetype": "text/x-python",
   "name": "python",
   "nbconvert_exporter": "python",
   "pygments_lexer": "ipython3",
   "version": "3.10.8"
  }
 },
 "nbformat": 4,
 "nbformat_minor": 5
}
