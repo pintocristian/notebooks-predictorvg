{
 "cells": [
  {
   "cell_type": "markdown",
   "id": "0ade28bb",
   "metadata": {},
   "source": [
    "# Prueba de Modelos\n",
    "\n",
    "<hr>"
   ]
  },
  {
   "cell_type": "markdown",
   "id": "0c6a6675",
   "metadata": {},
   "source": [
    "En este Notebook se probaron diferentes modelos con los datos depurados para encontrar aquellos con las mejores metricas"
   ]
  },
  {
   "cell_type": "markdown",
   "id": "8bf7c08f",
   "metadata": {},
   "source": [
    "Se importan las librerias y herramientas necesarias"
   ]
  },
  {
   "cell_type": "code",
   "execution_count": 1,
   "id": "fa3470e1",
   "metadata": {},
   "outputs": [],
   "source": [
    "import pandas as pd\n",
    "import numpy as np \n",
    "import matplotlib\n",
    "import matplotlib.pyplot as plt\n",
    "from sklearn import preprocessing\n",
    "from sklearn import metrics\n",
    "%matplotlib inline "
   ]
  },
  {
   "cell_type": "markdown",
   "id": "e116b63c",
   "metadata": {},
   "source": [
    "Importamos los datos"
   ]
  },
  {
   "cell_type": "code",
   "execution_count": 2,
   "id": "c7cda726",
   "metadata": {},
   "outputs": [],
   "source": [
    "df = pd.read_pickle(\"data/data.pkl\")"
   ]
  },
  {
   "cell_type": "markdown",
   "id": "e53806ad",
   "metadata": {},
   "source": [
    "- A continuación se definen la variable objetivo y las variables independientes\n",
    "- Se definen las columnas numéricas y no numéricas\n",
    "- Se definen las columnas ordinales y categoricas"
   ]
  },
  {
   "cell_type": "code",
   "execution_count": 3,
   "id": "cbcacd66",
   "metadata": {},
   "outputs": [],
   "source": [
    "variable_objetivo = 'naturaleza'\n",
    "variables_independientes = df.drop(variable_objetivo,axis=1).columns\n",
    "\n",
    "datos_numericos = df[variables_independientes].select_dtypes([int, float])\n",
    "col_no_numericas = df[variables_independientes].select_dtypes(include=['category']).columns\n",
    "col_numericas = datos_numericos.columns\n",
    "\n",
    "dict_var_ordinales = {\n",
    "    'grupo_edad': ['0 a 6', '12 a 17', '18 a 28', '29 a 59', '60 y mas', '7  a 11'],\n",
    "    'ciclo_de_vida':['Primera infancia', 'Infancia', 'Jovenes','Adolescencia','Adultez','Persona Mayor'],\n",
    "}\n",
    "\n",
    "col_ordinales = list(dict_var_ordinales.keys())\n",
    "datos_ordinales = df[col_ordinales]\n",
    "col_categoricas = list(set(col_no_numericas) - set(col_ordinales))\n",
    "datos_categoricos = df[col_categoricas]"
   ]
  },
  {
   "cell_type": "markdown",
   "id": "5acf5c63",
   "metadata": {},
   "source": [
    "Se importan las librerias necesarias para la creacion del pipeline"
   ]
  },
  {
   "cell_type": "code",
   "execution_count": 4,
   "id": "6d2ffa17",
   "metadata": {},
   "outputs": [],
   "source": [
    "from sklearn.compose import ColumnTransformer\n",
    "from sklearn.preprocessing import OneHotEncoder\n",
    "from sklearn.preprocessing import StandardScaler\n",
    "from sklearn.preprocessing import OrdinalEncoder\n",
    "from sklearn.pipeline import Pipeline\n",
    "from sklearn.base import BaseEstimator, TransformerMixin\n",
    "from sklearn.impute import SimpleImputer"
   ]
  },
  {
   "cell_type": "markdown",
   "id": "1790dcd1",
   "metadata": {},
   "source": [
    "Se mappean los valores de `grupo_edad` y `ciclo_de_vida` y se crea el pipeline_ordinal y posteriormente el pipeline_procesado con las variables categoricas, el pipeline_ordinal y las columnas ordinales"
   ]
  },
  {
   "cell_type": "code",
   "execution_count": 5,
   "id": "9a94f04f",
   "metadata": {},
   "outputs": [],
   "source": [
    "mapping = [{'col': 'grupo_edad', 'mapping': {'0 a 6': 0,'7  a 11':1 ,'12 a 17': 2, '18 a 28': 3,'29 a 59':4,'60 y mas':5}},    {'col': 'ciclo_de_vida', 'mapping': {'Primera infancia': 0,  'Infancia': 1, 'Jovenes':2 ,'Adolescencia':3,'Adultez':4, 'Persona Mayor':5 }}]\n",
    "from category_encoders import OrdinalEncoder\n",
    "import category_encoders\n",
    "encoder = OrdinalEncoder(mapping=mapping)\n",
    "\n",
    "pipeline_ordinal = Pipeline([\n",
    "    ('imputer', SimpleImputer(strategy='most_frequent')),\n",
    "    ('transformador_ordinal', category_encoders.ordinal.OrdinalEncoder(mapping=mapping))\n",
    "])\n",
    "\n",
    "pipeline_procesado = ColumnTransformer(\n",
    "                   [('onehot', OneHotEncoder(handle_unknown='ignore', sparse_output=False), col_categoricas),\n",
    "                    ('ordinal', pipeline_ordinal, col_ordinales)\n",
    "                   ],\n",
    "                remainder = 'passthrough',\n",
    "                verbose_feature_names_out = False\n",
    "               ).set_output(transform=\"pandas\")\n",
    "\n"
   ]
  },
  {
   "cell_type": "markdown",
   "id": "5e4b7ed4",
   "metadata": {},
   "source": [
    " Se establecen los datos de entrenamiento y de prueba para los modelos"
   ]
  },
  {
   "cell_type": "code",
   "execution_count": 6,
   "id": "0df8d8d9",
   "metadata": {},
   "outputs": [],
   "source": [
    "from sklearn.model_selection import train_test_split\n",
    "X_train, X_test, y_train, y_test = train_test_split(df.drop(variable_objetivo, axis=1), df[variable_objetivo], test_size=0.2, random_state=42)"
   ]
  },
  {
   "cell_type": "code",
   "execution_count": 7,
   "id": "c03a4ca1",
   "metadata": {},
   "outputs": [],
   "source": [
    "X_train_prep = pipeline_procesado.fit_transform(X_train)\n",
    "X_test_prep  = pipeline_procesado.transform(X_train)\n"
   ]
  },
  {
   "cell_type": "code",
   "execution_count": 8,
   "id": "0860bef7",
   "metadata": {},
   "outputs": [],
   "source": [
    "from sklearn.ensemble import BaggingClassifier\n",
    "from sklearn.decomposition import PCA, TruncatedSVD\n",
    "from sklearn.metrics import accuracy_score\n",
    "from sklearn.datasets import load_digits\n",
    "from sklearn.model_selection import cross_val_score\n",
    "from sklearn.model_selection import StratifiedKFold\n",
    "from sklearn.base import clone"
   ]
  },
  {
   "cell_type": "markdown",
   "id": "a170ff10",
   "metadata": {},
   "source": [
    "### Se define la funcion `evaluar_modelo`, que se encarga de evaluar los diferentes modelos a partir de las metricas obtenidas"
   ]
  },
  {
   "cell_type": "code",
   "execution_count": 1,
   "id": "1c8bd071",
   "metadata": {},
   "outputs": [],
   "source": [
    "def evaluar_modelo(clases_reales, predicciones, probabilidades):\n",
    "    exactitudes = []\n",
    "    precisiones = []\n",
    "    sensibilidades = []\n",
    "    f1_scores = []\n",
    "    \n",
    "    skf = StratifiedKFold(n_splits=5, shuffle=True, random_state=42)\n",
    "    \n",
    "    for train_index, test_index in skf.split(X_train, y_train):\n",
    "        # Se crea una copia del estimador del pipeline\n",
    "        pipeline_estimador_copy = clone(pipeline_estimador)\n",
    "        \n",
    "        # Division de los datos en conjuntos de entrenamiento y prueba\n",
    "        X_train_fold, X_test_fold = X_train.iloc[train_index], X_train.iloc[test_index]\n",
    "        y_train_fold, y_test_fold = y_train.iloc[train_index], y_train.iloc[test_index]\n",
    "        \n",
    "        # Entrenamiento del modelo en el conjunto de entrenamiento actual\n",
    "        pipeline_estimador_copy.fit(X_train_fold, y_train_fold)\n",
    "        \n",
    "        # Se obtienen las predicciones en el conjunto de prueba\n",
    "        predicciones_fold = pipeline_estimador_copy.predict(X_test_fold)\n",
    "        probabilidades_fold = pipeline_estimador_copy.predict_proba(X_test_fold)\n",
    "        \n",
    "        # Calculo de metricas\n",
    "        exactitud = metrics.accuracy_score(y_test_fold, predicciones_fold)\n",
    "        precision = metrics.precision_score(y_test_fold, predicciones_fold, average='macro', zero_division=0)\n",
    "        sensibilidad = metrics.recall_score(y_test_fold, predicciones_fold, average='macro', zero_division=0)\n",
    "        f1 = metrics.f1_score(y_test_fold, predicciones_fold, average='macro', zero_division=0)\n",
    "        \n",
    "        # Se guardan las metricas\n",
    "        exactitudes.append(exactitud)\n",
    "        precisiones.append(precision)\n",
    "        sensibilidades.append(sensibilidad)\n",
    "        f1_scores.append(f1)\n",
    "    \n",
    "    # Calculo de promedios para cada metrica\n",
    "    exactitud_promedio = np.mean(exactitudes)\n",
    "    precision_promedio = np.mean(precisiones)\n",
    "    sensibilidad_promedio = np.mean(sensibilidades)\n",
    "    f1_promedio = np.mean(f1_scores)\n",
    "    \n",
    "    print(\"\"\"\n",
    "    Exactitud promedio: {:.3f}\n",
    "    Precisión promedio: {:.3f}\n",
    "    Sensibilidad promedio: {:.3f}\n",
    "    Puntuación F1 promedio: {:.3f}\n",
    "    \"\"\".format(\n",
    "        exactitud_promedio, \n",
    "        precision_promedio,\n",
    "        sensibilidad_promedio,\n",
    "        f1_promedio\n",
    "    ))\n"
   ]
  },
  {
   "cell_type": "markdown",
   "id": "7f08068c",
   "metadata": {},
   "source": [
    "# PRUEBA DE MODELOS\n",
    "<hr>\n",
    "Primero se probara cada modelo sin parametros para escoger aquellos con mejores metricas"
   ]
  },
  {
   "cell_type": "markdown",
   "id": "03c3d49f",
   "metadata": {},
   "source": [
    "## Prueba con SVM"
   ]
  },
  {
   "cell_type": "code",
   "execution_count": 10,
   "id": "33b301d0",
   "metadata": {},
   "outputs": [],
   "source": [
    "from sklearn.svm import SVC\n",
    "\n",
    "pipeline_estimador = Pipeline([\n",
    "    (\"procesado_variables\", pipeline_procesado),\n",
    "    (\"estimador\", SVC(probability=True)) \n",
    "])"
   ]
  },
  {
   "cell_type": "code",
   "execution_count": 11,
   "id": "e0b1928b",
   "metadata": {},
   "outputs": [
    {
     "data": {
      "text/html": [
       "<style>#sk-container-id-1 {color: black;background-color: white;}#sk-container-id-1 pre{padding: 0;}#sk-container-id-1 div.sk-toggleable {background-color: white;}#sk-container-id-1 label.sk-toggleable__label {cursor: pointer;display: block;width: 100%;margin-bottom: 0;padding: 0.3em;box-sizing: border-box;text-align: center;}#sk-container-id-1 label.sk-toggleable__label-arrow:before {content: \"▸\";float: left;margin-right: 0.25em;color: #696969;}#sk-container-id-1 label.sk-toggleable__label-arrow:hover:before {color: black;}#sk-container-id-1 div.sk-estimator:hover label.sk-toggleable__label-arrow:before {color: black;}#sk-container-id-1 div.sk-toggleable__content {max-height: 0;max-width: 0;overflow: hidden;text-align: left;background-color: #f0f8ff;}#sk-container-id-1 div.sk-toggleable__content pre {margin: 0.2em;color: black;border-radius: 0.25em;background-color: #f0f8ff;}#sk-container-id-1 input.sk-toggleable__control:checked~div.sk-toggleable__content {max-height: 200px;max-width: 100%;overflow: auto;}#sk-container-id-1 input.sk-toggleable__control:checked~label.sk-toggleable__label-arrow:before {content: \"▾\";}#sk-container-id-1 div.sk-estimator input.sk-toggleable__control:checked~label.sk-toggleable__label {background-color: #d4ebff;}#sk-container-id-1 div.sk-label input.sk-toggleable__control:checked~label.sk-toggleable__label {background-color: #d4ebff;}#sk-container-id-1 input.sk-hidden--visually {border: 0;clip: rect(1px 1px 1px 1px);clip: rect(1px, 1px, 1px, 1px);height: 1px;margin: -1px;overflow: hidden;padding: 0;position: absolute;width: 1px;}#sk-container-id-1 div.sk-estimator {font-family: monospace;background-color: #f0f8ff;border: 1px dotted black;border-radius: 0.25em;box-sizing: border-box;margin-bottom: 0.5em;}#sk-container-id-1 div.sk-estimator:hover {background-color: #d4ebff;}#sk-container-id-1 div.sk-parallel-item::after {content: \"\";width: 100%;border-bottom: 1px solid gray;flex-grow: 1;}#sk-container-id-1 div.sk-label:hover label.sk-toggleable__label {background-color: #d4ebff;}#sk-container-id-1 div.sk-serial::before {content: \"\";position: absolute;border-left: 1px solid gray;box-sizing: border-box;top: 0;bottom: 0;left: 50%;z-index: 0;}#sk-container-id-1 div.sk-serial {display: flex;flex-direction: column;align-items: center;background-color: white;padding-right: 0.2em;padding-left: 0.2em;position: relative;}#sk-container-id-1 div.sk-item {position: relative;z-index: 1;}#sk-container-id-1 div.sk-parallel {display: flex;align-items: stretch;justify-content: center;background-color: white;position: relative;}#sk-container-id-1 div.sk-item::before, #sk-container-id-1 div.sk-parallel-item::before {content: \"\";position: absolute;border-left: 1px solid gray;box-sizing: border-box;top: 0;bottom: 0;left: 50%;z-index: -1;}#sk-container-id-1 div.sk-parallel-item {display: flex;flex-direction: column;z-index: 1;position: relative;background-color: white;}#sk-container-id-1 div.sk-parallel-item:first-child::after {align-self: flex-end;width: 50%;}#sk-container-id-1 div.sk-parallel-item:last-child::after {align-self: flex-start;width: 50%;}#sk-container-id-1 div.sk-parallel-item:only-child::after {width: 0;}#sk-container-id-1 div.sk-dashed-wrapped {border: 1px dashed gray;margin: 0 0.4em 0.5em 0.4em;box-sizing: border-box;padding-bottom: 0.4em;background-color: white;}#sk-container-id-1 div.sk-label label {font-family: monospace;font-weight: bold;display: inline-block;line-height: 1.2em;}#sk-container-id-1 div.sk-label-container {text-align: center;}#sk-container-id-1 div.sk-container {/* jupyter's `normalize.less` sets `[hidden] { display: none; }` but bootstrap.min.css set `[hidden] { display: none !important; }` so we also need the `!important` here to be able to override the default hidden behavior on the sphinx rendered scikit-learn.org. See: https://github.com/scikit-learn/scikit-learn/issues/21755 */display: inline-block !important;position: relative;}#sk-container-id-1 div.sk-text-repr-fallback {display: none;}</style><div id=\"sk-container-id-1\" class=\"sk-top-container\"><div class=\"sk-text-repr-fallback\"><pre>Pipeline(steps=[(&#x27;procesado_variables&#x27;,\n",
       "                 ColumnTransformer(remainder=&#x27;passthrough&#x27;,\n",
       "                                   transformers=[(&#x27;onehot&#x27;,\n",
       "                                                  OneHotEncoder(handle_unknown=&#x27;ignore&#x27;,\n",
       "                                                                sparse_output=False),\n",
       "                                                  [&#x27;municipio&#x27;,\n",
       "                                                   &#x27;tipo_de_seguridad_social&#x27;,\n",
       "                                                   &#x27;departamento&#x27;, &#x27;escenario&#x27;,\n",
       "                                                   &#x27;sexo&#x27;, &#x27;trimestre&#x27;,\n",
       "                                                   &#x27;actividad&#x27;, &#x27;semana&#x27;,\n",
       "                                                   &#x27;nom_upgd&#x27;, &#x27;año&#x27;, &#x27;mes&#x27;,\n",
       "                                                   &#x27;victima_menor_de_edad&#x27;,\n",
       "                                                   &#x27;parentezco_vict&#x27;,\n",
       "                                                   &#x27;sustancias_vi...\n",
       "                                                                   OrdinalEncoder(mapping=[{&#x27;col&#x27;: &#x27;grupo_edad&#x27;,\n",
       "                                                                                            &#x27;data_type&#x27;: dtype(&#x27;O&#x27;),\n",
       "                                                                                            &#x27;mapping&#x27;: 0 a 6       0\n",
       "7  a 11     1\n",
       "12 a 17     2\n",
       "18 a 28     3\n",
       "29 a 59     4\n",
       "60 y mas    5\n",
       "dtype: int64},\n",
       "                                                                                           {&#x27;col&#x27;: &#x27;ciclo_de_vida&#x27;,\n",
       "                                                                                            &#x27;data_type&#x27;: dtype(&#x27;O&#x27;),\n",
       "                                                                                            &#x27;mapping&#x27;: Primera infancia    0\n",
       "Infancia            1\n",
       "Jovenes             2\n",
       "Adolescencia        3\n",
       "Adultez             4\n",
       "Persona Mayor       5\n",
       "dtype: int64}]))]),\n",
       "                                                  [&#x27;grupo_edad&#x27;,\n",
       "                                                   &#x27;ciclo_de_vida&#x27;])],\n",
       "                                   verbose_feature_names_out=False)),\n",
       "                (&#x27;estimador&#x27;, SVC(probability=True))])</pre><b>In a Jupyter environment, please rerun this cell to show the HTML representation or trust the notebook. <br />On GitHub, the HTML representation is unable to render, please try loading this page with nbviewer.org.</b></div><div class=\"sk-container\" hidden><div class=\"sk-item sk-dashed-wrapped\"><div class=\"sk-label-container\"><div class=\"sk-label sk-toggleable\"><input class=\"sk-toggleable__control sk-hidden--visually\" id=\"sk-estimator-id-1\" type=\"checkbox\" ><label for=\"sk-estimator-id-1\" class=\"sk-toggleable__label sk-toggleable__label-arrow\">Pipeline</label><div class=\"sk-toggleable__content\"><pre>Pipeline(steps=[(&#x27;procesado_variables&#x27;,\n",
       "                 ColumnTransformer(remainder=&#x27;passthrough&#x27;,\n",
       "                                   transformers=[(&#x27;onehot&#x27;,\n",
       "                                                  OneHotEncoder(handle_unknown=&#x27;ignore&#x27;,\n",
       "                                                                sparse_output=False),\n",
       "                                                  [&#x27;municipio&#x27;,\n",
       "                                                   &#x27;tipo_de_seguridad_social&#x27;,\n",
       "                                                   &#x27;departamento&#x27;, &#x27;escenario&#x27;,\n",
       "                                                   &#x27;sexo&#x27;, &#x27;trimestre&#x27;,\n",
       "                                                   &#x27;actividad&#x27;, &#x27;semana&#x27;,\n",
       "                                                   &#x27;nom_upgd&#x27;, &#x27;año&#x27;, &#x27;mes&#x27;,\n",
       "                                                   &#x27;victima_menor_de_edad&#x27;,\n",
       "                                                   &#x27;parentezco_vict&#x27;,\n",
       "                                                   &#x27;sustancias_vi...\n",
       "                                                                   OrdinalEncoder(mapping=[{&#x27;col&#x27;: &#x27;grupo_edad&#x27;,\n",
       "                                                                                            &#x27;data_type&#x27;: dtype(&#x27;O&#x27;),\n",
       "                                                                                            &#x27;mapping&#x27;: 0 a 6       0\n",
       "7  a 11     1\n",
       "12 a 17     2\n",
       "18 a 28     3\n",
       "29 a 59     4\n",
       "60 y mas    5\n",
       "dtype: int64},\n",
       "                                                                                           {&#x27;col&#x27;: &#x27;ciclo_de_vida&#x27;,\n",
       "                                                                                            &#x27;data_type&#x27;: dtype(&#x27;O&#x27;),\n",
       "                                                                                            &#x27;mapping&#x27;: Primera infancia    0\n",
       "Infancia            1\n",
       "Jovenes             2\n",
       "Adolescencia        3\n",
       "Adultez             4\n",
       "Persona Mayor       5\n",
       "dtype: int64}]))]),\n",
       "                                                  [&#x27;grupo_edad&#x27;,\n",
       "                                                   &#x27;ciclo_de_vida&#x27;])],\n",
       "                                   verbose_feature_names_out=False)),\n",
       "                (&#x27;estimador&#x27;, SVC(probability=True))])</pre></div></div></div><div class=\"sk-serial\"><div class=\"sk-item sk-dashed-wrapped\"><div class=\"sk-label-container\"><div class=\"sk-label sk-toggleable\"><input class=\"sk-toggleable__control sk-hidden--visually\" id=\"sk-estimator-id-2\" type=\"checkbox\" ><label for=\"sk-estimator-id-2\" class=\"sk-toggleable__label sk-toggleable__label-arrow\">procesado_variables: ColumnTransformer</label><div class=\"sk-toggleable__content\"><pre>ColumnTransformer(remainder=&#x27;passthrough&#x27;,\n",
       "                  transformers=[(&#x27;onehot&#x27;,\n",
       "                                 OneHotEncoder(handle_unknown=&#x27;ignore&#x27;,\n",
       "                                               sparse_output=False),\n",
       "                                 [&#x27;municipio&#x27;, &#x27;tipo_de_seguridad_social&#x27;,\n",
       "                                  &#x27;departamento&#x27;, &#x27;escenario&#x27;, &#x27;sexo&#x27;,\n",
       "                                  &#x27;trimestre&#x27;, &#x27;actividad&#x27;, &#x27;semana&#x27;,\n",
       "                                  &#x27;nom_upgd&#x27;, &#x27;año&#x27;, &#x27;mes&#x27;,\n",
       "                                  &#x27;victima_menor_de_edad&#x27;, &#x27;parentezco_vict&#x27;,\n",
       "                                  &#x27;sustancias_victima&#x27;, &#x27;nom_eve&#x27;,\n",
       "                                  &#x27;paciente_hospitalizad...\n",
       "                                                 (&#x27;transformador_ordinal&#x27;,\n",
       "                                                  OrdinalEncoder(mapping=[{&#x27;col&#x27;: &#x27;grupo_edad&#x27;,\n",
       "                                                                           &#x27;data_type&#x27;: dtype(&#x27;O&#x27;),\n",
       "                                                                           &#x27;mapping&#x27;: 0 a 6       0\n",
       "7  a 11     1\n",
       "12 a 17     2\n",
       "18 a 28     3\n",
       "29 a 59     4\n",
       "60 y mas    5\n",
       "dtype: int64},\n",
       "                                                                          {&#x27;col&#x27;: &#x27;ciclo_de_vida&#x27;,\n",
       "                                                                           &#x27;data_type&#x27;: dtype(&#x27;O&#x27;),\n",
       "                                                                           &#x27;mapping&#x27;: Primera infancia    0\n",
       "Infancia            1\n",
       "Jovenes             2\n",
       "Adolescencia        3\n",
       "Adultez             4\n",
       "Persona Mayor       5\n",
       "dtype: int64}]))]),\n",
       "                                 [&#x27;grupo_edad&#x27;, &#x27;ciclo_de_vida&#x27;])],\n",
       "                  verbose_feature_names_out=False)</pre></div></div></div><div class=\"sk-parallel\"><div class=\"sk-parallel-item\"><div class=\"sk-item\"><div class=\"sk-label-container\"><div class=\"sk-label sk-toggleable\"><input class=\"sk-toggleable__control sk-hidden--visually\" id=\"sk-estimator-id-3\" type=\"checkbox\" ><label for=\"sk-estimator-id-3\" class=\"sk-toggleable__label sk-toggleable__label-arrow\">onehot</label><div class=\"sk-toggleable__content\"><pre>[&#x27;municipio&#x27;, &#x27;tipo_de_seguridad_social&#x27;, &#x27;departamento&#x27;, &#x27;escenario&#x27;, &#x27;sexo&#x27;, &#x27;trimestre&#x27;, &#x27;actividad&#x27;, &#x27;semana&#x27;, &#x27;nom_upgd&#x27;, &#x27;año&#x27;, &#x27;mes&#x27;, &#x27;victima_menor_de_edad&#x27;, &#x27;parentezco_vict&#x27;, &#x27;sustancias_victima&#x27;, &#x27;nom_eve&#x27;, &#x27;paciente_hospitalizado&#x27;, &#x27;violencia_intrafamiliar&#x27;, &#x27;area&#x27;, &#x27;comuna&#x27;, &#x27;condicion_final&#x27;, &#x27;sexo_agre&#x27;, &#x27;agresor_menor_de_edad&#x27;]</pre></div></div></div><div class=\"sk-serial\"><div class=\"sk-item\"><div class=\"sk-estimator sk-toggleable\"><input class=\"sk-toggleable__control sk-hidden--visually\" id=\"sk-estimator-id-4\" type=\"checkbox\" ><label for=\"sk-estimator-id-4\" class=\"sk-toggleable__label sk-toggleable__label-arrow\">OneHotEncoder</label><div class=\"sk-toggleable__content\"><pre>OneHotEncoder(handle_unknown=&#x27;ignore&#x27;, sparse_output=False)</pre></div></div></div></div></div></div><div class=\"sk-parallel-item\"><div class=\"sk-item\"><div class=\"sk-label-container\"><div class=\"sk-label sk-toggleable\"><input class=\"sk-toggleable__control sk-hidden--visually\" id=\"sk-estimator-id-5\" type=\"checkbox\" ><label for=\"sk-estimator-id-5\" class=\"sk-toggleable__label sk-toggleable__label-arrow\">ordinal</label><div class=\"sk-toggleable__content\"><pre>[&#x27;grupo_edad&#x27;, &#x27;ciclo_de_vida&#x27;]</pre></div></div></div><div class=\"sk-serial\"><div class=\"sk-item\"><div class=\"sk-serial\"><div class=\"sk-item\"><div class=\"sk-estimator sk-toggleable\"><input class=\"sk-toggleable__control sk-hidden--visually\" id=\"sk-estimator-id-6\" type=\"checkbox\" ><label for=\"sk-estimator-id-6\" class=\"sk-toggleable__label sk-toggleable__label-arrow\">SimpleImputer</label><div class=\"sk-toggleable__content\"><pre>SimpleImputer(strategy=&#x27;most_frequent&#x27;)</pre></div></div></div><div class=\"sk-item\"><div class=\"sk-estimator sk-toggleable\"><input class=\"sk-toggleable__control sk-hidden--visually\" id=\"sk-estimator-id-7\" type=\"checkbox\" ><label for=\"sk-estimator-id-7\" class=\"sk-toggleable__label sk-toggleable__label-arrow\">OrdinalEncoder</label><div class=\"sk-toggleable__content\"><pre>OrdinalEncoder(mapping=[{&#x27;col&#x27;: &#x27;grupo_edad&#x27;, &#x27;data_type&#x27;: dtype(&#x27;O&#x27;),\n",
       "                         &#x27;mapping&#x27;: 0 a 6       0\n",
       "7  a 11     1\n",
       "12 a 17     2\n",
       "18 a 28     3\n",
       "29 a 59     4\n",
       "60 y mas    5\n",
       "dtype: int64},\n",
       "                        {&#x27;col&#x27;: &#x27;ciclo_de_vida&#x27;, &#x27;data_type&#x27;: dtype(&#x27;O&#x27;),\n",
       "                         &#x27;mapping&#x27;: Primera infancia    0\n",
       "Infancia            1\n",
       "Jovenes             2\n",
       "Adolescencia        3\n",
       "Adultez             4\n",
       "Persona Mayor       5\n",
       "dtype: int64}])</pre></div></div></div></div></div></div></div></div><div class=\"sk-parallel-item\"><div class=\"sk-item\"><div class=\"sk-label-container\"><div class=\"sk-label sk-toggleable\"><input class=\"sk-toggleable__control sk-hidden--visually\" id=\"sk-estimator-id-8\" type=\"checkbox\" ><label for=\"sk-estimator-id-8\" class=\"sk-toggleable__label sk-toggleable__label-arrow\">remainder</label><div class=\"sk-toggleable__content\"><pre>[&#x27;edad_agre&#x27;]</pre></div></div></div><div class=\"sk-serial\"><div class=\"sk-item\"><div class=\"sk-estimator sk-toggleable\"><input class=\"sk-toggleable__control sk-hidden--visually\" id=\"sk-estimator-id-9\" type=\"checkbox\" ><label for=\"sk-estimator-id-9\" class=\"sk-toggleable__label sk-toggleable__label-arrow\">passthrough</label><div class=\"sk-toggleable__content\"><pre>passthrough</pre></div></div></div></div></div></div></div></div><div class=\"sk-item\"><div class=\"sk-estimator sk-toggleable\"><input class=\"sk-toggleable__control sk-hidden--visually\" id=\"sk-estimator-id-10\" type=\"checkbox\" ><label for=\"sk-estimator-id-10\" class=\"sk-toggleable__label sk-toggleable__label-arrow\">SVC</label><div class=\"sk-toggleable__content\"><pre>SVC(probability=True)</pre></div></div></div></div></div></div></div>"
      ],
      "text/plain": [
       "Pipeline(steps=[('procesado_variables',\n",
       "                 ColumnTransformer(remainder='passthrough',\n",
       "                                   transformers=[('onehot',\n",
       "                                                  OneHotEncoder(handle_unknown='ignore',\n",
       "                                                                sparse_output=False),\n",
       "                                                  ['municipio',\n",
       "                                                   'tipo_de_seguridad_social',\n",
       "                                                   'departamento', 'escenario',\n",
       "                                                   'sexo', 'trimestre',\n",
       "                                                   'actividad', 'semana',\n",
       "                                                   'nom_upgd', 'año', 'mes',\n",
       "                                                   'victima_menor_de_edad',\n",
       "                                                   'parentezco_vict',\n",
       "                                                   'sustancias_vi...\n",
       "                                                                   OrdinalEncoder(mapping=[{'col': 'grupo_edad',\n",
       "                                                                                            'data_type': dtype('O'),\n",
       "                                                                                            'mapping': 0 a 6       0\n",
       "7  a 11     1\n",
       "12 a 17     2\n",
       "18 a 28     3\n",
       "29 a 59     4\n",
       "60 y mas    5\n",
       "dtype: int64},\n",
       "                                                                                           {'col': 'ciclo_de_vida',\n",
       "                                                                                            'data_type': dtype('O'),\n",
       "                                                                                            'mapping': Primera infancia    0\n",
       "Infancia            1\n",
       "Jovenes             2\n",
       "Adolescencia        3\n",
       "Adultez             4\n",
       "Persona Mayor       5\n",
       "dtype: int64}]))]),\n",
       "                                                  ['grupo_edad',\n",
       "                                                   'ciclo_de_vida'])],\n",
       "                                   verbose_feature_names_out=False)),\n",
       "                ('estimador', SVC(probability=True))])"
      ]
     },
     "execution_count": 11,
     "metadata": {},
     "output_type": "execute_result"
    }
   ],
   "source": [
    "pipeline_estimador.fit(X=X_train, y=y_train)"
   ]
  },
  {
   "cell_type": "code",
   "execution_count": 12,
   "id": "8852a516",
   "metadata": {},
   "outputs": [],
   "source": [
    "predicciones =  pipeline_estimador.predict(X=X_test)\n",
    "clases_reales = y_test\n",
    "predicciones_probabilidades =pipeline_estimador.predict_proba(X_test)"
   ]
  },
  {
   "cell_type": "code",
   "execution_count": 13,
   "id": "10aa3205",
   "metadata": {},
   "outputs": [
    {
     "name": "stdout",
     "output_type": "stream",
     "text": [
      "\n",
      "    Exactitud promedio: 0.816\n",
      "    Precisión promedio: 0.805\n",
      "    Sensibilidad promedio: 0.789\n",
      "    Puntuación F1 promedio: 0.796\n",
      "    \n"
     ]
    }
   ],
   "source": [
    "evaluar_modelo(clases_reales, predicciones, predicciones_probabilidades)"
   ]
  },
  {
   "cell_type": "code",
   "execution_count": 14,
   "id": "cdf9e992",
   "metadata": {},
   "outputs": [
    {
     "name": "stdout",
     "output_type": "stream",
     "text": [
      "Accuracy en datos de entrenamiento: 0.8236786935893192\n",
      "Accuracy en datos de prueba: 0.8040600176522507\n"
     ]
    }
   ],
   "source": [
    "train_accuracy = accuracy_score(y_train, pipeline_estimador.predict(X_train))\n",
    "test_accuracy = accuracy_score(y_test, pipeline_estimador.predict(X_test))\n",
    "print(\"Accuracy en datos de entrenamiento:\", train_accuracy)\n",
    "print(\"Accuracy en datos de prueba:\", test_accuracy)"
   ]
  },
  {
   "cell_type": "markdown",
   "id": "8e28dc5f",
   "metadata": {},
   "source": [
    "## Prueba Random Forest"
   ]
  },
  {
   "cell_type": "code",
   "execution_count": 15,
   "id": "645cacab",
   "metadata": {},
   "outputs": [],
   "source": [
    "from sklearn.ensemble import RandomForestClassifier\n",
    "\n",
    "pipeline_estimador = Pipeline([\n",
    "    (\"procesado_variables\", pipeline_procesado),\n",
    "    (\"estimador\", RandomForestClassifier())\n",
    "])"
   ]
  },
  {
   "cell_type": "code",
   "execution_count": 16,
   "id": "42989d61",
   "metadata": {},
   "outputs": [
    {
     "data": {
      "text/html": [
       "<style>#sk-container-id-2 {color: black;background-color: white;}#sk-container-id-2 pre{padding: 0;}#sk-container-id-2 div.sk-toggleable {background-color: white;}#sk-container-id-2 label.sk-toggleable__label {cursor: pointer;display: block;width: 100%;margin-bottom: 0;padding: 0.3em;box-sizing: border-box;text-align: center;}#sk-container-id-2 label.sk-toggleable__label-arrow:before {content: \"▸\";float: left;margin-right: 0.25em;color: #696969;}#sk-container-id-2 label.sk-toggleable__label-arrow:hover:before {color: black;}#sk-container-id-2 div.sk-estimator:hover label.sk-toggleable__label-arrow:before {color: black;}#sk-container-id-2 div.sk-toggleable__content {max-height: 0;max-width: 0;overflow: hidden;text-align: left;background-color: #f0f8ff;}#sk-container-id-2 div.sk-toggleable__content pre {margin: 0.2em;color: black;border-radius: 0.25em;background-color: #f0f8ff;}#sk-container-id-2 input.sk-toggleable__control:checked~div.sk-toggleable__content {max-height: 200px;max-width: 100%;overflow: auto;}#sk-container-id-2 input.sk-toggleable__control:checked~label.sk-toggleable__label-arrow:before {content: \"▾\";}#sk-container-id-2 div.sk-estimator input.sk-toggleable__control:checked~label.sk-toggleable__label {background-color: #d4ebff;}#sk-container-id-2 div.sk-label input.sk-toggleable__control:checked~label.sk-toggleable__label {background-color: #d4ebff;}#sk-container-id-2 input.sk-hidden--visually {border: 0;clip: rect(1px 1px 1px 1px);clip: rect(1px, 1px, 1px, 1px);height: 1px;margin: -1px;overflow: hidden;padding: 0;position: absolute;width: 1px;}#sk-container-id-2 div.sk-estimator {font-family: monospace;background-color: #f0f8ff;border: 1px dotted black;border-radius: 0.25em;box-sizing: border-box;margin-bottom: 0.5em;}#sk-container-id-2 div.sk-estimator:hover {background-color: #d4ebff;}#sk-container-id-2 div.sk-parallel-item::after {content: \"\";width: 100%;border-bottom: 1px solid gray;flex-grow: 1;}#sk-container-id-2 div.sk-label:hover label.sk-toggleable__label {background-color: #d4ebff;}#sk-container-id-2 div.sk-serial::before {content: \"\";position: absolute;border-left: 1px solid gray;box-sizing: border-box;top: 0;bottom: 0;left: 50%;z-index: 0;}#sk-container-id-2 div.sk-serial {display: flex;flex-direction: column;align-items: center;background-color: white;padding-right: 0.2em;padding-left: 0.2em;position: relative;}#sk-container-id-2 div.sk-item {position: relative;z-index: 1;}#sk-container-id-2 div.sk-parallel {display: flex;align-items: stretch;justify-content: center;background-color: white;position: relative;}#sk-container-id-2 div.sk-item::before, #sk-container-id-2 div.sk-parallel-item::before {content: \"\";position: absolute;border-left: 1px solid gray;box-sizing: border-box;top: 0;bottom: 0;left: 50%;z-index: -1;}#sk-container-id-2 div.sk-parallel-item {display: flex;flex-direction: column;z-index: 1;position: relative;background-color: white;}#sk-container-id-2 div.sk-parallel-item:first-child::after {align-self: flex-end;width: 50%;}#sk-container-id-2 div.sk-parallel-item:last-child::after {align-self: flex-start;width: 50%;}#sk-container-id-2 div.sk-parallel-item:only-child::after {width: 0;}#sk-container-id-2 div.sk-dashed-wrapped {border: 1px dashed gray;margin: 0 0.4em 0.5em 0.4em;box-sizing: border-box;padding-bottom: 0.4em;background-color: white;}#sk-container-id-2 div.sk-label label {font-family: monospace;font-weight: bold;display: inline-block;line-height: 1.2em;}#sk-container-id-2 div.sk-label-container {text-align: center;}#sk-container-id-2 div.sk-container {/* jupyter's `normalize.less` sets `[hidden] { display: none; }` but bootstrap.min.css set `[hidden] { display: none !important; }` so we also need the `!important` here to be able to override the default hidden behavior on the sphinx rendered scikit-learn.org. See: https://github.com/scikit-learn/scikit-learn/issues/21755 */display: inline-block !important;position: relative;}#sk-container-id-2 div.sk-text-repr-fallback {display: none;}</style><div id=\"sk-container-id-2\" class=\"sk-top-container\"><div class=\"sk-text-repr-fallback\"><pre>Pipeline(steps=[(&#x27;procesado_variables&#x27;,\n",
       "                 ColumnTransformer(remainder=&#x27;passthrough&#x27;,\n",
       "                                   transformers=[(&#x27;onehot&#x27;,\n",
       "                                                  OneHotEncoder(handle_unknown=&#x27;ignore&#x27;,\n",
       "                                                                sparse_output=False),\n",
       "                                                  [&#x27;municipio&#x27;,\n",
       "                                                   &#x27;tipo_de_seguridad_social&#x27;,\n",
       "                                                   &#x27;departamento&#x27;, &#x27;escenario&#x27;,\n",
       "                                                   &#x27;sexo&#x27;, &#x27;trimestre&#x27;,\n",
       "                                                   &#x27;actividad&#x27;, &#x27;semana&#x27;,\n",
       "                                                   &#x27;nom_upgd&#x27;, &#x27;año&#x27;, &#x27;mes&#x27;,\n",
       "                                                   &#x27;victima_menor_de_edad&#x27;,\n",
       "                                                   &#x27;parentezco_vict&#x27;,\n",
       "                                                   &#x27;sustancias_vi...\n",
       "                                                                   OrdinalEncoder(mapping=[{&#x27;col&#x27;: &#x27;grupo_edad&#x27;,\n",
       "                                                                                            &#x27;data_type&#x27;: dtype(&#x27;O&#x27;),\n",
       "                                                                                            &#x27;mapping&#x27;: 0 a 6       0\n",
       "7  a 11     1\n",
       "12 a 17     2\n",
       "18 a 28     3\n",
       "29 a 59     4\n",
       "60 y mas    5\n",
       "dtype: int64},\n",
       "                                                                                           {&#x27;col&#x27;: &#x27;ciclo_de_vida&#x27;,\n",
       "                                                                                            &#x27;data_type&#x27;: dtype(&#x27;O&#x27;),\n",
       "                                                                                            &#x27;mapping&#x27;: Primera infancia    0\n",
       "Infancia            1\n",
       "Jovenes             2\n",
       "Adolescencia        3\n",
       "Adultez             4\n",
       "Persona Mayor       5\n",
       "dtype: int64}]))]),\n",
       "                                                  [&#x27;grupo_edad&#x27;,\n",
       "                                                   &#x27;ciclo_de_vida&#x27;])],\n",
       "                                   verbose_feature_names_out=False)),\n",
       "                (&#x27;estimador&#x27;, RandomForestClassifier())])</pre><b>In a Jupyter environment, please rerun this cell to show the HTML representation or trust the notebook. <br />On GitHub, the HTML representation is unable to render, please try loading this page with nbviewer.org.</b></div><div class=\"sk-container\" hidden><div class=\"sk-item sk-dashed-wrapped\"><div class=\"sk-label-container\"><div class=\"sk-label sk-toggleable\"><input class=\"sk-toggleable__control sk-hidden--visually\" id=\"sk-estimator-id-11\" type=\"checkbox\" ><label for=\"sk-estimator-id-11\" class=\"sk-toggleable__label sk-toggleable__label-arrow\">Pipeline</label><div class=\"sk-toggleable__content\"><pre>Pipeline(steps=[(&#x27;procesado_variables&#x27;,\n",
       "                 ColumnTransformer(remainder=&#x27;passthrough&#x27;,\n",
       "                                   transformers=[(&#x27;onehot&#x27;,\n",
       "                                                  OneHotEncoder(handle_unknown=&#x27;ignore&#x27;,\n",
       "                                                                sparse_output=False),\n",
       "                                                  [&#x27;municipio&#x27;,\n",
       "                                                   &#x27;tipo_de_seguridad_social&#x27;,\n",
       "                                                   &#x27;departamento&#x27;, &#x27;escenario&#x27;,\n",
       "                                                   &#x27;sexo&#x27;, &#x27;trimestre&#x27;,\n",
       "                                                   &#x27;actividad&#x27;, &#x27;semana&#x27;,\n",
       "                                                   &#x27;nom_upgd&#x27;, &#x27;año&#x27;, &#x27;mes&#x27;,\n",
       "                                                   &#x27;victima_menor_de_edad&#x27;,\n",
       "                                                   &#x27;parentezco_vict&#x27;,\n",
       "                                                   &#x27;sustancias_vi...\n",
       "                                                                   OrdinalEncoder(mapping=[{&#x27;col&#x27;: &#x27;grupo_edad&#x27;,\n",
       "                                                                                            &#x27;data_type&#x27;: dtype(&#x27;O&#x27;),\n",
       "                                                                                            &#x27;mapping&#x27;: 0 a 6       0\n",
       "7  a 11     1\n",
       "12 a 17     2\n",
       "18 a 28     3\n",
       "29 a 59     4\n",
       "60 y mas    5\n",
       "dtype: int64},\n",
       "                                                                                           {&#x27;col&#x27;: &#x27;ciclo_de_vida&#x27;,\n",
       "                                                                                            &#x27;data_type&#x27;: dtype(&#x27;O&#x27;),\n",
       "                                                                                            &#x27;mapping&#x27;: Primera infancia    0\n",
       "Infancia            1\n",
       "Jovenes             2\n",
       "Adolescencia        3\n",
       "Adultez             4\n",
       "Persona Mayor       5\n",
       "dtype: int64}]))]),\n",
       "                                                  [&#x27;grupo_edad&#x27;,\n",
       "                                                   &#x27;ciclo_de_vida&#x27;])],\n",
       "                                   verbose_feature_names_out=False)),\n",
       "                (&#x27;estimador&#x27;, RandomForestClassifier())])</pre></div></div></div><div class=\"sk-serial\"><div class=\"sk-item sk-dashed-wrapped\"><div class=\"sk-label-container\"><div class=\"sk-label sk-toggleable\"><input class=\"sk-toggleable__control sk-hidden--visually\" id=\"sk-estimator-id-12\" type=\"checkbox\" ><label for=\"sk-estimator-id-12\" class=\"sk-toggleable__label sk-toggleable__label-arrow\">procesado_variables: ColumnTransformer</label><div class=\"sk-toggleable__content\"><pre>ColumnTransformer(remainder=&#x27;passthrough&#x27;,\n",
       "                  transformers=[(&#x27;onehot&#x27;,\n",
       "                                 OneHotEncoder(handle_unknown=&#x27;ignore&#x27;,\n",
       "                                               sparse_output=False),\n",
       "                                 [&#x27;municipio&#x27;, &#x27;tipo_de_seguridad_social&#x27;,\n",
       "                                  &#x27;departamento&#x27;, &#x27;escenario&#x27;, &#x27;sexo&#x27;,\n",
       "                                  &#x27;trimestre&#x27;, &#x27;actividad&#x27;, &#x27;semana&#x27;,\n",
       "                                  &#x27;nom_upgd&#x27;, &#x27;año&#x27;, &#x27;mes&#x27;,\n",
       "                                  &#x27;victima_menor_de_edad&#x27;, &#x27;parentezco_vict&#x27;,\n",
       "                                  &#x27;sustancias_victima&#x27;, &#x27;nom_eve&#x27;,\n",
       "                                  &#x27;paciente_hospitalizad...\n",
       "                                                 (&#x27;transformador_ordinal&#x27;,\n",
       "                                                  OrdinalEncoder(mapping=[{&#x27;col&#x27;: &#x27;grupo_edad&#x27;,\n",
       "                                                                           &#x27;data_type&#x27;: dtype(&#x27;O&#x27;),\n",
       "                                                                           &#x27;mapping&#x27;: 0 a 6       0\n",
       "7  a 11     1\n",
       "12 a 17     2\n",
       "18 a 28     3\n",
       "29 a 59     4\n",
       "60 y mas    5\n",
       "dtype: int64},\n",
       "                                                                          {&#x27;col&#x27;: &#x27;ciclo_de_vida&#x27;,\n",
       "                                                                           &#x27;data_type&#x27;: dtype(&#x27;O&#x27;),\n",
       "                                                                           &#x27;mapping&#x27;: Primera infancia    0\n",
       "Infancia            1\n",
       "Jovenes             2\n",
       "Adolescencia        3\n",
       "Adultez             4\n",
       "Persona Mayor       5\n",
       "dtype: int64}]))]),\n",
       "                                 [&#x27;grupo_edad&#x27;, &#x27;ciclo_de_vida&#x27;])],\n",
       "                  verbose_feature_names_out=False)</pre></div></div></div><div class=\"sk-parallel\"><div class=\"sk-parallel-item\"><div class=\"sk-item\"><div class=\"sk-label-container\"><div class=\"sk-label sk-toggleable\"><input class=\"sk-toggleable__control sk-hidden--visually\" id=\"sk-estimator-id-13\" type=\"checkbox\" ><label for=\"sk-estimator-id-13\" class=\"sk-toggleable__label sk-toggleable__label-arrow\">onehot</label><div class=\"sk-toggleable__content\"><pre>[&#x27;municipio&#x27;, &#x27;tipo_de_seguridad_social&#x27;, &#x27;departamento&#x27;, &#x27;escenario&#x27;, &#x27;sexo&#x27;, &#x27;trimestre&#x27;, &#x27;actividad&#x27;, &#x27;semana&#x27;, &#x27;nom_upgd&#x27;, &#x27;año&#x27;, &#x27;mes&#x27;, &#x27;victima_menor_de_edad&#x27;, &#x27;parentezco_vict&#x27;, &#x27;sustancias_victima&#x27;, &#x27;nom_eve&#x27;, &#x27;paciente_hospitalizado&#x27;, &#x27;violencia_intrafamiliar&#x27;, &#x27;area&#x27;, &#x27;comuna&#x27;, &#x27;condicion_final&#x27;, &#x27;sexo_agre&#x27;, &#x27;agresor_menor_de_edad&#x27;]</pre></div></div></div><div class=\"sk-serial\"><div class=\"sk-item\"><div class=\"sk-estimator sk-toggleable\"><input class=\"sk-toggleable__control sk-hidden--visually\" id=\"sk-estimator-id-14\" type=\"checkbox\" ><label for=\"sk-estimator-id-14\" class=\"sk-toggleable__label sk-toggleable__label-arrow\">OneHotEncoder</label><div class=\"sk-toggleable__content\"><pre>OneHotEncoder(handle_unknown=&#x27;ignore&#x27;, sparse_output=False)</pre></div></div></div></div></div></div><div class=\"sk-parallel-item\"><div class=\"sk-item\"><div class=\"sk-label-container\"><div class=\"sk-label sk-toggleable\"><input class=\"sk-toggleable__control sk-hidden--visually\" id=\"sk-estimator-id-15\" type=\"checkbox\" ><label for=\"sk-estimator-id-15\" class=\"sk-toggleable__label sk-toggleable__label-arrow\">ordinal</label><div class=\"sk-toggleable__content\"><pre>[&#x27;grupo_edad&#x27;, &#x27;ciclo_de_vida&#x27;]</pre></div></div></div><div class=\"sk-serial\"><div class=\"sk-item\"><div class=\"sk-serial\"><div class=\"sk-item\"><div class=\"sk-estimator sk-toggleable\"><input class=\"sk-toggleable__control sk-hidden--visually\" id=\"sk-estimator-id-16\" type=\"checkbox\" ><label for=\"sk-estimator-id-16\" class=\"sk-toggleable__label sk-toggleable__label-arrow\">SimpleImputer</label><div class=\"sk-toggleable__content\"><pre>SimpleImputer(strategy=&#x27;most_frequent&#x27;)</pre></div></div></div><div class=\"sk-item\"><div class=\"sk-estimator sk-toggleable\"><input class=\"sk-toggleable__control sk-hidden--visually\" id=\"sk-estimator-id-17\" type=\"checkbox\" ><label for=\"sk-estimator-id-17\" class=\"sk-toggleable__label sk-toggleable__label-arrow\">OrdinalEncoder</label><div class=\"sk-toggleable__content\"><pre>OrdinalEncoder(mapping=[{&#x27;col&#x27;: &#x27;grupo_edad&#x27;, &#x27;data_type&#x27;: dtype(&#x27;O&#x27;),\n",
       "                         &#x27;mapping&#x27;: 0 a 6       0\n",
       "7  a 11     1\n",
       "12 a 17     2\n",
       "18 a 28     3\n",
       "29 a 59     4\n",
       "60 y mas    5\n",
       "dtype: int64},\n",
       "                        {&#x27;col&#x27;: &#x27;ciclo_de_vida&#x27;, &#x27;data_type&#x27;: dtype(&#x27;O&#x27;),\n",
       "                         &#x27;mapping&#x27;: Primera infancia    0\n",
       "Infancia            1\n",
       "Jovenes             2\n",
       "Adolescencia        3\n",
       "Adultez             4\n",
       "Persona Mayor       5\n",
       "dtype: int64}])</pre></div></div></div></div></div></div></div></div><div class=\"sk-parallel-item\"><div class=\"sk-item\"><div class=\"sk-label-container\"><div class=\"sk-label sk-toggleable\"><input class=\"sk-toggleable__control sk-hidden--visually\" id=\"sk-estimator-id-18\" type=\"checkbox\" ><label for=\"sk-estimator-id-18\" class=\"sk-toggleable__label sk-toggleable__label-arrow\">remainder</label><div class=\"sk-toggleable__content\"><pre>[&#x27;edad_agre&#x27;]</pre></div></div></div><div class=\"sk-serial\"><div class=\"sk-item\"><div class=\"sk-estimator sk-toggleable\"><input class=\"sk-toggleable__control sk-hidden--visually\" id=\"sk-estimator-id-19\" type=\"checkbox\" ><label for=\"sk-estimator-id-19\" class=\"sk-toggleable__label sk-toggleable__label-arrow\">passthrough</label><div class=\"sk-toggleable__content\"><pre>passthrough</pre></div></div></div></div></div></div></div></div><div class=\"sk-item\"><div class=\"sk-estimator sk-toggleable\"><input class=\"sk-toggleable__control sk-hidden--visually\" id=\"sk-estimator-id-20\" type=\"checkbox\" ><label for=\"sk-estimator-id-20\" class=\"sk-toggleable__label sk-toggleable__label-arrow\">RandomForestClassifier</label><div class=\"sk-toggleable__content\"><pre>RandomForestClassifier()</pre></div></div></div></div></div></div></div>"
      ],
      "text/plain": [
       "Pipeline(steps=[('procesado_variables',\n",
       "                 ColumnTransformer(remainder='passthrough',\n",
       "                                   transformers=[('onehot',\n",
       "                                                  OneHotEncoder(handle_unknown='ignore',\n",
       "                                                                sparse_output=False),\n",
       "                                                  ['municipio',\n",
       "                                                   'tipo_de_seguridad_social',\n",
       "                                                   'departamento', 'escenario',\n",
       "                                                   'sexo', 'trimestre',\n",
       "                                                   'actividad', 'semana',\n",
       "                                                   'nom_upgd', 'año', 'mes',\n",
       "                                                   'victima_menor_de_edad',\n",
       "                                                   'parentezco_vict',\n",
       "                                                   'sustancias_vi...\n",
       "                                                                   OrdinalEncoder(mapping=[{'col': 'grupo_edad',\n",
       "                                                                                            'data_type': dtype('O'),\n",
       "                                                                                            'mapping': 0 a 6       0\n",
       "7  a 11     1\n",
       "12 a 17     2\n",
       "18 a 28     3\n",
       "29 a 59     4\n",
       "60 y mas    5\n",
       "dtype: int64},\n",
       "                                                                                           {'col': 'ciclo_de_vida',\n",
       "                                                                                            'data_type': dtype('O'),\n",
       "                                                                                            'mapping': Primera infancia    0\n",
       "Infancia            1\n",
       "Jovenes             2\n",
       "Adolescencia        3\n",
       "Adultez             4\n",
       "Persona Mayor       5\n",
       "dtype: int64}]))]),\n",
       "                                                  ['grupo_edad',\n",
       "                                                   'ciclo_de_vida'])],\n",
       "                                   verbose_feature_names_out=False)),\n",
       "                ('estimador', RandomForestClassifier())])"
      ]
     },
     "execution_count": 16,
     "metadata": {},
     "output_type": "execute_result"
    }
   ],
   "source": [
    "pipeline_estimador.fit(X=X_train, y=y_train)"
   ]
  },
  {
   "cell_type": "code",
   "execution_count": 17,
   "id": "1f0c7973",
   "metadata": {},
   "outputs": [],
   "source": [
    "predicciones =  pipeline_estimador.predict(X=X_test)\n",
    "clases_reales = y_test\n",
    "predicciones_probabilidades =pipeline_estimador.predict_proba(X_test)"
   ]
  },
  {
   "cell_type": "code",
   "execution_count": 18,
   "id": "b075f2bd",
   "metadata": {},
   "outputs": [
    {
     "name": "stdout",
     "output_type": "stream",
     "text": [
      "\n",
      "    Exactitud promedio: 0.850\n",
      "    Precisión promedio: 0.840\n",
      "    Sensibilidad promedio: 0.840\n",
      "    Puntuación F1 promedio: 0.839\n",
      "    \n"
     ]
    }
   ],
   "source": [
    "evaluar_modelo(clases_reales, predicciones, predicciones_probabilidades)"
   ]
  },
  {
   "cell_type": "code",
   "execution_count": 19,
   "id": "d6396e23",
   "metadata": {},
   "outputs": [
    {
     "name": "stdout",
     "output_type": "stream",
     "text": [
      "Accuracy en datos de entrenamiento: 1.0\n",
      "Accuracy en datos de prueba: 0.8464254192409533\n"
     ]
    }
   ],
   "source": [
    "train_accuracy = accuracy_score(y_train, pipeline_estimador.predict(X_train))\n",
    "test_accuracy = accuracy_score(y_test, pipeline_estimador.predict(X_test))\n",
    "print(\"Accuracy en datos de entrenamiento:\", train_accuracy)\n",
    "print(\"Accuracy en datos de prueba:\", test_accuracy)"
   ]
  },
  {
   "cell_type": "markdown",
   "id": "0bbf85fa",
   "metadata": {},
   "source": [
    "## Prueba Gradient Boosting"
   ]
  },
  {
   "cell_type": "code",
   "execution_count": 20,
   "id": "c99b1eed",
   "metadata": {},
   "outputs": [],
   "source": [
    "from sklearn.ensemble import GradientBoostingClassifier\n",
    "\n",
    "pipeline_estimador = Pipeline([\n",
    "    (\"procesado_variables\", pipeline_procesado),\n",
    "    (\"reducir_dim\", PCA()),\n",
    "    (\"estimador\", GradientBoostingClassifier())\n",
    "])"
   ]
  },
  {
   "cell_type": "code",
   "execution_count": 21,
   "id": "cd880810",
   "metadata": {},
   "outputs": [
    {
     "data": {
      "text/html": [
       "<style>#sk-container-id-3 {color: black;background-color: white;}#sk-container-id-3 pre{padding: 0;}#sk-container-id-3 div.sk-toggleable {background-color: white;}#sk-container-id-3 label.sk-toggleable__label {cursor: pointer;display: block;width: 100%;margin-bottom: 0;padding: 0.3em;box-sizing: border-box;text-align: center;}#sk-container-id-3 label.sk-toggleable__label-arrow:before {content: \"▸\";float: left;margin-right: 0.25em;color: #696969;}#sk-container-id-3 label.sk-toggleable__label-arrow:hover:before {color: black;}#sk-container-id-3 div.sk-estimator:hover label.sk-toggleable__label-arrow:before {color: black;}#sk-container-id-3 div.sk-toggleable__content {max-height: 0;max-width: 0;overflow: hidden;text-align: left;background-color: #f0f8ff;}#sk-container-id-3 div.sk-toggleable__content pre {margin: 0.2em;color: black;border-radius: 0.25em;background-color: #f0f8ff;}#sk-container-id-3 input.sk-toggleable__control:checked~div.sk-toggleable__content {max-height: 200px;max-width: 100%;overflow: auto;}#sk-container-id-3 input.sk-toggleable__control:checked~label.sk-toggleable__label-arrow:before {content: \"▾\";}#sk-container-id-3 div.sk-estimator input.sk-toggleable__control:checked~label.sk-toggleable__label {background-color: #d4ebff;}#sk-container-id-3 div.sk-label input.sk-toggleable__control:checked~label.sk-toggleable__label {background-color: #d4ebff;}#sk-container-id-3 input.sk-hidden--visually {border: 0;clip: rect(1px 1px 1px 1px);clip: rect(1px, 1px, 1px, 1px);height: 1px;margin: -1px;overflow: hidden;padding: 0;position: absolute;width: 1px;}#sk-container-id-3 div.sk-estimator {font-family: monospace;background-color: #f0f8ff;border: 1px dotted black;border-radius: 0.25em;box-sizing: border-box;margin-bottom: 0.5em;}#sk-container-id-3 div.sk-estimator:hover {background-color: #d4ebff;}#sk-container-id-3 div.sk-parallel-item::after {content: \"\";width: 100%;border-bottom: 1px solid gray;flex-grow: 1;}#sk-container-id-3 div.sk-label:hover label.sk-toggleable__label {background-color: #d4ebff;}#sk-container-id-3 div.sk-serial::before {content: \"\";position: absolute;border-left: 1px solid gray;box-sizing: border-box;top: 0;bottom: 0;left: 50%;z-index: 0;}#sk-container-id-3 div.sk-serial {display: flex;flex-direction: column;align-items: center;background-color: white;padding-right: 0.2em;padding-left: 0.2em;position: relative;}#sk-container-id-3 div.sk-item {position: relative;z-index: 1;}#sk-container-id-3 div.sk-parallel {display: flex;align-items: stretch;justify-content: center;background-color: white;position: relative;}#sk-container-id-3 div.sk-item::before, #sk-container-id-3 div.sk-parallel-item::before {content: \"\";position: absolute;border-left: 1px solid gray;box-sizing: border-box;top: 0;bottom: 0;left: 50%;z-index: -1;}#sk-container-id-3 div.sk-parallel-item {display: flex;flex-direction: column;z-index: 1;position: relative;background-color: white;}#sk-container-id-3 div.sk-parallel-item:first-child::after {align-self: flex-end;width: 50%;}#sk-container-id-3 div.sk-parallel-item:last-child::after {align-self: flex-start;width: 50%;}#sk-container-id-3 div.sk-parallel-item:only-child::after {width: 0;}#sk-container-id-3 div.sk-dashed-wrapped {border: 1px dashed gray;margin: 0 0.4em 0.5em 0.4em;box-sizing: border-box;padding-bottom: 0.4em;background-color: white;}#sk-container-id-3 div.sk-label label {font-family: monospace;font-weight: bold;display: inline-block;line-height: 1.2em;}#sk-container-id-3 div.sk-label-container {text-align: center;}#sk-container-id-3 div.sk-container {/* jupyter's `normalize.less` sets `[hidden] { display: none; }` but bootstrap.min.css set `[hidden] { display: none !important; }` so we also need the `!important` here to be able to override the default hidden behavior on the sphinx rendered scikit-learn.org. See: https://github.com/scikit-learn/scikit-learn/issues/21755 */display: inline-block !important;position: relative;}#sk-container-id-3 div.sk-text-repr-fallback {display: none;}</style><div id=\"sk-container-id-3\" class=\"sk-top-container\"><div class=\"sk-text-repr-fallback\"><pre>Pipeline(steps=[(&#x27;procesado_variables&#x27;,\n",
       "                 ColumnTransformer(remainder=&#x27;passthrough&#x27;,\n",
       "                                   transformers=[(&#x27;onehot&#x27;,\n",
       "                                                  OneHotEncoder(handle_unknown=&#x27;ignore&#x27;,\n",
       "                                                                sparse_output=False),\n",
       "                                                  [&#x27;municipio&#x27;,\n",
       "                                                   &#x27;tipo_de_seguridad_social&#x27;,\n",
       "                                                   &#x27;departamento&#x27;, &#x27;escenario&#x27;,\n",
       "                                                   &#x27;sexo&#x27;, &#x27;trimestre&#x27;,\n",
       "                                                   &#x27;actividad&#x27;, &#x27;semana&#x27;,\n",
       "                                                   &#x27;nom_upgd&#x27;, &#x27;año&#x27;, &#x27;mes&#x27;,\n",
       "                                                   &#x27;victima_menor_de_edad&#x27;,\n",
       "                                                   &#x27;parentezco_vict&#x27;,\n",
       "                                                   &#x27;sustancias_vi...\n",
       "                                                                                            &#x27;data_type&#x27;: dtype(&#x27;O&#x27;),\n",
       "                                                                                            &#x27;mapping&#x27;: 0 a 6       0\n",
       "7  a 11     1\n",
       "12 a 17     2\n",
       "18 a 28     3\n",
       "29 a 59     4\n",
       "60 y mas    5\n",
       "dtype: int64},\n",
       "                                                                                           {&#x27;col&#x27;: &#x27;ciclo_de_vida&#x27;,\n",
       "                                                                                            &#x27;data_type&#x27;: dtype(&#x27;O&#x27;),\n",
       "                                                                                            &#x27;mapping&#x27;: Primera infancia    0\n",
       "Infancia            1\n",
       "Jovenes             2\n",
       "Adolescencia        3\n",
       "Adultez             4\n",
       "Persona Mayor       5\n",
       "dtype: int64}]))]),\n",
       "                                                  [&#x27;grupo_edad&#x27;,\n",
       "                                                   &#x27;ciclo_de_vida&#x27;])],\n",
       "                                   verbose_feature_names_out=False)),\n",
       "                (&#x27;reducir_dim&#x27;, PCA()),\n",
       "                (&#x27;estimador&#x27;, GradientBoostingClassifier())])</pre><b>In a Jupyter environment, please rerun this cell to show the HTML representation or trust the notebook. <br />On GitHub, the HTML representation is unable to render, please try loading this page with nbviewer.org.</b></div><div class=\"sk-container\" hidden><div class=\"sk-item sk-dashed-wrapped\"><div class=\"sk-label-container\"><div class=\"sk-label sk-toggleable\"><input class=\"sk-toggleable__control sk-hidden--visually\" id=\"sk-estimator-id-21\" type=\"checkbox\" ><label for=\"sk-estimator-id-21\" class=\"sk-toggleable__label sk-toggleable__label-arrow\">Pipeline</label><div class=\"sk-toggleable__content\"><pre>Pipeline(steps=[(&#x27;procesado_variables&#x27;,\n",
       "                 ColumnTransformer(remainder=&#x27;passthrough&#x27;,\n",
       "                                   transformers=[(&#x27;onehot&#x27;,\n",
       "                                                  OneHotEncoder(handle_unknown=&#x27;ignore&#x27;,\n",
       "                                                                sparse_output=False),\n",
       "                                                  [&#x27;municipio&#x27;,\n",
       "                                                   &#x27;tipo_de_seguridad_social&#x27;,\n",
       "                                                   &#x27;departamento&#x27;, &#x27;escenario&#x27;,\n",
       "                                                   &#x27;sexo&#x27;, &#x27;trimestre&#x27;,\n",
       "                                                   &#x27;actividad&#x27;, &#x27;semana&#x27;,\n",
       "                                                   &#x27;nom_upgd&#x27;, &#x27;año&#x27;, &#x27;mes&#x27;,\n",
       "                                                   &#x27;victima_menor_de_edad&#x27;,\n",
       "                                                   &#x27;parentezco_vict&#x27;,\n",
       "                                                   &#x27;sustancias_vi...\n",
       "                                                                                            &#x27;data_type&#x27;: dtype(&#x27;O&#x27;),\n",
       "                                                                                            &#x27;mapping&#x27;: 0 a 6       0\n",
       "7  a 11     1\n",
       "12 a 17     2\n",
       "18 a 28     3\n",
       "29 a 59     4\n",
       "60 y mas    5\n",
       "dtype: int64},\n",
       "                                                                                           {&#x27;col&#x27;: &#x27;ciclo_de_vida&#x27;,\n",
       "                                                                                            &#x27;data_type&#x27;: dtype(&#x27;O&#x27;),\n",
       "                                                                                            &#x27;mapping&#x27;: Primera infancia    0\n",
       "Infancia            1\n",
       "Jovenes             2\n",
       "Adolescencia        3\n",
       "Adultez             4\n",
       "Persona Mayor       5\n",
       "dtype: int64}]))]),\n",
       "                                                  [&#x27;grupo_edad&#x27;,\n",
       "                                                   &#x27;ciclo_de_vida&#x27;])],\n",
       "                                   verbose_feature_names_out=False)),\n",
       "                (&#x27;reducir_dim&#x27;, PCA()),\n",
       "                (&#x27;estimador&#x27;, GradientBoostingClassifier())])</pre></div></div></div><div class=\"sk-serial\"><div class=\"sk-item sk-dashed-wrapped\"><div class=\"sk-label-container\"><div class=\"sk-label sk-toggleable\"><input class=\"sk-toggleable__control sk-hidden--visually\" id=\"sk-estimator-id-22\" type=\"checkbox\" ><label for=\"sk-estimator-id-22\" class=\"sk-toggleable__label sk-toggleable__label-arrow\">procesado_variables: ColumnTransformer</label><div class=\"sk-toggleable__content\"><pre>ColumnTransformer(remainder=&#x27;passthrough&#x27;,\n",
       "                  transformers=[(&#x27;onehot&#x27;,\n",
       "                                 OneHotEncoder(handle_unknown=&#x27;ignore&#x27;,\n",
       "                                               sparse_output=False),\n",
       "                                 [&#x27;municipio&#x27;, &#x27;tipo_de_seguridad_social&#x27;,\n",
       "                                  &#x27;departamento&#x27;, &#x27;escenario&#x27;, &#x27;sexo&#x27;,\n",
       "                                  &#x27;trimestre&#x27;, &#x27;actividad&#x27;, &#x27;semana&#x27;,\n",
       "                                  &#x27;nom_upgd&#x27;, &#x27;año&#x27;, &#x27;mes&#x27;,\n",
       "                                  &#x27;victima_menor_de_edad&#x27;, &#x27;parentezco_vict&#x27;,\n",
       "                                  &#x27;sustancias_victima&#x27;, &#x27;nom_eve&#x27;,\n",
       "                                  &#x27;paciente_hospitalizad...\n",
       "                                                 (&#x27;transformador_ordinal&#x27;,\n",
       "                                                  OrdinalEncoder(mapping=[{&#x27;col&#x27;: &#x27;grupo_edad&#x27;,\n",
       "                                                                           &#x27;data_type&#x27;: dtype(&#x27;O&#x27;),\n",
       "                                                                           &#x27;mapping&#x27;: 0 a 6       0\n",
       "7  a 11     1\n",
       "12 a 17     2\n",
       "18 a 28     3\n",
       "29 a 59     4\n",
       "60 y mas    5\n",
       "dtype: int64},\n",
       "                                                                          {&#x27;col&#x27;: &#x27;ciclo_de_vida&#x27;,\n",
       "                                                                           &#x27;data_type&#x27;: dtype(&#x27;O&#x27;),\n",
       "                                                                           &#x27;mapping&#x27;: Primera infancia    0\n",
       "Infancia            1\n",
       "Jovenes             2\n",
       "Adolescencia        3\n",
       "Adultez             4\n",
       "Persona Mayor       5\n",
       "dtype: int64}]))]),\n",
       "                                 [&#x27;grupo_edad&#x27;, &#x27;ciclo_de_vida&#x27;])],\n",
       "                  verbose_feature_names_out=False)</pre></div></div></div><div class=\"sk-parallel\"><div class=\"sk-parallel-item\"><div class=\"sk-item\"><div class=\"sk-label-container\"><div class=\"sk-label sk-toggleable\"><input class=\"sk-toggleable__control sk-hidden--visually\" id=\"sk-estimator-id-23\" type=\"checkbox\" ><label for=\"sk-estimator-id-23\" class=\"sk-toggleable__label sk-toggleable__label-arrow\">onehot</label><div class=\"sk-toggleable__content\"><pre>[&#x27;municipio&#x27;, &#x27;tipo_de_seguridad_social&#x27;, &#x27;departamento&#x27;, &#x27;escenario&#x27;, &#x27;sexo&#x27;, &#x27;trimestre&#x27;, &#x27;actividad&#x27;, &#x27;semana&#x27;, &#x27;nom_upgd&#x27;, &#x27;año&#x27;, &#x27;mes&#x27;, &#x27;victima_menor_de_edad&#x27;, &#x27;parentezco_vict&#x27;, &#x27;sustancias_victima&#x27;, &#x27;nom_eve&#x27;, &#x27;paciente_hospitalizado&#x27;, &#x27;violencia_intrafamiliar&#x27;, &#x27;area&#x27;, &#x27;comuna&#x27;, &#x27;condicion_final&#x27;, &#x27;sexo_agre&#x27;, &#x27;agresor_menor_de_edad&#x27;]</pre></div></div></div><div class=\"sk-serial\"><div class=\"sk-item\"><div class=\"sk-estimator sk-toggleable\"><input class=\"sk-toggleable__control sk-hidden--visually\" id=\"sk-estimator-id-24\" type=\"checkbox\" ><label for=\"sk-estimator-id-24\" class=\"sk-toggleable__label sk-toggleable__label-arrow\">OneHotEncoder</label><div class=\"sk-toggleable__content\"><pre>OneHotEncoder(handle_unknown=&#x27;ignore&#x27;, sparse_output=False)</pre></div></div></div></div></div></div><div class=\"sk-parallel-item\"><div class=\"sk-item\"><div class=\"sk-label-container\"><div class=\"sk-label sk-toggleable\"><input class=\"sk-toggleable__control sk-hidden--visually\" id=\"sk-estimator-id-25\" type=\"checkbox\" ><label for=\"sk-estimator-id-25\" class=\"sk-toggleable__label sk-toggleable__label-arrow\">ordinal</label><div class=\"sk-toggleable__content\"><pre>[&#x27;grupo_edad&#x27;, &#x27;ciclo_de_vida&#x27;]</pre></div></div></div><div class=\"sk-serial\"><div class=\"sk-item\"><div class=\"sk-serial\"><div class=\"sk-item\"><div class=\"sk-estimator sk-toggleable\"><input class=\"sk-toggleable__control sk-hidden--visually\" id=\"sk-estimator-id-26\" type=\"checkbox\" ><label for=\"sk-estimator-id-26\" class=\"sk-toggleable__label sk-toggleable__label-arrow\">SimpleImputer</label><div class=\"sk-toggleable__content\"><pre>SimpleImputer(strategy=&#x27;most_frequent&#x27;)</pre></div></div></div><div class=\"sk-item\"><div class=\"sk-estimator sk-toggleable\"><input class=\"sk-toggleable__control sk-hidden--visually\" id=\"sk-estimator-id-27\" type=\"checkbox\" ><label for=\"sk-estimator-id-27\" class=\"sk-toggleable__label sk-toggleable__label-arrow\">OrdinalEncoder</label><div class=\"sk-toggleable__content\"><pre>OrdinalEncoder(mapping=[{&#x27;col&#x27;: &#x27;grupo_edad&#x27;, &#x27;data_type&#x27;: dtype(&#x27;O&#x27;),\n",
       "                         &#x27;mapping&#x27;: 0 a 6       0\n",
       "7  a 11     1\n",
       "12 a 17     2\n",
       "18 a 28     3\n",
       "29 a 59     4\n",
       "60 y mas    5\n",
       "dtype: int64},\n",
       "                        {&#x27;col&#x27;: &#x27;ciclo_de_vida&#x27;, &#x27;data_type&#x27;: dtype(&#x27;O&#x27;),\n",
       "                         &#x27;mapping&#x27;: Primera infancia    0\n",
       "Infancia            1\n",
       "Jovenes             2\n",
       "Adolescencia        3\n",
       "Adultez             4\n",
       "Persona Mayor       5\n",
       "dtype: int64}])</pre></div></div></div></div></div></div></div></div><div class=\"sk-parallel-item\"><div class=\"sk-item\"><div class=\"sk-label-container\"><div class=\"sk-label sk-toggleable\"><input class=\"sk-toggleable__control sk-hidden--visually\" id=\"sk-estimator-id-28\" type=\"checkbox\" ><label for=\"sk-estimator-id-28\" class=\"sk-toggleable__label sk-toggleable__label-arrow\">remainder</label><div class=\"sk-toggleable__content\"><pre>[&#x27;edad_agre&#x27;]</pre></div></div></div><div class=\"sk-serial\"><div class=\"sk-item\"><div class=\"sk-estimator sk-toggleable\"><input class=\"sk-toggleable__control sk-hidden--visually\" id=\"sk-estimator-id-29\" type=\"checkbox\" ><label for=\"sk-estimator-id-29\" class=\"sk-toggleable__label sk-toggleable__label-arrow\">passthrough</label><div class=\"sk-toggleable__content\"><pre>passthrough</pre></div></div></div></div></div></div></div></div><div class=\"sk-item\"><div class=\"sk-estimator sk-toggleable\"><input class=\"sk-toggleable__control sk-hidden--visually\" id=\"sk-estimator-id-30\" type=\"checkbox\" ><label for=\"sk-estimator-id-30\" class=\"sk-toggleable__label sk-toggleable__label-arrow\">PCA</label><div class=\"sk-toggleable__content\"><pre>PCA()</pre></div></div></div><div class=\"sk-item\"><div class=\"sk-estimator sk-toggleable\"><input class=\"sk-toggleable__control sk-hidden--visually\" id=\"sk-estimator-id-31\" type=\"checkbox\" ><label for=\"sk-estimator-id-31\" class=\"sk-toggleable__label sk-toggleable__label-arrow\">GradientBoostingClassifier</label><div class=\"sk-toggleable__content\"><pre>GradientBoostingClassifier()</pre></div></div></div></div></div></div></div>"
      ],
      "text/plain": [
       "Pipeline(steps=[('procesado_variables',\n",
       "                 ColumnTransformer(remainder='passthrough',\n",
       "                                   transformers=[('onehot',\n",
       "                                                  OneHotEncoder(handle_unknown='ignore',\n",
       "                                                                sparse_output=False),\n",
       "                                                  ['municipio',\n",
       "                                                   'tipo_de_seguridad_social',\n",
       "                                                   'departamento', 'escenario',\n",
       "                                                   'sexo', 'trimestre',\n",
       "                                                   'actividad', 'semana',\n",
       "                                                   'nom_upgd', 'año', 'mes',\n",
       "                                                   'victima_menor_de_edad',\n",
       "                                                   'parentezco_vict',\n",
       "                                                   'sustancias_vi...\n",
       "                                                                                            'data_type': dtype('O'),\n",
       "                                                                                            'mapping': 0 a 6       0\n",
       "7  a 11     1\n",
       "12 a 17     2\n",
       "18 a 28     3\n",
       "29 a 59     4\n",
       "60 y mas    5\n",
       "dtype: int64},\n",
       "                                                                                           {'col': 'ciclo_de_vida',\n",
       "                                                                                            'data_type': dtype('O'),\n",
       "                                                                                            'mapping': Primera infancia    0\n",
       "Infancia            1\n",
       "Jovenes             2\n",
       "Adolescencia        3\n",
       "Adultez             4\n",
       "Persona Mayor       5\n",
       "dtype: int64}]))]),\n",
       "                                                  ['grupo_edad',\n",
       "                                                   'ciclo_de_vida'])],\n",
       "                                   verbose_feature_names_out=False)),\n",
       "                ('reducir_dim', PCA()),\n",
       "                ('estimador', GradientBoostingClassifier())])"
      ]
     },
     "execution_count": 21,
     "metadata": {},
     "output_type": "execute_result"
    }
   ],
   "source": [
    "pipeline_estimador.fit(X=X_train, y=y_train)"
   ]
  },
  {
   "cell_type": "code",
   "execution_count": 22,
   "id": "d7054acf",
   "metadata": {},
   "outputs": [],
   "source": [
    "predicciones =  pipeline_estimador.predict(X=X_test)\n",
    "clases_reales = y_test\n",
    "predicciones_probabilidades =pipeline_estimador.predict_proba(X_test)"
   ]
  },
  {
   "cell_type": "code",
   "execution_count": 23,
   "id": "2d7b10fc",
   "metadata": {},
   "outputs": [
    {
     "name": "stdout",
     "output_type": "stream",
     "text": [
      "\n",
      "    Exactitud promedio: 0.836\n",
      "    Precisión promedio: 0.827\n",
      "    Sensibilidad promedio: 0.819\n",
      "    Puntuación F1 promedio: 0.822\n",
      "    \n"
     ]
    }
   ],
   "source": [
    "evaluar_modelo(clases_reales, predicciones, predicciones_probabilidades)"
   ]
  },
  {
   "cell_type": "code",
   "execution_count": 24,
   "id": "e98c0f94",
   "metadata": {},
   "outputs": [
    {
     "name": "stdout",
     "output_type": "stream",
     "text": [
      "Accuracy en datos de entrenamiento: 0.8860200816506676\n",
      "Accuracy en datos de prueba: 0.8309796999117387\n"
     ]
    }
   ],
   "source": [
    "train_accuracy = accuracy_score(y_train, pipeline_estimador.predict(X_train))\n",
    "test_accuracy = accuracy_score(y_test, pipeline_estimador.predict(X_test))\n",
    "print(\"Accuracy en datos de entrenamiento:\", train_accuracy)\n",
    "print(\"Accuracy en datos de prueba:\", test_accuracy)"
   ]
  },
  {
   "cell_type": "markdown",
   "id": "81d59336",
   "metadata": {},
   "source": [
    "## Prueba LightGBM"
   ]
  },
  {
   "cell_type": "code",
   "execution_count": 10,
   "id": "4e6201c6",
   "metadata": {},
   "outputs": [],
   "source": [
    "import lightgbm as lgb\n",
    "\n",
    "pipeline_estimador = Pipeline([\n",
    "    (\"procesado_variables\", pipeline_procesado),\n",
    "    (\"estimador\", lgb.LGBMClassifier())  \n",
    "])"
   ]
  },
  {
   "cell_type": "code",
   "execution_count": 11,
   "id": "8b9533a0",
   "metadata": {},
   "outputs": [
    {
     "data": {
      "text/html": [
       "<style>#sk-container-id-1 {color: black;background-color: white;}#sk-container-id-1 pre{padding: 0;}#sk-container-id-1 div.sk-toggleable {background-color: white;}#sk-container-id-1 label.sk-toggleable__label {cursor: pointer;display: block;width: 100%;margin-bottom: 0;padding: 0.3em;box-sizing: border-box;text-align: center;}#sk-container-id-1 label.sk-toggleable__label-arrow:before {content: \"▸\";float: left;margin-right: 0.25em;color: #696969;}#sk-container-id-1 label.sk-toggleable__label-arrow:hover:before {color: black;}#sk-container-id-1 div.sk-estimator:hover label.sk-toggleable__label-arrow:before {color: black;}#sk-container-id-1 div.sk-toggleable__content {max-height: 0;max-width: 0;overflow: hidden;text-align: left;background-color: #f0f8ff;}#sk-container-id-1 div.sk-toggleable__content pre {margin: 0.2em;color: black;border-radius: 0.25em;background-color: #f0f8ff;}#sk-container-id-1 input.sk-toggleable__control:checked~div.sk-toggleable__content {max-height: 200px;max-width: 100%;overflow: auto;}#sk-container-id-1 input.sk-toggleable__control:checked~label.sk-toggleable__label-arrow:before {content: \"▾\";}#sk-container-id-1 div.sk-estimator input.sk-toggleable__control:checked~label.sk-toggleable__label {background-color: #d4ebff;}#sk-container-id-1 div.sk-label input.sk-toggleable__control:checked~label.sk-toggleable__label {background-color: #d4ebff;}#sk-container-id-1 input.sk-hidden--visually {border: 0;clip: rect(1px 1px 1px 1px);clip: rect(1px, 1px, 1px, 1px);height: 1px;margin: -1px;overflow: hidden;padding: 0;position: absolute;width: 1px;}#sk-container-id-1 div.sk-estimator {font-family: monospace;background-color: #f0f8ff;border: 1px dotted black;border-radius: 0.25em;box-sizing: border-box;margin-bottom: 0.5em;}#sk-container-id-1 div.sk-estimator:hover {background-color: #d4ebff;}#sk-container-id-1 div.sk-parallel-item::after {content: \"\";width: 100%;border-bottom: 1px solid gray;flex-grow: 1;}#sk-container-id-1 div.sk-label:hover label.sk-toggleable__label {background-color: #d4ebff;}#sk-container-id-1 div.sk-serial::before {content: \"\";position: absolute;border-left: 1px solid gray;box-sizing: border-box;top: 0;bottom: 0;left: 50%;z-index: 0;}#sk-container-id-1 div.sk-serial {display: flex;flex-direction: column;align-items: center;background-color: white;padding-right: 0.2em;padding-left: 0.2em;position: relative;}#sk-container-id-1 div.sk-item {position: relative;z-index: 1;}#sk-container-id-1 div.sk-parallel {display: flex;align-items: stretch;justify-content: center;background-color: white;position: relative;}#sk-container-id-1 div.sk-item::before, #sk-container-id-1 div.sk-parallel-item::before {content: \"\";position: absolute;border-left: 1px solid gray;box-sizing: border-box;top: 0;bottom: 0;left: 50%;z-index: -1;}#sk-container-id-1 div.sk-parallel-item {display: flex;flex-direction: column;z-index: 1;position: relative;background-color: white;}#sk-container-id-1 div.sk-parallel-item:first-child::after {align-self: flex-end;width: 50%;}#sk-container-id-1 div.sk-parallel-item:last-child::after {align-self: flex-start;width: 50%;}#sk-container-id-1 div.sk-parallel-item:only-child::after {width: 0;}#sk-container-id-1 div.sk-dashed-wrapped {border: 1px dashed gray;margin: 0 0.4em 0.5em 0.4em;box-sizing: border-box;padding-bottom: 0.4em;background-color: white;}#sk-container-id-1 div.sk-label label {font-family: monospace;font-weight: bold;display: inline-block;line-height: 1.2em;}#sk-container-id-1 div.sk-label-container {text-align: center;}#sk-container-id-1 div.sk-container {/* jupyter's `normalize.less` sets `[hidden] { display: none; }` but bootstrap.min.css set `[hidden] { display: none !important; }` so we also need the `!important` here to be able to override the default hidden behavior on the sphinx rendered scikit-learn.org. See: https://github.com/scikit-learn/scikit-learn/issues/21755 */display: inline-block !important;position: relative;}#sk-container-id-1 div.sk-text-repr-fallback {display: none;}</style><div id=\"sk-container-id-1\" class=\"sk-top-container\"><div class=\"sk-text-repr-fallback\"><pre>Pipeline(steps=[(&#x27;procesado_variables&#x27;,\n",
       "                 ColumnTransformer(remainder=&#x27;passthrough&#x27;,\n",
       "                                   transformers=[(&#x27;onehot&#x27;,\n",
       "                                                  OneHotEncoder(handle_unknown=&#x27;ignore&#x27;,\n",
       "                                                                sparse_output=False),\n",
       "                                                  [&#x27;nom_eve&#x27;, &#x27;municipio&#x27;,\n",
       "                                                   &#x27;area&#x27;, &#x27;condicion_final&#x27;,\n",
       "                                                   &#x27;año&#x27;, &#x27;comuna&#x27;,\n",
       "                                                   &#x27;tipo_de_seguridad_social&#x27;,\n",
       "                                                   &#x27;violencia_intrafamiliar&#x27;,\n",
       "                                                   &#x27;departamento&#x27;,\n",
       "                                                   &#x27;victima_menor_de_edad&#x27;,\n",
       "                                                   &#x27;sexo&#x27;, &#x27;actividad&#x27;,\n",
       "                                                   &#x27;parentezco_...\n",
       "                                                                   OrdinalEncoder(mapping=[{&#x27;col&#x27;: &#x27;grupo_edad&#x27;,\n",
       "                                                                                            &#x27;data_type&#x27;: dtype(&#x27;O&#x27;),\n",
       "                                                                                            &#x27;mapping&#x27;: 0 a 6       0\n",
       "7  a 11     1\n",
       "12 a 17     2\n",
       "18 a 28     3\n",
       "29 a 59     4\n",
       "60 y mas    5\n",
       "dtype: int64},\n",
       "                                                                                           {&#x27;col&#x27;: &#x27;ciclo_de_vida&#x27;,\n",
       "                                                                                            &#x27;data_type&#x27;: dtype(&#x27;O&#x27;),\n",
       "                                                                                            &#x27;mapping&#x27;: Primera infancia    0\n",
       "Infancia            1\n",
       "Jovenes             2\n",
       "Adolescencia        3\n",
       "Adultez             4\n",
       "Persona Mayor       5\n",
       "dtype: int64}]))]),\n",
       "                                                  [&#x27;grupo_edad&#x27;,\n",
       "                                                   &#x27;ciclo_de_vida&#x27;])],\n",
       "                                   verbose_feature_names_out=False)),\n",
       "                (&#x27;estimador&#x27;, LGBMClassifier())])</pre><b>In a Jupyter environment, please rerun this cell to show the HTML representation or trust the notebook. <br />On GitHub, the HTML representation is unable to render, please try loading this page with nbviewer.org.</b></div><div class=\"sk-container\" hidden><div class=\"sk-item sk-dashed-wrapped\"><div class=\"sk-label-container\"><div class=\"sk-label sk-toggleable\"><input class=\"sk-toggleable__control sk-hidden--visually\" id=\"sk-estimator-id-1\" type=\"checkbox\" ><label for=\"sk-estimator-id-1\" class=\"sk-toggleable__label sk-toggleable__label-arrow\">Pipeline</label><div class=\"sk-toggleable__content\"><pre>Pipeline(steps=[(&#x27;procesado_variables&#x27;,\n",
       "                 ColumnTransformer(remainder=&#x27;passthrough&#x27;,\n",
       "                                   transformers=[(&#x27;onehot&#x27;,\n",
       "                                                  OneHotEncoder(handle_unknown=&#x27;ignore&#x27;,\n",
       "                                                                sparse_output=False),\n",
       "                                                  [&#x27;nom_eve&#x27;, &#x27;municipio&#x27;,\n",
       "                                                   &#x27;area&#x27;, &#x27;condicion_final&#x27;,\n",
       "                                                   &#x27;año&#x27;, &#x27;comuna&#x27;,\n",
       "                                                   &#x27;tipo_de_seguridad_social&#x27;,\n",
       "                                                   &#x27;violencia_intrafamiliar&#x27;,\n",
       "                                                   &#x27;departamento&#x27;,\n",
       "                                                   &#x27;victima_menor_de_edad&#x27;,\n",
       "                                                   &#x27;sexo&#x27;, &#x27;actividad&#x27;,\n",
       "                                                   &#x27;parentezco_...\n",
       "                                                                   OrdinalEncoder(mapping=[{&#x27;col&#x27;: &#x27;grupo_edad&#x27;,\n",
       "                                                                                            &#x27;data_type&#x27;: dtype(&#x27;O&#x27;),\n",
       "                                                                                            &#x27;mapping&#x27;: 0 a 6       0\n",
       "7  a 11     1\n",
       "12 a 17     2\n",
       "18 a 28     3\n",
       "29 a 59     4\n",
       "60 y mas    5\n",
       "dtype: int64},\n",
       "                                                                                           {&#x27;col&#x27;: &#x27;ciclo_de_vida&#x27;,\n",
       "                                                                                            &#x27;data_type&#x27;: dtype(&#x27;O&#x27;),\n",
       "                                                                                            &#x27;mapping&#x27;: Primera infancia    0\n",
       "Infancia            1\n",
       "Jovenes             2\n",
       "Adolescencia        3\n",
       "Adultez             4\n",
       "Persona Mayor       5\n",
       "dtype: int64}]))]),\n",
       "                                                  [&#x27;grupo_edad&#x27;,\n",
       "                                                   &#x27;ciclo_de_vida&#x27;])],\n",
       "                                   verbose_feature_names_out=False)),\n",
       "                (&#x27;estimador&#x27;, LGBMClassifier())])</pre></div></div></div><div class=\"sk-serial\"><div class=\"sk-item sk-dashed-wrapped\"><div class=\"sk-label-container\"><div class=\"sk-label sk-toggleable\"><input class=\"sk-toggleable__control sk-hidden--visually\" id=\"sk-estimator-id-2\" type=\"checkbox\" ><label for=\"sk-estimator-id-2\" class=\"sk-toggleable__label sk-toggleable__label-arrow\">procesado_variables: ColumnTransformer</label><div class=\"sk-toggleable__content\"><pre>ColumnTransformer(remainder=&#x27;passthrough&#x27;,\n",
       "                  transformers=[(&#x27;onehot&#x27;,\n",
       "                                 OneHotEncoder(handle_unknown=&#x27;ignore&#x27;,\n",
       "                                               sparse_output=False),\n",
       "                                 [&#x27;nom_eve&#x27;, &#x27;municipio&#x27;, &#x27;area&#x27;,\n",
       "                                  &#x27;condicion_final&#x27;, &#x27;año&#x27;, &#x27;comuna&#x27;,\n",
       "                                  &#x27;tipo_de_seguridad_social&#x27;,\n",
       "                                  &#x27;violencia_intrafamiliar&#x27;, &#x27;departamento&#x27;,\n",
       "                                  &#x27;victima_menor_de_edad&#x27;, &#x27;sexo&#x27;, &#x27;actividad&#x27;,\n",
       "                                  &#x27;parentezco_vict&#x27;, &#x27;trimestre&#x27;, &#x27;semana&#x27;,\n",
       "                                  &#x27;agresor_men...\n",
       "                                                 (&#x27;transformador_ordinal&#x27;,\n",
       "                                                  OrdinalEncoder(mapping=[{&#x27;col&#x27;: &#x27;grupo_edad&#x27;,\n",
       "                                                                           &#x27;data_type&#x27;: dtype(&#x27;O&#x27;),\n",
       "                                                                           &#x27;mapping&#x27;: 0 a 6       0\n",
       "7  a 11     1\n",
       "12 a 17     2\n",
       "18 a 28     3\n",
       "29 a 59     4\n",
       "60 y mas    5\n",
       "dtype: int64},\n",
       "                                                                          {&#x27;col&#x27;: &#x27;ciclo_de_vida&#x27;,\n",
       "                                                                           &#x27;data_type&#x27;: dtype(&#x27;O&#x27;),\n",
       "                                                                           &#x27;mapping&#x27;: Primera infancia    0\n",
       "Infancia            1\n",
       "Jovenes             2\n",
       "Adolescencia        3\n",
       "Adultez             4\n",
       "Persona Mayor       5\n",
       "dtype: int64}]))]),\n",
       "                                 [&#x27;grupo_edad&#x27;, &#x27;ciclo_de_vida&#x27;])],\n",
       "                  verbose_feature_names_out=False)</pre></div></div></div><div class=\"sk-parallel\"><div class=\"sk-parallel-item\"><div class=\"sk-item\"><div class=\"sk-label-container\"><div class=\"sk-label sk-toggleable\"><input class=\"sk-toggleable__control sk-hidden--visually\" id=\"sk-estimator-id-3\" type=\"checkbox\" ><label for=\"sk-estimator-id-3\" class=\"sk-toggleable__label sk-toggleable__label-arrow\">onehot</label><div class=\"sk-toggleable__content\"><pre>[&#x27;nom_eve&#x27;, &#x27;municipio&#x27;, &#x27;area&#x27;, &#x27;condicion_final&#x27;, &#x27;año&#x27;, &#x27;comuna&#x27;, &#x27;tipo_de_seguridad_social&#x27;, &#x27;violencia_intrafamiliar&#x27;, &#x27;departamento&#x27;, &#x27;victima_menor_de_edad&#x27;, &#x27;sexo&#x27;, &#x27;actividad&#x27;, &#x27;parentezco_vict&#x27;, &#x27;trimestre&#x27;, &#x27;semana&#x27;, &#x27;agresor_menor_de_edad&#x27;, &#x27;paciente_hospitalizado&#x27;, &#x27;nom_upgd&#x27;, &#x27;sustancias_victima&#x27;, &#x27;sexo_agre&#x27;, &#x27;escenario&#x27;, &#x27;mes&#x27;]</pre></div></div></div><div class=\"sk-serial\"><div class=\"sk-item\"><div class=\"sk-estimator sk-toggleable\"><input class=\"sk-toggleable__control sk-hidden--visually\" id=\"sk-estimator-id-4\" type=\"checkbox\" ><label for=\"sk-estimator-id-4\" class=\"sk-toggleable__label sk-toggleable__label-arrow\">OneHotEncoder</label><div class=\"sk-toggleable__content\"><pre>OneHotEncoder(handle_unknown=&#x27;ignore&#x27;, sparse_output=False)</pre></div></div></div></div></div></div><div class=\"sk-parallel-item\"><div class=\"sk-item\"><div class=\"sk-label-container\"><div class=\"sk-label sk-toggleable\"><input class=\"sk-toggleable__control sk-hidden--visually\" id=\"sk-estimator-id-5\" type=\"checkbox\" ><label for=\"sk-estimator-id-5\" class=\"sk-toggleable__label sk-toggleable__label-arrow\">ordinal</label><div class=\"sk-toggleable__content\"><pre>[&#x27;grupo_edad&#x27;, &#x27;ciclo_de_vida&#x27;]</pre></div></div></div><div class=\"sk-serial\"><div class=\"sk-item\"><div class=\"sk-serial\"><div class=\"sk-item\"><div class=\"sk-estimator sk-toggleable\"><input class=\"sk-toggleable__control sk-hidden--visually\" id=\"sk-estimator-id-6\" type=\"checkbox\" ><label for=\"sk-estimator-id-6\" class=\"sk-toggleable__label sk-toggleable__label-arrow\">SimpleImputer</label><div class=\"sk-toggleable__content\"><pre>SimpleImputer(strategy=&#x27;most_frequent&#x27;)</pre></div></div></div><div class=\"sk-item\"><div class=\"sk-estimator sk-toggleable\"><input class=\"sk-toggleable__control sk-hidden--visually\" id=\"sk-estimator-id-7\" type=\"checkbox\" ><label for=\"sk-estimator-id-7\" class=\"sk-toggleable__label sk-toggleable__label-arrow\">OrdinalEncoder</label><div class=\"sk-toggleable__content\"><pre>OrdinalEncoder(mapping=[{&#x27;col&#x27;: &#x27;grupo_edad&#x27;, &#x27;data_type&#x27;: dtype(&#x27;O&#x27;),\n",
       "                         &#x27;mapping&#x27;: 0 a 6       0\n",
       "7  a 11     1\n",
       "12 a 17     2\n",
       "18 a 28     3\n",
       "29 a 59     4\n",
       "60 y mas    5\n",
       "dtype: int64},\n",
       "                        {&#x27;col&#x27;: &#x27;ciclo_de_vida&#x27;, &#x27;data_type&#x27;: dtype(&#x27;O&#x27;),\n",
       "                         &#x27;mapping&#x27;: Primera infancia    0\n",
       "Infancia            1\n",
       "Jovenes             2\n",
       "Adolescencia        3\n",
       "Adultez             4\n",
       "Persona Mayor       5\n",
       "dtype: int64}])</pre></div></div></div></div></div></div></div></div><div class=\"sk-parallel-item\"><div class=\"sk-item\"><div class=\"sk-label-container\"><div class=\"sk-label sk-toggleable\"><input class=\"sk-toggleable__control sk-hidden--visually\" id=\"sk-estimator-id-8\" type=\"checkbox\" ><label for=\"sk-estimator-id-8\" class=\"sk-toggleable__label sk-toggleable__label-arrow\">remainder</label><div class=\"sk-toggleable__content\"><pre>[&#x27;edad_agre&#x27;]</pre></div></div></div><div class=\"sk-serial\"><div class=\"sk-item\"><div class=\"sk-estimator sk-toggleable\"><input class=\"sk-toggleable__control sk-hidden--visually\" id=\"sk-estimator-id-9\" type=\"checkbox\" ><label for=\"sk-estimator-id-9\" class=\"sk-toggleable__label sk-toggleable__label-arrow\">passthrough</label><div class=\"sk-toggleable__content\"><pre>passthrough</pre></div></div></div></div></div></div></div></div><div class=\"sk-item\"><div class=\"sk-estimator sk-toggleable\"><input class=\"sk-toggleable__control sk-hidden--visually\" id=\"sk-estimator-id-10\" type=\"checkbox\" ><label for=\"sk-estimator-id-10\" class=\"sk-toggleable__label sk-toggleable__label-arrow\">LGBMClassifier</label><div class=\"sk-toggleable__content\"><pre>LGBMClassifier()</pre></div></div></div></div></div></div></div>"
      ],
      "text/plain": [
       "Pipeline(steps=[('procesado_variables',\n",
       "                 ColumnTransformer(remainder='passthrough',\n",
       "                                   transformers=[('onehot',\n",
       "                                                  OneHotEncoder(handle_unknown='ignore',\n",
       "                                                                sparse_output=False),\n",
       "                                                  ['nom_eve', 'municipio',\n",
       "                                                   'area', 'condicion_final',\n",
       "                                                   'año', 'comuna',\n",
       "                                                   'tipo_de_seguridad_social',\n",
       "                                                   'violencia_intrafamiliar',\n",
       "                                                   'departamento',\n",
       "                                                   'victima_menor_de_edad',\n",
       "                                                   'sexo', 'actividad',\n",
       "                                                   'parentezco_...\n",
       "                                                                   OrdinalEncoder(mapping=[{'col': 'grupo_edad',\n",
       "                                                                                            'data_type': dtype('O'),\n",
       "                                                                                            'mapping': 0 a 6       0\n",
       "7  a 11     1\n",
       "12 a 17     2\n",
       "18 a 28     3\n",
       "29 a 59     4\n",
       "60 y mas    5\n",
       "dtype: int64},\n",
       "                                                                                           {'col': 'ciclo_de_vida',\n",
       "                                                                                            'data_type': dtype('O'),\n",
       "                                                                                            'mapping': Primera infancia    0\n",
       "Infancia            1\n",
       "Jovenes             2\n",
       "Adolescencia        3\n",
       "Adultez             4\n",
       "Persona Mayor       5\n",
       "dtype: int64}]))]),\n",
       "                                                  ['grupo_edad',\n",
       "                                                   'ciclo_de_vida'])],\n",
       "                                   verbose_feature_names_out=False)),\n",
       "                ('estimador', LGBMClassifier())])"
      ]
     },
     "execution_count": 11,
     "metadata": {},
     "output_type": "execute_result"
    }
   ],
   "source": [
    "pipeline_estimador.fit(X=X_train, y=y_train)"
   ]
  },
  {
   "cell_type": "code",
   "execution_count": 12,
   "id": "04af8909",
   "metadata": {},
   "outputs": [],
   "source": [
    "predicciones =  pipeline_estimador.predict(X=X_test)\n",
    "clases_reales = y_test\n",
    "predicciones_probabilidades =pipeline_estimador.predict_proba(X_test)"
   ]
  },
  {
   "cell_type": "code",
   "execution_count": 13,
   "id": "3872fc42",
   "metadata": {},
   "outputs": [
    {
     "name": "stdout",
     "output_type": "stream",
     "text": [
      "\n",
      "    Exactitud promedio: 0.850\n",
      "    Precisión promedio: 0.841\n",
      "    Sensibilidad promedio: 0.840\n",
      "    Puntuación F1 promedio: 0.840\n",
      "    \n"
     ]
    }
   ],
   "source": [
    "evaluar_modelo(clases_reales, predicciones, predicciones_probabilidades)"
   ]
  },
  {
   "cell_type": "code",
   "execution_count": 14,
   "id": "fd86b9d4",
   "metadata": {},
   "outputs": [
    {
     "name": "stdout",
     "output_type": "stream",
     "text": [
      "Accuracy en datos de entrenamiento: 0.922211188348229\n",
      "Accuracy en datos de prueba: 0.855251544571933\n"
     ]
    }
   ],
   "source": [
    "train_accuracy = accuracy_score(y_train, pipeline_estimador.predict(X_train))\n",
    "test_accuracy = accuracy_score(y_test, pipeline_estimador.predict(X_test))\n",
    "print(\"Accuracy en datos de entrenamiento:\", train_accuracy)\n",
    "print(\"Accuracy en datos de prueba:\", test_accuracy)"
   ]
  },
  {
   "cell_type": "markdown",
   "id": "6813471d",
   "metadata": {},
   "source": [
    "# Prueba XGBoost"
   ]
  },
  {
   "cell_type": "code",
   "execution_count": 20,
   "id": "ebca46cc",
   "metadata": {},
   "outputs": [],
   "source": [
    "import xgboost as xgb\n",
    "\n",
    "pipeline_estimador = Pipeline([\n",
    "    (\"procesado_variables\", pipeline_procesado),\n",
    "    (\"estimador\", xgb.XGBClassifier(objective='multi:softmax', num_class=4))\n",
    "])"
   ]
  },
  {
   "cell_type": "code",
   "execution_count": 21,
   "id": "8e74daca",
   "metadata": {
    "scrolled": true
   },
   "outputs": [
    {
     "data": {
      "text/html": [
       "<style>#sk-container-id-3 {color: black;background-color: white;}#sk-container-id-3 pre{padding: 0;}#sk-container-id-3 div.sk-toggleable {background-color: white;}#sk-container-id-3 label.sk-toggleable__label {cursor: pointer;display: block;width: 100%;margin-bottom: 0;padding: 0.3em;box-sizing: border-box;text-align: center;}#sk-container-id-3 label.sk-toggleable__label-arrow:before {content: \"▸\";float: left;margin-right: 0.25em;color: #696969;}#sk-container-id-3 label.sk-toggleable__label-arrow:hover:before {color: black;}#sk-container-id-3 div.sk-estimator:hover label.sk-toggleable__label-arrow:before {color: black;}#sk-container-id-3 div.sk-toggleable__content {max-height: 0;max-width: 0;overflow: hidden;text-align: left;background-color: #f0f8ff;}#sk-container-id-3 div.sk-toggleable__content pre {margin: 0.2em;color: black;border-radius: 0.25em;background-color: #f0f8ff;}#sk-container-id-3 input.sk-toggleable__control:checked~div.sk-toggleable__content {max-height: 200px;max-width: 100%;overflow: auto;}#sk-container-id-3 input.sk-toggleable__control:checked~label.sk-toggleable__label-arrow:before {content: \"▾\";}#sk-container-id-3 div.sk-estimator input.sk-toggleable__control:checked~label.sk-toggleable__label {background-color: #d4ebff;}#sk-container-id-3 div.sk-label input.sk-toggleable__control:checked~label.sk-toggleable__label {background-color: #d4ebff;}#sk-container-id-3 input.sk-hidden--visually {border: 0;clip: rect(1px 1px 1px 1px);clip: rect(1px, 1px, 1px, 1px);height: 1px;margin: -1px;overflow: hidden;padding: 0;position: absolute;width: 1px;}#sk-container-id-3 div.sk-estimator {font-family: monospace;background-color: #f0f8ff;border: 1px dotted black;border-radius: 0.25em;box-sizing: border-box;margin-bottom: 0.5em;}#sk-container-id-3 div.sk-estimator:hover {background-color: #d4ebff;}#sk-container-id-3 div.sk-parallel-item::after {content: \"\";width: 100%;border-bottom: 1px solid gray;flex-grow: 1;}#sk-container-id-3 div.sk-label:hover label.sk-toggleable__label {background-color: #d4ebff;}#sk-container-id-3 div.sk-serial::before {content: \"\";position: absolute;border-left: 1px solid gray;box-sizing: border-box;top: 0;bottom: 0;left: 50%;z-index: 0;}#sk-container-id-3 div.sk-serial {display: flex;flex-direction: column;align-items: center;background-color: white;padding-right: 0.2em;padding-left: 0.2em;position: relative;}#sk-container-id-3 div.sk-item {position: relative;z-index: 1;}#sk-container-id-3 div.sk-parallel {display: flex;align-items: stretch;justify-content: center;background-color: white;position: relative;}#sk-container-id-3 div.sk-item::before, #sk-container-id-3 div.sk-parallel-item::before {content: \"\";position: absolute;border-left: 1px solid gray;box-sizing: border-box;top: 0;bottom: 0;left: 50%;z-index: -1;}#sk-container-id-3 div.sk-parallel-item {display: flex;flex-direction: column;z-index: 1;position: relative;background-color: white;}#sk-container-id-3 div.sk-parallel-item:first-child::after {align-self: flex-end;width: 50%;}#sk-container-id-3 div.sk-parallel-item:last-child::after {align-self: flex-start;width: 50%;}#sk-container-id-3 div.sk-parallel-item:only-child::after {width: 0;}#sk-container-id-3 div.sk-dashed-wrapped {border: 1px dashed gray;margin: 0 0.4em 0.5em 0.4em;box-sizing: border-box;padding-bottom: 0.4em;background-color: white;}#sk-container-id-3 div.sk-label label {font-family: monospace;font-weight: bold;display: inline-block;line-height: 1.2em;}#sk-container-id-3 div.sk-label-container {text-align: center;}#sk-container-id-3 div.sk-container {/* jupyter's `normalize.less` sets `[hidden] { display: none; }` but bootstrap.min.css set `[hidden] { display: none !important; }` so we also need the `!important` here to be able to override the default hidden behavior on the sphinx rendered scikit-learn.org. See: https://github.com/scikit-learn/scikit-learn/issues/21755 */display: inline-block !important;position: relative;}#sk-container-id-3 div.sk-text-repr-fallback {display: none;}</style><div id=\"sk-container-id-3\" class=\"sk-top-container\"><div class=\"sk-text-repr-fallback\"><pre>Pipeline(steps=[(&#x27;procesado_variables&#x27;,\n",
       "                 ColumnTransformer(remainder=&#x27;passthrough&#x27;,\n",
       "                                   transformers=[(&#x27;onehot&#x27;,\n",
       "                                                  OneHotEncoder(handle_unknown=&#x27;ignore&#x27;,\n",
       "                                                                sparse_output=False),\n",
       "                                                  [&#x27;nom_eve&#x27;, &#x27;municipio&#x27;,\n",
       "                                                   &#x27;area&#x27;, &#x27;condicion_final&#x27;,\n",
       "                                                   &#x27;año&#x27;, &#x27;comuna&#x27;,\n",
       "                                                   &#x27;tipo_de_seguridad_social&#x27;,\n",
       "                                                   &#x27;violencia_intrafamiliar&#x27;,\n",
       "                                                   &#x27;departamento&#x27;,\n",
       "                                                   &#x27;victima_menor_de_edad&#x27;,\n",
       "                                                   &#x27;sexo&#x27;, &#x27;actividad&#x27;,\n",
       "                                                   &#x27;parentezco_...\n",
       "                               grow_policy=None, importance_type=None,\n",
       "                               interaction_constraints=None, learning_rate=None,\n",
       "                               max_bin=None, max_cat_threshold=None,\n",
       "                               max_cat_to_onehot=None, max_delta_step=None,\n",
       "                               max_depth=None, max_leaves=None,\n",
       "                               min_child_weight=None, missing=nan,\n",
       "                               monotone_constraints=None, n_estimators=100,\n",
       "                               n_jobs=None, num_class=4, num_parallel_tree=None,\n",
       "                               objective=&#x27;multi:softmax&#x27;, ...))])</pre><b>In a Jupyter environment, please rerun this cell to show the HTML representation or trust the notebook. <br />On GitHub, the HTML representation is unable to render, please try loading this page with nbviewer.org.</b></div><div class=\"sk-container\" hidden><div class=\"sk-item sk-dashed-wrapped\"><div class=\"sk-label-container\"><div class=\"sk-label sk-toggleable\"><input class=\"sk-toggleable__control sk-hidden--visually\" id=\"sk-estimator-id-21\" type=\"checkbox\" ><label for=\"sk-estimator-id-21\" class=\"sk-toggleable__label sk-toggleable__label-arrow\">Pipeline</label><div class=\"sk-toggleable__content\"><pre>Pipeline(steps=[(&#x27;procesado_variables&#x27;,\n",
       "                 ColumnTransformer(remainder=&#x27;passthrough&#x27;,\n",
       "                                   transformers=[(&#x27;onehot&#x27;,\n",
       "                                                  OneHotEncoder(handle_unknown=&#x27;ignore&#x27;,\n",
       "                                                                sparse_output=False),\n",
       "                                                  [&#x27;nom_eve&#x27;, &#x27;municipio&#x27;,\n",
       "                                                   &#x27;area&#x27;, &#x27;condicion_final&#x27;,\n",
       "                                                   &#x27;año&#x27;, &#x27;comuna&#x27;,\n",
       "                                                   &#x27;tipo_de_seguridad_social&#x27;,\n",
       "                                                   &#x27;violencia_intrafamiliar&#x27;,\n",
       "                                                   &#x27;departamento&#x27;,\n",
       "                                                   &#x27;victima_menor_de_edad&#x27;,\n",
       "                                                   &#x27;sexo&#x27;, &#x27;actividad&#x27;,\n",
       "                                                   &#x27;parentezco_...\n",
       "                               grow_policy=None, importance_type=None,\n",
       "                               interaction_constraints=None, learning_rate=None,\n",
       "                               max_bin=None, max_cat_threshold=None,\n",
       "                               max_cat_to_onehot=None, max_delta_step=None,\n",
       "                               max_depth=None, max_leaves=None,\n",
       "                               min_child_weight=None, missing=nan,\n",
       "                               monotone_constraints=None, n_estimators=100,\n",
       "                               n_jobs=None, num_class=4, num_parallel_tree=None,\n",
       "                               objective=&#x27;multi:softmax&#x27;, ...))])</pre></div></div></div><div class=\"sk-serial\"><div class=\"sk-item sk-dashed-wrapped\"><div class=\"sk-label-container\"><div class=\"sk-label sk-toggleable\"><input class=\"sk-toggleable__control sk-hidden--visually\" id=\"sk-estimator-id-22\" type=\"checkbox\" ><label for=\"sk-estimator-id-22\" class=\"sk-toggleable__label sk-toggleable__label-arrow\">procesado_variables: ColumnTransformer</label><div class=\"sk-toggleable__content\"><pre>ColumnTransformer(remainder=&#x27;passthrough&#x27;,\n",
       "                  transformers=[(&#x27;onehot&#x27;,\n",
       "                                 OneHotEncoder(handle_unknown=&#x27;ignore&#x27;,\n",
       "                                               sparse_output=False),\n",
       "                                 [&#x27;nom_eve&#x27;, &#x27;municipio&#x27;, &#x27;area&#x27;,\n",
       "                                  &#x27;condicion_final&#x27;, &#x27;año&#x27;, &#x27;comuna&#x27;,\n",
       "                                  &#x27;tipo_de_seguridad_social&#x27;,\n",
       "                                  &#x27;violencia_intrafamiliar&#x27;, &#x27;departamento&#x27;,\n",
       "                                  &#x27;victima_menor_de_edad&#x27;, &#x27;sexo&#x27;, &#x27;actividad&#x27;,\n",
       "                                  &#x27;parentezco_vict&#x27;, &#x27;trimestre&#x27;, &#x27;semana&#x27;,\n",
       "                                  &#x27;agresor_men...\n",
       "                                                 (&#x27;transformador_ordinal&#x27;,\n",
       "                                                  OrdinalEncoder(mapping=[{&#x27;col&#x27;: &#x27;grupo_edad&#x27;,\n",
       "                                                                           &#x27;data_type&#x27;: dtype(&#x27;O&#x27;),\n",
       "                                                                           &#x27;mapping&#x27;: 0 a 6       0\n",
       "7  a 11     1\n",
       "12 a 17     2\n",
       "18 a 28     3\n",
       "29 a 59     4\n",
       "60 y mas    5\n",
       "dtype: int64},\n",
       "                                                                          {&#x27;col&#x27;: &#x27;ciclo_de_vida&#x27;,\n",
       "                                                                           &#x27;data_type&#x27;: dtype(&#x27;O&#x27;),\n",
       "                                                                           &#x27;mapping&#x27;: Primera infancia    0\n",
       "Infancia            1\n",
       "Jovenes             2\n",
       "Adolescencia        3\n",
       "Adultez             4\n",
       "Persona Mayor       5\n",
       "dtype: int64}]))]),\n",
       "                                 [&#x27;grupo_edad&#x27;, &#x27;ciclo_de_vida&#x27;])],\n",
       "                  verbose_feature_names_out=False)</pre></div></div></div><div class=\"sk-parallel\"><div class=\"sk-parallel-item\"><div class=\"sk-item\"><div class=\"sk-label-container\"><div class=\"sk-label sk-toggleable\"><input class=\"sk-toggleable__control sk-hidden--visually\" id=\"sk-estimator-id-23\" type=\"checkbox\" ><label for=\"sk-estimator-id-23\" class=\"sk-toggleable__label sk-toggleable__label-arrow\">onehot</label><div class=\"sk-toggleable__content\"><pre>[&#x27;nom_eve&#x27;, &#x27;municipio&#x27;, &#x27;area&#x27;, &#x27;condicion_final&#x27;, &#x27;año&#x27;, &#x27;comuna&#x27;, &#x27;tipo_de_seguridad_social&#x27;, &#x27;violencia_intrafamiliar&#x27;, &#x27;departamento&#x27;, &#x27;victima_menor_de_edad&#x27;, &#x27;sexo&#x27;, &#x27;actividad&#x27;, &#x27;parentezco_vict&#x27;, &#x27;trimestre&#x27;, &#x27;semana&#x27;, &#x27;agresor_menor_de_edad&#x27;, &#x27;paciente_hospitalizado&#x27;, &#x27;nom_upgd&#x27;, &#x27;sustancias_victima&#x27;, &#x27;sexo_agre&#x27;, &#x27;escenario&#x27;, &#x27;mes&#x27;]</pre></div></div></div><div class=\"sk-serial\"><div class=\"sk-item\"><div class=\"sk-estimator sk-toggleable\"><input class=\"sk-toggleable__control sk-hidden--visually\" id=\"sk-estimator-id-24\" type=\"checkbox\" ><label for=\"sk-estimator-id-24\" class=\"sk-toggleable__label sk-toggleable__label-arrow\">OneHotEncoder</label><div class=\"sk-toggleable__content\"><pre>OneHotEncoder(handle_unknown=&#x27;ignore&#x27;, sparse_output=False)</pre></div></div></div></div></div></div><div class=\"sk-parallel-item\"><div class=\"sk-item\"><div class=\"sk-label-container\"><div class=\"sk-label sk-toggleable\"><input class=\"sk-toggleable__control sk-hidden--visually\" id=\"sk-estimator-id-25\" type=\"checkbox\" ><label for=\"sk-estimator-id-25\" class=\"sk-toggleable__label sk-toggleable__label-arrow\">ordinal</label><div class=\"sk-toggleable__content\"><pre>[&#x27;grupo_edad&#x27;, &#x27;ciclo_de_vida&#x27;]</pre></div></div></div><div class=\"sk-serial\"><div class=\"sk-item\"><div class=\"sk-serial\"><div class=\"sk-item\"><div class=\"sk-estimator sk-toggleable\"><input class=\"sk-toggleable__control sk-hidden--visually\" id=\"sk-estimator-id-26\" type=\"checkbox\" ><label for=\"sk-estimator-id-26\" class=\"sk-toggleable__label sk-toggleable__label-arrow\">SimpleImputer</label><div class=\"sk-toggleable__content\"><pre>SimpleImputer(strategy=&#x27;most_frequent&#x27;)</pre></div></div></div><div class=\"sk-item\"><div class=\"sk-estimator sk-toggleable\"><input class=\"sk-toggleable__control sk-hidden--visually\" id=\"sk-estimator-id-27\" type=\"checkbox\" ><label for=\"sk-estimator-id-27\" class=\"sk-toggleable__label sk-toggleable__label-arrow\">OrdinalEncoder</label><div class=\"sk-toggleable__content\"><pre>OrdinalEncoder(mapping=[{&#x27;col&#x27;: &#x27;grupo_edad&#x27;, &#x27;data_type&#x27;: dtype(&#x27;O&#x27;),\n",
       "                         &#x27;mapping&#x27;: 0 a 6       0\n",
       "7  a 11     1\n",
       "12 a 17     2\n",
       "18 a 28     3\n",
       "29 a 59     4\n",
       "60 y mas    5\n",
       "dtype: int64},\n",
       "                        {&#x27;col&#x27;: &#x27;ciclo_de_vida&#x27;, &#x27;data_type&#x27;: dtype(&#x27;O&#x27;),\n",
       "                         &#x27;mapping&#x27;: Primera infancia    0\n",
       "Infancia            1\n",
       "Jovenes             2\n",
       "Adolescencia        3\n",
       "Adultez             4\n",
       "Persona Mayor       5\n",
       "dtype: int64}])</pre></div></div></div></div></div></div></div></div><div class=\"sk-parallel-item\"><div class=\"sk-item\"><div class=\"sk-label-container\"><div class=\"sk-label sk-toggleable\"><input class=\"sk-toggleable__control sk-hidden--visually\" id=\"sk-estimator-id-28\" type=\"checkbox\" ><label for=\"sk-estimator-id-28\" class=\"sk-toggleable__label sk-toggleable__label-arrow\">remainder</label><div class=\"sk-toggleable__content\"><pre>[&#x27;edad_agre&#x27;]</pre></div></div></div><div class=\"sk-serial\"><div class=\"sk-item\"><div class=\"sk-estimator sk-toggleable\"><input class=\"sk-toggleable__control sk-hidden--visually\" id=\"sk-estimator-id-29\" type=\"checkbox\" ><label for=\"sk-estimator-id-29\" class=\"sk-toggleable__label sk-toggleable__label-arrow\">passthrough</label><div class=\"sk-toggleable__content\"><pre>passthrough</pre></div></div></div></div></div></div></div></div><div class=\"sk-item\"><div class=\"sk-estimator sk-toggleable\"><input class=\"sk-toggleable__control sk-hidden--visually\" id=\"sk-estimator-id-30\" type=\"checkbox\" ><label for=\"sk-estimator-id-30\" class=\"sk-toggleable__label sk-toggleable__label-arrow\">XGBClassifier</label><div class=\"sk-toggleable__content\"><pre>XGBClassifier(base_score=None, booster=None, callbacks=None,\n",
       "              colsample_bylevel=None, colsample_bynode=None,\n",
       "              colsample_bytree=None, early_stopping_rounds=None,\n",
       "              enable_categorical=False, eval_metric=None, feature_types=None,\n",
       "              gamma=None, gpu_id=None, grow_policy=None, importance_type=None,\n",
       "              interaction_constraints=None, learning_rate=None, max_bin=None,\n",
       "              max_cat_threshold=None, max_cat_to_onehot=None,\n",
       "              max_delta_step=None, max_depth=None, max_leaves=None,\n",
       "              min_child_weight=None, missing=nan, monotone_constraints=None,\n",
       "              n_estimators=100, n_jobs=None, num_class=4,\n",
       "              num_parallel_tree=None, objective=&#x27;multi:softmax&#x27;, ...)</pre></div></div></div></div></div></div></div>"
      ],
      "text/plain": [
       "Pipeline(steps=[('procesado_variables',\n",
       "                 ColumnTransformer(remainder='passthrough',\n",
       "                                   transformers=[('onehot',\n",
       "                                                  OneHotEncoder(handle_unknown='ignore',\n",
       "                                                                sparse_output=False),\n",
       "                                                  ['nom_eve', 'municipio',\n",
       "                                                   'area', 'condicion_final',\n",
       "                                                   'año', 'comuna',\n",
       "                                                   'tipo_de_seguridad_social',\n",
       "                                                   'violencia_intrafamiliar',\n",
       "                                                   'departamento',\n",
       "                                                   'victima_menor_de_edad',\n",
       "                                                   'sexo', 'actividad',\n",
       "                                                   'parentezco_...\n",
       "                               grow_policy=None, importance_type=None,\n",
       "                               interaction_constraints=None, learning_rate=None,\n",
       "                               max_bin=None, max_cat_threshold=None,\n",
       "                               max_cat_to_onehot=None, max_delta_step=None,\n",
       "                               max_depth=None, max_leaves=None,\n",
       "                               min_child_weight=None, missing=nan,\n",
       "                               monotone_constraints=None, n_estimators=100,\n",
       "                               n_jobs=None, num_class=4, num_parallel_tree=None,\n",
       "                               objective='multi:softmax', ...))])"
      ]
     },
     "execution_count": 21,
     "metadata": {},
     "output_type": "execute_result"
    }
   ],
   "source": [
    "pipeline_estimador.fit(X=X_train, y=y_train)"
   ]
  },
  {
   "cell_type": "code",
   "execution_count": 22,
   "id": "4a5369bf",
   "metadata": {},
   "outputs": [],
   "source": [
    "predicciones =  pipeline_estimador.predict(X=X_test)\n",
    "clases_reales = y_test\n",
    "predicciones_probabilidades =pipeline_estimador.predict_proba(X_test)"
   ]
  },
  {
   "cell_type": "code",
   "execution_count": 23,
   "id": "5c2ba001",
   "metadata": {
    "scrolled": true
   },
   "outputs": [
    {
     "name": "stdout",
     "output_type": "stream",
     "text": [
      "\n",
      "    Exactitud promedio: 0.850\n",
      "    Precisión promedio: 0.842\n",
      "    Sensibilidad promedio: 0.840\n",
      "    Puntuación F1 promedio: 0.841\n",
      "    \n"
     ]
    }
   ],
   "source": [
    "evaluar_modelo(clases_reales, predicciones, predicciones_probabilidades)"
   ]
  },
  {
   "cell_type": "code",
   "execution_count": 24,
   "id": "bb181b4c",
   "metadata": {
    "scrolled": true
   },
   "outputs": [
    {
     "name": "stdout",
     "output_type": "stream",
     "text": [
      "Accuracy en datos de entrenamiento: 0.9567472139468167\n",
      "Accuracy en datos de prueba: 0.8508384819064431\n"
     ]
    }
   ],
   "source": [
    "train_accuracy = accuracy_score(y_train, pipeline_estimador.predict(X_train))\n",
    "test_accuracy = accuracy_score(y_test, pipeline_estimador.predict(X_test))\n",
    "print(\"Accuracy en datos de entrenamiento:\", train_accuracy)\n",
    "print(\"Accuracy en datos de prueba:\", test_accuracy)"
   ]
  },
  {
   "cell_type": "markdown",
   "id": "4b77df90",
   "metadata": {},
   "source": [
    "## Prueba Regresión Logística"
   ]
  },
  {
   "cell_type": "code",
   "execution_count": 35,
   "id": "996b764d",
   "metadata": {},
   "outputs": [],
   "source": [
    "from sklearn.linear_model import LogisticRegression\n",
    "\n",
    "pipeline_estimador = Pipeline([\n",
    "    (\"procesado_variables\", pipeline_procesado),\n",
    "    (\"escala\", StandardScaler()),\n",
    "    (\"estimador\", LogisticRegression(max_iter=1000))  \n",
    "])"
   ]
  },
  {
   "cell_type": "code",
   "execution_count": 36,
   "id": "38b9f1ac",
   "metadata": {},
   "outputs": [
    {
     "data": {
      "text/html": [
       "<style>#sk-container-id-6 {color: black;background-color: white;}#sk-container-id-6 pre{padding: 0;}#sk-container-id-6 div.sk-toggleable {background-color: white;}#sk-container-id-6 label.sk-toggleable__label {cursor: pointer;display: block;width: 100%;margin-bottom: 0;padding: 0.3em;box-sizing: border-box;text-align: center;}#sk-container-id-6 label.sk-toggleable__label-arrow:before {content: \"▸\";float: left;margin-right: 0.25em;color: #696969;}#sk-container-id-6 label.sk-toggleable__label-arrow:hover:before {color: black;}#sk-container-id-6 div.sk-estimator:hover label.sk-toggleable__label-arrow:before {color: black;}#sk-container-id-6 div.sk-toggleable__content {max-height: 0;max-width: 0;overflow: hidden;text-align: left;background-color: #f0f8ff;}#sk-container-id-6 div.sk-toggleable__content pre {margin: 0.2em;color: black;border-radius: 0.25em;background-color: #f0f8ff;}#sk-container-id-6 input.sk-toggleable__control:checked~div.sk-toggleable__content {max-height: 200px;max-width: 100%;overflow: auto;}#sk-container-id-6 input.sk-toggleable__control:checked~label.sk-toggleable__label-arrow:before {content: \"▾\";}#sk-container-id-6 div.sk-estimator input.sk-toggleable__control:checked~label.sk-toggleable__label {background-color: #d4ebff;}#sk-container-id-6 div.sk-label input.sk-toggleable__control:checked~label.sk-toggleable__label {background-color: #d4ebff;}#sk-container-id-6 input.sk-hidden--visually {border: 0;clip: rect(1px 1px 1px 1px);clip: rect(1px, 1px, 1px, 1px);height: 1px;margin: -1px;overflow: hidden;padding: 0;position: absolute;width: 1px;}#sk-container-id-6 div.sk-estimator {font-family: monospace;background-color: #f0f8ff;border: 1px dotted black;border-radius: 0.25em;box-sizing: border-box;margin-bottom: 0.5em;}#sk-container-id-6 div.sk-estimator:hover {background-color: #d4ebff;}#sk-container-id-6 div.sk-parallel-item::after {content: \"\";width: 100%;border-bottom: 1px solid gray;flex-grow: 1;}#sk-container-id-6 div.sk-label:hover label.sk-toggleable__label {background-color: #d4ebff;}#sk-container-id-6 div.sk-serial::before {content: \"\";position: absolute;border-left: 1px solid gray;box-sizing: border-box;top: 0;bottom: 0;left: 50%;z-index: 0;}#sk-container-id-6 div.sk-serial {display: flex;flex-direction: column;align-items: center;background-color: white;padding-right: 0.2em;padding-left: 0.2em;position: relative;}#sk-container-id-6 div.sk-item {position: relative;z-index: 1;}#sk-container-id-6 div.sk-parallel {display: flex;align-items: stretch;justify-content: center;background-color: white;position: relative;}#sk-container-id-6 div.sk-item::before, #sk-container-id-6 div.sk-parallel-item::before {content: \"\";position: absolute;border-left: 1px solid gray;box-sizing: border-box;top: 0;bottom: 0;left: 50%;z-index: -1;}#sk-container-id-6 div.sk-parallel-item {display: flex;flex-direction: column;z-index: 1;position: relative;background-color: white;}#sk-container-id-6 div.sk-parallel-item:first-child::after {align-self: flex-end;width: 50%;}#sk-container-id-6 div.sk-parallel-item:last-child::after {align-self: flex-start;width: 50%;}#sk-container-id-6 div.sk-parallel-item:only-child::after {width: 0;}#sk-container-id-6 div.sk-dashed-wrapped {border: 1px dashed gray;margin: 0 0.4em 0.5em 0.4em;box-sizing: border-box;padding-bottom: 0.4em;background-color: white;}#sk-container-id-6 div.sk-label label {font-family: monospace;font-weight: bold;display: inline-block;line-height: 1.2em;}#sk-container-id-6 div.sk-label-container {text-align: center;}#sk-container-id-6 div.sk-container {/* jupyter's `normalize.less` sets `[hidden] { display: none; }` but bootstrap.min.css set `[hidden] { display: none !important; }` so we also need the `!important` here to be able to override the default hidden behavior on the sphinx rendered scikit-learn.org. See: https://github.com/scikit-learn/scikit-learn/issues/21755 */display: inline-block !important;position: relative;}#sk-container-id-6 div.sk-text-repr-fallback {display: none;}</style><div id=\"sk-container-id-6\" class=\"sk-top-container\"><div class=\"sk-text-repr-fallback\"><pre>Pipeline(steps=[(&#x27;procesado_variables&#x27;,\n",
       "                 ColumnTransformer(remainder=&#x27;passthrough&#x27;,\n",
       "                                   transformers=[(&#x27;onehot&#x27;,\n",
       "                                                  OneHotEncoder(handle_unknown=&#x27;ignore&#x27;,\n",
       "                                                                sparse_output=False),\n",
       "                                                  [&#x27;municipio&#x27;,\n",
       "                                                   &#x27;tipo_de_seguridad_social&#x27;,\n",
       "                                                   &#x27;departamento&#x27;, &#x27;escenario&#x27;,\n",
       "                                                   &#x27;sexo&#x27;, &#x27;trimestre&#x27;,\n",
       "                                                   &#x27;actividad&#x27;, &#x27;semana&#x27;,\n",
       "                                                   &#x27;nom_upgd&#x27;, &#x27;año&#x27;, &#x27;mes&#x27;,\n",
       "                                                   &#x27;victima_menor_de_edad&#x27;,\n",
       "                                                   &#x27;parentezco_vict&#x27;,\n",
       "                                                   &#x27;sustancias_vi...\n",
       "                                                                                            &#x27;data_type&#x27;: dtype(&#x27;O&#x27;),\n",
       "                                                                                            &#x27;mapping&#x27;: 0 a 6       0\n",
       "7  a 11     1\n",
       "12 a 17     2\n",
       "18 a 28     3\n",
       "29 a 59     4\n",
       "60 y mas    5\n",
       "dtype: int64},\n",
       "                                                                                           {&#x27;col&#x27;: &#x27;ciclo_de_vida&#x27;,\n",
       "                                                                                            &#x27;data_type&#x27;: dtype(&#x27;O&#x27;),\n",
       "                                                                                            &#x27;mapping&#x27;: Primera infancia    0\n",
       "Infancia            1\n",
       "Jovenes             2\n",
       "Adolescencia        3\n",
       "Adultez             4\n",
       "Persona Mayor       5\n",
       "dtype: int64}]))]),\n",
       "                                                  [&#x27;grupo_edad&#x27;,\n",
       "                                                   &#x27;ciclo_de_vida&#x27;])],\n",
       "                                   verbose_feature_names_out=False)),\n",
       "                (&#x27;escala&#x27;, StandardScaler()),\n",
       "                (&#x27;estimador&#x27;, LogisticRegression(max_iter=1000))])</pre><b>In a Jupyter environment, please rerun this cell to show the HTML representation or trust the notebook. <br />On GitHub, the HTML representation is unable to render, please try loading this page with nbviewer.org.</b></div><div class=\"sk-container\" hidden><div class=\"sk-item sk-dashed-wrapped\"><div class=\"sk-label-container\"><div class=\"sk-label sk-toggleable\"><input class=\"sk-toggleable__control sk-hidden--visually\" id=\"sk-estimator-id-52\" type=\"checkbox\" ><label for=\"sk-estimator-id-52\" class=\"sk-toggleable__label sk-toggleable__label-arrow\">Pipeline</label><div class=\"sk-toggleable__content\"><pre>Pipeline(steps=[(&#x27;procesado_variables&#x27;,\n",
       "                 ColumnTransformer(remainder=&#x27;passthrough&#x27;,\n",
       "                                   transformers=[(&#x27;onehot&#x27;,\n",
       "                                                  OneHotEncoder(handle_unknown=&#x27;ignore&#x27;,\n",
       "                                                                sparse_output=False),\n",
       "                                                  [&#x27;municipio&#x27;,\n",
       "                                                   &#x27;tipo_de_seguridad_social&#x27;,\n",
       "                                                   &#x27;departamento&#x27;, &#x27;escenario&#x27;,\n",
       "                                                   &#x27;sexo&#x27;, &#x27;trimestre&#x27;,\n",
       "                                                   &#x27;actividad&#x27;, &#x27;semana&#x27;,\n",
       "                                                   &#x27;nom_upgd&#x27;, &#x27;año&#x27;, &#x27;mes&#x27;,\n",
       "                                                   &#x27;victima_menor_de_edad&#x27;,\n",
       "                                                   &#x27;parentezco_vict&#x27;,\n",
       "                                                   &#x27;sustancias_vi...\n",
       "                                                                                            &#x27;data_type&#x27;: dtype(&#x27;O&#x27;),\n",
       "                                                                                            &#x27;mapping&#x27;: 0 a 6       0\n",
       "7  a 11     1\n",
       "12 a 17     2\n",
       "18 a 28     3\n",
       "29 a 59     4\n",
       "60 y mas    5\n",
       "dtype: int64},\n",
       "                                                                                           {&#x27;col&#x27;: &#x27;ciclo_de_vida&#x27;,\n",
       "                                                                                            &#x27;data_type&#x27;: dtype(&#x27;O&#x27;),\n",
       "                                                                                            &#x27;mapping&#x27;: Primera infancia    0\n",
       "Infancia            1\n",
       "Jovenes             2\n",
       "Adolescencia        3\n",
       "Adultez             4\n",
       "Persona Mayor       5\n",
       "dtype: int64}]))]),\n",
       "                                                  [&#x27;grupo_edad&#x27;,\n",
       "                                                   &#x27;ciclo_de_vida&#x27;])],\n",
       "                                   verbose_feature_names_out=False)),\n",
       "                (&#x27;escala&#x27;, StandardScaler()),\n",
       "                (&#x27;estimador&#x27;, LogisticRegression(max_iter=1000))])</pre></div></div></div><div class=\"sk-serial\"><div class=\"sk-item sk-dashed-wrapped\"><div class=\"sk-label-container\"><div class=\"sk-label sk-toggleable\"><input class=\"sk-toggleable__control sk-hidden--visually\" id=\"sk-estimator-id-53\" type=\"checkbox\" ><label for=\"sk-estimator-id-53\" class=\"sk-toggleable__label sk-toggleable__label-arrow\">procesado_variables: ColumnTransformer</label><div class=\"sk-toggleable__content\"><pre>ColumnTransformer(remainder=&#x27;passthrough&#x27;,\n",
       "                  transformers=[(&#x27;onehot&#x27;,\n",
       "                                 OneHotEncoder(handle_unknown=&#x27;ignore&#x27;,\n",
       "                                               sparse_output=False),\n",
       "                                 [&#x27;municipio&#x27;, &#x27;tipo_de_seguridad_social&#x27;,\n",
       "                                  &#x27;departamento&#x27;, &#x27;escenario&#x27;, &#x27;sexo&#x27;,\n",
       "                                  &#x27;trimestre&#x27;, &#x27;actividad&#x27;, &#x27;semana&#x27;,\n",
       "                                  &#x27;nom_upgd&#x27;, &#x27;año&#x27;, &#x27;mes&#x27;,\n",
       "                                  &#x27;victima_menor_de_edad&#x27;, &#x27;parentezco_vict&#x27;,\n",
       "                                  &#x27;sustancias_victima&#x27;, &#x27;nom_eve&#x27;,\n",
       "                                  &#x27;paciente_hospitalizad...\n",
       "                                                 (&#x27;transformador_ordinal&#x27;,\n",
       "                                                  OrdinalEncoder(mapping=[{&#x27;col&#x27;: &#x27;grupo_edad&#x27;,\n",
       "                                                                           &#x27;data_type&#x27;: dtype(&#x27;O&#x27;),\n",
       "                                                                           &#x27;mapping&#x27;: 0 a 6       0\n",
       "7  a 11     1\n",
       "12 a 17     2\n",
       "18 a 28     3\n",
       "29 a 59     4\n",
       "60 y mas    5\n",
       "dtype: int64},\n",
       "                                                                          {&#x27;col&#x27;: &#x27;ciclo_de_vida&#x27;,\n",
       "                                                                           &#x27;data_type&#x27;: dtype(&#x27;O&#x27;),\n",
       "                                                                           &#x27;mapping&#x27;: Primera infancia    0\n",
       "Infancia            1\n",
       "Jovenes             2\n",
       "Adolescencia        3\n",
       "Adultez             4\n",
       "Persona Mayor       5\n",
       "dtype: int64}]))]),\n",
       "                                 [&#x27;grupo_edad&#x27;, &#x27;ciclo_de_vida&#x27;])],\n",
       "                  verbose_feature_names_out=False)</pre></div></div></div><div class=\"sk-parallel\"><div class=\"sk-parallel-item\"><div class=\"sk-item\"><div class=\"sk-label-container\"><div class=\"sk-label sk-toggleable\"><input class=\"sk-toggleable__control sk-hidden--visually\" id=\"sk-estimator-id-54\" type=\"checkbox\" ><label for=\"sk-estimator-id-54\" class=\"sk-toggleable__label sk-toggleable__label-arrow\">onehot</label><div class=\"sk-toggleable__content\"><pre>[&#x27;municipio&#x27;, &#x27;tipo_de_seguridad_social&#x27;, &#x27;departamento&#x27;, &#x27;escenario&#x27;, &#x27;sexo&#x27;, &#x27;trimestre&#x27;, &#x27;actividad&#x27;, &#x27;semana&#x27;, &#x27;nom_upgd&#x27;, &#x27;año&#x27;, &#x27;mes&#x27;, &#x27;victima_menor_de_edad&#x27;, &#x27;parentezco_vict&#x27;, &#x27;sustancias_victima&#x27;, &#x27;nom_eve&#x27;, &#x27;paciente_hospitalizado&#x27;, &#x27;violencia_intrafamiliar&#x27;, &#x27;area&#x27;, &#x27;comuna&#x27;, &#x27;condicion_final&#x27;, &#x27;sexo_agre&#x27;, &#x27;agresor_menor_de_edad&#x27;]</pre></div></div></div><div class=\"sk-serial\"><div class=\"sk-item\"><div class=\"sk-estimator sk-toggleable\"><input class=\"sk-toggleable__control sk-hidden--visually\" id=\"sk-estimator-id-55\" type=\"checkbox\" ><label for=\"sk-estimator-id-55\" class=\"sk-toggleable__label sk-toggleable__label-arrow\">OneHotEncoder</label><div class=\"sk-toggleable__content\"><pre>OneHotEncoder(handle_unknown=&#x27;ignore&#x27;, sparse_output=False)</pre></div></div></div></div></div></div><div class=\"sk-parallel-item\"><div class=\"sk-item\"><div class=\"sk-label-container\"><div class=\"sk-label sk-toggleable\"><input class=\"sk-toggleable__control sk-hidden--visually\" id=\"sk-estimator-id-56\" type=\"checkbox\" ><label for=\"sk-estimator-id-56\" class=\"sk-toggleable__label sk-toggleable__label-arrow\">ordinal</label><div class=\"sk-toggleable__content\"><pre>[&#x27;grupo_edad&#x27;, &#x27;ciclo_de_vida&#x27;]</pre></div></div></div><div class=\"sk-serial\"><div class=\"sk-item\"><div class=\"sk-serial\"><div class=\"sk-item\"><div class=\"sk-estimator sk-toggleable\"><input class=\"sk-toggleable__control sk-hidden--visually\" id=\"sk-estimator-id-57\" type=\"checkbox\" ><label for=\"sk-estimator-id-57\" class=\"sk-toggleable__label sk-toggleable__label-arrow\">SimpleImputer</label><div class=\"sk-toggleable__content\"><pre>SimpleImputer(strategy=&#x27;most_frequent&#x27;)</pre></div></div></div><div class=\"sk-item\"><div class=\"sk-estimator sk-toggleable\"><input class=\"sk-toggleable__control sk-hidden--visually\" id=\"sk-estimator-id-58\" type=\"checkbox\" ><label for=\"sk-estimator-id-58\" class=\"sk-toggleable__label sk-toggleable__label-arrow\">OrdinalEncoder</label><div class=\"sk-toggleable__content\"><pre>OrdinalEncoder(mapping=[{&#x27;col&#x27;: &#x27;grupo_edad&#x27;, &#x27;data_type&#x27;: dtype(&#x27;O&#x27;),\n",
       "                         &#x27;mapping&#x27;: 0 a 6       0\n",
       "7  a 11     1\n",
       "12 a 17     2\n",
       "18 a 28     3\n",
       "29 a 59     4\n",
       "60 y mas    5\n",
       "dtype: int64},\n",
       "                        {&#x27;col&#x27;: &#x27;ciclo_de_vida&#x27;, &#x27;data_type&#x27;: dtype(&#x27;O&#x27;),\n",
       "                         &#x27;mapping&#x27;: Primera infancia    0\n",
       "Infancia            1\n",
       "Jovenes             2\n",
       "Adolescencia        3\n",
       "Adultez             4\n",
       "Persona Mayor       5\n",
       "dtype: int64}])</pre></div></div></div></div></div></div></div></div><div class=\"sk-parallel-item\"><div class=\"sk-item\"><div class=\"sk-label-container\"><div class=\"sk-label sk-toggleable\"><input class=\"sk-toggleable__control sk-hidden--visually\" id=\"sk-estimator-id-59\" type=\"checkbox\" ><label for=\"sk-estimator-id-59\" class=\"sk-toggleable__label sk-toggleable__label-arrow\">remainder</label><div class=\"sk-toggleable__content\"><pre>[&#x27;edad_agre&#x27;]</pre></div></div></div><div class=\"sk-serial\"><div class=\"sk-item\"><div class=\"sk-estimator sk-toggleable\"><input class=\"sk-toggleable__control sk-hidden--visually\" id=\"sk-estimator-id-60\" type=\"checkbox\" ><label for=\"sk-estimator-id-60\" class=\"sk-toggleable__label sk-toggleable__label-arrow\">passthrough</label><div class=\"sk-toggleable__content\"><pre>passthrough</pre></div></div></div></div></div></div></div></div><div class=\"sk-item\"><div class=\"sk-estimator sk-toggleable\"><input class=\"sk-toggleable__control sk-hidden--visually\" id=\"sk-estimator-id-61\" type=\"checkbox\" ><label for=\"sk-estimator-id-61\" class=\"sk-toggleable__label sk-toggleable__label-arrow\">StandardScaler</label><div class=\"sk-toggleable__content\"><pre>StandardScaler()</pre></div></div></div><div class=\"sk-item\"><div class=\"sk-estimator sk-toggleable\"><input class=\"sk-toggleable__control sk-hidden--visually\" id=\"sk-estimator-id-62\" type=\"checkbox\" ><label for=\"sk-estimator-id-62\" class=\"sk-toggleable__label sk-toggleable__label-arrow\">LogisticRegression</label><div class=\"sk-toggleable__content\"><pre>LogisticRegression(max_iter=1000)</pre></div></div></div></div></div></div></div>"
      ],
      "text/plain": [
       "Pipeline(steps=[('procesado_variables',\n",
       "                 ColumnTransformer(remainder='passthrough',\n",
       "                                   transformers=[('onehot',\n",
       "                                                  OneHotEncoder(handle_unknown='ignore',\n",
       "                                                                sparse_output=False),\n",
       "                                                  ['municipio',\n",
       "                                                   'tipo_de_seguridad_social',\n",
       "                                                   'departamento', 'escenario',\n",
       "                                                   'sexo', 'trimestre',\n",
       "                                                   'actividad', 'semana',\n",
       "                                                   'nom_upgd', 'año', 'mes',\n",
       "                                                   'victima_menor_de_edad',\n",
       "                                                   'parentezco_vict',\n",
       "                                                   'sustancias_vi...\n",
       "                                                                                            'data_type': dtype('O'),\n",
       "                                                                                            'mapping': 0 a 6       0\n",
       "7  a 11     1\n",
       "12 a 17     2\n",
       "18 a 28     3\n",
       "29 a 59     4\n",
       "60 y mas    5\n",
       "dtype: int64},\n",
       "                                                                                           {'col': 'ciclo_de_vida',\n",
       "                                                                                            'data_type': dtype('O'),\n",
       "                                                                                            'mapping': Primera infancia    0\n",
       "Infancia            1\n",
       "Jovenes             2\n",
       "Adolescencia        3\n",
       "Adultez             4\n",
       "Persona Mayor       5\n",
       "dtype: int64}]))]),\n",
       "                                                  ['grupo_edad',\n",
       "                                                   'ciclo_de_vida'])],\n",
       "                                   verbose_feature_names_out=False)),\n",
       "                ('escala', StandardScaler()),\n",
       "                ('estimador', LogisticRegression(max_iter=1000))])"
      ]
     },
     "execution_count": 36,
     "metadata": {},
     "output_type": "execute_result"
    }
   ],
   "source": [
    "pipeline_estimador.fit(X=X_train, y=y_train)"
   ]
  },
  {
   "cell_type": "code",
   "execution_count": 37,
   "id": "21b759fd",
   "metadata": {},
   "outputs": [],
   "source": [
    "predicciones =  pipeline_estimador.predict(X=X_test)\n",
    "clases_reales = y_test\n",
    "predicciones_probabilidades =pipeline_estimador.predict_proba(X_test)"
   ]
  },
  {
   "cell_type": "code",
   "execution_count": 38,
   "id": "99de5c48",
   "metadata": {},
   "outputs": [
    {
     "name": "stdout",
     "output_type": "stream",
     "text": [
      "\n",
      "    Exactitud promedio: 0.835\n",
      "    Precisión promedio: 0.827\n",
      "    Sensibilidad promedio: 0.822\n",
      "    Puntuación F1 promedio: 0.825\n",
      "    \n"
     ]
    }
   ],
   "source": [
    "evaluar_modelo(clases_reales, predicciones, predicciones_probabilidades)"
   ]
  },
  {
   "cell_type": "code",
   "execution_count": 39,
   "id": "49567887",
   "metadata": {},
   "outputs": [
    {
     "name": "stdout",
     "output_type": "stream",
     "text": [
      "Accuracy en datos de entrenamiento: 0.8489462650336533\n",
      "Accuracy en datos de prueba: 0.8340688437775816\n"
     ]
    }
   ],
   "source": [
    "train_accuracy = accuracy_score(y_train, pipeline_estimador.predict(X_train))\n",
    "test_accuracy = accuracy_score(y_test, pipeline_estimador.predict(X_test))\n",
    "print(\"Accuracy en datos de entrenamiento:\", train_accuracy)\n",
    "print(\"Accuracy en datos de prueba:\", test_accuracy)"
   ]
  },
  {
   "cell_type": "markdown",
   "id": "64838cb3",
   "metadata": {},
   "source": [
    "## Prueba KNN"
   ]
  },
  {
   "cell_type": "code",
   "execution_count": 40,
   "id": "14c274ec",
   "metadata": {},
   "outputs": [],
   "source": [
    "from sklearn.neighbors import KNeighborsClassifier\n",
    "\n",
    "pipeline_estimador = Pipeline([\n",
    "    (\"procesado_variables\", pipeline_procesado),\n",
    "    (\"estimador\", KNeighborsClassifier())  \n",
    "])"
   ]
  },
  {
   "cell_type": "code",
   "execution_count": 41,
   "id": "80b81a96",
   "metadata": {},
   "outputs": [
    {
     "data": {
      "text/html": [
       "<style>#sk-container-id-7 {color: black;background-color: white;}#sk-container-id-7 pre{padding: 0;}#sk-container-id-7 div.sk-toggleable {background-color: white;}#sk-container-id-7 label.sk-toggleable__label {cursor: pointer;display: block;width: 100%;margin-bottom: 0;padding: 0.3em;box-sizing: border-box;text-align: center;}#sk-container-id-7 label.sk-toggleable__label-arrow:before {content: \"▸\";float: left;margin-right: 0.25em;color: #696969;}#sk-container-id-7 label.sk-toggleable__label-arrow:hover:before {color: black;}#sk-container-id-7 div.sk-estimator:hover label.sk-toggleable__label-arrow:before {color: black;}#sk-container-id-7 div.sk-toggleable__content {max-height: 0;max-width: 0;overflow: hidden;text-align: left;background-color: #f0f8ff;}#sk-container-id-7 div.sk-toggleable__content pre {margin: 0.2em;color: black;border-radius: 0.25em;background-color: #f0f8ff;}#sk-container-id-7 input.sk-toggleable__control:checked~div.sk-toggleable__content {max-height: 200px;max-width: 100%;overflow: auto;}#sk-container-id-7 input.sk-toggleable__control:checked~label.sk-toggleable__label-arrow:before {content: \"▾\";}#sk-container-id-7 div.sk-estimator input.sk-toggleable__control:checked~label.sk-toggleable__label {background-color: #d4ebff;}#sk-container-id-7 div.sk-label input.sk-toggleable__control:checked~label.sk-toggleable__label {background-color: #d4ebff;}#sk-container-id-7 input.sk-hidden--visually {border: 0;clip: rect(1px 1px 1px 1px);clip: rect(1px, 1px, 1px, 1px);height: 1px;margin: -1px;overflow: hidden;padding: 0;position: absolute;width: 1px;}#sk-container-id-7 div.sk-estimator {font-family: monospace;background-color: #f0f8ff;border: 1px dotted black;border-radius: 0.25em;box-sizing: border-box;margin-bottom: 0.5em;}#sk-container-id-7 div.sk-estimator:hover {background-color: #d4ebff;}#sk-container-id-7 div.sk-parallel-item::after {content: \"\";width: 100%;border-bottom: 1px solid gray;flex-grow: 1;}#sk-container-id-7 div.sk-label:hover label.sk-toggleable__label {background-color: #d4ebff;}#sk-container-id-7 div.sk-serial::before {content: \"\";position: absolute;border-left: 1px solid gray;box-sizing: border-box;top: 0;bottom: 0;left: 50%;z-index: 0;}#sk-container-id-7 div.sk-serial {display: flex;flex-direction: column;align-items: center;background-color: white;padding-right: 0.2em;padding-left: 0.2em;position: relative;}#sk-container-id-7 div.sk-item {position: relative;z-index: 1;}#sk-container-id-7 div.sk-parallel {display: flex;align-items: stretch;justify-content: center;background-color: white;position: relative;}#sk-container-id-7 div.sk-item::before, #sk-container-id-7 div.sk-parallel-item::before {content: \"\";position: absolute;border-left: 1px solid gray;box-sizing: border-box;top: 0;bottom: 0;left: 50%;z-index: -1;}#sk-container-id-7 div.sk-parallel-item {display: flex;flex-direction: column;z-index: 1;position: relative;background-color: white;}#sk-container-id-7 div.sk-parallel-item:first-child::after {align-self: flex-end;width: 50%;}#sk-container-id-7 div.sk-parallel-item:last-child::after {align-self: flex-start;width: 50%;}#sk-container-id-7 div.sk-parallel-item:only-child::after {width: 0;}#sk-container-id-7 div.sk-dashed-wrapped {border: 1px dashed gray;margin: 0 0.4em 0.5em 0.4em;box-sizing: border-box;padding-bottom: 0.4em;background-color: white;}#sk-container-id-7 div.sk-label label {font-family: monospace;font-weight: bold;display: inline-block;line-height: 1.2em;}#sk-container-id-7 div.sk-label-container {text-align: center;}#sk-container-id-7 div.sk-container {/* jupyter's `normalize.less` sets `[hidden] { display: none; }` but bootstrap.min.css set `[hidden] { display: none !important; }` so we also need the `!important` here to be able to override the default hidden behavior on the sphinx rendered scikit-learn.org. See: https://github.com/scikit-learn/scikit-learn/issues/21755 */display: inline-block !important;position: relative;}#sk-container-id-7 div.sk-text-repr-fallback {display: none;}</style><div id=\"sk-container-id-7\" class=\"sk-top-container\"><div class=\"sk-text-repr-fallback\"><pre>Pipeline(steps=[(&#x27;procesado_variables&#x27;,\n",
       "                 ColumnTransformer(remainder=&#x27;passthrough&#x27;,\n",
       "                                   transformers=[(&#x27;onehot&#x27;,\n",
       "                                                  OneHotEncoder(handle_unknown=&#x27;ignore&#x27;,\n",
       "                                                                sparse_output=False),\n",
       "                                                  [&#x27;municipio&#x27;,\n",
       "                                                   &#x27;tipo_de_seguridad_social&#x27;,\n",
       "                                                   &#x27;departamento&#x27;, &#x27;escenario&#x27;,\n",
       "                                                   &#x27;sexo&#x27;, &#x27;trimestre&#x27;,\n",
       "                                                   &#x27;actividad&#x27;, &#x27;semana&#x27;,\n",
       "                                                   &#x27;nom_upgd&#x27;, &#x27;año&#x27;, &#x27;mes&#x27;,\n",
       "                                                   &#x27;victima_menor_de_edad&#x27;,\n",
       "                                                   &#x27;parentezco_vict&#x27;,\n",
       "                                                   &#x27;sustancias_vi...\n",
       "                                                                   OrdinalEncoder(mapping=[{&#x27;col&#x27;: &#x27;grupo_edad&#x27;,\n",
       "                                                                                            &#x27;data_type&#x27;: dtype(&#x27;O&#x27;),\n",
       "                                                                                            &#x27;mapping&#x27;: 0 a 6       0\n",
       "7  a 11     1\n",
       "12 a 17     2\n",
       "18 a 28     3\n",
       "29 a 59     4\n",
       "60 y mas    5\n",
       "dtype: int64},\n",
       "                                                                                           {&#x27;col&#x27;: &#x27;ciclo_de_vida&#x27;,\n",
       "                                                                                            &#x27;data_type&#x27;: dtype(&#x27;O&#x27;),\n",
       "                                                                                            &#x27;mapping&#x27;: Primera infancia    0\n",
       "Infancia            1\n",
       "Jovenes             2\n",
       "Adolescencia        3\n",
       "Adultez             4\n",
       "Persona Mayor       5\n",
       "dtype: int64}]))]),\n",
       "                                                  [&#x27;grupo_edad&#x27;,\n",
       "                                                   &#x27;ciclo_de_vida&#x27;])],\n",
       "                                   verbose_feature_names_out=False)),\n",
       "                (&#x27;estimador&#x27;, KNeighborsClassifier())])</pre><b>In a Jupyter environment, please rerun this cell to show the HTML representation or trust the notebook. <br />On GitHub, the HTML representation is unable to render, please try loading this page with nbviewer.org.</b></div><div class=\"sk-container\" hidden><div class=\"sk-item sk-dashed-wrapped\"><div class=\"sk-label-container\"><div class=\"sk-label sk-toggleable\"><input class=\"sk-toggleable__control sk-hidden--visually\" id=\"sk-estimator-id-63\" type=\"checkbox\" ><label for=\"sk-estimator-id-63\" class=\"sk-toggleable__label sk-toggleable__label-arrow\">Pipeline</label><div class=\"sk-toggleable__content\"><pre>Pipeline(steps=[(&#x27;procesado_variables&#x27;,\n",
       "                 ColumnTransformer(remainder=&#x27;passthrough&#x27;,\n",
       "                                   transformers=[(&#x27;onehot&#x27;,\n",
       "                                                  OneHotEncoder(handle_unknown=&#x27;ignore&#x27;,\n",
       "                                                                sparse_output=False),\n",
       "                                                  [&#x27;municipio&#x27;,\n",
       "                                                   &#x27;tipo_de_seguridad_social&#x27;,\n",
       "                                                   &#x27;departamento&#x27;, &#x27;escenario&#x27;,\n",
       "                                                   &#x27;sexo&#x27;, &#x27;trimestre&#x27;,\n",
       "                                                   &#x27;actividad&#x27;, &#x27;semana&#x27;,\n",
       "                                                   &#x27;nom_upgd&#x27;, &#x27;año&#x27;, &#x27;mes&#x27;,\n",
       "                                                   &#x27;victima_menor_de_edad&#x27;,\n",
       "                                                   &#x27;parentezco_vict&#x27;,\n",
       "                                                   &#x27;sustancias_vi...\n",
       "                                                                   OrdinalEncoder(mapping=[{&#x27;col&#x27;: &#x27;grupo_edad&#x27;,\n",
       "                                                                                            &#x27;data_type&#x27;: dtype(&#x27;O&#x27;),\n",
       "                                                                                            &#x27;mapping&#x27;: 0 a 6       0\n",
       "7  a 11     1\n",
       "12 a 17     2\n",
       "18 a 28     3\n",
       "29 a 59     4\n",
       "60 y mas    5\n",
       "dtype: int64},\n",
       "                                                                                           {&#x27;col&#x27;: &#x27;ciclo_de_vida&#x27;,\n",
       "                                                                                            &#x27;data_type&#x27;: dtype(&#x27;O&#x27;),\n",
       "                                                                                            &#x27;mapping&#x27;: Primera infancia    0\n",
       "Infancia            1\n",
       "Jovenes             2\n",
       "Adolescencia        3\n",
       "Adultez             4\n",
       "Persona Mayor       5\n",
       "dtype: int64}]))]),\n",
       "                                                  [&#x27;grupo_edad&#x27;,\n",
       "                                                   &#x27;ciclo_de_vida&#x27;])],\n",
       "                                   verbose_feature_names_out=False)),\n",
       "                (&#x27;estimador&#x27;, KNeighborsClassifier())])</pre></div></div></div><div class=\"sk-serial\"><div class=\"sk-item sk-dashed-wrapped\"><div class=\"sk-label-container\"><div class=\"sk-label sk-toggleable\"><input class=\"sk-toggleable__control sk-hidden--visually\" id=\"sk-estimator-id-64\" type=\"checkbox\" ><label for=\"sk-estimator-id-64\" class=\"sk-toggleable__label sk-toggleable__label-arrow\">procesado_variables: ColumnTransformer</label><div class=\"sk-toggleable__content\"><pre>ColumnTransformer(remainder=&#x27;passthrough&#x27;,\n",
       "                  transformers=[(&#x27;onehot&#x27;,\n",
       "                                 OneHotEncoder(handle_unknown=&#x27;ignore&#x27;,\n",
       "                                               sparse_output=False),\n",
       "                                 [&#x27;municipio&#x27;, &#x27;tipo_de_seguridad_social&#x27;,\n",
       "                                  &#x27;departamento&#x27;, &#x27;escenario&#x27;, &#x27;sexo&#x27;,\n",
       "                                  &#x27;trimestre&#x27;, &#x27;actividad&#x27;, &#x27;semana&#x27;,\n",
       "                                  &#x27;nom_upgd&#x27;, &#x27;año&#x27;, &#x27;mes&#x27;,\n",
       "                                  &#x27;victima_menor_de_edad&#x27;, &#x27;parentezco_vict&#x27;,\n",
       "                                  &#x27;sustancias_victima&#x27;, &#x27;nom_eve&#x27;,\n",
       "                                  &#x27;paciente_hospitalizad...\n",
       "                                                 (&#x27;transformador_ordinal&#x27;,\n",
       "                                                  OrdinalEncoder(mapping=[{&#x27;col&#x27;: &#x27;grupo_edad&#x27;,\n",
       "                                                                           &#x27;data_type&#x27;: dtype(&#x27;O&#x27;),\n",
       "                                                                           &#x27;mapping&#x27;: 0 a 6       0\n",
       "7  a 11     1\n",
       "12 a 17     2\n",
       "18 a 28     3\n",
       "29 a 59     4\n",
       "60 y mas    5\n",
       "dtype: int64},\n",
       "                                                                          {&#x27;col&#x27;: &#x27;ciclo_de_vida&#x27;,\n",
       "                                                                           &#x27;data_type&#x27;: dtype(&#x27;O&#x27;),\n",
       "                                                                           &#x27;mapping&#x27;: Primera infancia    0\n",
       "Infancia            1\n",
       "Jovenes             2\n",
       "Adolescencia        3\n",
       "Adultez             4\n",
       "Persona Mayor       5\n",
       "dtype: int64}]))]),\n",
       "                                 [&#x27;grupo_edad&#x27;, &#x27;ciclo_de_vida&#x27;])],\n",
       "                  verbose_feature_names_out=False)</pre></div></div></div><div class=\"sk-parallel\"><div class=\"sk-parallel-item\"><div class=\"sk-item\"><div class=\"sk-label-container\"><div class=\"sk-label sk-toggleable\"><input class=\"sk-toggleable__control sk-hidden--visually\" id=\"sk-estimator-id-65\" type=\"checkbox\" ><label for=\"sk-estimator-id-65\" class=\"sk-toggleable__label sk-toggleable__label-arrow\">onehot</label><div class=\"sk-toggleable__content\"><pre>[&#x27;municipio&#x27;, &#x27;tipo_de_seguridad_social&#x27;, &#x27;departamento&#x27;, &#x27;escenario&#x27;, &#x27;sexo&#x27;, &#x27;trimestre&#x27;, &#x27;actividad&#x27;, &#x27;semana&#x27;, &#x27;nom_upgd&#x27;, &#x27;año&#x27;, &#x27;mes&#x27;, &#x27;victima_menor_de_edad&#x27;, &#x27;parentezco_vict&#x27;, &#x27;sustancias_victima&#x27;, &#x27;nom_eve&#x27;, &#x27;paciente_hospitalizado&#x27;, &#x27;violencia_intrafamiliar&#x27;, &#x27;area&#x27;, &#x27;comuna&#x27;, &#x27;condicion_final&#x27;, &#x27;sexo_agre&#x27;, &#x27;agresor_menor_de_edad&#x27;]</pre></div></div></div><div class=\"sk-serial\"><div class=\"sk-item\"><div class=\"sk-estimator sk-toggleable\"><input class=\"sk-toggleable__control sk-hidden--visually\" id=\"sk-estimator-id-66\" type=\"checkbox\" ><label for=\"sk-estimator-id-66\" class=\"sk-toggleable__label sk-toggleable__label-arrow\">OneHotEncoder</label><div class=\"sk-toggleable__content\"><pre>OneHotEncoder(handle_unknown=&#x27;ignore&#x27;, sparse_output=False)</pre></div></div></div></div></div></div><div class=\"sk-parallel-item\"><div class=\"sk-item\"><div class=\"sk-label-container\"><div class=\"sk-label sk-toggleable\"><input class=\"sk-toggleable__control sk-hidden--visually\" id=\"sk-estimator-id-67\" type=\"checkbox\" ><label for=\"sk-estimator-id-67\" class=\"sk-toggleable__label sk-toggleable__label-arrow\">ordinal</label><div class=\"sk-toggleable__content\"><pre>[&#x27;grupo_edad&#x27;, &#x27;ciclo_de_vida&#x27;]</pre></div></div></div><div class=\"sk-serial\"><div class=\"sk-item\"><div class=\"sk-serial\"><div class=\"sk-item\"><div class=\"sk-estimator sk-toggleable\"><input class=\"sk-toggleable__control sk-hidden--visually\" id=\"sk-estimator-id-68\" type=\"checkbox\" ><label for=\"sk-estimator-id-68\" class=\"sk-toggleable__label sk-toggleable__label-arrow\">SimpleImputer</label><div class=\"sk-toggleable__content\"><pre>SimpleImputer(strategy=&#x27;most_frequent&#x27;)</pre></div></div></div><div class=\"sk-item\"><div class=\"sk-estimator sk-toggleable\"><input class=\"sk-toggleable__control sk-hidden--visually\" id=\"sk-estimator-id-69\" type=\"checkbox\" ><label for=\"sk-estimator-id-69\" class=\"sk-toggleable__label sk-toggleable__label-arrow\">OrdinalEncoder</label><div class=\"sk-toggleable__content\"><pre>OrdinalEncoder(mapping=[{&#x27;col&#x27;: &#x27;grupo_edad&#x27;, &#x27;data_type&#x27;: dtype(&#x27;O&#x27;),\n",
       "                         &#x27;mapping&#x27;: 0 a 6       0\n",
       "7  a 11     1\n",
       "12 a 17     2\n",
       "18 a 28     3\n",
       "29 a 59     4\n",
       "60 y mas    5\n",
       "dtype: int64},\n",
       "                        {&#x27;col&#x27;: &#x27;ciclo_de_vida&#x27;, &#x27;data_type&#x27;: dtype(&#x27;O&#x27;),\n",
       "                         &#x27;mapping&#x27;: Primera infancia    0\n",
       "Infancia            1\n",
       "Jovenes             2\n",
       "Adolescencia        3\n",
       "Adultez             4\n",
       "Persona Mayor       5\n",
       "dtype: int64}])</pre></div></div></div></div></div></div></div></div><div class=\"sk-parallel-item\"><div class=\"sk-item\"><div class=\"sk-label-container\"><div class=\"sk-label sk-toggleable\"><input class=\"sk-toggleable__control sk-hidden--visually\" id=\"sk-estimator-id-70\" type=\"checkbox\" ><label for=\"sk-estimator-id-70\" class=\"sk-toggleable__label sk-toggleable__label-arrow\">remainder</label><div class=\"sk-toggleable__content\"><pre>[&#x27;edad_agre&#x27;]</pre></div></div></div><div class=\"sk-serial\"><div class=\"sk-item\"><div class=\"sk-estimator sk-toggleable\"><input class=\"sk-toggleable__control sk-hidden--visually\" id=\"sk-estimator-id-71\" type=\"checkbox\" ><label for=\"sk-estimator-id-71\" class=\"sk-toggleable__label sk-toggleable__label-arrow\">passthrough</label><div class=\"sk-toggleable__content\"><pre>passthrough</pre></div></div></div></div></div></div></div></div><div class=\"sk-item\"><div class=\"sk-estimator sk-toggleable\"><input class=\"sk-toggleable__control sk-hidden--visually\" id=\"sk-estimator-id-72\" type=\"checkbox\" ><label for=\"sk-estimator-id-72\" class=\"sk-toggleable__label sk-toggleable__label-arrow\">KNeighborsClassifier</label><div class=\"sk-toggleable__content\"><pre>KNeighborsClassifier()</pre></div></div></div></div></div></div></div>"
      ],
      "text/plain": [
       "Pipeline(steps=[('procesado_variables',\n",
       "                 ColumnTransformer(remainder='passthrough',\n",
       "                                   transformers=[('onehot',\n",
       "                                                  OneHotEncoder(handle_unknown='ignore',\n",
       "                                                                sparse_output=False),\n",
       "                                                  ['municipio',\n",
       "                                                   'tipo_de_seguridad_social',\n",
       "                                                   'departamento', 'escenario',\n",
       "                                                   'sexo', 'trimestre',\n",
       "                                                   'actividad', 'semana',\n",
       "                                                   'nom_upgd', 'año', 'mes',\n",
       "                                                   'victima_menor_de_edad',\n",
       "                                                   'parentezco_vict',\n",
       "                                                   'sustancias_vi...\n",
       "                                                                   OrdinalEncoder(mapping=[{'col': 'grupo_edad',\n",
       "                                                                                            'data_type': dtype('O'),\n",
       "                                                                                            'mapping': 0 a 6       0\n",
       "7  a 11     1\n",
       "12 a 17     2\n",
       "18 a 28     3\n",
       "29 a 59     4\n",
       "60 y mas    5\n",
       "dtype: int64},\n",
       "                                                                                           {'col': 'ciclo_de_vida',\n",
       "                                                                                            'data_type': dtype('O'),\n",
       "                                                                                            'mapping': Primera infancia    0\n",
       "Infancia            1\n",
       "Jovenes             2\n",
       "Adolescencia        3\n",
       "Adultez             4\n",
       "Persona Mayor       5\n",
       "dtype: int64}]))]),\n",
       "                                                  ['grupo_edad',\n",
       "                                                   'ciclo_de_vida'])],\n",
       "                                   verbose_feature_names_out=False)),\n",
       "                ('estimador', KNeighborsClassifier())])"
      ]
     },
     "execution_count": 41,
     "metadata": {},
     "output_type": "execute_result"
    }
   ],
   "source": [
    "pipeline_estimador.fit(X=X_train, y=y_train)"
   ]
  },
  {
   "cell_type": "code",
   "execution_count": 42,
   "id": "a7211091",
   "metadata": {},
   "outputs": [],
   "source": [
    "predicciones =  pipeline_estimador.predict(X=X_test)\n",
    "clases_reales = y_test\n",
    "predicciones_probabilidades =pipeline_estimador.predict_proba(X_test)"
   ]
  },
  {
   "cell_type": "code",
   "execution_count": 43,
   "id": "0d0ceca3",
   "metadata": {},
   "outputs": [
    {
     "name": "stdout",
     "output_type": "stream",
     "text": [
      "\n",
      "    Exactitud promedio: 0.793\n",
      "    Precisión promedio: 0.774\n",
      "    Sensibilidad promedio: 0.766\n",
      "    Puntuación F1 promedio: 0.769\n",
      "    \n"
     ]
    }
   ],
   "source": [
    "evaluar_modelo(clases_reales, predicciones, predicciones_probabilidades)"
   ]
  },
  {
   "cell_type": "code",
   "execution_count": 44,
   "id": "f7f29ae1",
   "metadata": {},
   "outputs": [
    {
     "name": "stdout",
     "output_type": "stream",
     "text": [
      "Accuracy en datos de entrenamiento: 0.8521460884916694\n",
      "Accuracy en datos de prueba: 0.792144748455428\n"
     ]
    }
   ],
   "source": [
    "train_accuracy = accuracy_score(y_train, pipeline_estimador.predict(X_train))\n",
    "test_accuracy = accuracy_score(y_test, pipeline_estimador.predict(X_test))\n",
    "print(\"Accuracy en datos de entrenamiento:\", train_accuracy)\n",
    "print(\"Accuracy en datos de prueba:\", test_accuracy)"
   ]
  },
  {
   "cell_type": "markdown",
   "id": "20c41df0",
   "metadata": {},
   "source": [
    "## Prueba GaussianNB"
   ]
  },
  {
   "cell_type": "code",
   "execution_count": 45,
   "id": "844a39c9",
   "metadata": {},
   "outputs": [],
   "source": [
    "from sklearn.naive_bayes import GaussianNB\n",
    "\n",
    "pipeline_estimador = Pipeline([\n",
    "    (\"procesado_variables\", pipeline_procesado),\n",
    "    (\"estimador\", GaussianNB())  \n",
    "])"
   ]
  },
  {
   "cell_type": "code",
   "execution_count": 46,
   "id": "aa1e0444",
   "metadata": {
    "scrolled": true
   },
   "outputs": [
    {
     "data": {
      "text/html": [
       "<style>#sk-container-id-8 {color: black;background-color: white;}#sk-container-id-8 pre{padding: 0;}#sk-container-id-8 div.sk-toggleable {background-color: white;}#sk-container-id-8 label.sk-toggleable__label {cursor: pointer;display: block;width: 100%;margin-bottom: 0;padding: 0.3em;box-sizing: border-box;text-align: center;}#sk-container-id-8 label.sk-toggleable__label-arrow:before {content: \"▸\";float: left;margin-right: 0.25em;color: #696969;}#sk-container-id-8 label.sk-toggleable__label-arrow:hover:before {color: black;}#sk-container-id-8 div.sk-estimator:hover label.sk-toggleable__label-arrow:before {color: black;}#sk-container-id-8 div.sk-toggleable__content {max-height: 0;max-width: 0;overflow: hidden;text-align: left;background-color: #f0f8ff;}#sk-container-id-8 div.sk-toggleable__content pre {margin: 0.2em;color: black;border-radius: 0.25em;background-color: #f0f8ff;}#sk-container-id-8 input.sk-toggleable__control:checked~div.sk-toggleable__content {max-height: 200px;max-width: 100%;overflow: auto;}#sk-container-id-8 input.sk-toggleable__control:checked~label.sk-toggleable__label-arrow:before {content: \"▾\";}#sk-container-id-8 div.sk-estimator input.sk-toggleable__control:checked~label.sk-toggleable__label {background-color: #d4ebff;}#sk-container-id-8 div.sk-label input.sk-toggleable__control:checked~label.sk-toggleable__label {background-color: #d4ebff;}#sk-container-id-8 input.sk-hidden--visually {border: 0;clip: rect(1px 1px 1px 1px);clip: rect(1px, 1px, 1px, 1px);height: 1px;margin: -1px;overflow: hidden;padding: 0;position: absolute;width: 1px;}#sk-container-id-8 div.sk-estimator {font-family: monospace;background-color: #f0f8ff;border: 1px dotted black;border-radius: 0.25em;box-sizing: border-box;margin-bottom: 0.5em;}#sk-container-id-8 div.sk-estimator:hover {background-color: #d4ebff;}#sk-container-id-8 div.sk-parallel-item::after {content: \"\";width: 100%;border-bottom: 1px solid gray;flex-grow: 1;}#sk-container-id-8 div.sk-label:hover label.sk-toggleable__label {background-color: #d4ebff;}#sk-container-id-8 div.sk-serial::before {content: \"\";position: absolute;border-left: 1px solid gray;box-sizing: border-box;top: 0;bottom: 0;left: 50%;z-index: 0;}#sk-container-id-8 div.sk-serial {display: flex;flex-direction: column;align-items: center;background-color: white;padding-right: 0.2em;padding-left: 0.2em;position: relative;}#sk-container-id-8 div.sk-item {position: relative;z-index: 1;}#sk-container-id-8 div.sk-parallel {display: flex;align-items: stretch;justify-content: center;background-color: white;position: relative;}#sk-container-id-8 div.sk-item::before, #sk-container-id-8 div.sk-parallel-item::before {content: \"\";position: absolute;border-left: 1px solid gray;box-sizing: border-box;top: 0;bottom: 0;left: 50%;z-index: -1;}#sk-container-id-8 div.sk-parallel-item {display: flex;flex-direction: column;z-index: 1;position: relative;background-color: white;}#sk-container-id-8 div.sk-parallel-item:first-child::after {align-self: flex-end;width: 50%;}#sk-container-id-8 div.sk-parallel-item:last-child::after {align-self: flex-start;width: 50%;}#sk-container-id-8 div.sk-parallel-item:only-child::after {width: 0;}#sk-container-id-8 div.sk-dashed-wrapped {border: 1px dashed gray;margin: 0 0.4em 0.5em 0.4em;box-sizing: border-box;padding-bottom: 0.4em;background-color: white;}#sk-container-id-8 div.sk-label label {font-family: monospace;font-weight: bold;display: inline-block;line-height: 1.2em;}#sk-container-id-8 div.sk-label-container {text-align: center;}#sk-container-id-8 div.sk-container {/* jupyter's `normalize.less` sets `[hidden] { display: none; }` but bootstrap.min.css set `[hidden] { display: none !important; }` so we also need the `!important` here to be able to override the default hidden behavior on the sphinx rendered scikit-learn.org. See: https://github.com/scikit-learn/scikit-learn/issues/21755 */display: inline-block !important;position: relative;}#sk-container-id-8 div.sk-text-repr-fallback {display: none;}</style><div id=\"sk-container-id-8\" class=\"sk-top-container\"><div class=\"sk-text-repr-fallback\"><pre>Pipeline(steps=[(&#x27;procesado_variables&#x27;,\n",
       "                 ColumnTransformer(remainder=&#x27;passthrough&#x27;,\n",
       "                                   transformers=[(&#x27;onehot&#x27;,\n",
       "                                                  OneHotEncoder(handle_unknown=&#x27;ignore&#x27;,\n",
       "                                                                sparse_output=False),\n",
       "                                                  [&#x27;municipio&#x27;,\n",
       "                                                   &#x27;tipo_de_seguridad_social&#x27;,\n",
       "                                                   &#x27;departamento&#x27;, &#x27;escenario&#x27;,\n",
       "                                                   &#x27;sexo&#x27;, &#x27;trimestre&#x27;,\n",
       "                                                   &#x27;actividad&#x27;, &#x27;semana&#x27;,\n",
       "                                                   &#x27;nom_upgd&#x27;, &#x27;año&#x27;, &#x27;mes&#x27;,\n",
       "                                                   &#x27;victima_menor_de_edad&#x27;,\n",
       "                                                   &#x27;parentezco_vict&#x27;,\n",
       "                                                   &#x27;sustancias_vi...\n",
       "                                                                   OrdinalEncoder(mapping=[{&#x27;col&#x27;: &#x27;grupo_edad&#x27;,\n",
       "                                                                                            &#x27;data_type&#x27;: dtype(&#x27;O&#x27;),\n",
       "                                                                                            &#x27;mapping&#x27;: 0 a 6       0\n",
       "7  a 11     1\n",
       "12 a 17     2\n",
       "18 a 28     3\n",
       "29 a 59     4\n",
       "60 y mas    5\n",
       "dtype: int64},\n",
       "                                                                                           {&#x27;col&#x27;: &#x27;ciclo_de_vida&#x27;,\n",
       "                                                                                            &#x27;data_type&#x27;: dtype(&#x27;O&#x27;),\n",
       "                                                                                            &#x27;mapping&#x27;: Primera infancia    0\n",
       "Infancia            1\n",
       "Jovenes             2\n",
       "Adolescencia        3\n",
       "Adultez             4\n",
       "Persona Mayor       5\n",
       "dtype: int64}]))]),\n",
       "                                                  [&#x27;grupo_edad&#x27;,\n",
       "                                                   &#x27;ciclo_de_vida&#x27;])],\n",
       "                                   verbose_feature_names_out=False)),\n",
       "                (&#x27;estimador&#x27;, GaussianNB())])</pre><b>In a Jupyter environment, please rerun this cell to show the HTML representation or trust the notebook. <br />On GitHub, the HTML representation is unable to render, please try loading this page with nbviewer.org.</b></div><div class=\"sk-container\" hidden><div class=\"sk-item sk-dashed-wrapped\"><div class=\"sk-label-container\"><div class=\"sk-label sk-toggleable\"><input class=\"sk-toggleable__control sk-hidden--visually\" id=\"sk-estimator-id-73\" type=\"checkbox\" ><label for=\"sk-estimator-id-73\" class=\"sk-toggleable__label sk-toggleable__label-arrow\">Pipeline</label><div class=\"sk-toggleable__content\"><pre>Pipeline(steps=[(&#x27;procesado_variables&#x27;,\n",
       "                 ColumnTransformer(remainder=&#x27;passthrough&#x27;,\n",
       "                                   transformers=[(&#x27;onehot&#x27;,\n",
       "                                                  OneHotEncoder(handle_unknown=&#x27;ignore&#x27;,\n",
       "                                                                sparse_output=False),\n",
       "                                                  [&#x27;municipio&#x27;,\n",
       "                                                   &#x27;tipo_de_seguridad_social&#x27;,\n",
       "                                                   &#x27;departamento&#x27;, &#x27;escenario&#x27;,\n",
       "                                                   &#x27;sexo&#x27;, &#x27;trimestre&#x27;,\n",
       "                                                   &#x27;actividad&#x27;, &#x27;semana&#x27;,\n",
       "                                                   &#x27;nom_upgd&#x27;, &#x27;año&#x27;, &#x27;mes&#x27;,\n",
       "                                                   &#x27;victima_menor_de_edad&#x27;,\n",
       "                                                   &#x27;parentezco_vict&#x27;,\n",
       "                                                   &#x27;sustancias_vi...\n",
       "                                                                   OrdinalEncoder(mapping=[{&#x27;col&#x27;: &#x27;grupo_edad&#x27;,\n",
       "                                                                                            &#x27;data_type&#x27;: dtype(&#x27;O&#x27;),\n",
       "                                                                                            &#x27;mapping&#x27;: 0 a 6       0\n",
       "7  a 11     1\n",
       "12 a 17     2\n",
       "18 a 28     3\n",
       "29 a 59     4\n",
       "60 y mas    5\n",
       "dtype: int64},\n",
       "                                                                                           {&#x27;col&#x27;: &#x27;ciclo_de_vida&#x27;,\n",
       "                                                                                            &#x27;data_type&#x27;: dtype(&#x27;O&#x27;),\n",
       "                                                                                            &#x27;mapping&#x27;: Primera infancia    0\n",
       "Infancia            1\n",
       "Jovenes             2\n",
       "Adolescencia        3\n",
       "Adultez             4\n",
       "Persona Mayor       5\n",
       "dtype: int64}]))]),\n",
       "                                                  [&#x27;grupo_edad&#x27;,\n",
       "                                                   &#x27;ciclo_de_vida&#x27;])],\n",
       "                                   verbose_feature_names_out=False)),\n",
       "                (&#x27;estimador&#x27;, GaussianNB())])</pre></div></div></div><div class=\"sk-serial\"><div class=\"sk-item sk-dashed-wrapped\"><div class=\"sk-label-container\"><div class=\"sk-label sk-toggleable\"><input class=\"sk-toggleable__control sk-hidden--visually\" id=\"sk-estimator-id-74\" type=\"checkbox\" ><label for=\"sk-estimator-id-74\" class=\"sk-toggleable__label sk-toggleable__label-arrow\">procesado_variables: ColumnTransformer</label><div class=\"sk-toggleable__content\"><pre>ColumnTransformer(remainder=&#x27;passthrough&#x27;,\n",
       "                  transformers=[(&#x27;onehot&#x27;,\n",
       "                                 OneHotEncoder(handle_unknown=&#x27;ignore&#x27;,\n",
       "                                               sparse_output=False),\n",
       "                                 [&#x27;municipio&#x27;, &#x27;tipo_de_seguridad_social&#x27;,\n",
       "                                  &#x27;departamento&#x27;, &#x27;escenario&#x27;, &#x27;sexo&#x27;,\n",
       "                                  &#x27;trimestre&#x27;, &#x27;actividad&#x27;, &#x27;semana&#x27;,\n",
       "                                  &#x27;nom_upgd&#x27;, &#x27;año&#x27;, &#x27;mes&#x27;,\n",
       "                                  &#x27;victima_menor_de_edad&#x27;, &#x27;parentezco_vict&#x27;,\n",
       "                                  &#x27;sustancias_victima&#x27;, &#x27;nom_eve&#x27;,\n",
       "                                  &#x27;paciente_hospitalizad...\n",
       "                                                 (&#x27;transformador_ordinal&#x27;,\n",
       "                                                  OrdinalEncoder(mapping=[{&#x27;col&#x27;: &#x27;grupo_edad&#x27;,\n",
       "                                                                           &#x27;data_type&#x27;: dtype(&#x27;O&#x27;),\n",
       "                                                                           &#x27;mapping&#x27;: 0 a 6       0\n",
       "7  a 11     1\n",
       "12 a 17     2\n",
       "18 a 28     3\n",
       "29 a 59     4\n",
       "60 y mas    5\n",
       "dtype: int64},\n",
       "                                                                          {&#x27;col&#x27;: &#x27;ciclo_de_vida&#x27;,\n",
       "                                                                           &#x27;data_type&#x27;: dtype(&#x27;O&#x27;),\n",
       "                                                                           &#x27;mapping&#x27;: Primera infancia    0\n",
       "Infancia            1\n",
       "Jovenes             2\n",
       "Adolescencia        3\n",
       "Adultez             4\n",
       "Persona Mayor       5\n",
       "dtype: int64}]))]),\n",
       "                                 [&#x27;grupo_edad&#x27;, &#x27;ciclo_de_vida&#x27;])],\n",
       "                  verbose_feature_names_out=False)</pre></div></div></div><div class=\"sk-parallel\"><div class=\"sk-parallel-item\"><div class=\"sk-item\"><div class=\"sk-label-container\"><div class=\"sk-label sk-toggleable\"><input class=\"sk-toggleable__control sk-hidden--visually\" id=\"sk-estimator-id-75\" type=\"checkbox\" ><label for=\"sk-estimator-id-75\" class=\"sk-toggleable__label sk-toggleable__label-arrow\">onehot</label><div class=\"sk-toggleable__content\"><pre>[&#x27;municipio&#x27;, &#x27;tipo_de_seguridad_social&#x27;, &#x27;departamento&#x27;, &#x27;escenario&#x27;, &#x27;sexo&#x27;, &#x27;trimestre&#x27;, &#x27;actividad&#x27;, &#x27;semana&#x27;, &#x27;nom_upgd&#x27;, &#x27;año&#x27;, &#x27;mes&#x27;, &#x27;victima_menor_de_edad&#x27;, &#x27;parentezco_vict&#x27;, &#x27;sustancias_victima&#x27;, &#x27;nom_eve&#x27;, &#x27;paciente_hospitalizado&#x27;, &#x27;violencia_intrafamiliar&#x27;, &#x27;area&#x27;, &#x27;comuna&#x27;, &#x27;condicion_final&#x27;, &#x27;sexo_agre&#x27;, &#x27;agresor_menor_de_edad&#x27;]</pre></div></div></div><div class=\"sk-serial\"><div class=\"sk-item\"><div class=\"sk-estimator sk-toggleable\"><input class=\"sk-toggleable__control sk-hidden--visually\" id=\"sk-estimator-id-76\" type=\"checkbox\" ><label for=\"sk-estimator-id-76\" class=\"sk-toggleable__label sk-toggleable__label-arrow\">OneHotEncoder</label><div class=\"sk-toggleable__content\"><pre>OneHotEncoder(handle_unknown=&#x27;ignore&#x27;, sparse_output=False)</pre></div></div></div></div></div></div><div class=\"sk-parallel-item\"><div class=\"sk-item\"><div class=\"sk-label-container\"><div class=\"sk-label sk-toggleable\"><input class=\"sk-toggleable__control sk-hidden--visually\" id=\"sk-estimator-id-77\" type=\"checkbox\" ><label for=\"sk-estimator-id-77\" class=\"sk-toggleable__label sk-toggleable__label-arrow\">ordinal</label><div class=\"sk-toggleable__content\"><pre>[&#x27;grupo_edad&#x27;, &#x27;ciclo_de_vida&#x27;]</pre></div></div></div><div class=\"sk-serial\"><div class=\"sk-item\"><div class=\"sk-serial\"><div class=\"sk-item\"><div class=\"sk-estimator sk-toggleable\"><input class=\"sk-toggleable__control sk-hidden--visually\" id=\"sk-estimator-id-78\" type=\"checkbox\" ><label for=\"sk-estimator-id-78\" class=\"sk-toggleable__label sk-toggleable__label-arrow\">SimpleImputer</label><div class=\"sk-toggleable__content\"><pre>SimpleImputer(strategy=&#x27;most_frequent&#x27;)</pre></div></div></div><div class=\"sk-item\"><div class=\"sk-estimator sk-toggleable\"><input class=\"sk-toggleable__control sk-hidden--visually\" id=\"sk-estimator-id-79\" type=\"checkbox\" ><label for=\"sk-estimator-id-79\" class=\"sk-toggleable__label sk-toggleable__label-arrow\">OrdinalEncoder</label><div class=\"sk-toggleable__content\"><pre>OrdinalEncoder(mapping=[{&#x27;col&#x27;: &#x27;grupo_edad&#x27;, &#x27;data_type&#x27;: dtype(&#x27;O&#x27;),\n",
       "                         &#x27;mapping&#x27;: 0 a 6       0\n",
       "7  a 11     1\n",
       "12 a 17     2\n",
       "18 a 28     3\n",
       "29 a 59     4\n",
       "60 y mas    5\n",
       "dtype: int64},\n",
       "                        {&#x27;col&#x27;: &#x27;ciclo_de_vida&#x27;, &#x27;data_type&#x27;: dtype(&#x27;O&#x27;),\n",
       "                         &#x27;mapping&#x27;: Primera infancia    0\n",
       "Infancia            1\n",
       "Jovenes             2\n",
       "Adolescencia        3\n",
       "Adultez             4\n",
       "Persona Mayor       5\n",
       "dtype: int64}])</pre></div></div></div></div></div></div></div></div><div class=\"sk-parallel-item\"><div class=\"sk-item\"><div class=\"sk-label-container\"><div class=\"sk-label sk-toggleable\"><input class=\"sk-toggleable__control sk-hidden--visually\" id=\"sk-estimator-id-80\" type=\"checkbox\" ><label for=\"sk-estimator-id-80\" class=\"sk-toggleable__label sk-toggleable__label-arrow\">remainder</label><div class=\"sk-toggleable__content\"><pre>[&#x27;edad_agre&#x27;]</pre></div></div></div><div class=\"sk-serial\"><div class=\"sk-item\"><div class=\"sk-estimator sk-toggleable\"><input class=\"sk-toggleable__control sk-hidden--visually\" id=\"sk-estimator-id-81\" type=\"checkbox\" ><label for=\"sk-estimator-id-81\" class=\"sk-toggleable__label sk-toggleable__label-arrow\">passthrough</label><div class=\"sk-toggleable__content\"><pre>passthrough</pre></div></div></div></div></div></div></div></div><div class=\"sk-item\"><div class=\"sk-estimator sk-toggleable\"><input class=\"sk-toggleable__control sk-hidden--visually\" id=\"sk-estimator-id-82\" type=\"checkbox\" ><label for=\"sk-estimator-id-82\" class=\"sk-toggleable__label sk-toggleable__label-arrow\">GaussianNB</label><div class=\"sk-toggleable__content\"><pre>GaussianNB()</pre></div></div></div></div></div></div></div>"
      ],
      "text/plain": [
       "Pipeline(steps=[('procesado_variables',\n",
       "                 ColumnTransformer(remainder='passthrough',\n",
       "                                   transformers=[('onehot',\n",
       "                                                  OneHotEncoder(handle_unknown='ignore',\n",
       "                                                                sparse_output=False),\n",
       "                                                  ['municipio',\n",
       "                                                   'tipo_de_seguridad_social',\n",
       "                                                   'departamento', 'escenario',\n",
       "                                                   'sexo', 'trimestre',\n",
       "                                                   'actividad', 'semana',\n",
       "                                                   'nom_upgd', 'año', 'mes',\n",
       "                                                   'victima_menor_de_edad',\n",
       "                                                   'parentezco_vict',\n",
       "                                                   'sustancias_vi...\n",
       "                                                                   OrdinalEncoder(mapping=[{'col': 'grupo_edad',\n",
       "                                                                                            'data_type': dtype('O'),\n",
       "                                                                                            'mapping': 0 a 6       0\n",
       "7  a 11     1\n",
       "12 a 17     2\n",
       "18 a 28     3\n",
       "29 a 59     4\n",
       "60 y mas    5\n",
       "dtype: int64},\n",
       "                                                                                           {'col': 'ciclo_de_vida',\n",
       "                                                                                            'data_type': dtype('O'),\n",
       "                                                                                            'mapping': Primera infancia    0\n",
       "Infancia            1\n",
       "Jovenes             2\n",
       "Adolescencia        3\n",
       "Adultez             4\n",
       "Persona Mayor       5\n",
       "dtype: int64}]))]),\n",
       "                                                  ['grupo_edad',\n",
       "                                                   'ciclo_de_vida'])],\n",
       "                                   verbose_feature_names_out=False)),\n",
       "                ('estimador', GaussianNB())])"
      ]
     },
     "execution_count": 46,
     "metadata": {},
     "output_type": "execute_result"
    }
   ],
   "source": [
    "pipeline_estimador.fit(X=X_train, y=y_train)"
   ]
  },
  {
   "cell_type": "code",
   "execution_count": 47,
   "id": "8bca3b41",
   "metadata": {},
   "outputs": [],
   "source": [
    "predicciones =  pipeline_estimador.predict(X=X_test)\n",
    "clases_reales = y_test\n",
    "predicciones_probabilidades =pipeline_estimador.predict_proba(X_test)"
   ]
  },
  {
   "cell_type": "code",
   "execution_count": 48,
   "id": "0702f2e2",
   "metadata": {
    "scrolled": true
   },
   "outputs": [
    {
     "name": "stdout",
     "output_type": "stream",
     "text": [
      "\n",
      "    Exactitud promedio: 0.658\n",
      "    Precisión promedio: 0.686\n",
      "    Sensibilidad promedio: 0.682\n",
      "    Puntuación F1 promedio: 0.624\n",
      "    \n"
     ]
    }
   ],
   "source": [
    "evaluar_modelo(clases_reales, predicciones, predicciones_probabilidades)"
   ]
  },
  {
   "cell_type": "code",
   "execution_count": 49,
   "id": "5888c476",
   "metadata": {},
   "outputs": [
    {
     "name": "stdout",
     "output_type": "stream",
     "text": [
      "Accuracy en datos de entrenamiento: 0.6690941189451617\n",
      "Accuracy en datos de prueba: 0.649602824360106\n"
     ]
    }
   ],
   "source": [
    "train_accuracy = accuracy_score(y_train, pipeline_estimador.predict(X_train))\n",
    "test_accuracy = accuracy_score(y_test, pipeline_estimador.predict(X_test))\n",
    "print(\"Accuracy en datos de entrenamiento:\", train_accuracy)\n",
    "print(\"Accuracy en datos de prueba:\", test_accuracy)"
   ]
  },
  {
   "cell_type": "markdown",
   "id": "8eb86bfd",
   "metadata": {},
   "source": [
    "## Prueba Decision Trees"
   ]
  },
  {
   "cell_type": "code",
   "execution_count": 50,
   "id": "a952697e",
   "metadata": {},
   "outputs": [],
   "source": [
    "from sklearn.tree import DecisionTreeClassifier\n",
    "\n",
    "pipeline_estimador = Pipeline([\n",
    "    (\"procesado_variables\", pipeline_procesado),\n",
    "    (\"estimador\", DecisionTreeClassifier())  \n",
    "])\n"
   ]
  },
  {
   "cell_type": "code",
   "execution_count": 51,
   "id": "b2da65d0",
   "metadata": {
    "scrolled": true
   },
   "outputs": [
    {
     "data": {
      "text/html": [
       "<style>#sk-container-id-9 {color: black;background-color: white;}#sk-container-id-9 pre{padding: 0;}#sk-container-id-9 div.sk-toggleable {background-color: white;}#sk-container-id-9 label.sk-toggleable__label {cursor: pointer;display: block;width: 100%;margin-bottom: 0;padding: 0.3em;box-sizing: border-box;text-align: center;}#sk-container-id-9 label.sk-toggleable__label-arrow:before {content: \"▸\";float: left;margin-right: 0.25em;color: #696969;}#sk-container-id-9 label.sk-toggleable__label-arrow:hover:before {color: black;}#sk-container-id-9 div.sk-estimator:hover label.sk-toggleable__label-arrow:before {color: black;}#sk-container-id-9 div.sk-toggleable__content {max-height: 0;max-width: 0;overflow: hidden;text-align: left;background-color: #f0f8ff;}#sk-container-id-9 div.sk-toggleable__content pre {margin: 0.2em;color: black;border-radius: 0.25em;background-color: #f0f8ff;}#sk-container-id-9 input.sk-toggleable__control:checked~div.sk-toggleable__content {max-height: 200px;max-width: 100%;overflow: auto;}#sk-container-id-9 input.sk-toggleable__control:checked~label.sk-toggleable__label-arrow:before {content: \"▾\";}#sk-container-id-9 div.sk-estimator input.sk-toggleable__control:checked~label.sk-toggleable__label {background-color: #d4ebff;}#sk-container-id-9 div.sk-label input.sk-toggleable__control:checked~label.sk-toggleable__label {background-color: #d4ebff;}#sk-container-id-9 input.sk-hidden--visually {border: 0;clip: rect(1px 1px 1px 1px);clip: rect(1px, 1px, 1px, 1px);height: 1px;margin: -1px;overflow: hidden;padding: 0;position: absolute;width: 1px;}#sk-container-id-9 div.sk-estimator {font-family: monospace;background-color: #f0f8ff;border: 1px dotted black;border-radius: 0.25em;box-sizing: border-box;margin-bottom: 0.5em;}#sk-container-id-9 div.sk-estimator:hover {background-color: #d4ebff;}#sk-container-id-9 div.sk-parallel-item::after {content: \"\";width: 100%;border-bottom: 1px solid gray;flex-grow: 1;}#sk-container-id-9 div.sk-label:hover label.sk-toggleable__label {background-color: #d4ebff;}#sk-container-id-9 div.sk-serial::before {content: \"\";position: absolute;border-left: 1px solid gray;box-sizing: border-box;top: 0;bottom: 0;left: 50%;z-index: 0;}#sk-container-id-9 div.sk-serial {display: flex;flex-direction: column;align-items: center;background-color: white;padding-right: 0.2em;padding-left: 0.2em;position: relative;}#sk-container-id-9 div.sk-item {position: relative;z-index: 1;}#sk-container-id-9 div.sk-parallel {display: flex;align-items: stretch;justify-content: center;background-color: white;position: relative;}#sk-container-id-9 div.sk-item::before, #sk-container-id-9 div.sk-parallel-item::before {content: \"\";position: absolute;border-left: 1px solid gray;box-sizing: border-box;top: 0;bottom: 0;left: 50%;z-index: -1;}#sk-container-id-9 div.sk-parallel-item {display: flex;flex-direction: column;z-index: 1;position: relative;background-color: white;}#sk-container-id-9 div.sk-parallel-item:first-child::after {align-self: flex-end;width: 50%;}#sk-container-id-9 div.sk-parallel-item:last-child::after {align-self: flex-start;width: 50%;}#sk-container-id-9 div.sk-parallel-item:only-child::after {width: 0;}#sk-container-id-9 div.sk-dashed-wrapped {border: 1px dashed gray;margin: 0 0.4em 0.5em 0.4em;box-sizing: border-box;padding-bottom: 0.4em;background-color: white;}#sk-container-id-9 div.sk-label label {font-family: monospace;font-weight: bold;display: inline-block;line-height: 1.2em;}#sk-container-id-9 div.sk-label-container {text-align: center;}#sk-container-id-9 div.sk-container {/* jupyter's `normalize.less` sets `[hidden] { display: none; }` but bootstrap.min.css set `[hidden] { display: none !important; }` so we also need the `!important` here to be able to override the default hidden behavior on the sphinx rendered scikit-learn.org. See: https://github.com/scikit-learn/scikit-learn/issues/21755 */display: inline-block !important;position: relative;}#sk-container-id-9 div.sk-text-repr-fallback {display: none;}</style><div id=\"sk-container-id-9\" class=\"sk-top-container\"><div class=\"sk-text-repr-fallback\"><pre>Pipeline(steps=[(&#x27;procesado_variables&#x27;,\n",
       "                 ColumnTransformer(remainder=&#x27;passthrough&#x27;,\n",
       "                                   transformers=[(&#x27;onehot&#x27;,\n",
       "                                                  OneHotEncoder(handle_unknown=&#x27;ignore&#x27;,\n",
       "                                                                sparse_output=False),\n",
       "                                                  [&#x27;municipio&#x27;,\n",
       "                                                   &#x27;tipo_de_seguridad_social&#x27;,\n",
       "                                                   &#x27;departamento&#x27;, &#x27;escenario&#x27;,\n",
       "                                                   &#x27;sexo&#x27;, &#x27;trimestre&#x27;,\n",
       "                                                   &#x27;actividad&#x27;, &#x27;semana&#x27;,\n",
       "                                                   &#x27;nom_upgd&#x27;, &#x27;año&#x27;, &#x27;mes&#x27;,\n",
       "                                                   &#x27;victima_menor_de_edad&#x27;,\n",
       "                                                   &#x27;parentezco_vict&#x27;,\n",
       "                                                   &#x27;sustancias_vi...\n",
       "                                                                   OrdinalEncoder(mapping=[{&#x27;col&#x27;: &#x27;grupo_edad&#x27;,\n",
       "                                                                                            &#x27;data_type&#x27;: dtype(&#x27;O&#x27;),\n",
       "                                                                                            &#x27;mapping&#x27;: 0 a 6       0\n",
       "7  a 11     1\n",
       "12 a 17     2\n",
       "18 a 28     3\n",
       "29 a 59     4\n",
       "60 y mas    5\n",
       "dtype: int64},\n",
       "                                                                                           {&#x27;col&#x27;: &#x27;ciclo_de_vida&#x27;,\n",
       "                                                                                            &#x27;data_type&#x27;: dtype(&#x27;O&#x27;),\n",
       "                                                                                            &#x27;mapping&#x27;: Primera infancia    0\n",
       "Infancia            1\n",
       "Jovenes             2\n",
       "Adolescencia        3\n",
       "Adultez             4\n",
       "Persona Mayor       5\n",
       "dtype: int64}]))]),\n",
       "                                                  [&#x27;grupo_edad&#x27;,\n",
       "                                                   &#x27;ciclo_de_vida&#x27;])],\n",
       "                                   verbose_feature_names_out=False)),\n",
       "                (&#x27;estimador&#x27;, DecisionTreeClassifier())])</pre><b>In a Jupyter environment, please rerun this cell to show the HTML representation or trust the notebook. <br />On GitHub, the HTML representation is unable to render, please try loading this page with nbviewer.org.</b></div><div class=\"sk-container\" hidden><div class=\"sk-item sk-dashed-wrapped\"><div class=\"sk-label-container\"><div class=\"sk-label sk-toggleable\"><input class=\"sk-toggleable__control sk-hidden--visually\" id=\"sk-estimator-id-83\" type=\"checkbox\" ><label for=\"sk-estimator-id-83\" class=\"sk-toggleable__label sk-toggleable__label-arrow\">Pipeline</label><div class=\"sk-toggleable__content\"><pre>Pipeline(steps=[(&#x27;procesado_variables&#x27;,\n",
       "                 ColumnTransformer(remainder=&#x27;passthrough&#x27;,\n",
       "                                   transformers=[(&#x27;onehot&#x27;,\n",
       "                                                  OneHotEncoder(handle_unknown=&#x27;ignore&#x27;,\n",
       "                                                                sparse_output=False),\n",
       "                                                  [&#x27;municipio&#x27;,\n",
       "                                                   &#x27;tipo_de_seguridad_social&#x27;,\n",
       "                                                   &#x27;departamento&#x27;, &#x27;escenario&#x27;,\n",
       "                                                   &#x27;sexo&#x27;, &#x27;trimestre&#x27;,\n",
       "                                                   &#x27;actividad&#x27;, &#x27;semana&#x27;,\n",
       "                                                   &#x27;nom_upgd&#x27;, &#x27;año&#x27;, &#x27;mes&#x27;,\n",
       "                                                   &#x27;victima_menor_de_edad&#x27;,\n",
       "                                                   &#x27;parentezco_vict&#x27;,\n",
       "                                                   &#x27;sustancias_vi...\n",
       "                                                                   OrdinalEncoder(mapping=[{&#x27;col&#x27;: &#x27;grupo_edad&#x27;,\n",
       "                                                                                            &#x27;data_type&#x27;: dtype(&#x27;O&#x27;),\n",
       "                                                                                            &#x27;mapping&#x27;: 0 a 6       0\n",
       "7  a 11     1\n",
       "12 a 17     2\n",
       "18 a 28     3\n",
       "29 a 59     4\n",
       "60 y mas    5\n",
       "dtype: int64},\n",
       "                                                                                           {&#x27;col&#x27;: &#x27;ciclo_de_vida&#x27;,\n",
       "                                                                                            &#x27;data_type&#x27;: dtype(&#x27;O&#x27;),\n",
       "                                                                                            &#x27;mapping&#x27;: Primera infancia    0\n",
       "Infancia            1\n",
       "Jovenes             2\n",
       "Adolescencia        3\n",
       "Adultez             4\n",
       "Persona Mayor       5\n",
       "dtype: int64}]))]),\n",
       "                                                  [&#x27;grupo_edad&#x27;,\n",
       "                                                   &#x27;ciclo_de_vida&#x27;])],\n",
       "                                   verbose_feature_names_out=False)),\n",
       "                (&#x27;estimador&#x27;, DecisionTreeClassifier())])</pre></div></div></div><div class=\"sk-serial\"><div class=\"sk-item sk-dashed-wrapped\"><div class=\"sk-label-container\"><div class=\"sk-label sk-toggleable\"><input class=\"sk-toggleable__control sk-hidden--visually\" id=\"sk-estimator-id-84\" type=\"checkbox\" ><label for=\"sk-estimator-id-84\" class=\"sk-toggleable__label sk-toggleable__label-arrow\">procesado_variables: ColumnTransformer</label><div class=\"sk-toggleable__content\"><pre>ColumnTransformer(remainder=&#x27;passthrough&#x27;,\n",
       "                  transformers=[(&#x27;onehot&#x27;,\n",
       "                                 OneHotEncoder(handle_unknown=&#x27;ignore&#x27;,\n",
       "                                               sparse_output=False),\n",
       "                                 [&#x27;municipio&#x27;, &#x27;tipo_de_seguridad_social&#x27;,\n",
       "                                  &#x27;departamento&#x27;, &#x27;escenario&#x27;, &#x27;sexo&#x27;,\n",
       "                                  &#x27;trimestre&#x27;, &#x27;actividad&#x27;, &#x27;semana&#x27;,\n",
       "                                  &#x27;nom_upgd&#x27;, &#x27;año&#x27;, &#x27;mes&#x27;,\n",
       "                                  &#x27;victima_menor_de_edad&#x27;, &#x27;parentezco_vict&#x27;,\n",
       "                                  &#x27;sustancias_victima&#x27;, &#x27;nom_eve&#x27;,\n",
       "                                  &#x27;paciente_hospitalizad...\n",
       "                                                 (&#x27;transformador_ordinal&#x27;,\n",
       "                                                  OrdinalEncoder(mapping=[{&#x27;col&#x27;: &#x27;grupo_edad&#x27;,\n",
       "                                                                           &#x27;data_type&#x27;: dtype(&#x27;O&#x27;),\n",
       "                                                                           &#x27;mapping&#x27;: 0 a 6       0\n",
       "7  a 11     1\n",
       "12 a 17     2\n",
       "18 a 28     3\n",
       "29 a 59     4\n",
       "60 y mas    5\n",
       "dtype: int64},\n",
       "                                                                          {&#x27;col&#x27;: &#x27;ciclo_de_vida&#x27;,\n",
       "                                                                           &#x27;data_type&#x27;: dtype(&#x27;O&#x27;),\n",
       "                                                                           &#x27;mapping&#x27;: Primera infancia    0\n",
       "Infancia            1\n",
       "Jovenes             2\n",
       "Adolescencia        3\n",
       "Adultez             4\n",
       "Persona Mayor       5\n",
       "dtype: int64}]))]),\n",
       "                                 [&#x27;grupo_edad&#x27;, &#x27;ciclo_de_vida&#x27;])],\n",
       "                  verbose_feature_names_out=False)</pre></div></div></div><div class=\"sk-parallel\"><div class=\"sk-parallel-item\"><div class=\"sk-item\"><div class=\"sk-label-container\"><div class=\"sk-label sk-toggleable\"><input class=\"sk-toggleable__control sk-hidden--visually\" id=\"sk-estimator-id-85\" type=\"checkbox\" ><label for=\"sk-estimator-id-85\" class=\"sk-toggleable__label sk-toggleable__label-arrow\">onehot</label><div class=\"sk-toggleable__content\"><pre>[&#x27;municipio&#x27;, &#x27;tipo_de_seguridad_social&#x27;, &#x27;departamento&#x27;, &#x27;escenario&#x27;, &#x27;sexo&#x27;, &#x27;trimestre&#x27;, &#x27;actividad&#x27;, &#x27;semana&#x27;, &#x27;nom_upgd&#x27;, &#x27;año&#x27;, &#x27;mes&#x27;, &#x27;victima_menor_de_edad&#x27;, &#x27;parentezco_vict&#x27;, &#x27;sustancias_victima&#x27;, &#x27;nom_eve&#x27;, &#x27;paciente_hospitalizado&#x27;, &#x27;violencia_intrafamiliar&#x27;, &#x27;area&#x27;, &#x27;comuna&#x27;, &#x27;condicion_final&#x27;, &#x27;sexo_agre&#x27;, &#x27;agresor_menor_de_edad&#x27;]</pre></div></div></div><div class=\"sk-serial\"><div class=\"sk-item\"><div class=\"sk-estimator sk-toggleable\"><input class=\"sk-toggleable__control sk-hidden--visually\" id=\"sk-estimator-id-86\" type=\"checkbox\" ><label for=\"sk-estimator-id-86\" class=\"sk-toggleable__label sk-toggleable__label-arrow\">OneHotEncoder</label><div class=\"sk-toggleable__content\"><pre>OneHotEncoder(handle_unknown=&#x27;ignore&#x27;, sparse_output=False)</pre></div></div></div></div></div></div><div class=\"sk-parallel-item\"><div class=\"sk-item\"><div class=\"sk-label-container\"><div class=\"sk-label sk-toggleable\"><input class=\"sk-toggleable__control sk-hidden--visually\" id=\"sk-estimator-id-87\" type=\"checkbox\" ><label for=\"sk-estimator-id-87\" class=\"sk-toggleable__label sk-toggleable__label-arrow\">ordinal</label><div class=\"sk-toggleable__content\"><pre>[&#x27;grupo_edad&#x27;, &#x27;ciclo_de_vida&#x27;]</pre></div></div></div><div class=\"sk-serial\"><div class=\"sk-item\"><div class=\"sk-serial\"><div class=\"sk-item\"><div class=\"sk-estimator sk-toggleable\"><input class=\"sk-toggleable__control sk-hidden--visually\" id=\"sk-estimator-id-88\" type=\"checkbox\" ><label for=\"sk-estimator-id-88\" class=\"sk-toggleable__label sk-toggleable__label-arrow\">SimpleImputer</label><div class=\"sk-toggleable__content\"><pre>SimpleImputer(strategy=&#x27;most_frequent&#x27;)</pre></div></div></div><div class=\"sk-item\"><div class=\"sk-estimator sk-toggleable\"><input class=\"sk-toggleable__control sk-hidden--visually\" id=\"sk-estimator-id-89\" type=\"checkbox\" ><label for=\"sk-estimator-id-89\" class=\"sk-toggleable__label sk-toggleable__label-arrow\">OrdinalEncoder</label><div class=\"sk-toggleable__content\"><pre>OrdinalEncoder(mapping=[{&#x27;col&#x27;: &#x27;grupo_edad&#x27;, &#x27;data_type&#x27;: dtype(&#x27;O&#x27;),\n",
       "                         &#x27;mapping&#x27;: 0 a 6       0\n",
       "7  a 11     1\n",
       "12 a 17     2\n",
       "18 a 28     3\n",
       "29 a 59     4\n",
       "60 y mas    5\n",
       "dtype: int64},\n",
       "                        {&#x27;col&#x27;: &#x27;ciclo_de_vida&#x27;, &#x27;data_type&#x27;: dtype(&#x27;O&#x27;),\n",
       "                         &#x27;mapping&#x27;: Primera infancia    0\n",
       "Infancia            1\n",
       "Jovenes             2\n",
       "Adolescencia        3\n",
       "Adultez             4\n",
       "Persona Mayor       5\n",
       "dtype: int64}])</pre></div></div></div></div></div></div></div></div><div class=\"sk-parallel-item\"><div class=\"sk-item\"><div class=\"sk-label-container\"><div class=\"sk-label sk-toggleable\"><input class=\"sk-toggleable__control sk-hidden--visually\" id=\"sk-estimator-id-90\" type=\"checkbox\" ><label for=\"sk-estimator-id-90\" class=\"sk-toggleable__label sk-toggleable__label-arrow\">remainder</label><div class=\"sk-toggleable__content\"><pre>[&#x27;edad_agre&#x27;]</pre></div></div></div><div class=\"sk-serial\"><div class=\"sk-item\"><div class=\"sk-estimator sk-toggleable\"><input class=\"sk-toggleable__control sk-hidden--visually\" id=\"sk-estimator-id-91\" type=\"checkbox\" ><label for=\"sk-estimator-id-91\" class=\"sk-toggleable__label sk-toggleable__label-arrow\">passthrough</label><div class=\"sk-toggleable__content\"><pre>passthrough</pre></div></div></div></div></div></div></div></div><div class=\"sk-item\"><div class=\"sk-estimator sk-toggleable\"><input class=\"sk-toggleable__control sk-hidden--visually\" id=\"sk-estimator-id-92\" type=\"checkbox\" ><label for=\"sk-estimator-id-92\" class=\"sk-toggleable__label sk-toggleable__label-arrow\">DecisionTreeClassifier</label><div class=\"sk-toggleable__content\"><pre>DecisionTreeClassifier()</pre></div></div></div></div></div></div></div>"
      ],
      "text/plain": [
       "Pipeline(steps=[('procesado_variables',\n",
       "                 ColumnTransformer(remainder='passthrough',\n",
       "                                   transformers=[('onehot',\n",
       "                                                  OneHotEncoder(handle_unknown='ignore',\n",
       "                                                                sparse_output=False),\n",
       "                                                  ['municipio',\n",
       "                                                   'tipo_de_seguridad_social',\n",
       "                                                   'departamento', 'escenario',\n",
       "                                                   'sexo', 'trimestre',\n",
       "                                                   'actividad', 'semana',\n",
       "                                                   'nom_upgd', 'año', 'mes',\n",
       "                                                   'victima_menor_de_edad',\n",
       "                                                   'parentezco_vict',\n",
       "                                                   'sustancias_vi...\n",
       "                                                                   OrdinalEncoder(mapping=[{'col': 'grupo_edad',\n",
       "                                                                                            'data_type': dtype('O'),\n",
       "                                                                                            'mapping': 0 a 6       0\n",
       "7  a 11     1\n",
       "12 a 17     2\n",
       "18 a 28     3\n",
       "29 a 59     4\n",
       "60 y mas    5\n",
       "dtype: int64},\n",
       "                                                                                           {'col': 'ciclo_de_vida',\n",
       "                                                                                            'data_type': dtype('O'),\n",
       "                                                                                            'mapping': Primera infancia    0\n",
       "Infancia            1\n",
       "Jovenes             2\n",
       "Adolescencia        3\n",
       "Adultez             4\n",
       "Persona Mayor       5\n",
       "dtype: int64}]))]),\n",
       "                                                  ['grupo_edad',\n",
       "                                                   'ciclo_de_vida'])],\n",
       "                                   verbose_feature_names_out=False)),\n",
       "                ('estimador', DecisionTreeClassifier())])"
      ]
     },
     "execution_count": 51,
     "metadata": {},
     "output_type": "execute_result"
    }
   ],
   "source": [
    "pipeline_estimador.fit(X=X_train, y=y_train)"
   ]
  },
  {
   "cell_type": "code",
   "execution_count": 52,
   "id": "a174d905",
   "metadata": {},
   "outputs": [],
   "source": [
    "predicciones =  pipeline_estimador.predict(X=X_test)\n",
    "clases_reales = y_test\n",
    "predicciones_probabilidades =pipeline_estimador.predict_proba(X_test)"
   ]
  },
  {
   "cell_type": "code",
   "execution_count": 53,
   "id": "f1a3515c",
   "metadata": {
    "scrolled": true
   },
   "outputs": [
    {
     "name": "stdout",
     "output_type": "stream",
     "text": [
      "\n",
      "    Exactitud promedio: 0.783\n",
      "    Precisión promedio: 0.771\n",
      "    Sensibilidad promedio: 0.769\n",
      "    Puntuación F1 promedio: 0.770\n",
      "    \n"
     ]
    }
   ],
   "source": [
    "evaluar_modelo(clases_reales, predicciones, predicciones_probabilidades)"
   ]
  },
  {
   "cell_type": "code",
   "execution_count": 54,
   "id": "3c325b4a",
   "metadata": {},
   "outputs": [
    {
     "name": "stdout",
     "output_type": "stream",
     "text": [
      "Accuracy en datos de entrenamiento: 1.0\n",
      "Accuracy en datos de prueba: 0.7833186231244483\n"
     ]
    }
   ],
   "source": [
    "train_accuracy = accuracy_score(y_train, pipeline_estimador.predict(X_train))\n",
    "test_accuracy = accuracy_score(y_test, pipeline_estimador.predict(X_test))\n",
    "print(\"Accuracy en datos de entrenamiento:\", train_accuracy)\n",
    "print(\"Accuracy en datos de prueba:\", test_accuracy)"
   ]
  },
  {
   "cell_type": "markdown",
   "id": "7ec983f0",
   "metadata": {},
   "source": [
    "## Prueba AdaBoost"
   ]
  },
  {
   "cell_type": "code",
   "execution_count": 55,
   "id": "5a6fb185",
   "metadata": {},
   "outputs": [],
   "source": [
    "from sklearn.ensemble import AdaBoostClassifier\n",
    "\n",
    "pipeline_estimador = Pipeline([\n",
    "    (\"procesado_variables\", pipeline_procesado),\n",
    "    (\"estimador\", AdaBoostClassifier())  \n",
    "])\n"
   ]
  },
  {
   "cell_type": "code",
   "execution_count": 56,
   "id": "f7ea7ffc",
   "metadata": {
    "scrolled": true
   },
   "outputs": [
    {
     "data": {
      "text/html": [
       "<style>#sk-container-id-10 {color: black;background-color: white;}#sk-container-id-10 pre{padding: 0;}#sk-container-id-10 div.sk-toggleable {background-color: white;}#sk-container-id-10 label.sk-toggleable__label {cursor: pointer;display: block;width: 100%;margin-bottom: 0;padding: 0.3em;box-sizing: border-box;text-align: center;}#sk-container-id-10 label.sk-toggleable__label-arrow:before {content: \"▸\";float: left;margin-right: 0.25em;color: #696969;}#sk-container-id-10 label.sk-toggleable__label-arrow:hover:before {color: black;}#sk-container-id-10 div.sk-estimator:hover label.sk-toggleable__label-arrow:before {color: black;}#sk-container-id-10 div.sk-toggleable__content {max-height: 0;max-width: 0;overflow: hidden;text-align: left;background-color: #f0f8ff;}#sk-container-id-10 div.sk-toggleable__content pre {margin: 0.2em;color: black;border-radius: 0.25em;background-color: #f0f8ff;}#sk-container-id-10 input.sk-toggleable__control:checked~div.sk-toggleable__content {max-height: 200px;max-width: 100%;overflow: auto;}#sk-container-id-10 input.sk-toggleable__control:checked~label.sk-toggleable__label-arrow:before {content: \"▾\";}#sk-container-id-10 div.sk-estimator input.sk-toggleable__control:checked~label.sk-toggleable__label {background-color: #d4ebff;}#sk-container-id-10 div.sk-label input.sk-toggleable__control:checked~label.sk-toggleable__label {background-color: #d4ebff;}#sk-container-id-10 input.sk-hidden--visually {border: 0;clip: rect(1px 1px 1px 1px);clip: rect(1px, 1px, 1px, 1px);height: 1px;margin: -1px;overflow: hidden;padding: 0;position: absolute;width: 1px;}#sk-container-id-10 div.sk-estimator {font-family: monospace;background-color: #f0f8ff;border: 1px dotted black;border-radius: 0.25em;box-sizing: border-box;margin-bottom: 0.5em;}#sk-container-id-10 div.sk-estimator:hover {background-color: #d4ebff;}#sk-container-id-10 div.sk-parallel-item::after {content: \"\";width: 100%;border-bottom: 1px solid gray;flex-grow: 1;}#sk-container-id-10 div.sk-label:hover label.sk-toggleable__label {background-color: #d4ebff;}#sk-container-id-10 div.sk-serial::before {content: \"\";position: absolute;border-left: 1px solid gray;box-sizing: border-box;top: 0;bottom: 0;left: 50%;z-index: 0;}#sk-container-id-10 div.sk-serial {display: flex;flex-direction: column;align-items: center;background-color: white;padding-right: 0.2em;padding-left: 0.2em;position: relative;}#sk-container-id-10 div.sk-item {position: relative;z-index: 1;}#sk-container-id-10 div.sk-parallel {display: flex;align-items: stretch;justify-content: center;background-color: white;position: relative;}#sk-container-id-10 div.sk-item::before, #sk-container-id-10 div.sk-parallel-item::before {content: \"\";position: absolute;border-left: 1px solid gray;box-sizing: border-box;top: 0;bottom: 0;left: 50%;z-index: -1;}#sk-container-id-10 div.sk-parallel-item {display: flex;flex-direction: column;z-index: 1;position: relative;background-color: white;}#sk-container-id-10 div.sk-parallel-item:first-child::after {align-self: flex-end;width: 50%;}#sk-container-id-10 div.sk-parallel-item:last-child::after {align-self: flex-start;width: 50%;}#sk-container-id-10 div.sk-parallel-item:only-child::after {width: 0;}#sk-container-id-10 div.sk-dashed-wrapped {border: 1px dashed gray;margin: 0 0.4em 0.5em 0.4em;box-sizing: border-box;padding-bottom: 0.4em;background-color: white;}#sk-container-id-10 div.sk-label label {font-family: monospace;font-weight: bold;display: inline-block;line-height: 1.2em;}#sk-container-id-10 div.sk-label-container {text-align: center;}#sk-container-id-10 div.sk-container {/* jupyter's `normalize.less` sets `[hidden] { display: none; }` but bootstrap.min.css set `[hidden] { display: none !important; }` so we also need the `!important` here to be able to override the default hidden behavior on the sphinx rendered scikit-learn.org. See: https://github.com/scikit-learn/scikit-learn/issues/21755 */display: inline-block !important;position: relative;}#sk-container-id-10 div.sk-text-repr-fallback {display: none;}</style><div id=\"sk-container-id-10\" class=\"sk-top-container\"><div class=\"sk-text-repr-fallback\"><pre>Pipeline(steps=[(&#x27;procesado_variables&#x27;,\n",
       "                 ColumnTransformer(remainder=&#x27;passthrough&#x27;,\n",
       "                                   transformers=[(&#x27;onehot&#x27;,\n",
       "                                                  OneHotEncoder(handle_unknown=&#x27;ignore&#x27;,\n",
       "                                                                sparse_output=False),\n",
       "                                                  [&#x27;municipio&#x27;,\n",
       "                                                   &#x27;tipo_de_seguridad_social&#x27;,\n",
       "                                                   &#x27;departamento&#x27;, &#x27;escenario&#x27;,\n",
       "                                                   &#x27;sexo&#x27;, &#x27;trimestre&#x27;,\n",
       "                                                   &#x27;actividad&#x27;, &#x27;semana&#x27;,\n",
       "                                                   &#x27;nom_upgd&#x27;, &#x27;año&#x27;, &#x27;mes&#x27;,\n",
       "                                                   &#x27;victima_menor_de_edad&#x27;,\n",
       "                                                   &#x27;parentezco_vict&#x27;,\n",
       "                                                   &#x27;sustancias_vi...\n",
       "                                                                   OrdinalEncoder(mapping=[{&#x27;col&#x27;: &#x27;grupo_edad&#x27;,\n",
       "                                                                                            &#x27;data_type&#x27;: dtype(&#x27;O&#x27;),\n",
       "                                                                                            &#x27;mapping&#x27;: 0 a 6       0\n",
       "7  a 11     1\n",
       "12 a 17     2\n",
       "18 a 28     3\n",
       "29 a 59     4\n",
       "60 y mas    5\n",
       "dtype: int64},\n",
       "                                                                                           {&#x27;col&#x27;: &#x27;ciclo_de_vida&#x27;,\n",
       "                                                                                            &#x27;data_type&#x27;: dtype(&#x27;O&#x27;),\n",
       "                                                                                            &#x27;mapping&#x27;: Primera infancia    0\n",
       "Infancia            1\n",
       "Jovenes             2\n",
       "Adolescencia        3\n",
       "Adultez             4\n",
       "Persona Mayor       5\n",
       "dtype: int64}]))]),\n",
       "                                                  [&#x27;grupo_edad&#x27;,\n",
       "                                                   &#x27;ciclo_de_vida&#x27;])],\n",
       "                                   verbose_feature_names_out=False)),\n",
       "                (&#x27;estimador&#x27;, AdaBoostClassifier())])</pre><b>In a Jupyter environment, please rerun this cell to show the HTML representation or trust the notebook. <br />On GitHub, the HTML representation is unable to render, please try loading this page with nbviewer.org.</b></div><div class=\"sk-container\" hidden><div class=\"sk-item sk-dashed-wrapped\"><div class=\"sk-label-container\"><div class=\"sk-label sk-toggleable\"><input class=\"sk-toggleable__control sk-hidden--visually\" id=\"sk-estimator-id-93\" type=\"checkbox\" ><label for=\"sk-estimator-id-93\" class=\"sk-toggleable__label sk-toggleable__label-arrow\">Pipeline</label><div class=\"sk-toggleable__content\"><pre>Pipeline(steps=[(&#x27;procesado_variables&#x27;,\n",
       "                 ColumnTransformer(remainder=&#x27;passthrough&#x27;,\n",
       "                                   transformers=[(&#x27;onehot&#x27;,\n",
       "                                                  OneHotEncoder(handle_unknown=&#x27;ignore&#x27;,\n",
       "                                                                sparse_output=False),\n",
       "                                                  [&#x27;municipio&#x27;,\n",
       "                                                   &#x27;tipo_de_seguridad_social&#x27;,\n",
       "                                                   &#x27;departamento&#x27;, &#x27;escenario&#x27;,\n",
       "                                                   &#x27;sexo&#x27;, &#x27;trimestre&#x27;,\n",
       "                                                   &#x27;actividad&#x27;, &#x27;semana&#x27;,\n",
       "                                                   &#x27;nom_upgd&#x27;, &#x27;año&#x27;, &#x27;mes&#x27;,\n",
       "                                                   &#x27;victima_menor_de_edad&#x27;,\n",
       "                                                   &#x27;parentezco_vict&#x27;,\n",
       "                                                   &#x27;sustancias_vi...\n",
       "                                                                   OrdinalEncoder(mapping=[{&#x27;col&#x27;: &#x27;grupo_edad&#x27;,\n",
       "                                                                                            &#x27;data_type&#x27;: dtype(&#x27;O&#x27;),\n",
       "                                                                                            &#x27;mapping&#x27;: 0 a 6       0\n",
       "7  a 11     1\n",
       "12 a 17     2\n",
       "18 a 28     3\n",
       "29 a 59     4\n",
       "60 y mas    5\n",
       "dtype: int64},\n",
       "                                                                                           {&#x27;col&#x27;: &#x27;ciclo_de_vida&#x27;,\n",
       "                                                                                            &#x27;data_type&#x27;: dtype(&#x27;O&#x27;),\n",
       "                                                                                            &#x27;mapping&#x27;: Primera infancia    0\n",
       "Infancia            1\n",
       "Jovenes             2\n",
       "Adolescencia        3\n",
       "Adultez             4\n",
       "Persona Mayor       5\n",
       "dtype: int64}]))]),\n",
       "                                                  [&#x27;grupo_edad&#x27;,\n",
       "                                                   &#x27;ciclo_de_vida&#x27;])],\n",
       "                                   verbose_feature_names_out=False)),\n",
       "                (&#x27;estimador&#x27;, AdaBoostClassifier())])</pre></div></div></div><div class=\"sk-serial\"><div class=\"sk-item sk-dashed-wrapped\"><div class=\"sk-label-container\"><div class=\"sk-label sk-toggleable\"><input class=\"sk-toggleable__control sk-hidden--visually\" id=\"sk-estimator-id-94\" type=\"checkbox\" ><label for=\"sk-estimator-id-94\" class=\"sk-toggleable__label sk-toggleable__label-arrow\">procesado_variables: ColumnTransformer</label><div class=\"sk-toggleable__content\"><pre>ColumnTransformer(remainder=&#x27;passthrough&#x27;,\n",
       "                  transformers=[(&#x27;onehot&#x27;,\n",
       "                                 OneHotEncoder(handle_unknown=&#x27;ignore&#x27;,\n",
       "                                               sparse_output=False),\n",
       "                                 [&#x27;municipio&#x27;, &#x27;tipo_de_seguridad_social&#x27;,\n",
       "                                  &#x27;departamento&#x27;, &#x27;escenario&#x27;, &#x27;sexo&#x27;,\n",
       "                                  &#x27;trimestre&#x27;, &#x27;actividad&#x27;, &#x27;semana&#x27;,\n",
       "                                  &#x27;nom_upgd&#x27;, &#x27;año&#x27;, &#x27;mes&#x27;,\n",
       "                                  &#x27;victima_menor_de_edad&#x27;, &#x27;parentezco_vict&#x27;,\n",
       "                                  &#x27;sustancias_victima&#x27;, &#x27;nom_eve&#x27;,\n",
       "                                  &#x27;paciente_hospitalizad...\n",
       "                                                 (&#x27;transformador_ordinal&#x27;,\n",
       "                                                  OrdinalEncoder(mapping=[{&#x27;col&#x27;: &#x27;grupo_edad&#x27;,\n",
       "                                                                           &#x27;data_type&#x27;: dtype(&#x27;O&#x27;),\n",
       "                                                                           &#x27;mapping&#x27;: 0 a 6       0\n",
       "7  a 11     1\n",
       "12 a 17     2\n",
       "18 a 28     3\n",
       "29 a 59     4\n",
       "60 y mas    5\n",
       "dtype: int64},\n",
       "                                                                          {&#x27;col&#x27;: &#x27;ciclo_de_vida&#x27;,\n",
       "                                                                           &#x27;data_type&#x27;: dtype(&#x27;O&#x27;),\n",
       "                                                                           &#x27;mapping&#x27;: Primera infancia    0\n",
       "Infancia            1\n",
       "Jovenes             2\n",
       "Adolescencia        3\n",
       "Adultez             4\n",
       "Persona Mayor       5\n",
       "dtype: int64}]))]),\n",
       "                                 [&#x27;grupo_edad&#x27;, &#x27;ciclo_de_vida&#x27;])],\n",
       "                  verbose_feature_names_out=False)</pre></div></div></div><div class=\"sk-parallel\"><div class=\"sk-parallel-item\"><div class=\"sk-item\"><div class=\"sk-label-container\"><div class=\"sk-label sk-toggleable\"><input class=\"sk-toggleable__control sk-hidden--visually\" id=\"sk-estimator-id-95\" type=\"checkbox\" ><label for=\"sk-estimator-id-95\" class=\"sk-toggleable__label sk-toggleable__label-arrow\">onehot</label><div class=\"sk-toggleable__content\"><pre>[&#x27;municipio&#x27;, &#x27;tipo_de_seguridad_social&#x27;, &#x27;departamento&#x27;, &#x27;escenario&#x27;, &#x27;sexo&#x27;, &#x27;trimestre&#x27;, &#x27;actividad&#x27;, &#x27;semana&#x27;, &#x27;nom_upgd&#x27;, &#x27;año&#x27;, &#x27;mes&#x27;, &#x27;victima_menor_de_edad&#x27;, &#x27;parentezco_vict&#x27;, &#x27;sustancias_victima&#x27;, &#x27;nom_eve&#x27;, &#x27;paciente_hospitalizado&#x27;, &#x27;violencia_intrafamiliar&#x27;, &#x27;area&#x27;, &#x27;comuna&#x27;, &#x27;condicion_final&#x27;, &#x27;sexo_agre&#x27;, &#x27;agresor_menor_de_edad&#x27;]</pre></div></div></div><div class=\"sk-serial\"><div class=\"sk-item\"><div class=\"sk-estimator sk-toggleable\"><input class=\"sk-toggleable__control sk-hidden--visually\" id=\"sk-estimator-id-96\" type=\"checkbox\" ><label for=\"sk-estimator-id-96\" class=\"sk-toggleable__label sk-toggleable__label-arrow\">OneHotEncoder</label><div class=\"sk-toggleable__content\"><pre>OneHotEncoder(handle_unknown=&#x27;ignore&#x27;, sparse_output=False)</pre></div></div></div></div></div></div><div class=\"sk-parallel-item\"><div class=\"sk-item\"><div class=\"sk-label-container\"><div class=\"sk-label sk-toggleable\"><input class=\"sk-toggleable__control sk-hidden--visually\" id=\"sk-estimator-id-97\" type=\"checkbox\" ><label for=\"sk-estimator-id-97\" class=\"sk-toggleable__label sk-toggleable__label-arrow\">ordinal</label><div class=\"sk-toggleable__content\"><pre>[&#x27;grupo_edad&#x27;, &#x27;ciclo_de_vida&#x27;]</pre></div></div></div><div class=\"sk-serial\"><div class=\"sk-item\"><div class=\"sk-serial\"><div class=\"sk-item\"><div class=\"sk-estimator sk-toggleable\"><input class=\"sk-toggleable__control sk-hidden--visually\" id=\"sk-estimator-id-98\" type=\"checkbox\" ><label for=\"sk-estimator-id-98\" class=\"sk-toggleable__label sk-toggleable__label-arrow\">SimpleImputer</label><div class=\"sk-toggleable__content\"><pre>SimpleImputer(strategy=&#x27;most_frequent&#x27;)</pre></div></div></div><div class=\"sk-item\"><div class=\"sk-estimator sk-toggleable\"><input class=\"sk-toggleable__control sk-hidden--visually\" id=\"sk-estimator-id-99\" type=\"checkbox\" ><label for=\"sk-estimator-id-99\" class=\"sk-toggleable__label sk-toggleable__label-arrow\">OrdinalEncoder</label><div class=\"sk-toggleable__content\"><pre>OrdinalEncoder(mapping=[{&#x27;col&#x27;: &#x27;grupo_edad&#x27;, &#x27;data_type&#x27;: dtype(&#x27;O&#x27;),\n",
       "                         &#x27;mapping&#x27;: 0 a 6       0\n",
       "7  a 11     1\n",
       "12 a 17     2\n",
       "18 a 28     3\n",
       "29 a 59     4\n",
       "60 y mas    5\n",
       "dtype: int64},\n",
       "                        {&#x27;col&#x27;: &#x27;ciclo_de_vida&#x27;, &#x27;data_type&#x27;: dtype(&#x27;O&#x27;),\n",
       "                         &#x27;mapping&#x27;: Primera infancia    0\n",
       "Infancia            1\n",
       "Jovenes             2\n",
       "Adolescencia        3\n",
       "Adultez             4\n",
       "Persona Mayor       5\n",
       "dtype: int64}])</pre></div></div></div></div></div></div></div></div><div class=\"sk-parallel-item\"><div class=\"sk-item\"><div class=\"sk-label-container\"><div class=\"sk-label sk-toggleable\"><input class=\"sk-toggleable__control sk-hidden--visually\" id=\"sk-estimator-id-100\" type=\"checkbox\" ><label for=\"sk-estimator-id-100\" class=\"sk-toggleable__label sk-toggleable__label-arrow\">remainder</label><div class=\"sk-toggleable__content\"><pre>[&#x27;edad_agre&#x27;]</pre></div></div></div><div class=\"sk-serial\"><div class=\"sk-item\"><div class=\"sk-estimator sk-toggleable\"><input class=\"sk-toggleable__control sk-hidden--visually\" id=\"sk-estimator-id-101\" type=\"checkbox\" ><label for=\"sk-estimator-id-101\" class=\"sk-toggleable__label sk-toggleable__label-arrow\">passthrough</label><div class=\"sk-toggleable__content\"><pre>passthrough</pre></div></div></div></div></div></div></div></div><div class=\"sk-item\"><div class=\"sk-estimator sk-toggleable\"><input class=\"sk-toggleable__control sk-hidden--visually\" id=\"sk-estimator-id-102\" type=\"checkbox\" ><label for=\"sk-estimator-id-102\" class=\"sk-toggleable__label sk-toggleable__label-arrow\">AdaBoostClassifier</label><div class=\"sk-toggleable__content\"><pre>AdaBoostClassifier()</pre></div></div></div></div></div></div></div>"
      ],
      "text/plain": [
       "Pipeline(steps=[('procesado_variables',\n",
       "                 ColumnTransformer(remainder='passthrough',\n",
       "                                   transformers=[('onehot',\n",
       "                                                  OneHotEncoder(handle_unknown='ignore',\n",
       "                                                                sparse_output=False),\n",
       "                                                  ['municipio',\n",
       "                                                   'tipo_de_seguridad_social',\n",
       "                                                   'departamento', 'escenario',\n",
       "                                                   'sexo', 'trimestre',\n",
       "                                                   'actividad', 'semana',\n",
       "                                                   'nom_upgd', 'año', 'mes',\n",
       "                                                   'victima_menor_de_edad',\n",
       "                                                   'parentezco_vict',\n",
       "                                                   'sustancias_vi...\n",
       "                                                                   OrdinalEncoder(mapping=[{'col': 'grupo_edad',\n",
       "                                                                                            'data_type': dtype('O'),\n",
       "                                                                                            'mapping': 0 a 6       0\n",
       "7  a 11     1\n",
       "12 a 17     2\n",
       "18 a 28     3\n",
       "29 a 59     4\n",
       "60 y mas    5\n",
       "dtype: int64},\n",
       "                                                                                           {'col': 'ciclo_de_vida',\n",
       "                                                                                            'data_type': dtype('O'),\n",
       "                                                                                            'mapping': Primera infancia    0\n",
       "Infancia            1\n",
       "Jovenes             2\n",
       "Adolescencia        3\n",
       "Adultez             4\n",
       "Persona Mayor       5\n",
       "dtype: int64}]))]),\n",
       "                                                  ['grupo_edad',\n",
       "                                                   'ciclo_de_vida'])],\n",
       "                                   verbose_feature_names_out=False)),\n",
       "                ('estimador', AdaBoostClassifier())])"
      ]
     },
     "execution_count": 56,
     "metadata": {},
     "output_type": "execute_result"
    }
   ],
   "source": [
    "pipeline_estimador.fit(X=X_train, y=y_train)"
   ]
  },
  {
   "cell_type": "code",
   "execution_count": 57,
   "id": "11f8d2f8",
   "metadata": {},
   "outputs": [],
   "source": [
    "predicciones =  pipeline_estimador.predict(X=X_test)\n",
    "clases_reales = y_test\n",
    "predicciones_probabilidades =pipeline_estimador.predict_proba(X_test)"
   ]
  },
  {
   "cell_type": "code",
   "execution_count": 58,
   "id": "5e0d4c18",
   "metadata": {
    "scrolled": true
   },
   "outputs": [
    {
     "name": "stdout",
     "output_type": "stream",
     "text": [
      "\n",
      "    Exactitud promedio: 0.825\n",
      "    Precisión promedio: 0.817\n",
      "    Sensibilidad promedio: 0.812\n",
      "    Puntuación F1 promedio: 0.814\n",
      "    \n"
     ]
    }
   ],
   "source": [
    "evaluar_modelo(clases_reales, predicciones, predicciones_probabilidades)"
   ]
  },
  {
   "cell_type": "code",
   "execution_count": 59,
   "id": "a1eb75cf",
   "metadata": {},
   "outputs": [
    {
     "name": "stdout",
     "output_type": "stream",
     "text": [
      "Accuracy en datos de entrenamiento: 0.8328368090036412\n",
      "Accuracy en datos de prueba: 0.8203883495145631\n"
     ]
    }
   ],
   "source": [
    "train_accuracy = accuracy_score(y_train, pipeline_estimador.predict(X_train))\n",
    "test_accuracy = accuracy_score(y_test, pipeline_estimador.predict(X_test))\n",
    "print(\"Accuracy en datos de entrenamiento:\", train_accuracy)\n",
    "print(\"Accuracy en datos de prueba:\", test_accuracy)"
   ]
  },
  {
   "cell_type": "markdown",
   "id": "87c68c0a",
   "metadata": {},
   "source": [
    "## Prueba Neural Networks"
   ]
  },
  {
   "cell_type": "code",
   "execution_count": 60,
   "id": "68bdd3df",
   "metadata": {},
   "outputs": [],
   "source": [
    "from sklearn.neural_network import MLPClassifier\n",
    "\n",
    "pipeline_estimador = Pipeline([\n",
    "    (\"procesado_variables\", pipeline_procesado),\n",
    "    (\"estimador\", MLPClassifier())  \n",
    "])\n"
   ]
  },
  {
   "cell_type": "code",
   "execution_count": 61,
   "id": "e0f0d345",
   "metadata": {
    "scrolled": true
   },
   "outputs": [
    {
     "name": "stderr",
     "output_type": "stream",
     "text": [
      "C:\\Users\\pc\\anaconda3\\envs\\data2\\lib\\site-packages\\sklearn\\neural_network\\_multilayer_perceptron.py:686: ConvergenceWarning: Stochastic Optimizer: Maximum iterations (200) reached and the optimization hasn't converged yet.\n",
      "  warnings.warn(\n"
     ]
    },
    {
     "data": {
      "text/html": [
       "<style>#sk-container-id-11 {color: black;background-color: white;}#sk-container-id-11 pre{padding: 0;}#sk-container-id-11 div.sk-toggleable {background-color: white;}#sk-container-id-11 label.sk-toggleable__label {cursor: pointer;display: block;width: 100%;margin-bottom: 0;padding: 0.3em;box-sizing: border-box;text-align: center;}#sk-container-id-11 label.sk-toggleable__label-arrow:before {content: \"▸\";float: left;margin-right: 0.25em;color: #696969;}#sk-container-id-11 label.sk-toggleable__label-arrow:hover:before {color: black;}#sk-container-id-11 div.sk-estimator:hover label.sk-toggleable__label-arrow:before {color: black;}#sk-container-id-11 div.sk-toggleable__content {max-height: 0;max-width: 0;overflow: hidden;text-align: left;background-color: #f0f8ff;}#sk-container-id-11 div.sk-toggleable__content pre {margin: 0.2em;color: black;border-radius: 0.25em;background-color: #f0f8ff;}#sk-container-id-11 input.sk-toggleable__control:checked~div.sk-toggleable__content {max-height: 200px;max-width: 100%;overflow: auto;}#sk-container-id-11 input.sk-toggleable__control:checked~label.sk-toggleable__label-arrow:before {content: \"▾\";}#sk-container-id-11 div.sk-estimator input.sk-toggleable__control:checked~label.sk-toggleable__label {background-color: #d4ebff;}#sk-container-id-11 div.sk-label input.sk-toggleable__control:checked~label.sk-toggleable__label {background-color: #d4ebff;}#sk-container-id-11 input.sk-hidden--visually {border: 0;clip: rect(1px 1px 1px 1px);clip: rect(1px, 1px, 1px, 1px);height: 1px;margin: -1px;overflow: hidden;padding: 0;position: absolute;width: 1px;}#sk-container-id-11 div.sk-estimator {font-family: monospace;background-color: #f0f8ff;border: 1px dotted black;border-radius: 0.25em;box-sizing: border-box;margin-bottom: 0.5em;}#sk-container-id-11 div.sk-estimator:hover {background-color: #d4ebff;}#sk-container-id-11 div.sk-parallel-item::after {content: \"\";width: 100%;border-bottom: 1px solid gray;flex-grow: 1;}#sk-container-id-11 div.sk-label:hover label.sk-toggleable__label {background-color: #d4ebff;}#sk-container-id-11 div.sk-serial::before {content: \"\";position: absolute;border-left: 1px solid gray;box-sizing: border-box;top: 0;bottom: 0;left: 50%;z-index: 0;}#sk-container-id-11 div.sk-serial {display: flex;flex-direction: column;align-items: center;background-color: white;padding-right: 0.2em;padding-left: 0.2em;position: relative;}#sk-container-id-11 div.sk-item {position: relative;z-index: 1;}#sk-container-id-11 div.sk-parallel {display: flex;align-items: stretch;justify-content: center;background-color: white;position: relative;}#sk-container-id-11 div.sk-item::before, #sk-container-id-11 div.sk-parallel-item::before {content: \"\";position: absolute;border-left: 1px solid gray;box-sizing: border-box;top: 0;bottom: 0;left: 50%;z-index: -1;}#sk-container-id-11 div.sk-parallel-item {display: flex;flex-direction: column;z-index: 1;position: relative;background-color: white;}#sk-container-id-11 div.sk-parallel-item:first-child::after {align-self: flex-end;width: 50%;}#sk-container-id-11 div.sk-parallel-item:last-child::after {align-self: flex-start;width: 50%;}#sk-container-id-11 div.sk-parallel-item:only-child::after {width: 0;}#sk-container-id-11 div.sk-dashed-wrapped {border: 1px dashed gray;margin: 0 0.4em 0.5em 0.4em;box-sizing: border-box;padding-bottom: 0.4em;background-color: white;}#sk-container-id-11 div.sk-label label {font-family: monospace;font-weight: bold;display: inline-block;line-height: 1.2em;}#sk-container-id-11 div.sk-label-container {text-align: center;}#sk-container-id-11 div.sk-container {/* jupyter's `normalize.less` sets `[hidden] { display: none; }` but bootstrap.min.css set `[hidden] { display: none !important; }` so we also need the `!important` here to be able to override the default hidden behavior on the sphinx rendered scikit-learn.org. See: https://github.com/scikit-learn/scikit-learn/issues/21755 */display: inline-block !important;position: relative;}#sk-container-id-11 div.sk-text-repr-fallback {display: none;}</style><div id=\"sk-container-id-11\" class=\"sk-top-container\"><div class=\"sk-text-repr-fallback\"><pre>Pipeline(steps=[(&#x27;procesado_variables&#x27;,\n",
       "                 ColumnTransformer(remainder=&#x27;passthrough&#x27;,\n",
       "                                   transformers=[(&#x27;onehot&#x27;,\n",
       "                                                  OneHotEncoder(handle_unknown=&#x27;ignore&#x27;,\n",
       "                                                                sparse_output=False),\n",
       "                                                  [&#x27;municipio&#x27;,\n",
       "                                                   &#x27;tipo_de_seguridad_social&#x27;,\n",
       "                                                   &#x27;departamento&#x27;, &#x27;escenario&#x27;,\n",
       "                                                   &#x27;sexo&#x27;, &#x27;trimestre&#x27;,\n",
       "                                                   &#x27;actividad&#x27;, &#x27;semana&#x27;,\n",
       "                                                   &#x27;nom_upgd&#x27;, &#x27;año&#x27;, &#x27;mes&#x27;,\n",
       "                                                   &#x27;victima_menor_de_edad&#x27;,\n",
       "                                                   &#x27;parentezco_vict&#x27;,\n",
       "                                                   &#x27;sustancias_vi...\n",
       "                                                                   OrdinalEncoder(mapping=[{&#x27;col&#x27;: &#x27;grupo_edad&#x27;,\n",
       "                                                                                            &#x27;data_type&#x27;: dtype(&#x27;O&#x27;),\n",
       "                                                                                            &#x27;mapping&#x27;: 0 a 6       0\n",
       "7  a 11     1\n",
       "12 a 17     2\n",
       "18 a 28     3\n",
       "29 a 59     4\n",
       "60 y mas    5\n",
       "dtype: int64},\n",
       "                                                                                           {&#x27;col&#x27;: &#x27;ciclo_de_vida&#x27;,\n",
       "                                                                                            &#x27;data_type&#x27;: dtype(&#x27;O&#x27;),\n",
       "                                                                                            &#x27;mapping&#x27;: Primera infancia    0\n",
       "Infancia            1\n",
       "Jovenes             2\n",
       "Adolescencia        3\n",
       "Adultez             4\n",
       "Persona Mayor       5\n",
       "dtype: int64}]))]),\n",
       "                                                  [&#x27;grupo_edad&#x27;,\n",
       "                                                   &#x27;ciclo_de_vida&#x27;])],\n",
       "                                   verbose_feature_names_out=False)),\n",
       "                (&#x27;estimador&#x27;, MLPClassifier())])</pre><b>In a Jupyter environment, please rerun this cell to show the HTML representation or trust the notebook. <br />On GitHub, the HTML representation is unable to render, please try loading this page with nbviewer.org.</b></div><div class=\"sk-container\" hidden><div class=\"sk-item sk-dashed-wrapped\"><div class=\"sk-label-container\"><div class=\"sk-label sk-toggleable\"><input class=\"sk-toggleable__control sk-hidden--visually\" id=\"sk-estimator-id-103\" type=\"checkbox\" ><label for=\"sk-estimator-id-103\" class=\"sk-toggleable__label sk-toggleable__label-arrow\">Pipeline</label><div class=\"sk-toggleable__content\"><pre>Pipeline(steps=[(&#x27;procesado_variables&#x27;,\n",
       "                 ColumnTransformer(remainder=&#x27;passthrough&#x27;,\n",
       "                                   transformers=[(&#x27;onehot&#x27;,\n",
       "                                                  OneHotEncoder(handle_unknown=&#x27;ignore&#x27;,\n",
       "                                                                sparse_output=False),\n",
       "                                                  [&#x27;municipio&#x27;,\n",
       "                                                   &#x27;tipo_de_seguridad_social&#x27;,\n",
       "                                                   &#x27;departamento&#x27;, &#x27;escenario&#x27;,\n",
       "                                                   &#x27;sexo&#x27;, &#x27;trimestre&#x27;,\n",
       "                                                   &#x27;actividad&#x27;, &#x27;semana&#x27;,\n",
       "                                                   &#x27;nom_upgd&#x27;, &#x27;año&#x27;, &#x27;mes&#x27;,\n",
       "                                                   &#x27;victima_menor_de_edad&#x27;,\n",
       "                                                   &#x27;parentezco_vict&#x27;,\n",
       "                                                   &#x27;sustancias_vi...\n",
       "                                                                   OrdinalEncoder(mapping=[{&#x27;col&#x27;: &#x27;grupo_edad&#x27;,\n",
       "                                                                                            &#x27;data_type&#x27;: dtype(&#x27;O&#x27;),\n",
       "                                                                                            &#x27;mapping&#x27;: 0 a 6       0\n",
       "7  a 11     1\n",
       "12 a 17     2\n",
       "18 a 28     3\n",
       "29 a 59     4\n",
       "60 y mas    5\n",
       "dtype: int64},\n",
       "                                                                                           {&#x27;col&#x27;: &#x27;ciclo_de_vida&#x27;,\n",
       "                                                                                            &#x27;data_type&#x27;: dtype(&#x27;O&#x27;),\n",
       "                                                                                            &#x27;mapping&#x27;: Primera infancia    0\n",
       "Infancia            1\n",
       "Jovenes             2\n",
       "Adolescencia        3\n",
       "Adultez             4\n",
       "Persona Mayor       5\n",
       "dtype: int64}]))]),\n",
       "                                                  [&#x27;grupo_edad&#x27;,\n",
       "                                                   &#x27;ciclo_de_vida&#x27;])],\n",
       "                                   verbose_feature_names_out=False)),\n",
       "                (&#x27;estimador&#x27;, MLPClassifier())])</pre></div></div></div><div class=\"sk-serial\"><div class=\"sk-item sk-dashed-wrapped\"><div class=\"sk-label-container\"><div class=\"sk-label sk-toggleable\"><input class=\"sk-toggleable__control sk-hidden--visually\" id=\"sk-estimator-id-104\" type=\"checkbox\" ><label for=\"sk-estimator-id-104\" class=\"sk-toggleable__label sk-toggleable__label-arrow\">procesado_variables: ColumnTransformer</label><div class=\"sk-toggleable__content\"><pre>ColumnTransformer(remainder=&#x27;passthrough&#x27;,\n",
       "                  transformers=[(&#x27;onehot&#x27;,\n",
       "                                 OneHotEncoder(handle_unknown=&#x27;ignore&#x27;,\n",
       "                                               sparse_output=False),\n",
       "                                 [&#x27;municipio&#x27;, &#x27;tipo_de_seguridad_social&#x27;,\n",
       "                                  &#x27;departamento&#x27;, &#x27;escenario&#x27;, &#x27;sexo&#x27;,\n",
       "                                  &#x27;trimestre&#x27;, &#x27;actividad&#x27;, &#x27;semana&#x27;,\n",
       "                                  &#x27;nom_upgd&#x27;, &#x27;año&#x27;, &#x27;mes&#x27;,\n",
       "                                  &#x27;victima_menor_de_edad&#x27;, &#x27;parentezco_vict&#x27;,\n",
       "                                  &#x27;sustancias_victima&#x27;, &#x27;nom_eve&#x27;,\n",
       "                                  &#x27;paciente_hospitalizad...\n",
       "                                                 (&#x27;transformador_ordinal&#x27;,\n",
       "                                                  OrdinalEncoder(mapping=[{&#x27;col&#x27;: &#x27;grupo_edad&#x27;,\n",
       "                                                                           &#x27;data_type&#x27;: dtype(&#x27;O&#x27;),\n",
       "                                                                           &#x27;mapping&#x27;: 0 a 6       0\n",
       "7  a 11     1\n",
       "12 a 17     2\n",
       "18 a 28     3\n",
       "29 a 59     4\n",
       "60 y mas    5\n",
       "dtype: int64},\n",
       "                                                                          {&#x27;col&#x27;: &#x27;ciclo_de_vida&#x27;,\n",
       "                                                                           &#x27;data_type&#x27;: dtype(&#x27;O&#x27;),\n",
       "                                                                           &#x27;mapping&#x27;: Primera infancia    0\n",
       "Infancia            1\n",
       "Jovenes             2\n",
       "Adolescencia        3\n",
       "Adultez             4\n",
       "Persona Mayor       5\n",
       "dtype: int64}]))]),\n",
       "                                 [&#x27;grupo_edad&#x27;, &#x27;ciclo_de_vida&#x27;])],\n",
       "                  verbose_feature_names_out=False)</pre></div></div></div><div class=\"sk-parallel\"><div class=\"sk-parallel-item\"><div class=\"sk-item\"><div class=\"sk-label-container\"><div class=\"sk-label sk-toggleable\"><input class=\"sk-toggleable__control sk-hidden--visually\" id=\"sk-estimator-id-105\" type=\"checkbox\" ><label for=\"sk-estimator-id-105\" class=\"sk-toggleable__label sk-toggleable__label-arrow\">onehot</label><div class=\"sk-toggleable__content\"><pre>[&#x27;municipio&#x27;, &#x27;tipo_de_seguridad_social&#x27;, &#x27;departamento&#x27;, &#x27;escenario&#x27;, &#x27;sexo&#x27;, &#x27;trimestre&#x27;, &#x27;actividad&#x27;, &#x27;semana&#x27;, &#x27;nom_upgd&#x27;, &#x27;año&#x27;, &#x27;mes&#x27;, &#x27;victima_menor_de_edad&#x27;, &#x27;parentezco_vict&#x27;, &#x27;sustancias_victima&#x27;, &#x27;nom_eve&#x27;, &#x27;paciente_hospitalizado&#x27;, &#x27;violencia_intrafamiliar&#x27;, &#x27;area&#x27;, &#x27;comuna&#x27;, &#x27;condicion_final&#x27;, &#x27;sexo_agre&#x27;, &#x27;agresor_menor_de_edad&#x27;]</pre></div></div></div><div class=\"sk-serial\"><div class=\"sk-item\"><div class=\"sk-estimator sk-toggleable\"><input class=\"sk-toggleable__control sk-hidden--visually\" id=\"sk-estimator-id-106\" type=\"checkbox\" ><label for=\"sk-estimator-id-106\" class=\"sk-toggleable__label sk-toggleable__label-arrow\">OneHotEncoder</label><div class=\"sk-toggleable__content\"><pre>OneHotEncoder(handle_unknown=&#x27;ignore&#x27;, sparse_output=False)</pre></div></div></div></div></div></div><div class=\"sk-parallel-item\"><div class=\"sk-item\"><div class=\"sk-label-container\"><div class=\"sk-label sk-toggleable\"><input class=\"sk-toggleable__control sk-hidden--visually\" id=\"sk-estimator-id-107\" type=\"checkbox\" ><label for=\"sk-estimator-id-107\" class=\"sk-toggleable__label sk-toggleable__label-arrow\">ordinal</label><div class=\"sk-toggleable__content\"><pre>[&#x27;grupo_edad&#x27;, &#x27;ciclo_de_vida&#x27;]</pre></div></div></div><div class=\"sk-serial\"><div class=\"sk-item\"><div class=\"sk-serial\"><div class=\"sk-item\"><div class=\"sk-estimator sk-toggleable\"><input class=\"sk-toggleable__control sk-hidden--visually\" id=\"sk-estimator-id-108\" type=\"checkbox\" ><label for=\"sk-estimator-id-108\" class=\"sk-toggleable__label sk-toggleable__label-arrow\">SimpleImputer</label><div class=\"sk-toggleable__content\"><pre>SimpleImputer(strategy=&#x27;most_frequent&#x27;)</pre></div></div></div><div class=\"sk-item\"><div class=\"sk-estimator sk-toggleable\"><input class=\"sk-toggleable__control sk-hidden--visually\" id=\"sk-estimator-id-109\" type=\"checkbox\" ><label for=\"sk-estimator-id-109\" class=\"sk-toggleable__label sk-toggleable__label-arrow\">OrdinalEncoder</label><div class=\"sk-toggleable__content\"><pre>OrdinalEncoder(mapping=[{&#x27;col&#x27;: &#x27;grupo_edad&#x27;, &#x27;data_type&#x27;: dtype(&#x27;O&#x27;),\n",
       "                         &#x27;mapping&#x27;: 0 a 6       0\n",
       "7  a 11     1\n",
       "12 a 17     2\n",
       "18 a 28     3\n",
       "29 a 59     4\n",
       "60 y mas    5\n",
       "dtype: int64},\n",
       "                        {&#x27;col&#x27;: &#x27;ciclo_de_vida&#x27;, &#x27;data_type&#x27;: dtype(&#x27;O&#x27;),\n",
       "                         &#x27;mapping&#x27;: Primera infancia    0\n",
       "Infancia            1\n",
       "Jovenes             2\n",
       "Adolescencia        3\n",
       "Adultez             4\n",
       "Persona Mayor       5\n",
       "dtype: int64}])</pre></div></div></div></div></div></div></div></div><div class=\"sk-parallel-item\"><div class=\"sk-item\"><div class=\"sk-label-container\"><div class=\"sk-label sk-toggleable\"><input class=\"sk-toggleable__control sk-hidden--visually\" id=\"sk-estimator-id-110\" type=\"checkbox\" ><label for=\"sk-estimator-id-110\" class=\"sk-toggleable__label sk-toggleable__label-arrow\">remainder</label><div class=\"sk-toggleable__content\"><pre>[&#x27;edad_agre&#x27;]</pre></div></div></div><div class=\"sk-serial\"><div class=\"sk-item\"><div class=\"sk-estimator sk-toggleable\"><input class=\"sk-toggleable__control sk-hidden--visually\" id=\"sk-estimator-id-111\" type=\"checkbox\" ><label for=\"sk-estimator-id-111\" class=\"sk-toggleable__label sk-toggleable__label-arrow\">passthrough</label><div class=\"sk-toggleable__content\"><pre>passthrough</pre></div></div></div></div></div></div></div></div><div class=\"sk-item\"><div class=\"sk-estimator sk-toggleable\"><input class=\"sk-toggleable__control sk-hidden--visually\" id=\"sk-estimator-id-112\" type=\"checkbox\" ><label for=\"sk-estimator-id-112\" class=\"sk-toggleable__label sk-toggleable__label-arrow\">MLPClassifier</label><div class=\"sk-toggleable__content\"><pre>MLPClassifier()</pre></div></div></div></div></div></div></div>"
      ],
      "text/plain": [
       "Pipeline(steps=[('procesado_variables',\n",
       "                 ColumnTransformer(remainder='passthrough',\n",
       "                                   transformers=[('onehot',\n",
       "                                                  OneHotEncoder(handle_unknown='ignore',\n",
       "                                                                sparse_output=False),\n",
       "                                                  ['municipio',\n",
       "                                                   'tipo_de_seguridad_social',\n",
       "                                                   'departamento', 'escenario',\n",
       "                                                   'sexo', 'trimestre',\n",
       "                                                   'actividad', 'semana',\n",
       "                                                   'nom_upgd', 'año', 'mes',\n",
       "                                                   'victima_menor_de_edad',\n",
       "                                                   'parentezco_vict',\n",
       "                                                   'sustancias_vi...\n",
       "                                                                   OrdinalEncoder(mapping=[{'col': 'grupo_edad',\n",
       "                                                                                            'data_type': dtype('O'),\n",
       "                                                                                            'mapping': 0 a 6       0\n",
       "7  a 11     1\n",
       "12 a 17     2\n",
       "18 a 28     3\n",
       "29 a 59     4\n",
       "60 y mas    5\n",
       "dtype: int64},\n",
       "                                                                                           {'col': 'ciclo_de_vida',\n",
       "                                                                                            'data_type': dtype('O'),\n",
       "                                                                                            'mapping': Primera infancia    0\n",
       "Infancia            1\n",
       "Jovenes             2\n",
       "Adolescencia        3\n",
       "Adultez             4\n",
       "Persona Mayor       5\n",
       "dtype: int64}]))]),\n",
       "                                                  ['grupo_edad',\n",
       "                                                   'ciclo_de_vida'])],\n",
       "                                   verbose_feature_names_out=False)),\n",
       "                ('estimador', MLPClassifier())])"
      ]
     },
     "execution_count": 61,
     "metadata": {},
     "output_type": "execute_result"
    }
   ],
   "source": [
    "pipeline_estimador.fit(X=X_train, y=y_train)"
   ]
  },
  {
   "cell_type": "code",
   "execution_count": 62,
   "id": "7edfa43a",
   "metadata": {},
   "outputs": [],
   "source": [
    "predicciones =  pipeline_estimador.predict(X=X_test)\n",
    "clases_reales = y_test\n",
    "predicciones_probabilidades =pipeline_estimador.predict_proba(X_test)"
   ]
  },
  {
   "cell_type": "code",
   "execution_count": 63,
   "id": "77968009",
   "metadata": {
    "scrolled": true
   },
   "outputs": [
    {
     "name": "stderr",
     "output_type": "stream",
     "text": [
      "C:\\Users\\pc\\anaconda3\\envs\\data2\\lib\\site-packages\\sklearn\\neural_network\\_multilayer_perceptron.py:686: ConvergenceWarning: Stochastic Optimizer: Maximum iterations (200) reached and the optimization hasn't converged yet.\n",
      "  warnings.warn(\n",
      "C:\\Users\\pc\\anaconda3\\envs\\data2\\lib\\site-packages\\sklearn\\neural_network\\_multilayer_perceptron.py:686: ConvergenceWarning: Stochastic Optimizer: Maximum iterations (200) reached and the optimization hasn't converged yet.\n",
      "  warnings.warn(\n",
      "C:\\Users\\pc\\anaconda3\\envs\\data2\\lib\\site-packages\\sklearn\\neural_network\\_multilayer_perceptron.py:686: ConvergenceWarning: Stochastic Optimizer: Maximum iterations (200) reached and the optimization hasn't converged yet.\n",
      "  warnings.warn(\n",
      "C:\\Users\\pc\\anaconda3\\envs\\data2\\lib\\site-packages\\sklearn\\neural_network\\_multilayer_perceptron.py:686: ConvergenceWarning: Stochastic Optimizer: Maximum iterations (200) reached and the optimization hasn't converged yet.\n",
      "  warnings.warn(\n"
     ]
    },
    {
     "name": "stdout",
     "output_type": "stream",
     "text": [
      "\n",
      "    Exactitud promedio: 0.810\n",
      "    Precisión promedio: 0.800\n",
      "    Sensibilidad promedio: 0.799\n",
      "    Puntuación F1 promedio: 0.799\n",
      "    \n"
     ]
    },
    {
     "name": "stderr",
     "output_type": "stream",
     "text": [
      "C:\\Users\\pc\\anaconda3\\envs\\data2\\lib\\site-packages\\sklearn\\neural_network\\_multilayer_perceptron.py:686: ConvergenceWarning: Stochastic Optimizer: Maximum iterations (200) reached and the optimization hasn't converged yet.\n",
      "  warnings.warn(\n"
     ]
    }
   ],
   "source": [
    "evaluar_modelo(clases_reales, predicciones, predicciones_probabilidades)"
   ]
  },
  {
   "cell_type": "code",
   "execution_count": 64,
   "id": "d4378df7",
   "metadata": {
    "scrolled": true
   },
   "outputs": [
    {
     "name": "stdout",
     "output_type": "stream",
     "text": [
      "Accuracy en datos de entrenamiento: 0.9611607635440803\n",
      "Accuracy en datos de prueba: 0.8195057369814651\n"
     ]
    }
   ],
   "source": [
    "train_accuracy = accuracy_score(y_train, pipeline_estimador.predict(X_train))\n",
    "test_accuracy = accuracy_score(y_test, pipeline_estimador.predict(X_test))\n",
    "print(\"Accuracy en datos de entrenamiento:\", train_accuracy)\n",
    "print(\"Accuracy en datos de prueba:\", test_accuracy)"
   ]
  },
  {
   "cell_type": "markdown",
   "id": "3a7c955b",
   "metadata": {},
   "source": [
    "# Prueba Extra Trees"
   ]
  },
  {
   "cell_type": "code",
   "execution_count": 65,
   "id": "5facfdf3",
   "metadata": {},
   "outputs": [],
   "source": [
    "from sklearn.ensemble import ExtraTreesClassifier\n",
    "\n",
    "pipeline_estimador = Pipeline([\n",
    "    (\"procesado_variables\", pipeline_procesado),\n",
    "    (\"estimador\", ExtraTreesClassifier())  \n",
    "])"
   ]
  },
  {
   "cell_type": "code",
   "execution_count": 66,
   "id": "aec68fd5",
   "metadata": {
    "scrolled": true
   },
   "outputs": [
    {
     "data": {
      "text/html": [
       "<style>#sk-container-id-12 {color: black;background-color: white;}#sk-container-id-12 pre{padding: 0;}#sk-container-id-12 div.sk-toggleable {background-color: white;}#sk-container-id-12 label.sk-toggleable__label {cursor: pointer;display: block;width: 100%;margin-bottom: 0;padding: 0.3em;box-sizing: border-box;text-align: center;}#sk-container-id-12 label.sk-toggleable__label-arrow:before {content: \"▸\";float: left;margin-right: 0.25em;color: #696969;}#sk-container-id-12 label.sk-toggleable__label-arrow:hover:before {color: black;}#sk-container-id-12 div.sk-estimator:hover label.sk-toggleable__label-arrow:before {color: black;}#sk-container-id-12 div.sk-toggleable__content {max-height: 0;max-width: 0;overflow: hidden;text-align: left;background-color: #f0f8ff;}#sk-container-id-12 div.sk-toggleable__content pre {margin: 0.2em;color: black;border-radius: 0.25em;background-color: #f0f8ff;}#sk-container-id-12 input.sk-toggleable__control:checked~div.sk-toggleable__content {max-height: 200px;max-width: 100%;overflow: auto;}#sk-container-id-12 input.sk-toggleable__control:checked~label.sk-toggleable__label-arrow:before {content: \"▾\";}#sk-container-id-12 div.sk-estimator input.sk-toggleable__control:checked~label.sk-toggleable__label {background-color: #d4ebff;}#sk-container-id-12 div.sk-label input.sk-toggleable__control:checked~label.sk-toggleable__label {background-color: #d4ebff;}#sk-container-id-12 input.sk-hidden--visually {border: 0;clip: rect(1px 1px 1px 1px);clip: rect(1px, 1px, 1px, 1px);height: 1px;margin: -1px;overflow: hidden;padding: 0;position: absolute;width: 1px;}#sk-container-id-12 div.sk-estimator {font-family: monospace;background-color: #f0f8ff;border: 1px dotted black;border-radius: 0.25em;box-sizing: border-box;margin-bottom: 0.5em;}#sk-container-id-12 div.sk-estimator:hover {background-color: #d4ebff;}#sk-container-id-12 div.sk-parallel-item::after {content: \"\";width: 100%;border-bottom: 1px solid gray;flex-grow: 1;}#sk-container-id-12 div.sk-label:hover label.sk-toggleable__label {background-color: #d4ebff;}#sk-container-id-12 div.sk-serial::before {content: \"\";position: absolute;border-left: 1px solid gray;box-sizing: border-box;top: 0;bottom: 0;left: 50%;z-index: 0;}#sk-container-id-12 div.sk-serial {display: flex;flex-direction: column;align-items: center;background-color: white;padding-right: 0.2em;padding-left: 0.2em;position: relative;}#sk-container-id-12 div.sk-item {position: relative;z-index: 1;}#sk-container-id-12 div.sk-parallel {display: flex;align-items: stretch;justify-content: center;background-color: white;position: relative;}#sk-container-id-12 div.sk-item::before, #sk-container-id-12 div.sk-parallel-item::before {content: \"\";position: absolute;border-left: 1px solid gray;box-sizing: border-box;top: 0;bottom: 0;left: 50%;z-index: -1;}#sk-container-id-12 div.sk-parallel-item {display: flex;flex-direction: column;z-index: 1;position: relative;background-color: white;}#sk-container-id-12 div.sk-parallel-item:first-child::after {align-self: flex-end;width: 50%;}#sk-container-id-12 div.sk-parallel-item:last-child::after {align-self: flex-start;width: 50%;}#sk-container-id-12 div.sk-parallel-item:only-child::after {width: 0;}#sk-container-id-12 div.sk-dashed-wrapped {border: 1px dashed gray;margin: 0 0.4em 0.5em 0.4em;box-sizing: border-box;padding-bottom: 0.4em;background-color: white;}#sk-container-id-12 div.sk-label label {font-family: monospace;font-weight: bold;display: inline-block;line-height: 1.2em;}#sk-container-id-12 div.sk-label-container {text-align: center;}#sk-container-id-12 div.sk-container {/* jupyter's `normalize.less` sets `[hidden] { display: none; }` but bootstrap.min.css set `[hidden] { display: none !important; }` so we also need the `!important` here to be able to override the default hidden behavior on the sphinx rendered scikit-learn.org. See: https://github.com/scikit-learn/scikit-learn/issues/21755 */display: inline-block !important;position: relative;}#sk-container-id-12 div.sk-text-repr-fallback {display: none;}</style><div id=\"sk-container-id-12\" class=\"sk-top-container\"><div class=\"sk-text-repr-fallback\"><pre>Pipeline(steps=[(&#x27;procesado_variables&#x27;,\n",
       "                 ColumnTransformer(remainder=&#x27;passthrough&#x27;,\n",
       "                                   transformers=[(&#x27;onehot&#x27;,\n",
       "                                                  OneHotEncoder(handle_unknown=&#x27;ignore&#x27;,\n",
       "                                                                sparse_output=False),\n",
       "                                                  [&#x27;municipio&#x27;,\n",
       "                                                   &#x27;tipo_de_seguridad_social&#x27;,\n",
       "                                                   &#x27;departamento&#x27;, &#x27;escenario&#x27;,\n",
       "                                                   &#x27;sexo&#x27;, &#x27;trimestre&#x27;,\n",
       "                                                   &#x27;actividad&#x27;, &#x27;semana&#x27;,\n",
       "                                                   &#x27;nom_upgd&#x27;, &#x27;año&#x27;, &#x27;mes&#x27;,\n",
       "                                                   &#x27;victima_menor_de_edad&#x27;,\n",
       "                                                   &#x27;parentezco_vict&#x27;,\n",
       "                                                   &#x27;sustancias_vi...\n",
       "                                                                   OrdinalEncoder(mapping=[{&#x27;col&#x27;: &#x27;grupo_edad&#x27;,\n",
       "                                                                                            &#x27;data_type&#x27;: dtype(&#x27;O&#x27;),\n",
       "                                                                                            &#x27;mapping&#x27;: 0 a 6       0\n",
       "7  a 11     1\n",
       "12 a 17     2\n",
       "18 a 28     3\n",
       "29 a 59     4\n",
       "60 y mas    5\n",
       "dtype: int64},\n",
       "                                                                                           {&#x27;col&#x27;: &#x27;ciclo_de_vida&#x27;,\n",
       "                                                                                            &#x27;data_type&#x27;: dtype(&#x27;O&#x27;),\n",
       "                                                                                            &#x27;mapping&#x27;: Primera infancia    0\n",
       "Infancia            1\n",
       "Jovenes             2\n",
       "Adolescencia        3\n",
       "Adultez             4\n",
       "Persona Mayor       5\n",
       "dtype: int64}]))]),\n",
       "                                                  [&#x27;grupo_edad&#x27;,\n",
       "                                                   &#x27;ciclo_de_vida&#x27;])],\n",
       "                                   verbose_feature_names_out=False)),\n",
       "                (&#x27;estimador&#x27;, ExtraTreesClassifier())])</pre><b>In a Jupyter environment, please rerun this cell to show the HTML representation or trust the notebook. <br />On GitHub, the HTML representation is unable to render, please try loading this page with nbviewer.org.</b></div><div class=\"sk-container\" hidden><div class=\"sk-item sk-dashed-wrapped\"><div class=\"sk-label-container\"><div class=\"sk-label sk-toggleable\"><input class=\"sk-toggleable__control sk-hidden--visually\" id=\"sk-estimator-id-113\" type=\"checkbox\" ><label for=\"sk-estimator-id-113\" class=\"sk-toggleable__label sk-toggleable__label-arrow\">Pipeline</label><div class=\"sk-toggleable__content\"><pre>Pipeline(steps=[(&#x27;procesado_variables&#x27;,\n",
       "                 ColumnTransformer(remainder=&#x27;passthrough&#x27;,\n",
       "                                   transformers=[(&#x27;onehot&#x27;,\n",
       "                                                  OneHotEncoder(handle_unknown=&#x27;ignore&#x27;,\n",
       "                                                                sparse_output=False),\n",
       "                                                  [&#x27;municipio&#x27;,\n",
       "                                                   &#x27;tipo_de_seguridad_social&#x27;,\n",
       "                                                   &#x27;departamento&#x27;, &#x27;escenario&#x27;,\n",
       "                                                   &#x27;sexo&#x27;, &#x27;trimestre&#x27;,\n",
       "                                                   &#x27;actividad&#x27;, &#x27;semana&#x27;,\n",
       "                                                   &#x27;nom_upgd&#x27;, &#x27;año&#x27;, &#x27;mes&#x27;,\n",
       "                                                   &#x27;victima_menor_de_edad&#x27;,\n",
       "                                                   &#x27;parentezco_vict&#x27;,\n",
       "                                                   &#x27;sustancias_vi...\n",
       "                                                                   OrdinalEncoder(mapping=[{&#x27;col&#x27;: &#x27;grupo_edad&#x27;,\n",
       "                                                                                            &#x27;data_type&#x27;: dtype(&#x27;O&#x27;),\n",
       "                                                                                            &#x27;mapping&#x27;: 0 a 6       0\n",
       "7  a 11     1\n",
       "12 a 17     2\n",
       "18 a 28     3\n",
       "29 a 59     4\n",
       "60 y mas    5\n",
       "dtype: int64},\n",
       "                                                                                           {&#x27;col&#x27;: &#x27;ciclo_de_vida&#x27;,\n",
       "                                                                                            &#x27;data_type&#x27;: dtype(&#x27;O&#x27;),\n",
       "                                                                                            &#x27;mapping&#x27;: Primera infancia    0\n",
       "Infancia            1\n",
       "Jovenes             2\n",
       "Adolescencia        3\n",
       "Adultez             4\n",
       "Persona Mayor       5\n",
       "dtype: int64}]))]),\n",
       "                                                  [&#x27;grupo_edad&#x27;,\n",
       "                                                   &#x27;ciclo_de_vida&#x27;])],\n",
       "                                   verbose_feature_names_out=False)),\n",
       "                (&#x27;estimador&#x27;, ExtraTreesClassifier())])</pre></div></div></div><div class=\"sk-serial\"><div class=\"sk-item sk-dashed-wrapped\"><div class=\"sk-label-container\"><div class=\"sk-label sk-toggleable\"><input class=\"sk-toggleable__control sk-hidden--visually\" id=\"sk-estimator-id-114\" type=\"checkbox\" ><label for=\"sk-estimator-id-114\" class=\"sk-toggleable__label sk-toggleable__label-arrow\">procesado_variables: ColumnTransformer</label><div class=\"sk-toggleable__content\"><pre>ColumnTransformer(remainder=&#x27;passthrough&#x27;,\n",
       "                  transformers=[(&#x27;onehot&#x27;,\n",
       "                                 OneHotEncoder(handle_unknown=&#x27;ignore&#x27;,\n",
       "                                               sparse_output=False),\n",
       "                                 [&#x27;municipio&#x27;, &#x27;tipo_de_seguridad_social&#x27;,\n",
       "                                  &#x27;departamento&#x27;, &#x27;escenario&#x27;, &#x27;sexo&#x27;,\n",
       "                                  &#x27;trimestre&#x27;, &#x27;actividad&#x27;, &#x27;semana&#x27;,\n",
       "                                  &#x27;nom_upgd&#x27;, &#x27;año&#x27;, &#x27;mes&#x27;,\n",
       "                                  &#x27;victima_menor_de_edad&#x27;, &#x27;parentezco_vict&#x27;,\n",
       "                                  &#x27;sustancias_victima&#x27;, &#x27;nom_eve&#x27;,\n",
       "                                  &#x27;paciente_hospitalizad...\n",
       "                                                 (&#x27;transformador_ordinal&#x27;,\n",
       "                                                  OrdinalEncoder(mapping=[{&#x27;col&#x27;: &#x27;grupo_edad&#x27;,\n",
       "                                                                           &#x27;data_type&#x27;: dtype(&#x27;O&#x27;),\n",
       "                                                                           &#x27;mapping&#x27;: 0 a 6       0\n",
       "7  a 11     1\n",
       "12 a 17     2\n",
       "18 a 28     3\n",
       "29 a 59     4\n",
       "60 y mas    5\n",
       "dtype: int64},\n",
       "                                                                          {&#x27;col&#x27;: &#x27;ciclo_de_vida&#x27;,\n",
       "                                                                           &#x27;data_type&#x27;: dtype(&#x27;O&#x27;),\n",
       "                                                                           &#x27;mapping&#x27;: Primera infancia    0\n",
       "Infancia            1\n",
       "Jovenes             2\n",
       "Adolescencia        3\n",
       "Adultez             4\n",
       "Persona Mayor       5\n",
       "dtype: int64}]))]),\n",
       "                                 [&#x27;grupo_edad&#x27;, &#x27;ciclo_de_vida&#x27;])],\n",
       "                  verbose_feature_names_out=False)</pre></div></div></div><div class=\"sk-parallel\"><div class=\"sk-parallel-item\"><div class=\"sk-item\"><div class=\"sk-label-container\"><div class=\"sk-label sk-toggleable\"><input class=\"sk-toggleable__control sk-hidden--visually\" id=\"sk-estimator-id-115\" type=\"checkbox\" ><label for=\"sk-estimator-id-115\" class=\"sk-toggleable__label sk-toggleable__label-arrow\">onehot</label><div class=\"sk-toggleable__content\"><pre>[&#x27;municipio&#x27;, &#x27;tipo_de_seguridad_social&#x27;, &#x27;departamento&#x27;, &#x27;escenario&#x27;, &#x27;sexo&#x27;, &#x27;trimestre&#x27;, &#x27;actividad&#x27;, &#x27;semana&#x27;, &#x27;nom_upgd&#x27;, &#x27;año&#x27;, &#x27;mes&#x27;, &#x27;victima_menor_de_edad&#x27;, &#x27;parentezco_vict&#x27;, &#x27;sustancias_victima&#x27;, &#x27;nom_eve&#x27;, &#x27;paciente_hospitalizado&#x27;, &#x27;violencia_intrafamiliar&#x27;, &#x27;area&#x27;, &#x27;comuna&#x27;, &#x27;condicion_final&#x27;, &#x27;sexo_agre&#x27;, &#x27;agresor_menor_de_edad&#x27;]</pre></div></div></div><div class=\"sk-serial\"><div class=\"sk-item\"><div class=\"sk-estimator sk-toggleable\"><input class=\"sk-toggleable__control sk-hidden--visually\" id=\"sk-estimator-id-116\" type=\"checkbox\" ><label for=\"sk-estimator-id-116\" class=\"sk-toggleable__label sk-toggleable__label-arrow\">OneHotEncoder</label><div class=\"sk-toggleable__content\"><pre>OneHotEncoder(handle_unknown=&#x27;ignore&#x27;, sparse_output=False)</pre></div></div></div></div></div></div><div class=\"sk-parallel-item\"><div class=\"sk-item\"><div class=\"sk-label-container\"><div class=\"sk-label sk-toggleable\"><input class=\"sk-toggleable__control sk-hidden--visually\" id=\"sk-estimator-id-117\" type=\"checkbox\" ><label for=\"sk-estimator-id-117\" class=\"sk-toggleable__label sk-toggleable__label-arrow\">ordinal</label><div class=\"sk-toggleable__content\"><pre>[&#x27;grupo_edad&#x27;, &#x27;ciclo_de_vida&#x27;]</pre></div></div></div><div class=\"sk-serial\"><div class=\"sk-item\"><div class=\"sk-serial\"><div class=\"sk-item\"><div class=\"sk-estimator sk-toggleable\"><input class=\"sk-toggleable__control sk-hidden--visually\" id=\"sk-estimator-id-118\" type=\"checkbox\" ><label for=\"sk-estimator-id-118\" class=\"sk-toggleable__label sk-toggleable__label-arrow\">SimpleImputer</label><div class=\"sk-toggleable__content\"><pre>SimpleImputer(strategy=&#x27;most_frequent&#x27;)</pre></div></div></div><div class=\"sk-item\"><div class=\"sk-estimator sk-toggleable\"><input class=\"sk-toggleable__control sk-hidden--visually\" id=\"sk-estimator-id-119\" type=\"checkbox\" ><label for=\"sk-estimator-id-119\" class=\"sk-toggleable__label sk-toggleable__label-arrow\">OrdinalEncoder</label><div class=\"sk-toggleable__content\"><pre>OrdinalEncoder(mapping=[{&#x27;col&#x27;: &#x27;grupo_edad&#x27;, &#x27;data_type&#x27;: dtype(&#x27;O&#x27;),\n",
       "                         &#x27;mapping&#x27;: 0 a 6       0\n",
       "7  a 11     1\n",
       "12 a 17     2\n",
       "18 a 28     3\n",
       "29 a 59     4\n",
       "60 y mas    5\n",
       "dtype: int64},\n",
       "                        {&#x27;col&#x27;: &#x27;ciclo_de_vida&#x27;, &#x27;data_type&#x27;: dtype(&#x27;O&#x27;),\n",
       "                         &#x27;mapping&#x27;: Primera infancia    0\n",
       "Infancia            1\n",
       "Jovenes             2\n",
       "Adolescencia        3\n",
       "Adultez             4\n",
       "Persona Mayor       5\n",
       "dtype: int64}])</pre></div></div></div></div></div></div></div></div><div class=\"sk-parallel-item\"><div class=\"sk-item\"><div class=\"sk-label-container\"><div class=\"sk-label sk-toggleable\"><input class=\"sk-toggleable__control sk-hidden--visually\" id=\"sk-estimator-id-120\" type=\"checkbox\" ><label for=\"sk-estimator-id-120\" class=\"sk-toggleable__label sk-toggleable__label-arrow\">remainder</label><div class=\"sk-toggleable__content\"><pre>[&#x27;edad_agre&#x27;]</pre></div></div></div><div class=\"sk-serial\"><div class=\"sk-item\"><div class=\"sk-estimator sk-toggleable\"><input class=\"sk-toggleable__control sk-hidden--visually\" id=\"sk-estimator-id-121\" type=\"checkbox\" ><label for=\"sk-estimator-id-121\" class=\"sk-toggleable__label sk-toggleable__label-arrow\">passthrough</label><div class=\"sk-toggleable__content\"><pre>passthrough</pre></div></div></div></div></div></div></div></div><div class=\"sk-item\"><div class=\"sk-estimator sk-toggleable\"><input class=\"sk-toggleable__control sk-hidden--visually\" id=\"sk-estimator-id-122\" type=\"checkbox\" ><label for=\"sk-estimator-id-122\" class=\"sk-toggleable__label sk-toggleable__label-arrow\">ExtraTreesClassifier</label><div class=\"sk-toggleable__content\"><pre>ExtraTreesClassifier()</pre></div></div></div></div></div></div></div>"
      ],
      "text/plain": [
       "Pipeline(steps=[('procesado_variables',\n",
       "                 ColumnTransformer(remainder='passthrough',\n",
       "                                   transformers=[('onehot',\n",
       "                                                  OneHotEncoder(handle_unknown='ignore',\n",
       "                                                                sparse_output=False),\n",
       "                                                  ['municipio',\n",
       "                                                   'tipo_de_seguridad_social',\n",
       "                                                   'departamento', 'escenario',\n",
       "                                                   'sexo', 'trimestre',\n",
       "                                                   'actividad', 'semana',\n",
       "                                                   'nom_upgd', 'año', 'mes',\n",
       "                                                   'victima_menor_de_edad',\n",
       "                                                   'parentezco_vict',\n",
       "                                                   'sustancias_vi...\n",
       "                                                                   OrdinalEncoder(mapping=[{'col': 'grupo_edad',\n",
       "                                                                                            'data_type': dtype('O'),\n",
       "                                                                                            'mapping': 0 a 6       0\n",
       "7  a 11     1\n",
       "12 a 17     2\n",
       "18 a 28     3\n",
       "29 a 59     4\n",
       "60 y mas    5\n",
       "dtype: int64},\n",
       "                                                                                           {'col': 'ciclo_de_vida',\n",
       "                                                                                            'data_type': dtype('O'),\n",
       "                                                                                            'mapping': Primera infancia    0\n",
       "Infancia            1\n",
       "Jovenes             2\n",
       "Adolescencia        3\n",
       "Adultez             4\n",
       "Persona Mayor       5\n",
       "dtype: int64}]))]),\n",
       "                                                  ['grupo_edad',\n",
       "                                                   'ciclo_de_vida'])],\n",
       "                                   verbose_feature_names_out=False)),\n",
       "                ('estimador', ExtraTreesClassifier())])"
      ]
     },
     "execution_count": 66,
     "metadata": {},
     "output_type": "execute_result"
    }
   ],
   "source": [
    "pipeline_estimador.fit(X=X_train, y=y_train)"
   ]
  },
  {
   "cell_type": "code",
   "execution_count": 67,
   "id": "57b10593",
   "metadata": {},
   "outputs": [],
   "source": [
    "predicciones =  pipeline_estimador.predict(X=X_test)\n",
    "clases_reales = y_test\n",
    "predicciones_probabilidades =pipeline_estimador.predict_proba(X_test)"
   ]
  },
  {
   "cell_type": "code",
   "execution_count": 68,
   "id": "238f659a",
   "metadata": {
    "scrolled": true
   },
   "outputs": [
    {
     "name": "stdout",
     "output_type": "stream",
     "text": [
      "\n",
      "    Exactitud promedio: 0.847\n",
      "    Precisión promedio: 0.837\n",
      "    Sensibilidad promedio: 0.836\n",
      "    Puntuación F1 promedio: 0.836\n",
      "    \n"
     ]
    }
   ],
   "source": [
    "evaluar_modelo(clases_reales, predicciones, predicciones_probabilidades)"
   ]
  },
  {
   "cell_type": "code",
   "execution_count": 69,
   "id": "a7174166",
   "metadata": {
    "scrolled": true
   },
   "outputs": [
    {
     "name": "stdout",
     "output_type": "stream",
     "text": [
      "Accuracy en datos de entrenamiento: 1.0\n",
      "Accuracy en datos de prueba: 0.8464254192409533\n"
     ]
    }
   ],
   "source": [
    "train_accuracy = accuracy_score(y_train, pipeline_estimador.predict(X_train))\n",
    "test_accuracy = accuracy_score(y_test, pipeline_estimador.predict(X_test))\n",
    "print(\"Accuracy en datos de entrenamiento:\", train_accuracy)\n",
    "print(\"Accuracy en datos de prueba:\", test_accuracy)"
   ]
  },
  {
   "cell_type": "markdown",
   "id": "ee9fb4fd",
   "metadata": {},
   "source": [
    "<hr> \n",
    "\n",
    "## Finalmente, tras de haber probado varios modelos de ML, se escogieron aquellos que arrojaron metricás más prometedoras para la siguiente etapa, donde se encuentran los mejores hiperparametros para los modelos.\n",
    "\n",
    "<hr> \n",
    "\n",
    "Los algoritmos elegidos fueron:"
   ]
  },
  {
   "cell_type": "markdown",
   "id": "12f59634",
   "metadata": {},
   "source": [
    "- LightGBM\n",
    "- XGBoost"
   ]
  },
  {
   "cell_type": "markdown",
   "id": "37b908c1",
   "metadata": {},
   "source": [
    "Para ello, se utilizaran diversas tecnicas para la busqueda de hiperparametros como **Optuma** y **Randomized Search**"
   ]
  }
 ],
 "metadata": {
  "kernelspec": {
   "display_name": "Python 3 (ipykernel)",
   "language": "python",
   "name": "python3"
  },
  "language_info": {
   "codemirror_mode": {
    "name": "ipython",
    "version": 3
   },
   "file_extension": ".py",
   "mimetype": "text/x-python",
   "name": "python",
   "nbconvert_exporter": "python",
   "pygments_lexer": "ipython3",
   "version": "3.10.8"
  }
 },
 "nbformat": 4,
 "nbformat_minor": 5
}
