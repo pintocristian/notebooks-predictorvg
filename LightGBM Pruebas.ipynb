{
 "cells": [
  {
   "cell_type": "markdown",
   "id": "6dd4e9a8",
   "metadata": {},
   "source": [
    "# Prueba de hiperparametros con modelo LightGBM\n",
    "\n",
    "<hr>\n",
    "\n",
    "En este notebook se realiza la prueba de hiperparametros con el modelo LightGBM A través de las métricas obtenidas en el notebook de busqueda de hiperparametros con LightGBM.\n"
   ]
  },
  {
   "cell_type": "markdown",
   "id": "bae4c39a",
   "metadata": {},
   "source": [
    "Se importan las librerias y herramientas necesarias"
   ]
  },
  {
   "cell_type": "code",
   "execution_count": 1,
   "id": "0649006b",
   "metadata": {},
   "outputs": [],
   "source": [
    "import pandas as pd\n",
    "import numpy as np \n",
    "import matplotlib\n",
    "import matplotlib.pyplot as plt\n",
    "from sklearn import preprocessing\n",
    "from sklearn import metrics\n",
    "%matplotlib inline "
   ]
  },
  {
   "cell_type": "markdown",
   "id": "ca279227",
   "metadata": {},
   "source": [
    "Importamos los datos"
   ]
  },
  {
   "cell_type": "code",
   "execution_count": 2,
   "id": "7cdc09b9",
   "metadata": {},
   "outputs": [],
   "source": [
    "df = pd.read_pickle(\"data/data.pkl\")"
   ]
  },
  {
   "cell_type": "markdown",
   "id": "f51bec47",
   "metadata": {},
   "source": [
    "- A continuación se definen la variable objetivo y las variables independientes\n",
    "- Se definen las columnas numéricas y no numéricas\n",
    "- Se definen las columnas ordinales y categoricas"
   ]
  },
  {
   "cell_type": "code",
   "execution_count": 3,
   "id": "9a532079",
   "metadata": {},
   "outputs": [],
   "source": [
    "variable_objetivo = 'naturaleza'\n",
    "variables_independientes = df.drop(variable_objetivo,axis=1).columns\n",
    "\n",
    "datos_numericos = df[variables_independientes].select_dtypes([int, float])\n",
    "col_no_numericas = df[variables_independientes].select_dtypes(include=['category']).columns\n",
    "col_numericas = datos_numericos.columns\n",
    "\n",
    "dict_var_ordinales = {\n",
    "    'grupo_edad': ['0 a 6', '12 a 17', '18 a 28', '29 a 59', '60 y mas', '7  a 11'],\n",
    "    'ciclo_de_vida':['Primera infancia', 'Infancia', 'Jovenes','Adolescencia','Adultez','Persona Mayor'],\n",
    "}\n",
    "\n",
    "col_ordinales = list(dict_var_ordinales.keys())\n",
    "datos_ordinales = df[col_ordinales]\n",
    "col_categoricas = list(set(col_no_numericas) - set(col_ordinales))\n",
    "datos_categoricos = df[col_categoricas]"
   ]
  },
  {
   "cell_type": "markdown",
   "id": "b6ca8809",
   "metadata": {},
   "source": [
    "Se importan las librerias necesarias para la creacion del pipeline"
   ]
  },
  {
   "cell_type": "code",
   "execution_count": 4,
   "id": "a43e6874",
   "metadata": {},
   "outputs": [],
   "source": [
    "from sklearn.compose import ColumnTransformer\n",
    "from sklearn.preprocessing import OneHotEncoder\n",
    "from sklearn.preprocessing import StandardScaler\n",
    "from sklearn.preprocessing import OrdinalEncoder\n",
    "from sklearn.pipeline import Pipeline\n",
    "from sklearn.base import BaseEstimator, TransformerMixin\n",
    "from sklearn.impute import SimpleImputer"
   ]
  },
  {
   "cell_type": "markdown",
   "id": "8143e540",
   "metadata": {},
   "source": [
    "Se mappean los valores de `grupo_edad` y `ciclo_de_vida` y se crea el pipeline_ordinal y posteriormente el pipeline_procesado con las variables categoricas, el pipeline_ordinal y las columnas ordinales"
   ]
  },
  {
   "cell_type": "code",
   "execution_count": 5,
   "id": "182e8807",
   "metadata": {},
   "outputs": [],
   "source": [
    "mapping = [{'col': 'grupo_edad', 'mapping': {'0 a 6': 0,'7  a 11':1 ,'12 a 17': 2, '18 a 28': 3,'29 a 59':4,'60 y mas':5}},    {'col': 'ciclo_de_vida', 'mapping': {'Primera infancia': 0,  'Infancia': 1, 'Jovenes':2 ,'Adolescencia':3,'Adultez':4, 'Persona Mayor':5 }}]\n",
    "from category_encoders import OrdinalEncoder\n",
    "import category_encoders\n",
    "encoder = OrdinalEncoder(mapping=mapping)\n",
    "\n",
    "pipeline_ordinal = Pipeline([\n",
    "    ('imputer', SimpleImputer(strategy='most_frequent')),\n",
    "    ('transformador_ordinal', category_encoders.ordinal.OrdinalEncoder(mapping=mapping))\n",
    "])\n",
    "\n",
    "pipeline_procesado = ColumnTransformer(\n",
    "                   [('onehot', OneHotEncoder(handle_unknown='ignore', sparse_output=False), col_categoricas),\n",
    "                    ('ordinal', pipeline_ordinal, col_ordinales)\n",
    "                   ],\n",
    "                remainder = 'passthrough',\n",
    "                verbose_feature_names_out = False\n",
    "               ).set_output(transform=\"pandas\")\n",
    "\n"
   ]
  },
  {
   "cell_type": "markdown",
   "id": "e63dc258",
   "metadata": {},
   "source": [
    " Se establecen los datos de entrenamiento y de prueba para los modelos"
   ]
  },
  {
   "cell_type": "code",
   "execution_count": 6,
   "id": "0ed71b31",
   "metadata": {},
   "outputs": [],
   "source": [
    "from sklearn.model_selection import train_test_split\n",
    "X_train, X_test, y_train, y_test = train_test_split(df.drop(variable_objetivo, axis=1), df[variable_objetivo], test_size=0.2, random_state=42)"
   ]
  },
  {
   "cell_type": "code",
   "execution_count": 7,
   "id": "91973f09",
   "metadata": {},
   "outputs": [],
   "source": [
    "X_train_prep = pipeline_procesado.fit_transform(X_train)\n",
    "X_test_prep  = pipeline_procesado.transform(X_train)\n"
   ]
  },
  {
   "cell_type": "code",
   "execution_count": 8,
   "id": "b32eeb72",
   "metadata": {},
   "outputs": [],
   "source": [
    "from sklearn.decomposition import PCA, TruncatedSVD\n",
    "from sklearn.ensemble import RandomForestClassifier\n",
    "from sklearn.model_selection import cross_val_score\n",
    "from sklearn.model_selection import StratifiedKFold\n",
    "from sklearn.base import clone"
   ]
  },
  {
   "cell_type": "markdown",
   "id": "49b0f416",
   "metadata": {},
   "source": [
    "### Se define la funcion `evaluar_modelo`, que se encarga de evaluar los diferentes modelos a partir de las metricas obtenidas"
   ]
  },
  {
   "cell_type": "code",
   "execution_count": 9,
   "id": "60a17d10",
   "metadata": {},
   "outputs": [],
   "source": [
    "def evaluar_modelo(clases_reales, predicciones, probabilidades):\n",
    "    exactitudes = []\n",
    "    precisiones = []\n",
    "    sensibilidades = []\n",
    "    f1_scores = []\n",
    "    \n",
    "    skf = StratifiedKFold(n_splits=5, shuffle=True, random_state=42)\n",
    "    \n",
    "    for train_index, test_index in skf.split(X_train, y_train):\n",
    "        # Se crea una copia del estimador del pipeline\n",
    "        pipeline_estimador_copy = clone(pipeline_estimador)\n",
    "        \n",
    "        # Division de los datos en conjuntos de entrenamiento y prueba\n",
    "        X_train_fold, X_test_fold = X_train.iloc[train_index], X_train.iloc[test_index]\n",
    "        y_train_fold, y_test_fold = y_train.iloc[train_index], y_train.iloc[test_index]\n",
    "        \n",
    "        # Entrenamiento del modelo en el conjunto de entrenamiento actual\n",
    "        pipeline_estimador_copy.fit(X_train_fold, y_train_fold)\n",
    "        \n",
    "        # Se obtienen las predicciones en el conjunto de prueba\n",
    "        predicciones_fold = pipeline_estimador_copy.predict(X_test_fold)\n",
    "        probabilidades_fold = pipeline_estimador_copy.predict_proba(X_test_fold)\n",
    "        \n",
    "        # Calculo de metricas\n",
    "        exactitud = metrics.accuracy_score(y_test_fold, predicciones_fold)\n",
    "        precision = metrics.precision_score(y_test_fold, predicciones_fold, average='macro', zero_division=0)\n",
    "        sensibilidad = metrics.recall_score(y_test_fold, predicciones_fold, average='macro', zero_division=0)\n",
    "        f1 = metrics.f1_score(y_test_fold, predicciones_fold, average='macro', zero_division=0)\n",
    "        \n",
    "        # Se guardan las metricas\n",
    "        exactitudes.append(exactitud)\n",
    "        precisiones.append(precision)\n",
    "        sensibilidades.append(sensibilidad)\n",
    "        f1_scores.append(f1)\n",
    "    \n",
    "    # Calculo de promedios para cada metrica\n",
    "    exactitud_promedio = np.mean(exactitudes)\n",
    "    precision_promedio = np.mean(precisiones)\n",
    "    sensibilidad_promedio = np.mean(sensibilidades)\n",
    "    f1_promedio = np.mean(f1_scores)\n",
    "    \n",
    "    print(\"\"\"\n",
    "    Exactitud promedio: {:.3f}\n",
    "    Precisión promedio: {:.3f}\n",
    "    Sensibilidad promedio: {:.3f}\n",
    "    Puntuación F1 promedio: {:.3f}\n",
    "    \"\"\".format(\n",
    "        exactitud_promedio, \n",
    "        precision_promedio,\n",
    "        sensibilidad_promedio,\n",
    "        f1_promedio\n",
    "    ))"
   ]
  },
  {
   "cell_type": "markdown",
   "id": "eec7ffa3",
   "metadata": {},
   "source": [
    "<hr> \n",
    "\n",
    "# SEGUNDA PARTE\n",
    "\n",
    "<hr> \n",
    "\n",
    "### Evaluación de parametros\n"
   ]
  },
  {
   "cell_type": "markdown",
   "id": "8bd694b2",
   "metadata": {},
   "source": [
    "A continuacion se presentan los mejores hiperparametros obtenidos del notebook de busqueda de hiperparametros para el modelo LightGBM"
   ]
  },
  {
   "cell_type": "code",
   "execution_count": 10,
   "id": "ca5da2d1",
   "metadata": {},
   "outputs": [],
   "source": [
    "import lightgbm as lgb"
   ]
  },
  {
   "cell_type": "code",
   "execution_count": 11,
   "id": "23cc90e3",
   "metadata": {},
   "outputs": [],
   "source": [
    "# Exactitud promedio: 0.853\n",
    "\n",
    "hiperparametros = {\n",
    "    'learning_rate': 0.051417608292967786,\n",
    "    'num_leaves': 26,\n",
    "    'max_depth': 7,\n",
    "    'min_child_samples': 62,\n",
    "    'subsample': 0.7461116830392539,\n",
    "    'colsample_bytree': 0.5904387690644886,\n",
    "    'reg_alpha': 0.09233912822725567,\n",
    "    'reg_lambda': 0.042356048609430104,\n",
    "    'n_estimators': 126,\n",
    "    'scale_pos_weight': 0.5842230278735413\n",
    "}"
   ]
  },
  {
   "cell_type": "code",
   "execution_count": 17,
   "id": "866012fc",
   "metadata": {},
   "outputs": [],
   "source": [
    "# Exactitud promedio: 0.853\n",
    "\n",
    "hiperparametros = {\n",
    "    'lambda_l1': 0.9066726618630238, \n",
    "    'lambda_l2': 2.1912415916221266e-08, \n",
    "    'num_leaves': 13, \n",
    "    'feature_fraction': 0.6659436659143771, \n",
    "    'bagging_fraction': 0.8782998936356919, \n",
    "    'bagging_freq': 1, \n",
    "    'min_child_samples': 9,\n",
    "    'learning_rate': 0.0593785754246979,\n",
    "    'num_leaves': 20,\n",
    "    'max_depth': 8,\n",
    "    'min_child_samples': 30,\n",
    "    'subsample': 0.563385117223741,\n",
    "    'colsample_bytree': 0.5587125812504317,\n",
    "    'reg_alpha': 0.0772254026786347,\n",
    "    'reg_lambda': 0.025005311089717677,\n",
    "    'n_estimators': 334,\n",
    "    'scale_pos_weight': 7.646251254102079\n",
    "\n",
    "}"
   ]
  },
  {
   "cell_type": "code",
   "execution_count": 23,
   "id": "716a3464",
   "metadata": {},
   "outputs": [],
   "source": [
    "# Exactitud promedio: 0.853\n",
    "\n",
    "hiperparametros = {\n",
    "    'boosting_type': 'dart', \n",
    "    'num_leaves': 968,\n",
    "    'learning_rate': 0.04483452549986011,\n",
    "    'n_estimators': 891, \n",
    "    'max_depth': 5,\n",
    "    'min_child_samples': 4,\n",
    "    'subsample': 0.8496110002568981,\n",
    "    'colsample_bytree': 0.7324303718943765,\n",
    "    'reg_alpha': 0.009677008893904163,\n",
    "    'reg_lambda': 0.01017564831536729\n",
    "}"
   ]
  },
  {
   "cell_type": "code",
   "execution_count": 29,
   "id": "59dbd725",
   "metadata": {},
   "outputs": [],
   "source": [
    "# Exactitud promedio: 0.853\n",
    "\n",
    "hiperparametros = {\n",
    "    'num_leaves': 40,\n",
    "    'n_estimators': 100,\n",
    "    'min_child_samples': 10,\n",
    "    'max_depth': 3,\n",
    "    'learning_rate': 0.2\n",
    "}"
   ]
  },
  {
   "cell_type": "code",
   "execution_count": 33,
   "id": "537a02ca",
   "metadata": {},
   "outputs": [],
   "source": [
    "# Exactitud promedio: 0.851\n",
    "\n",
    "hiperparametros = {\n",
    "    'learning_rate': 0.011997488097121407, \n",
    "    'reg_alpha': 0.2423441665140374, \n",
    "    'reg_lambda': 0.001076864442889349, \n",
    "    'num_leaves': 158, \n",
    "    'max_depth': 5, \n",
    "    'min_child_samples': 8, \n",
    "    'subsample': 0.8165403953269705,\n",
    "    'colsample_bytree': 0.8847367659829639,\n",
    "    'n_estimators': 747, \n",
    "    'scale_pos_weight': 5.482662580491647\n",
    "}"
   ]
  },
  {
   "cell_type": "code",
   "execution_count": 39,
   "id": "52c19e42",
   "metadata": {},
   "outputs": [],
   "source": [
    "# Exactitud promedio: 0.851\n",
    "\n",
    "hiperparametros = {\n",
    "    'learning_rate': 0.01802606582997746, \n",
    "     'reg_alpha': 6.779674157856769e-08, \n",
    "     'reg_lambda': 0.053596159180180146, \n",
    "     'num_leaves': 23, \n",
    "     'max_depth': 7, \n",
    "     'min_child_samples': 4, \n",
    "     'subsample': 0.790561196083304, \n",
    "     'scale_pos_weight': 4.855801771130356, \n",
    "     'colsample_bytree': 0.972976079256426, \n",
    "     'n_estimators': 554\n",
    "}\n"
   ]
  },
  {
   "cell_type": "code",
   "execution_count": 40,
   "id": "5309570b",
   "metadata": {},
   "outputs": [],
   "source": [
    "pipeline_estimador = Pipeline([\n",
    "    (\"procesado_variables\", pipeline_procesado),\n",
    "    (\"estimador\", lgb.LGBMClassifier(**hiperparametros))  \n",
    "])"
   ]
  },
  {
   "cell_type": "code",
   "execution_count": 41,
   "id": "ccf9bfa7",
   "metadata": {
    "scrolled": false
   },
   "outputs": [
    {
     "data": {
      "text/html": [
       "<style>#sk-container-id-5 {color: black;background-color: white;}#sk-container-id-5 pre{padding: 0;}#sk-container-id-5 div.sk-toggleable {background-color: white;}#sk-container-id-5 label.sk-toggleable__label {cursor: pointer;display: block;width: 100%;margin-bottom: 0;padding: 0.3em;box-sizing: border-box;text-align: center;}#sk-container-id-5 label.sk-toggleable__label-arrow:before {content: \"▸\";float: left;margin-right: 0.25em;color: #696969;}#sk-container-id-5 label.sk-toggleable__label-arrow:hover:before {color: black;}#sk-container-id-5 div.sk-estimator:hover label.sk-toggleable__label-arrow:before {color: black;}#sk-container-id-5 div.sk-toggleable__content {max-height: 0;max-width: 0;overflow: hidden;text-align: left;background-color: #f0f8ff;}#sk-container-id-5 div.sk-toggleable__content pre {margin: 0.2em;color: black;border-radius: 0.25em;background-color: #f0f8ff;}#sk-container-id-5 input.sk-toggleable__control:checked~div.sk-toggleable__content {max-height: 200px;max-width: 100%;overflow: auto;}#sk-container-id-5 input.sk-toggleable__control:checked~label.sk-toggleable__label-arrow:before {content: \"▾\";}#sk-container-id-5 div.sk-estimator input.sk-toggleable__control:checked~label.sk-toggleable__label {background-color: #d4ebff;}#sk-container-id-5 div.sk-label input.sk-toggleable__control:checked~label.sk-toggleable__label {background-color: #d4ebff;}#sk-container-id-5 input.sk-hidden--visually {border: 0;clip: rect(1px 1px 1px 1px);clip: rect(1px, 1px, 1px, 1px);height: 1px;margin: -1px;overflow: hidden;padding: 0;position: absolute;width: 1px;}#sk-container-id-5 div.sk-estimator {font-family: monospace;background-color: #f0f8ff;border: 1px dotted black;border-radius: 0.25em;box-sizing: border-box;margin-bottom: 0.5em;}#sk-container-id-5 div.sk-estimator:hover {background-color: #d4ebff;}#sk-container-id-5 div.sk-parallel-item::after {content: \"\";width: 100%;border-bottom: 1px solid gray;flex-grow: 1;}#sk-container-id-5 div.sk-label:hover label.sk-toggleable__label {background-color: #d4ebff;}#sk-container-id-5 div.sk-serial::before {content: \"\";position: absolute;border-left: 1px solid gray;box-sizing: border-box;top: 0;bottom: 0;left: 50%;z-index: 0;}#sk-container-id-5 div.sk-serial {display: flex;flex-direction: column;align-items: center;background-color: white;padding-right: 0.2em;padding-left: 0.2em;position: relative;}#sk-container-id-5 div.sk-item {position: relative;z-index: 1;}#sk-container-id-5 div.sk-parallel {display: flex;align-items: stretch;justify-content: center;background-color: white;position: relative;}#sk-container-id-5 div.sk-item::before, #sk-container-id-5 div.sk-parallel-item::before {content: \"\";position: absolute;border-left: 1px solid gray;box-sizing: border-box;top: 0;bottom: 0;left: 50%;z-index: -1;}#sk-container-id-5 div.sk-parallel-item {display: flex;flex-direction: column;z-index: 1;position: relative;background-color: white;}#sk-container-id-5 div.sk-parallel-item:first-child::after {align-self: flex-end;width: 50%;}#sk-container-id-5 div.sk-parallel-item:last-child::after {align-self: flex-start;width: 50%;}#sk-container-id-5 div.sk-parallel-item:only-child::after {width: 0;}#sk-container-id-5 div.sk-dashed-wrapped {border: 1px dashed gray;margin: 0 0.4em 0.5em 0.4em;box-sizing: border-box;padding-bottom: 0.4em;background-color: white;}#sk-container-id-5 div.sk-label label {font-family: monospace;font-weight: bold;display: inline-block;line-height: 1.2em;}#sk-container-id-5 div.sk-label-container {text-align: center;}#sk-container-id-5 div.sk-container {/* jupyter's `normalize.less` sets `[hidden] { display: none; }` but bootstrap.min.css set `[hidden] { display: none !important; }` so we also need the `!important` here to be able to override the default hidden behavior on the sphinx rendered scikit-learn.org. See: https://github.com/scikit-learn/scikit-learn/issues/21755 */display: inline-block !important;position: relative;}#sk-container-id-5 div.sk-text-repr-fallback {display: none;}</style><div id=\"sk-container-id-5\" class=\"sk-top-container\"><div class=\"sk-text-repr-fallback\"><pre>Pipeline(steps=[(&#x27;procesado_variables&#x27;,\n",
       "                 ColumnTransformer(remainder=&#x27;passthrough&#x27;,\n",
       "                                   transformers=[(&#x27;onehot&#x27;,\n",
       "                                                  OneHotEncoder(handle_unknown=&#x27;ignore&#x27;,\n",
       "                                                                sparse_output=False),\n",
       "                                                  [&#x27;nom_eve&#x27;, &#x27;area&#x27;, &#x27;comuna&#x27;,\n",
       "                                                   &#x27;paciente_hospitalizado&#x27;,\n",
       "                                                   &#x27;condicion_final&#x27;,\n",
       "                                                   &#x27;municipio&#x27;, &#x27;sexo&#x27;, &#x27;mes&#x27;,\n",
       "                                                   &#x27;departamento&#x27;, &#x27;actividad&#x27;,\n",
       "                                                   &#x27;año&#x27;,\n",
       "                                                   &#x27;violencia_intrafamiliar&#x27;,\n",
       "                                                   &#x27;escenario&#x27;,\n",
       "                                                   &#x27;agresor_menor_de_ed...\n",
       "                                                  [&#x27;grupo_edad&#x27;,\n",
       "                                                   &#x27;ciclo_de_vida&#x27;])],\n",
       "                                   verbose_feature_names_out=False)),\n",
       "                (&#x27;estimador&#x27;,\n",
       "                 LGBMClassifier(colsample_bytree=0.972976079256426,\n",
       "                                learning_rate=0.01802606582997746, max_depth=7,\n",
       "                                min_child_samples=4, n_estimators=554,\n",
       "                                num_leaves=23, reg_alpha=6.779674157856769e-08,\n",
       "                                reg_lambda=0.053596159180180146,\n",
       "                                scale_pos_weight=4.855801771130356,\n",
       "                                subsample=0.790561196083304))])</pre><b>In a Jupyter environment, please rerun this cell to show the HTML representation or trust the notebook. <br />On GitHub, the HTML representation is unable to render, please try loading this page with nbviewer.org.</b></div><div class=\"sk-container\" hidden><div class=\"sk-item sk-dashed-wrapped\"><div class=\"sk-label-container\"><div class=\"sk-label sk-toggleable\"><input class=\"sk-toggleable__control sk-hidden--visually\" id=\"sk-estimator-id-41\" type=\"checkbox\" ><label for=\"sk-estimator-id-41\" class=\"sk-toggleable__label sk-toggleable__label-arrow\">Pipeline</label><div class=\"sk-toggleable__content\"><pre>Pipeline(steps=[(&#x27;procesado_variables&#x27;,\n",
       "                 ColumnTransformer(remainder=&#x27;passthrough&#x27;,\n",
       "                                   transformers=[(&#x27;onehot&#x27;,\n",
       "                                                  OneHotEncoder(handle_unknown=&#x27;ignore&#x27;,\n",
       "                                                                sparse_output=False),\n",
       "                                                  [&#x27;nom_eve&#x27;, &#x27;area&#x27;, &#x27;comuna&#x27;,\n",
       "                                                   &#x27;paciente_hospitalizado&#x27;,\n",
       "                                                   &#x27;condicion_final&#x27;,\n",
       "                                                   &#x27;municipio&#x27;, &#x27;sexo&#x27;, &#x27;mes&#x27;,\n",
       "                                                   &#x27;departamento&#x27;, &#x27;actividad&#x27;,\n",
       "                                                   &#x27;año&#x27;,\n",
       "                                                   &#x27;violencia_intrafamiliar&#x27;,\n",
       "                                                   &#x27;escenario&#x27;,\n",
       "                                                   &#x27;agresor_menor_de_ed...\n",
       "                                                  [&#x27;grupo_edad&#x27;,\n",
       "                                                   &#x27;ciclo_de_vida&#x27;])],\n",
       "                                   verbose_feature_names_out=False)),\n",
       "                (&#x27;estimador&#x27;,\n",
       "                 LGBMClassifier(colsample_bytree=0.972976079256426,\n",
       "                                learning_rate=0.01802606582997746, max_depth=7,\n",
       "                                min_child_samples=4, n_estimators=554,\n",
       "                                num_leaves=23, reg_alpha=6.779674157856769e-08,\n",
       "                                reg_lambda=0.053596159180180146,\n",
       "                                scale_pos_weight=4.855801771130356,\n",
       "                                subsample=0.790561196083304))])</pre></div></div></div><div class=\"sk-serial\"><div class=\"sk-item sk-dashed-wrapped\"><div class=\"sk-label-container\"><div class=\"sk-label sk-toggleable\"><input class=\"sk-toggleable__control sk-hidden--visually\" id=\"sk-estimator-id-42\" type=\"checkbox\" ><label for=\"sk-estimator-id-42\" class=\"sk-toggleable__label sk-toggleable__label-arrow\">procesado_variables: ColumnTransformer</label><div class=\"sk-toggleable__content\"><pre>ColumnTransformer(remainder=&#x27;passthrough&#x27;,\n",
       "                  transformers=[(&#x27;onehot&#x27;,\n",
       "                                 OneHotEncoder(handle_unknown=&#x27;ignore&#x27;,\n",
       "                                               sparse_output=False),\n",
       "                                 [&#x27;nom_eve&#x27;, &#x27;area&#x27;, &#x27;comuna&#x27;,\n",
       "                                  &#x27;paciente_hospitalizado&#x27;, &#x27;condicion_final&#x27;,\n",
       "                                  &#x27;municipio&#x27;, &#x27;sexo&#x27;, &#x27;mes&#x27;, &#x27;departamento&#x27;,\n",
       "                                  &#x27;actividad&#x27;, &#x27;año&#x27;, &#x27;violencia_intrafamiliar&#x27;,\n",
       "                                  &#x27;escenario&#x27;, &#x27;agresor_menor_de_edad&#x27;,\n",
       "                                  &#x27;sexo_agre&#x27;, &#x27;sustancias_victima&#x27;,\n",
       "                                  &#x27;v...\n",
       "                                                 (&#x27;transformador_ordinal&#x27;,\n",
       "                                                  OrdinalEncoder(mapping=[{&#x27;col&#x27;: &#x27;grupo_edad&#x27;,\n",
       "                                                                           &#x27;data_type&#x27;: dtype(&#x27;O&#x27;),\n",
       "                                                                           &#x27;mapping&#x27;: 0 a 6       0\n",
       "7  a 11     1\n",
       "12 a 17     2\n",
       "18 a 28     3\n",
       "29 a 59     4\n",
       "60 y mas    5\n",
       "dtype: int64},\n",
       "                                                                          {&#x27;col&#x27;: &#x27;ciclo_de_vida&#x27;,\n",
       "                                                                           &#x27;data_type&#x27;: dtype(&#x27;O&#x27;),\n",
       "                                                                           &#x27;mapping&#x27;: Primera infancia    0\n",
       "Infancia            1\n",
       "Jovenes             2\n",
       "Adolescencia        3\n",
       "Adultez             4\n",
       "Persona Mayor       5\n",
       "dtype: int64}]))]),\n",
       "                                 [&#x27;grupo_edad&#x27;, &#x27;ciclo_de_vida&#x27;])],\n",
       "                  verbose_feature_names_out=False)</pre></div></div></div><div class=\"sk-parallel\"><div class=\"sk-parallel-item\"><div class=\"sk-item\"><div class=\"sk-label-container\"><div class=\"sk-label sk-toggleable\"><input class=\"sk-toggleable__control sk-hidden--visually\" id=\"sk-estimator-id-43\" type=\"checkbox\" ><label for=\"sk-estimator-id-43\" class=\"sk-toggleable__label sk-toggleable__label-arrow\">onehot</label><div class=\"sk-toggleable__content\"><pre>[&#x27;nom_eve&#x27;, &#x27;area&#x27;, &#x27;comuna&#x27;, &#x27;paciente_hospitalizado&#x27;, &#x27;condicion_final&#x27;, &#x27;municipio&#x27;, &#x27;sexo&#x27;, &#x27;mes&#x27;, &#x27;departamento&#x27;, &#x27;actividad&#x27;, &#x27;año&#x27;, &#x27;violencia_intrafamiliar&#x27;, &#x27;escenario&#x27;, &#x27;agresor_menor_de_edad&#x27;, &#x27;sexo_agre&#x27;, &#x27;sustancias_victima&#x27;, &#x27;victima_menor_de_edad&#x27;, &#x27;nom_upgd&#x27;, &#x27;tipo_de_seguridad_social&#x27;, &#x27;trimestre&#x27;, &#x27;semana&#x27;, &#x27;parentezco_vict&#x27;]</pre></div></div></div><div class=\"sk-serial\"><div class=\"sk-item\"><div class=\"sk-estimator sk-toggleable\"><input class=\"sk-toggleable__control sk-hidden--visually\" id=\"sk-estimator-id-44\" type=\"checkbox\" ><label for=\"sk-estimator-id-44\" class=\"sk-toggleable__label sk-toggleable__label-arrow\">OneHotEncoder</label><div class=\"sk-toggleable__content\"><pre>OneHotEncoder(handle_unknown=&#x27;ignore&#x27;, sparse_output=False)</pre></div></div></div></div></div></div><div class=\"sk-parallel-item\"><div class=\"sk-item\"><div class=\"sk-label-container\"><div class=\"sk-label sk-toggleable\"><input class=\"sk-toggleable__control sk-hidden--visually\" id=\"sk-estimator-id-45\" type=\"checkbox\" ><label for=\"sk-estimator-id-45\" class=\"sk-toggleable__label sk-toggleable__label-arrow\">ordinal</label><div class=\"sk-toggleable__content\"><pre>[&#x27;grupo_edad&#x27;, &#x27;ciclo_de_vida&#x27;]</pre></div></div></div><div class=\"sk-serial\"><div class=\"sk-item\"><div class=\"sk-serial\"><div class=\"sk-item\"><div class=\"sk-estimator sk-toggleable\"><input class=\"sk-toggleable__control sk-hidden--visually\" id=\"sk-estimator-id-46\" type=\"checkbox\" ><label for=\"sk-estimator-id-46\" class=\"sk-toggleable__label sk-toggleable__label-arrow\">SimpleImputer</label><div class=\"sk-toggleable__content\"><pre>SimpleImputer(strategy=&#x27;most_frequent&#x27;)</pre></div></div></div><div class=\"sk-item\"><div class=\"sk-estimator sk-toggleable\"><input class=\"sk-toggleable__control sk-hidden--visually\" id=\"sk-estimator-id-47\" type=\"checkbox\" ><label for=\"sk-estimator-id-47\" class=\"sk-toggleable__label sk-toggleable__label-arrow\">OrdinalEncoder</label><div class=\"sk-toggleable__content\"><pre>OrdinalEncoder(mapping=[{&#x27;col&#x27;: &#x27;grupo_edad&#x27;, &#x27;data_type&#x27;: dtype(&#x27;O&#x27;),\n",
       "                         &#x27;mapping&#x27;: 0 a 6       0\n",
       "7  a 11     1\n",
       "12 a 17     2\n",
       "18 a 28     3\n",
       "29 a 59     4\n",
       "60 y mas    5\n",
       "dtype: int64},\n",
       "                        {&#x27;col&#x27;: &#x27;ciclo_de_vida&#x27;, &#x27;data_type&#x27;: dtype(&#x27;O&#x27;),\n",
       "                         &#x27;mapping&#x27;: Primera infancia    0\n",
       "Infancia            1\n",
       "Jovenes             2\n",
       "Adolescencia        3\n",
       "Adultez             4\n",
       "Persona Mayor       5\n",
       "dtype: int64}])</pre></div></div></div></div></div></div></div></div><div class=\"sk-parallel-item\"><div class=\"sk-item\"><div class=\"sk-label-container\"><div class=\"sk-label sk-toggleable\"><input class=\"sk-toggleable__control sk-hidden--visually\" id=\"sk-estimator-id-48\" type=\"checkbox\" ><label for=\"sk-estimator-id-48\" class=\"sk-toggleable__label sk-toggleable__label-arrow\">remainder</label><div class=\"sk-toggleable__content\"><pre>[&#x27;edad_agre&#x27;]</pre></div></div></div><div class=\"sk-serial\"><div class=\"sk-item\"><div class=\"sk-estimator sk-toggleable\"><input class=\"sk-toggleable__control sk-hidden--visually\" id=\"sk-estimator-id-49\" type=\"checkbox\" ><label for=\"sk-estimator-id-49\" class=\"sk-toggleable__label sk-toggleable__label-arrow\">passthrough</label><div class=\"sk-toggleable__content\"><pre>passthrough</pre></div></div></div></div></div></div></div></div><div class=\"sk-item\"><div class=\"sk-estimator sk-toggleable\"><input class=\"sk-toggleable__control sk-hidden--visually\" id=\"sk-estimator-id-50\" type=\"checkbox\" ><label for=\"sk-estimator-id-50\" class=\"sk-toggleable__label sk-toggleable__label-arrow\">LGBMClassifier</label><div class=\"sk-toggleable__content\"><pre>LGBMClassifier(colsample_bytree=0.972976079256426,\n",
       "               learning_rate=0.01802606582997746, max_depth=7,\n",
       "               min_child_samples=4, n_estimators=554, num_leaves=23,\n",
       "               reg_alpha=6.779674157856769e-08, reg_lambda=0.053596159180180146,\n",
       "               scale_pos_weight=4.855801771130356, subsample=0.790561196083304)</pre></div></div></div></div></div></div></div>"
      ],
      "text/plain": [
       "Pipeline(steps=[('procesado_variables',\n",
       "                 ColumnTransformer(remainder='passthrough',\n",
       "                                   transformers=[('onehot',\n",
       "                                                  OneHotEncoder(handle_unknown='ignore',\n",
       "                                                                sparse_output=False),\n",
       "                                                  ['nom_eve', 'area', 'comuna',\n",
       "                                                   'paciente_hospitalizado',\n",
       "                                                   'condicion_final',\n",
       "                                                   'municipio', 'sexo', 'mes',\n",
       "                                                   'departamento', 'actividad',\n",
       "                                                   'año',\n",
       "                                                   'violencia_intrafamiliar',\n",
       "                                                   'escenario',\n",
       "                                                   'agresor_menor_de_ed...\n",
       "                                                  ['grupo_edad',\n",
       "                                                   'ciclo_de_vida'])],\n",
       "                                   verbose_feature_names_out=False)),\n",
       "                ('estimador',\n",
       "                 LGBMClassifier(colsample_bytree=0.972976079256426,\n",
       "                                learning_rate=0.01802606582997746, max_depth=7,\n",
       "                                min_child_samples=4, n_estimators=554,\n",
       "                                num_leaves=23, reg_alpha=6.779674157856769e-08,\n",
       "                                reg_lambda=0.053596159180180146,\n",
       "                                scale_pos_weight=4.855801771130356,\n",
       "                                subsample=0.790561196083304))])"
      ]
     },
     "execution_count": 41,
     "metadata": {},
     "output_type": "execute_result"
    }
   ],
   "source": [
    "pipeline_estimador.fit(X=X_train, y=y_train)"
   ]
  },
  {
   "cell_type": "code",
   "execution_count": 42,
   "id": "8c54bc93",
   "metadata": {},
   "outputs": [],
   "source": [
    "predicciones =  pipeline_estimador.predict(X=X_test)\n",
    "clases_reales = y_test\n",
    "predicciones_probabilidades =pipeline_estimador.predict_proba(X_test)"
   ]
  },
  {
   "cell_type": "code",
   "execution_count": 43,
   "id": "ca6c7a71",
   "metadata": {
    "scrolled": true
   },
   "outputs": [
    {
     "name": "stdout",
     "output_type": "stream",
     "text": [
      "\n",
      "    Exactitud promedio: 0.851\n",
      "    Precisión promedio: 0.842\n",
      "    Sensibilidad promedio: 0.841\n",
      "    Puntuación F1 promedio: 0.841\n",
      "    \n"
     ]
    }
   ],
   "source": [
    "evaluar_modelo(clases_reales, predicciones, predicciones_probabilidades)"
   ]
  },
  {
   "cell_type": "code",
   "execution_count": 44,
   "id": "52567512",
   "metadata": {},
   "outputs": [
    {
     "name": "stdout",
     "output_type": "stream",
     "text": [
      "Accuracy en datos de entrenamiento: 0.907425797197396\n",
      "Accuracy en datos de prueba: 0.8521624007060901\n"
     ]
    }
   ],
   "source": [
    "from sklearn.metrics import accuracy_score\n",
    "train_accuracy = accuracy_score(y_train, pipeline_estimador.predict(X_train))\n",
    "test_accuracy = accuracy_score(y_test, pipeline_estimador.predict(X_test))\n",
    "print(\"Accuracy en datos de entrenamiento:\", train_accuracy)\n",
    "print(\"Accuracy en datos de prueba:\", test_accuracy)"
   ]
  },
  {
   "cell_type": "code",
   "execution_count": null,
   "id": "a1f72309",
   "metadata": {},
   "outputs": [],
   "source": []
  }
 ],
 "metadata": {
  "kernelspec": {
   "display_name": "Python 3 (ipykernel)",
   "language": "python",
   "name": "python3"
  },
  "language_info": {
   "codemirror_mode": {
    "name": "ipython",
    "version": 3
   },
   "file_extension": ".py",
   "mimetype": "text/x-python",
   "name": "python",
   "nbconvert_exporter": "python",
   "pygments_lexer": "ipython3",
   "version": "3.10.8"
  }
 },
 "nbformat": 4,
 "nbformat_minor": 5
}
